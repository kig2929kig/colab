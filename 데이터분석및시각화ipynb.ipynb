{
  "nbformat": 4,
  "nbformat_minor": 0,
  "metadata": {
    "colab": {
      "provenance": [],
      "mount_file_id": "1OGzAFONZr1XPCkzxq2SGpO8BfDWQypne",
      "authorship_tag": "ABX9TyOh3T6ca/PzCknoWs3vUYls",
      "include_colab_link": true
    },
    "kernelspec": {
      "name": "python3",
      "display_name": "Python 3"
    },
    "language_info": {
      "name": "python"
    }
  },
  "cells": [
    {
      "cell_type": "markdown",
      "metadata": {
        "id": "view-in-github",
        "colab_type": "text"
      },
      "source": [
        "<a href=\"https://colab.research.google.com/github/kig2929kig/colab/blob/main/%EB%8D%B0%EC%9D%B4%ED%84%B0%EB%B6%84%EC%84%9D%EB%B0%8F%EC%8B%9C%EA%B0%81%ED%99%94ipynb.ipynb\" target=\"_parent\"><img src=\"https://colab.research.google.com/assets/colab-badge.svg\" alt=\"Open In Colab\"/></a>"
      ]
    },
    {
      "cell_type": "markdown",
      "source": [
        "# 데이터 분석과 시각화\n",
        "+ 기상자료개방포털 (https://data.kma.go.kr)  \n",
        "+ 공공데이터포털  \n",
        "+ 서울 열린데이터 광장(https://data.seoul.go.kr/)  \n",
        "\n",
        "##  CSV 파일\n",
        "+ CSV(Comma-Separated Values) 각각의 데이터 값을 콤마(,)로 구분하는 파일.\n",
        "+ 데이터 분석 전문가들이 자주 사용하는 파일 형식.\n",
        "+ 메모장, 엑셀 프로그램에서 열어볼 수 있음.\n",
        "+ 공공데이터포털에서 제공하는 파일 형식"
      ],
      "metadata": {
        "id": "IyBBwOY7-B4Y"
      }
    },
    {
      "cell_type": "code",
      "execution_count": null,
      "metadata": {
        "colab": {
          "base_uri": "https://localhost:8080/"
        },
        "id": "s6OrZOTu-BL4",
        "outputId": "79689956-7875-4adf-8eee-604ea4e3082b"
      },
      "outputs": [
        {
          "output_type": "stream",
          "name": "stdout",
          "text": [
            "<_csv.reader object at 0x7f19675294d0>\n",
            "['기온분석']\n",
            "['[검색조건]']\n",
            "['자료구분 : 일']\n",
            "['자료형태 : 기본']\n",
            "['지역/지점 : 서울']\n",
            "['기간 : 20221002~20221031']\n",
            "[]\n",
            "['날짜', '지점', '평균기온(℃)', '최저기온(℃)', '최고기온(℃)']\n",
            "[]\n",
            "['\\t2022-10-02', '108', '19.4', '17.2', '21.6']\n",
            "['\\t2022-10-03', '108', '21.4', '17.5', '23.4']\n",
            "['\\t2022-10-04', '108', '17.9', '14.2', '23']\n",
            "['\\t2022-10-05', '108', '16.6', '14.1', '21.6']\n",
            "['\\t2022-10-06', '108', '15.8', '12.7', '19.1']\n",
            "['\\t2022-10-07', '108', '14.3', '11', '18.6']\n",
            "['\\t2022-10-08', '108', '15.8', '11.1', '21.6']\n",
            "['\\t2022-10-09', '108', '13.1', '10.7', '14.5']\n",
            "['\\t2022-10-10', '108', '9.9', '8.2', '11.9']\n",
            "['\\t2022-10-11', '108', '11.1', '7.4', '16.4']\n",
            "['\\t2022-10-12', '108', '13.5', '6.5', '20.6']\n",
            "['\\t2022-10-13', '108', '16.3', '10.7', '22.7']\n",
            "['\\t2022-10-14', '108', '17.1', '12.4', '23']\n",
            "['\\t2022-10-15', '108', '18.2', '12.6', '24.4']\n",
            "['\\t2022-10-16', '108', '16.9', '15.1', '20.5']\n",
            "['\\t2022-10-17', '108', '11.2', '7.4', '15.1']\n",
            "['\\t2022-10-18', '108', '9.4', '5', '14.2']\n",
            "['\\t2022-10-19', '108', '10.5', '4.4', '16.8']\n",
            "['\\t2022-10-20', '108', '12.9', '6', '19.7']\n",
            "['\\t2022-10-21', '108', '14', '8.8', '20.9']\n",
            "['\\t2022-10-22', '108', '15.1', '10.5', '20.8']\n",
            "['\\t2022-10-23', '108', '14', '10.4', '18.6']\n",
            "['\\t2022-10-24', '108', '10.6', '7.5', '14.8']\n",
            "['\\t2022-10-25', '108', '11.3', '5.9', '17.6']\n",
            "['\\t2022-10-26', '108', '12.9', '8', '17.8']\n",
            "['\\t2022-10-27', '108', '13.2', '8.6', '18.9']\n",
            "['\\t2022-10-28', '108', '13.6', '8.2', '20.6']\n",
            "['\\t2022-10-29', '108', '14.8', '10.2', '21.3']\n",
            "['\\t2022-10-30', '108', '14.9', '10.4', '21.3']\n",
            "['\\t2022-10-31', '108', '14.9', '11.2', '21.1']\n",
            "['\\t']\n",
            "[]\n"
          ]
        }
      ],
      "source": [
        "import csv\n",
        "\n",
        "f = open('/content/drive/MyDrive/Colab Notebooks/test.csv', 'r', encoding='cp949') #utf8\n",
        "\n",
        "data = csv.reader(f, delimiter=',')\n",
        "#print(data)\n",
        "for row in data : #리스트 - 인덱싱과 슬라이싱 가능\n",
        "  print(row) # 한줄씩 출력\n",
        "\n",
        "f.close()\n"
      ]
    },
    {
      "cell_type": "markdown",
      "source": [
        "## 헤더 저장\n",
        "+ 데이터 파일에서 여러 가지 값들이 어떤 의미를 갖는지 표시한 행\n",
        "+ 수많은 데이터를 다룰 때 표지판과 같은 역할\n",
        "+ 헤더를 통해 각 열의 데이터가 어떤 의미를 갖는지 알 수 있기 때문에 매우 중요한 데이터"
      ],
      "metadata": {
        "id": "IqS5Z-dxEcVO"
      }
    },
    {
      "cell_type": "code",
      "source": [
        "import csv\n",
        "\n",
        "f = open('/content/drive/MyDrive/Colab Notebooks/test.csv', 'r', encoding='cp949') \n",
        "\n",
        "data = csv.reader(f)\n",
        "\n",
        "header = next(data)# next() 메소드를 사용하여 데이터의 첫 번째 행을 변수에 저장\n",
        "print(header) \n",
        "f.close()"
      ],
      "metadata": {
        "colab": {
          "base_uri": "https://localhost:8080/"
        },
        "id": "BIZnGegSEvEx",
        "outputId": "a0472f6e-2e7e-4f8f-d21a-4304e61820a1"
      },
      "execution_count": null,
      "outputs": [
        {
          "output_type": "stream",
          "name": "stdout",
          "text": [
            "['날짜', '지점', '평균기온(℃)', '최저기온(℃)', '최고기온(℃)']\n"
          ]
        }
      ]
    },
    {
      "cell_type": "markdown",
      "source": [
        "## 서울 열린데이터 광장 - seoul.csv"
      ],
      "metadata": {
        "id": "eG7hYtKRDdrF"
      }
    },
    {
      "cell_type": "code",
      "source": [
        "import csv\n",
        "\n",
        "f = open('/content/drive/MyDrive/Colab Notebooks/seoul.csv', 'r') \n",
        "\n",
        "data = csv.reader(f)\n",
        "#print(data)\n",
        "\n",
        "header = next(data)\n",
        "print(header)\n",
        "print()\n",
        "for row in data :\n",
        "  print(row)\n",
        "\n",
        "f.close()"
      ],
      "metadata": {
        "id": "53UPnhVtDqCr"
      },
      "execution_count": null,
      "outputs": []
    },
    {
      "cell_type": "markdown",
      "source": [
        "## pandas\n",
        "+ 데이터 분석용 라이브러리로 데이터를 다루는 패키지 중 하나\n",
        "+ 데이터 분석을 위한 효율적인 데이터 구조를 제공, 1차원 배열 형태의 데이터 구조인 Series와 2차원 배열 형태의 데이터 구조인 Data Frame으로 구성\n",
        "+ 데이터 분석의 시작을 pandas라고도 불림.\n",
        "+ 엑셀의 스프레드시트와 유사한 형태이며 파이썬으로 데이터를 쉽게 처리\n",
        "+ 시계열 데이터(시간의 경과에 따라 관측된 결과 값)를 조작하고 운영하기 위한 데이터를 제공\n",
        "+ SQL 같은 일반 데이터베이스처럼 데이터를 합치고 관계연산을 수행하는 것이 가능\n",
        "\n",
        "pandas 라이브러리는 내장 라이브러리가 아니기 때문에 원래는 별도로 설치해야함. 코랩에서는 자동으로 설치되어 있음."
      ],
      "metadata": {
        "id": "4PcYvoAKDxJR"
      }
    },
    {
      "cell_type": "code",
      "source": [
        "import pandas as pd\n",
        "\n",
        "name = ['Bob', 'Jessica', 'Mary', 'John', 'Mel']\n",
        "births = [968, 155, 77, 578, 973]\n",
        "custom = [1, 5, 25, 13, 23232]\n",
        "\n",
        "DataSet = list(zip(name, births))\n",
        "#print(DataSet)\n",
        "df = pd.DataFrame(data = DataSet, columns = ['Name', 'Births'])\n",
        "df.head() # 데이터 앞에서 부터 5개 출력\n",
        "#df.head(2)"
      ],
      "metadata": {
        "colab": {
          "base_uri": "https://localhost:8080/",
          "height": 206
        },
        "id": "kluda3l4D01w",
        "outputId": "9b3dd89a-c504-4be8-ab7b-accf5b23ccc9"
      },
      "execution_count": null,
      "outputs": [
        {
          "output_type": "execute_result",
          "data": {
            "text/plain": [
              "      Name  Births\n",
              "0      Bob     968\n",
              "1  Jessica     155\n",
              "2     Mary      77\n",
              "3     John     578\n",
              "4      Mel     973"
            ],
            "text/html": [
              "\n",
              "  <div id=\"df-59064e25-c90d-4625-850b-d80e953e08a2\">\n",
              "    <div class=\"colab-df-container\">\n",
              "      <div>\n",
              "<style scoped>\n",
              "    .dataframe tbody tr th:only-of-type {\n",
              "        vertical-align: middle;\n",
              "    }\n",
              "\n",
              "    .dataframe tbody tr th {\n",
              "        vertical-align: top;\n",
              "    }\n",
              "\n",
              "    .dataframe thead th {\n",
              "        text-align: right;\n",
              "    }\n",
              "</style>\n",
              "<table border=\"1\" class=\"dataframe\">\n",
              "  <thead>\n",
              "    <tr style=\"text-align: right;\">\n",
              "      <th></th>\n",
              "      <th>Name</th>\n",
              "      <th>Births</th>\n",
              "    </tr>\n",
              "  </thead>\n",
              "  <tbody>\n",
              "    <tr>\n",
              "      <th>0</th>\n",
              "      <td>Bob</td>\n",
              "      <td>968</td>\n",
              "    </tr>\n",
              "    <tr>\n",
              "      <th>1</th>\n",
              "      <td>Jessica</td>\n",
              "      <td>155</td>\n",
              "    </tr>\n",
              "    <tr>\n",
              "      <th>2</th>\n",
              "      <td>Mary</td>\n",
              "      <td>77</td>\n",
              "    </tr>\n",
              "    <tr>\n",
              "      <th>3</th>\n",
              "      <td>John</td>\n",
              "      <td>578</td>\n",
              "    </tr>\n",
              "    <tr>\n",
              "      <th>4</th>\n",
              "      <td>Mel</td>\n",
              "      <td>973</td>\n",
              "    </tr>\n",
              "  </tbody>\n",
              "</table>\n",
              "</div>\n",
              "      <button class=\"colab-df-convert\" onclick=\"convertToInteractive('df-59064e25-c90d-4625-850b-d80e953e08a2')\"\n",
              "              title=\"Convert this dataframe to an interactive table.\"\n",
              "              style=\"display:none;\">\n",
              "        \n",
              "  <svg xmlns=\"http://www.w3.org/2000/svg\" height=\"24px\"viewBox=\"0 0 24 24\"\n",
              "       width=\"24px\">\n",
              "    <path d=\"M0 0h24v24H0V0z\" fill=\"none\"/>\n",
              "    <path d=\"M18.56 5.44l.94 2.06.94-2.06 2.06-.94-2.06-.94-.94-2.06-.94 2.06-2.06.94zm-11 1L8.5 8.5l.94-2.06 2.06-.94-2.06-.94L8.5 2.5l-.94 2.06-2.06.94zm10 10l.94 2.06.94-2.06 2.06-.94-2.06-.94-.94-2.06-.94 2.06-2.06.94z\"/><path d=\"M17.41 7.96l-1.37-1.37c-.4-.4-.92-.59-1.43-.59-.52 0-1.04.2-1.43.59L10.3 9.45l-7.72 7.72c-.78.78-.78 2.05 0 2.83L4 21.41c.39.39.9.59 1.41.59.51 0 1.02-.2 1.41-.59l7.78-7.78 2.81-2.81c.8-.78.8-2.07 0-2.86zM5.41 20L4 18.59l7.72-7.72 1.47 1.35L5.41 20z\"/>\n",
              "  </svg>\n",
              "      </button>\n",
              "      \n",
              "  <style>\n",
              "    .colab-df-container {\n",
              "      display:flex;\n",
              "      flex-wrap:wrap;\n",
              "      gap: 12px;\n",
              "    }\n",
              "\n",
              "    .colab-df-convert {\n",
              "      background-color: #E8F0FE;\n",
              "      border: none;\n",
              "      border-radius: 50%;\n",
              "      cursor: pointer;\n",
              "      display: none;\n",
              "      fill: #1967D2;\n",
              "      height: 32px;\n",
              "      padding: 0 0 0 0;\n",
              "      width: 32px;\n",
              "    }\n",
              "\n",
              "    .colab-df-convert:hover {\n",
              "      background-color: #E2EBFA;\n",
              "      box-shadow: 0px 1px 2px rgba(60, 64, 67, 0.3), 0px 1px 3px 1px rgba(60, 64, 67, 0.15);\n",
              "      fill: #174EA6;\n",
              "    }\n",
              "\n",
              "    [theme=dark] .colab-df-convert {\n",
              "      background-color: #3B4455;\n",
              "      fill: #D2E3FC;\n",
              "    }\n",
              "\n",
              "    [theme=dark] .colab-df-convert:hover {\n",
              "      background-color: #434B5C;\n",
              "      box-shadow: 0px 1px 3px 1px rgba(0, 0, 0, 0.15);\n",
              "      filter: drop-shadow(0px 1px 2px rgba(0, 0, 0, 0.3));\n",
              "      fill: #FFFFFF;\n",
              "    }\n",
              "  </style>\n",
              "\n",
              "      <script>\n",
              "        const buttonEl =\n",
              "          document.querySelector('#df-59064e25-c90d-4625-850b-d80e953e08a2 button.colab-df-convert');\n",
              "        buttonEl.style.display =\n",
              "          google.colab.kernel.accessAllowed ? 'block' : 'none';\n",
              "\n",
              "        async function convertToInteractive(key) {\n",
              "          const element = document.querySelector('#df-59064e25-c90d-4625-850b-d80e953e08a2');\n",
              "          const dataTable =\n",
              "            await google.colab.kernel.invokeFunction('convertToInteractive',\n",
              "                                                     [key], {});\n",
              "          if (!dataTable) return;\n",
              "\n",
              "          const docLinkHtml = 'Like what you see? Visit the ' +\n",
              "            '<a target=\"_blank\" href=https://colab.research.google.com/notebooks/data_table.ipynb>data table notebook</a>'\n",
              "            + ' to learn more about interactive tables.';\n",
              "          element.innerHTML = '';\n",
              "          dataTable['output_type'] = 'display_data';\n",
              "          await google.colab.output.renderOutput(dataTable, element);\n",
              "          const docLink = document.createElement('div');\n",
              "          docLink.innerHTML = docLinkHtml;\n",
              "          element.appendChild(docLink);\n",
              "        }\n",
              "      </script>\n",
              "    </div>\n",
              "  </div>\n",
              "  "
            ]
          },
          "metadata": {},
          "execution_count": 34
        }
      ]
    },
    {
      "cell_type": "markdown",
      "source": [
        "## pandas 자료형 - 시리즈(Series)\n",
        "+ 1차원 배열 형태의 데이터 구조 사용.\n",
        "+ 가로 방향으로 크기 변경\n",
        "+ 열 1개를 의미\n"
      ],
      "metadata": {
        "id": "8LVOvZ2DFP9R"
      }
    },
    {
      "cell_type": "code",
      "source": [
        "import pandas as pd\n",
        "\n",
        "series_ex = pd.Series(['월', '화', '수', '목', '금', '토', '일'], index=[0,1,2,3,4,5,6])\n",
        "print(series_ex) \n",
        "print(series_ex[0])"
      ],
      "metadata": {
        "colab": {
          "base_uri": "https://localhost:8080/"
        },
        "id": "8PtRkpirFcyH",
        "outputId": "022a7c2e-988b-4cc6-9ac4-311f5f5b0942"
      },
      "execution_count": null,
      "outputs": [
        {
          "output_type": "stream",
          "name": "stdout",
          "text": [
            "0    월\n",
            "1    화\n",
            "2    수\n",
            "3    목\n",
            "4    금\n",
            "5    토\n",
            "6    일\n",
            "dtype: object\n",
            "월\n"
          ]
        }
      ]
    },
    {
      "cell_type": "markdown",
      "source": [
        "pandas 자료형 - 데이터 프레임(Data Frame)\n",
        "+ 엑셀에서 볼 수 있는 시트와 동일한 개념\n",
        "+ 2차원 배열 형태의 데이터 구조로 행과 열이 있음\n",
        "+ 행을 구분해주는 인덱스(index)와 열을 구분해주는 컬럼(column)\n"
      ],
      "metadata": {
        "id": "Dq9apduxGMIc"
      }
    },
    {
      "cell_type": "code",
      "source": [
        "import pandas as pd\n",
        "\n",
        "name = ['Bob', 'Jessica', 'Mary', 'John', 'Mel']\n",
        "births = [968, 155, 77, 578, 973]\n",
        "custom = [1, 5, 25, 13, 23232]\n",
        "\n",
        "DataSet = list(zip(name, births))\n",
        "#print(DataSet)\n",
        "df = pd.DataFrame(data = DataSet, columns = ['Name', 'Births'])\n",
        "df.head() # 데이터 앞에서 부터 5개 출력\n",
        "#df.head(2)"
      ],
      "metadata": {
        "colab": {
          "base_uri": "https://localhost:8080/",
          "height": 206
        },
        "id": "eX-mkexAGwjG",
        "outputId": "5f76f266-7252-446b-b3f5-3066110dbf9a"
      },
      "execution_count": null,
      "outputs": [
        {
          "output_type": "execute_result",
          "data": {
            "text/plain": [
              "      Name  Births\n",
              "0      Bob     968\n",
              "1  Jessica     155\n",
              "2     Mary      77\n",
              "3     John     578\n",
              "4      Mel     973"
            ],
            "text/html": [
              "\n",
              "  <div id=\"df-a918a6d6-3a01-4d73-a034-dd72eb59fed9\">\n",
              "    <div class=\"colab-df-container\">\n",
              "      <div>\n",
              "<style scoped>\n",
              "    .dataframe tbody tr th:only-of-type {\n",
              "        vertical-align: middle;\n",
              "    }\n",
              "\n",
              "    .dataframe tbody tr th {\n",
              "        vertical-align: top;\n",
              "    }\n",
              "\n",
              "    .dataframe thead th {\n",
              "        text-align: right;\n",
              "    }\n",
              "</style>\n",
              "<table border=\"1\" class=\"dataframe\">\n",
              "  <thead>\n",
              "    <tr style=\"text-align: right;\">\n",
              "      <th></th>\n",
              "      <th>Name</th>\n",
              "      <th>Births</th>\n",
              "    </tr>\n",
              "  </thead>\n",
              "  <tbody>\n",
              "    <tr>\n",
              "      <th>0</th>\n",
              "      <td>Bob</td>\n",
              "      <td>968</td>\n",
              "    </tr>\n",
              "    <tr>\n",
              "      <th>1</th>\n",
              "      <td>Jessica</td>\n",
              "      <td>155</td>\n",
              "    </tr>\n",
              "    <tr>\n",
              "      <th>2</th>\n",
              "      <td>Mary</td>\n",
              "      <td>77</td>\n",
              "    </tr>\n",
              "    <tr>\n",
              "      <th>3</th>\n",
              "      <td>John</td>\n",
              "      <td>578</td>\n",
              "    </tr>\n",
              "    <tr>\n",
              "      <th>4</th>\n",
              "      <td>Mel</td>\n",
              "      <td>973</td>\n",
              "    </tr>\n",
              "  </tbody>\n",
              "</table>\n",
              "</div>\n",
              "      <button class=\"colab-df-convert\" onclick=\"convertToInteractive('df-a918a6d6-3a01-4d73-a034-dd72eb59fed9')\"\n",
              "              title=\"Convert this dataframe to an interactive table.\"\n",
              "              style=\"display:none;\">\n",
              "        \n",
              "  <svg xmlns=\"http://www.w3.org/2000/svg\" height=\"24px\"viewBox=\"0 0 24 24\"\n",
              "       width=\"24px\">\n",
              "    <path d=\"M0 0h24v24H0V0z\" fill=\"none\"/>\n",
              "    <path d=\"M18.56 5.44l.94 2.06.94-2.06 2.06-.94-2.06-.94-.94-2.06-.94 2.06-2.06.94zm-11 1L8.5 8.5l.94-2.06 2.06-.94-2.06-.94L8.5 2.5l-.94 2.06-2.06.94zm10 10l.94 2.06.94-2.06 2.06-.94-2.06-.94-.94-2.06-.94 2.06-2.06.94z\"/><path d=\"M17.41 7.96l-1.37-1.37c-.4-.4-.92-.59-1.43-.59-.52 0-1.04.2-1.43.59L10.3 9.45l-7.72 7.72c-.78.78-.78 2.05 0 2.83L4 21.41c.39.39.9.59 1.41.59.51 0 1.02-.2 1.41-.59l7.78-7.78 2.81-2.81c.8-.78.8-2.07 0-2.86zM5.41 20L4 18.59l7.72-7.72 1.47 1.35L5.41 20z\"/>\n",
              "  </svg>\n",
              "      </button>\n",
              "      \n",
              "  <style>\n",
              "    .colab-df-container {\n",
              "      display:flex;\n",
              "      flex-wrap:wrap;\n",
              "      gap: 12px;\n",
              "    }\n",
              "\n",
              "    .colab-df-convert {\n",
              "      background-color: #E8F0FE;\n",
              "      border: none;\n",
              "      border-radius: 50%;\n",
              "      cursor: pointer;\n",
              "      display: none;\n",
              "      fill: #1967D2;\n",
              "      height: 32px;\n",
              "      padding: 0 0 0 0;\n",
              "      width: 32px;\n",
              "    }\n",
              "\n",
              "    .colab-df-convert:hover {\n",
              "      background-color: #E2EBFA;\n",
              "      box-shadow: 0px 1px 2px rgba(60, 64, 67, 0.3), 0px 1px 3px 1px rgba(60, 64, 67, 0.15);\n",
              "      fill: #174EA6;\n",
              "    }\n",
              "\n",
              "    [theme=dark] .colab-df-convert {\n",
              "      background-color: #3B4455;\n",
              "      fill: #D2E3FC;\n",
              "    }\n",
              "\n",
              "    [theme=dark] .colab-df-convert:hover {\n",
              "      background-color: #434B5C;\n",
              "      box-shadow: 0px 1px 3px 1px rgba(0, 0, 0, 0.15);\n",
              "      filter: drop-shadow(0px 1px 2px rgba(0, 0, 0, 0.3));\n",
              "      fill: #FFFFFF;\n",
              "    }\n",
              "  </style>\n",
              "\n",
              "      <script>\n",
              "        const buttonEl =\n",
              "          document.querySelector('#df-a918a6d6-3a01-4d73-a034-dd72eb59fed9 button.colab-df-convert');\n",
              "        buttonEl.style.display =\n",
              "          google.colab.kernel.accessAllowed ? 'block' : 'none';\n",
              "\n",
              "        async function convertToInteractive(key) {\n",
              "          const element = document.querySelector('#df-a918a6d6-3a01-4d73-a034-dd72eb59fed9');\n",
              "          const dataTable =\n",
              "            await google.colab.kernel.invokeFunction('convertToInteractive',\n",
              "                                                     [key], {});\n",
              "          if (!dataTable) return;\n",
              "\n",
              "          const docLinkHtml = 'Like what you see? Visit the ' +\n",
              "            '<a target=\"_blank\" href=https://colab.research.google.com/notebooks/data_table.ipynb>data table notebook</a>'\n",
              "            + ' to learn more about interactive tables.';\n",
              "          element.innerHTML = '';\n",
              "          dataTable['output_type'] = 'display_data';\n",
              "          await google.colab.output.renderOutput(dataTable, element);\n",
              "          const docLink = document.createElement('div');\n",
              "          docLink.innerHTML = docLinkHtml;\n",
              "          element.appendChild(docLink);\n",
              "        }\n",
              "      </script>\n",
              "    </div>\n",
              "  </div>\n",
              "  "
            ]
          },
          "metadata": {},
          "execution_count": 45
        }
      ]
    },
    {
      "cell_type": "markdown",
      "source": [
        "## 데이터 프레임\n",
        "+ dtypes : 열의 타입 정보\n",
        "+ index : 행의 형태로 정보를 포함\n",
        "+ columns : 데이터 프레임의 열 정보를 조금 더 간략한 형태로 요약"
      ],
      "metadata": {
        "id": "hH3Y8bf4HVkb"
      }
    },
    {
      "cell_type": "code",
      "source": [
        "df.dtypes"
      ],
      "metadata": {
        "colab": {
          "base_uri": "https://localhost:8080/"
        },
        "id": "UY8C6vJwHtZf",
        "outputId": "472b36dd-99d5-49ed-8e24-62f0629c00fe"
      },
      "execution_count": null,
      "outputs": [
        {
          "output_type": "execute_result",
          "data": {
            "text/plain": [
              "Name      object\n",
              "Births     int64\n",
              "dtype: object"
            ]
          },
          "metadata": {},
          "execution_count": 41
        }
      ]
    },
    {
      "cell_type": "markdown",
      "source": [
        "## 판다스 자료형\n",
        "+ object 문자열\n",
        "+ int64 : 정수\n",
        "+ float64 : 소숫점을 가진 숫자"
      ],
      "metadata": {
        "id": "DKEj4y_OH_Xy"
      }
    },
    {
      "cell_type": "code",
      "source": [
        "df.index"
      ],
      "metadata": {
        "colab": {
          "base_uri": "https://localhost:8080/"
        },
        "id": "TRT3IeXZIL4V",
        "outputId": "24851119-9962-4f5f-af9c-c4db655d750a"
      },
      "execution_count": null,
      "outputs": [
        {
          "output_type": "execute_result",
          "data": {
            "text/plain": [
              "RangeIndex(start=0, stop=5, step=1)"
            ]
          },
          "metadata": {},
          "execution_count": 42
        }
      ]
    },
    {
      "cell_type": "markdown",
      "source": [
        "+ start : 인덱스 시작\n",
        "+ stop : 인덱스 끝\n",
        "+ step : 증가 값"
      ],
      "metadata": {
        "id": "U4U00t6KIRpC"
      }
    },
    {
      "cell_type": "code",
      "source": [
        "df.columns"
      ],
      "metadata": {
        "colab": {
          "base_uri": "https://localhost:8080/"
        },
        "id": "MBrjTbQ6IdNl",
        "outputId": "2eb84ddf-1a33-4721-ec21-0fdd8f4d1b35"
      },
      "execution_count": null,
      "outputs": [
        {
          "output_type": "execute_result",
          "data": {
            "text/plain": [
              "Index(['Name', 'Births'], dtype='object')"
            ]
          },
          "metadata": {},
          "execution_count": 43
        }
      ]
    },
    {
      "cell_type": "code",
      "source": [
        "df['Name']"
      ],
      "metadata": {
        "colab": {
          "base_uri": "https://localhost:8080/"
        },
        "id": "5vRIM8vhIsyD",
        "outputId": "51fb88a8-b044-4ae4-86bb-d7267cfdf577"
      },
      "execution_count": null,
      "outputs": [
        {
          "output_type": "execute_result",
          "data": {
            "text/plain": [
              "0        Bob\n",
              "1    Jessica\n",
              "2       Mary\n",
              "3       John\n",
              "4        Mel\n",
              "Name: Name, dtype: object"
            ]
          },
          "metadata": {},
          "execution_count": 47
        }
      ]
    },
    {
      "cell_type": "code",
      "source": [
        "df[0:3] # 0 ~ 2 번째 인덱스를 선택"
      ],
      "metadata": {
        "colab": {
          "base_uri": "https://localhost:8080/",
          "height": 143
        },
        "id": "f8VoTql6JB_O",
        "outputId": "60a9d9c7-e814-403a-de0f-3b56e808f5f3"
      },
      "execution_count": null,
      "outputs": [
        {
          "output_type": "execute_result",
          "data": {
            "text/plain": [
              "      Name  Births\n",
              "0      Bob     968\n",
              "1  Jessica     155\n",
              "2     Mary      77"
            ],
            "text/html": [
              "\n",
              "  <div id=\"df-5596d599-2db4-4396-935f-100547d749de\">\n",
              "    <div class=\"colab-df-container\">\n",
              "      <div>\n",
              "<style scoped>\n",
              "    .dataframe tbody tr th:only-of-type {\n",
              "        vertical-align: middle;\n",
              "    }\n",
              "\n",
              "    .dataframe tbody tr th {\n",
              "        vertical-align: top;\n",
              "    }\n",
              "\n",
              "    .dataframe thead th {\n",
              "        text-align: right;\n",
              "    }\n",
              "</style>\n",
              "<table border=\"1\" class=\"dataframe\">\n",
              "  <thead>\n",
              "    <tr style=\"text-align: right;\">\n",
              "      <th></th>\n",
              "      <th>Name</th>\n",
              "      <th>Births</th>\n",
              "    </tr>\n",
              "  </thead>\n",
              "  <tbody>\n",
              "    <tr>\n",
              "      <th>0</th>\n",
              "      <td>Bob</td>\n",
              "      <td>968</td>\n",
              "    </tr>\n",
              "    <tr>\n",
              "      <th>1</th>\n",
              "      <td>Jessica</td>\n",
              "      <td>155</td>\n",
              "    </tr>\n",
              "    <tr>\n",
              "      <th>2</th>\n",
              "      <td>Mary</td>\n",
              "      <td>77</td>\n",
              "    </tr>\n",
              "  </tbody>\n",
              "</table>\n",
              "</div>\n",
              "      <button class=\"colab-df-convert\" onclick=\"convertToInteractive('df-5596d599-2db4-4396-935f-100547d749de')\"\n",
              "              title=\"Convert this dataframe to an interactive table.\"\n",
              "              style=\"display:none;\">\n",
              "        \n",
              "  <svg xmlns=\"http://www.w3.org/2000/svg\" height=\"24px\"viewBox=\"0 0 24 24\"\n",
              "       width=\"24px\">\n",
              "    <path d=\"M0 0h24v24H0V0z\" fill=\"none\"/>\n",
              "    <path d=\"M18.56 5.44l.94 2.06.94-2.06 2.06-.94-2.06-.94-.94-2.06-.94 2.06-2.06.94zm-11 1L8.5 8.5l.94-2.06 2.06-.94-2.06-.94L8.5 2.5l-.94 2.06-2.06.94zm10 10l.94 2.06.94-2.06 2.06-.94-2.06-.94-.94-2.06-.94 2.06-2.06.94z\"/><path d=\"M17.41 7.96l-1.37-1.37c-.4-.4-.92-.59-1.43-.59-.52 0-1.04.2-1.43.59L10.3 9.45l-7.72 7.72c-.78.78-.78 2.05 0 2.83L4 21.41c.39.39.9.59 1.41.59.51 0 1.02-.2 1.41-.59l7.78-7.78 2.81-2.81c.8-.78.8-2.07 0-2.86zM5.41 20L4 18.59l7.72-7.72 1.47 1.35L5.41 20z\"/>\n",
              "  </svg>\n",
              "      </button>\n",
              "      \n",
              "  <style>\n",
              "    .colab-df-container {\n",
              "      display:flex;\n",
              "      flex-wrap:wrap;\n",
              "      gap: 12px;\n",
              "    }\n",
              "\n",
              "    .colab-df-convert {\n",
              "      background-color: #E8F0FE;\n",
              "      border: none;\n",
              "      border-radius: 50%;\n",
              "      cursor: pointer;\n",
              "      display: none;\n",
              "      fill: #1967D2;\n",
              "      height: 32px;\n",
              "      padding: 0 0 0 0;\n",
              "      width: 32px;\n",
              "    }\n",
              "\n",
              "    .colab-df-convert:hover {\n",
              "      background-color: #E2EBFA;\n",
              "      box-shadow: 0px 1px 2px rgba(60, 64, 67, 0.3), 0px 1px 3px 1px rgba(60, 64, 67, 0.15);\n",
              "      fill: #174EA6;\n",
              "    }\n",
              "\n",
              "    [theme=dark] .colab-df-convert {\n",
              "      background-color: #3B4455;\n",
              "      fill: #D2E3FC;\n",
              "    }\n",
              "\n",
              "    [theme=dark] .colab-df-convert:hover {\n",
              "      background-color: #434B5C;\n",
              "      box-shadow: 0px 1px 3px 1px rgba(0, 0, 0, 0.15);\n",
              "      filter: drop-shadow(0px 1px 2px rgba(0, 0, 0, 0.3));\n",
              "      fill: #FFFFFF;\n",
              "    }\n",
              "  </style>\n",
              "\n",
              "      <script>\n",
              "        const buttonEl =\n",
              "          document.querySelector('#df-5596d599-2db4-4396-935f-100547d749de button.colab-df-convert');\n",
              "        buttonEl.style.display =\n",
              "          google.colab.kernel.accessAllowed ? 'block' : 'none';\n",
              "\n",
              "        async function convertToInteractive(key) {\n",
              "          const element = document.querySelector('#df-5596d599-2db4-4396-935f-100547d749de');\n",
              "          const dataTable =\n",
              "            await google.colab.kernel.invokeFunction('convertToInteractive',\n",
              "                                                     [key], {});\n",
              "          if (!dataTable) return;\n",
              "\n",
              "          const docLinkHtml = 'Like what you see? Visit the ' +\n",
              "            '<a target=\"_blank\" href=https://colab.research.google.com/notebooks/data_table.ipynb>data table notebook</a>'\n",
              "            + ' to learn more about interactive tables.';\n",
              "          element.innerHTML = '';\n",
              "          dataTable['output_type'] = 'display_data';\n",
              "          await google.colab.output.renderOutput(dataTable, element);\n",
              "          const docLink = document.createElement('div');\n",
              "          docLink.innerHTML = docLinkHtml;\n",
              "          element.appendChild(docLink);\n",
              "        }\n",
              "      </script>\n",
              "    </div>\n",
              "  </div>\n",
              "  "
            ]
          },
          "metadata": {},
          "execution_count": 48
        }
      ]
    },
    {
      "cell_type": "markdown",
      "source": [
        "## pandas 데이터 추출하기\n"
      ],
      "metadata": {
        "id": "0ghcNhXJJgmM"
      }
    },
    {
      "cell_type": "code",
      "source": [
        "import pandas as pd\n",
        "\n",
        "names = ['Bob', 'Jessica', 'Mary', 'John', 'Mel', 'Henry']\n",
        "births = [1990, 1988, 1987, 1978, 2000, 2020]\n",
        "custom = [1, 5, 6, 7, 8, 10] # 고객번호\n",
        "\n",
        "DataSet = list(zip(names, births))\n",
        "#print(DataSet)\n",
        "df = pd.DataFrame(data = DataSet, columns= ['Names', 'Births'])\n",
        "#print(df)\n",
        "df.head()"
      ],
      "metadata": {
        "colab": {
          "base_uri": "https://localhost:8080/",
          "height": 206
        },
        "id": "acBcRzgLJ0AG",
        "outputId": "312bcae1-a50f-4e90-98e7-3d37e938ee51"
      },
      "execution_count": null,
      "outputs": [
        {
          "output_type": "execute_result",
          "data": {
            "text/plain": [
              "     Names  Births\n",
              "0      Bob    1990\n",
              "1  Jessica    1988\n",
              "2     Mary    1987\n",
              "3     John    1978\n",
              "4      Mel    2000"
            ],
            "text/html": [
              "\n",
              "  <div id=\"df-5cfeb9e2-e301-415d-82f9-448349375a19\">\n",
              "    <div class=\"colab-df-container\">\n",
              "      <div>\n",
              "<style scoped>\n",
              "    .dataframe tbody tr th:only-of-type {\n",
              "        vertical-align: middle;\n",
              "    }\n",
              "\n",
              "    .dataframe tbody tr th {\n",
              "        vertical-align: top;\n",
              "    }\n",
              "\n",
              "    .dataframe thead th {\n",
              "        text-align: right;\n",
              "    }\n",
              "</style>\n",
              "<table border=\"1\" class=\"dataframe\">\n",
              "  <thead>\n",
              "    <tr style=\"text-align: right;\">\n",
              "      <th></th>\n",
              "      <th>Names</th>\n",
              "      <th>Births</th>\n",
              "    </tr>\n",
              "  </thead>\n",
              "  <tbody>\n",
              "    <tr>\n",
              "      <th>0</th>\n",
              "      <td>Bob</td>\n",
              "      <td>1990</td>\n",
              "    </tr>\n",
              "    <tr>\n",
              "      <th>1</th>\n",
              "      <td>Jessica</td>\n",
              "      <td>1988</td>\n",
              "    </tr>\n",
              "    <tr>\n",
              "      <th>2</th>\n",
              "      <td>Mary</td>\n",
              "      <td>1987</td>\n",
              "    </tr>\n",
              "    <tr>\n",
              "      <th>3</th>\n",
              "      <td>John</td>\n",
              "      <td>1978</td>\n",
              "    </tr>\n",
              "    <tr>\n",
              "      <th>4</th>\n",
              "      <td>Mel</td>\n",
              "      <td>2000</td>\n",
              "    </tr>\n",
              "  </tbody>\n",
              "</table>\n",
              "</div>\n",
              "      <button class=\"colab-df-convert\" onclick=\"convertToInteractive('df-5cfeb9e2-e301-415d-82f9-448349375a19')\"\n",
              "              title=\"Convert this dataframe to an interactive table.\"\n",
              "              style=\"display:none;\">\n",
              "        \n",
              "  <svg xmlns=\"http://www.w3.org/2000/svg\" height=\"24px\"viewBox=\"0 0 24 24\"\n",
              "       width=\"24px\">\n",
              "    <path d=\"M0 0h24v24H0V0z\" fill=\"none\"/>\n",
              "    <path d=\"M18.56 5.44l.94 2.06.94-2.06 2.06-.94-2.06-.94-.94-2.06-.94 2.06-2.06.94zm-11 1L8.5 8.5l.94-2.06 2.06-.94-2.06-.94L8.5 2.5l-.94 2.06-2.06.94zm10 10l.94 2.06.94-2.06 2.06-.94-2.06-.94-.94-2.06-.94 2.06-2.06.94z\"/><path d=\"M17.41 7.96l-1.37-1.37c-.4-.4-.92-.59-1.43-.59-.52 0-1.04.2-1.43.59L10.3 9.45l-7.72 7.72c-.78.78-.78 2.05 0 2.83L4 21.41c.39.39.9.59 1.41.59.51 0 1.02-.2 1.41-.59l7.78-7.78 2.81-2.81c.8-.78.8-2.07 0-2.86zM5.41 20L4 18.59l7.72-7.72 1.47 1.35L5.41 20z\"/>\n",
              "  </svg>\n",
              "      </button>\n",
              "      \n",
              "  <style>\n",
              "    .colab-df-container {\n",
              "      display:flex;\n",
              "      flex-wrap:wrap;\n",
              "      gap: 12px;\n",
              "    }\n",
              "\n",
              "    .colab-df-convert {\n",
              "      background-color: #E8F0FE;\n",
              "      border: none;\n",
              "      border-radius: 50%;\n",
              "      cursor: pointer;\n",
              "      display: none;\n",
              "      fill: #1967D2;\n",
              "      height: 32px;\n",
              "      padding: 0 0 0 0;\n",
              "      width: 32px;\n",
              "    }\n",
              "\n",
              "    .colab-df-convert:hover {\n",
              "      background-color: #E2EBFA;\n",
              "      box-shadow: 0px 1px 2px rgba(60, 64, 67, 0.3), 0px 1px 3px 1px rgba(60, 64, 67, 0.15);\n",
              "      fill: #174EA6;\n",
              "    }\n",
              "\n",
              "    [theme=dark] .colab-df-convert {\n",
              "      background-color: #3B4455;\n",
              "      fill: #D2E3FC;\n",
              "    }\n",
              "\n",
              "    [theme=dark] .colab-df-convert:hover {\n",
              "      background-color: #434B5C;\n",
              "      box-shadow: 0px 1px 3px 1px rgba(0, 0, 0, 0.15);\n",
              "      filter: drop-shadow(0px 1px 2px rgba(0, 0, 0, 0.3));\n",
              "      fill: #FFFFFF;\n",
              "    }\n",
              "  </style>\n",
              "\n",
              "      <script>\n",
              "        const buttonEl =\n",
              "          document.querySelector('#df-5cfeb9e2-e301-415d-82f9-448349375a19 button.colab-df-convert');\n",
              "        buttonEl.style.display =\n",
              "          google.colab.kernel.accessAllowed ? 'block' : 'none';\n",
              "\n",
              "        async function convertToInteractive(key) {\n",
              "          const element = document.querySelector('#df-5cfeb9e2-e301-415d-82f9-448349375a19');\n",
              "          const dataTable =\n",
              "            await google.colab.kernel.invokeFunction('convertToInteractive',\n",
              "                                                     [key], {});\n",
              "          if (!dataTable) return;\n",
              "\n",
              "          const docLinkHtml = 'Like what you see? Visit the ' +\n",
              "            '<a target=\"_blank\" href=https://colab.research.google.com/notebooks/data_table.ipynb>data table notebook</a>'\n",
              "            + ' to learn more about interactive tables.';\n",
              "          element.innerHTML = '';\n",
              "          dataTable['output_type'] = 'display_data';\n",
              "          await google.colab.output.renderOutput(dataTable, element);\n",
              "          const docLink = document.createElement('div');\n",
              "          docLink.innerHTML = docLinkHtml;\n",
              "          element.appendChild(docLink);\n",
              "        }\n",
              "      </script>\n",
              "    </div>\n",
              "  </div>\n",
              "  "
            ]
          },
          "metadata": {},
          "execution_count": 52
        }
      ]
    },
    {
      "cell_type": "code",
      "source": [
        "names_df = df['Names'] # 1개의 열만 추출하면 시리즈를 얻음\n",
        "print(type(names_df))\n",
        "print(names_df.head())"
      ],
      "metadata": {
        "colab": {
          "base_uri": "https://localhost:8080/"
        },
        "id": "UMi1qutkK9B7",
        "outputId": "5ac381c9-a438-4014-e294-a02a1afe104d"
      },
      "execution_count": null,
      "outputs": [
        {
          "output_type": "stream",
          "name": "stdout",
          "text": [
            "<class 'pandas.core.series.Series'>\n",
            "0        Bob\n",
            "1    Jessica\n",
            "2       Mary\n",
            "3       John\n",
            "4        Mel\n",
            "Name: Names, dtype: object\n"
          ]
        }
      ]
    },
    {
      "cell_type": "code",
      "source": [
        "subset = df[['Names', 'Births']]\n",
        "print(type(subset))\n",
        "print(subset.head(6))"
      ],
      "metadata": {
        "colab": {
          "base_uri": "https://localhost:8080/"
        },
        "id": "i5QFWI-TLWhI",
        "outputId": "fecc299e-408c-4988-e427-b5bcee4c65f8"
      },
      "execution_count": null,
      "outputs": [
        {
          "output_type": "stream",
          "name": "stdout",
          "text": [
            "<class 'pandas.core.frame.DataFrame'>\n",
            "     Names  Births\n",
            "0      Bob    1990\n",
            "1  Jessica    1988\n",
            "2     Mary    1987\n",
            "3     John    1978\n",
            "4      Mel    2000\n",
            "5    Henry    2020\n"
          ]
        }
      ]
    },
    {
      "cell_type": "markdown",
      "source": [
        "## 행 단위 데이터 추출\n",
        "+ loc : 인덱스를 기준으로 행 데이터 추출\n",
        "+ iloc : 행번호를 기준으로 행 데이터 추출"
      ],
      "metadata": {
        "id": "DeXuV8bnL12n"
      }
    },
    {
      "cell_type": "code",
      "source": [
        "print(df.loc[0])"
      ],
      "metadata": {
        "colab": {
          "base_uri": "https://localhost:8080/"
        },
        "id": "nhAjspmcLztr",
        "outputId": "dbf0e57a-a999-41a5-fea0-e71b06857b3e"
      },
      "execution_count": null,
      "outputs": [
        {
          "output_type": "stream",
          "name": "stdout",
          "text": [
            "Names      Bob\n",
            "Births    1990\n",
            "Name: 0, dtype: object\n"
          ]
        }
      ]
    },
    {
      "cell_type": "code",
      "source": [
        "print(df.loc[-1]) # loc를 사용 시 -1를 사용하지 않음."
      ],
      "metadata": {
        "id": "JtHcsfE-MXV3"
      },
      "execution_count": null,
      "outputs": []
    },
    {
      "cell_type": "code",
      "source": [
        "print(df.iloc[1])"
      ],
      "metadata": {
        "colab": {
          "base_uri": "https://localhost:8080/"
        },
        "id": "yy-leBs5Mx-F",
        "outputId": "e2580ef0-7214-4907-af38-7256684eb044"
      },
      "execution_count": null,
      "outputs": [
        {
          "output_type": "stream",
          "name": "stdout",
          "text": [
            "Names     Jessica\n",
            "Births       1988\n",
            "Name: 1, dtype: object\n"
          ]
        }
      ]
    },
    {
      "cell_type": "code",
      "source": [
        "print(df.iloc[-1])"
      ],
      "metadata": {
        "colab": {
          "base_uri": "https://localhost:8080/"
        },
        "id": "nX9qgg5fM_sd",
        "outputId": "9d396602-a723-4094-9e1c-a3ea4dce33d9"
      },
      "execution_count": null,
      "outputs": [
        {
          "output_type": "stream",
          "name": "stdout",
          "text": [
            "Names     Henry\n",
            "Births     2020\n",
            "Name: 5, dtype: object\n"
          ]
        }
      ]
    },
    {
      "cell_type": "code",
      "source": [
        "print(df.loc[[0,3,5]])"
      ],
      "metadata": {
        "colab": {
          "base_uri": "https://localhost:8080/"
        },
        "id": "SmpCy8HNNRdi",
        "outputId": "128400de-e7e8-41bb-fd7f-a120dd376577"
      },
      "execution_count": null,
      "outputs": [
        {
          "output_type": "stream",
          "name": "stdout",
          "text": [
            "   Names  Births\n",
            "0    Bob    1990\n",
            "3   John    1978\n",
            "5  Henry    2020\n"
          ]
        }
      ]
    },
    {
      "cell_type": "code",
      "source": [
        "print(df.tail(n=1)) # 데이터 프레임"
      ],
      "metadata": {
        "colab": {
          "base_uri": "https://localhost:8080/"
        },
        "id": "nWHjFO_GNnfE",
        "outputId": "818cecd0-ccd4-4b95-d7c7-4043eccac29e"
      },
      "execution_count": null,
      "outputs": [
        {
          "output_type": "stream",
          "name": "stdout",
          "text": [
            "   Names  Births\n",
            "5  Henry    2020\n"
          ]
        }
      ]
    },
    {
      "cell_type": "code",
      "source": [
        "sub_loc = df.loc[0]\n",
        "sub_tail = df.tail(n=1)\n",
        "\n",
        "print(type(sub_loc))\n",
        "print(type(sub_tail))"
      ],
      "metadata": {
        "colab": {
          "base_uri": "https://localhost:8080/"
        },
        "id": "9yJ-rtMdOI7p",
        "outputId": "3fd20035-930b-49f6-b6fe-f65f036f622c"
      },
      "execution_count": null,
      "outputs": [
        {
          "output_type": "stream",
          "name": "stdout",
          "text": [
            "<class 'pandas.core.series.Series'>\n",
            "<class 'pandas.core.frame.DataFrame'>\n"
          ]
        }
      ]
    },
    {
      "cell_type": "markdown",
      "source": [
        "## 슬라이싱 구문으로 데이터 추출"
      ],
      "metadata": {
        "id": "N4pR_FyyOkXn"
      }
    },
    {
      "cell_type": "code",
      "source": [
        "subset = df.loc[:,['Names', 'Births']] #열 지정값으로 - 인덱스를 기준\n",
        "print(subset.head())"
      ],
      "metadata": {
        "colab": {
          "base_uri": "https://localhost:8080/"
        },
        "id": "XNd2HY3ZOns0",
        "outputId": "00921ac4-74d6-4082-d55b-5d58a3db2089"
      },
      "execution_count": null,
      "outputs": [
        {
          "output_type": "stream",
          "name": "stdout",
          "text": [
            "     Names  Births\n",
            "0      Bob    1990\n",
            "1  Jessica    1988\n",
            "2     Mary    1987\n",
            "3     John    1978\n",
            "4      Mel    2000\n"
          ]
        }
      ]
    },
    {
      "cell_type": "code",
      "source": [
        "print(df.iloc[[0,3,5], [0]]) # 열 지정값이 인덱스 - 행번호를 기준"
      ],
      "metadata": {
        "colab": {
          "base_uri": "https://localhost:8080/"
        },
        "id": "vubkc7Z7PINc",
        "outputId": "6ca21221-0025-4325-a704-65f37f0cf838"
      },
      "execution_count": null,
      "outputs": [
        {
          "output_type": "stream",
          "name": "stdout",
          "text": [
            "   Names\n",
            "0    Bob\n",
            "3   John\n",
            "5  Henry\n"
          ]
        }
      ]
    },
    {
      "cell_type": "markdown",
      "source": [
        "## 마스크 기능, 조건, 행과 열 바꾸기\n",
        "\n",
        "구글 검색 창에 olympic medal 입력  \n",
        "https://ko.wikipedia.org/wiki/%EC%98%AC%EB%A6%BC%ED%94%BD_%EB%A9%94%EB%8B%AC_%EC%A7%91%EA%B3%84  \n"
      ],
      "metadata": {
        "id": "HsmefEb_Qaoc"
      }
    },
    {
      "cell_type": "code",
      "source": [
        "import pandas as pd\n",
        "df = pd.read_html('https://ko.wikipedia.org/wiki/%EC%98%AC%EB%A6%BC%ED%94%BD_%EB%A9%94%EB%8B%AC_%EC%A7%91%EA%B3%84')\n",
        "print(df)\n",
        "#df[2].to_excel(\"올림픽2.xls\")"
      ],
      "metadata": {
        "id": "aV8HjymzQhmD",
        "outputId": "73c0b7ce-d2f6-4c0b-e64f-91ea6b6b6eac",
        "colab": {
          "base_uri": "https://localhost:8080/"
        }
      },
      "execution_count": null,
      "outputs": [
        {
          "output_type": "stream",
          "name": "stderr",
          "text": [
            "/usr/local/lib/python3.7/dist-packages/ipykernel_launcher.py:4: FutureWarning: As the xlwt package is no longer maintained, the xlwt engine will be removed in a future version of pandas. This is the only engine in pandas that supports writing in the xls format. Install openpyxl and write to an xlsx file instead. You can set the option io.excel.xls.writer to 'xlwt' to silence this warning. While this option is deprecated and will also raise a warning, it can be globally set and the warning suppressed.\n",
            "  after removing the cwd from sys.path.\n"
          ]
        }
      ]
    },
    {
      "cell_type": "code",
      "source": [
        "df[0]"
      ],
      "metadata": {
        "id": "Gj4BKXPvnz62",
        "outputId": "d9f2106a-7a46-40e6-ab62-56df1b1c7433",
        "colab": {
          "base_uri": "https://localhost:8080/",
          "height": 849
        }
      },
      "execution_count": null,
      "outputs": [
        {
          "output_type": "execute_result",
          "data": {
            "text/plain": [
              "             국가 (IOC 코드)  하계 참가 횟수  Unnamed: 2  Unnamed: 3  Unnamed: 4      계  \\\n",
              "0           아프가니스탄 (AFG)        14           0           0           2      2   \n",
              "1              알제리 (ALG)        13           5           4           8     17   \n",
              "2            아르헨티나 (ARG)        24          21          25          28     74   \n",
              "3            아르메니아 (ARM)         6           2           6           6     14   \n",
              "4    오스트랄라시아 (ANZ) [ANZ]         2           3           4           5     12   \n",
              "..                   ...       ...         ...         ...         ...    ...   \n",
              "148       독립 (IOA) [IOA]         3           1           0           1      2   \n",
              "149    독립 참가 (IOP) [IOP]         1           0           1           2      3   \n",
              "150  러시아 출신 올림픽 선수 (OAR)         0           0           0           0      0   \n",
              "151       혼성 (ZZX) [ZZX]         3           8           5           4     17   \n",
              "152                   총합        28        5116        5082        5490  15688   \n",
              "\n",
              "     동계 참가 횟수  Unnamed: 7  Unnamed: 8  Unnamed: 9   계.1  전체 참가 횟수  \\\n",
              "0           0           0           0           0     0        14   \n",
              "1           3           0           0           0     0        16   \n",
              "2          19           0           0           0     0        43   \n",
              "3           7           0           0           0     0        13   \n",
              "4           0           0           0           0     0         2   \n",
              "..        ...         ...         ...         ...   ...       ...   \n",
              "148         0           0           0           0     0         3   \n",
              "149         0           0           0           0     0         1   \n",
              "150         1           2           6           9    17         1   \n",
              "151         0           0           0           0     0         3   \n",
              "152        23        1062        1058        1050  3170        51   \n",
              "\n",
              "     Unnamed: 12  Unnamed: 13  Unnamed: 14     총합  \n",
              "0              0            0            2      2  \n",
              "1              5            4            8     17  \n",
              "2             21           25           28     74  \n",
              "3              2            6            6     14  \n",
              "4              3            4            5     12  \n",
              "..           ...          ...          ...    ...  \n",
              "148            1            0            1      2  \n",
              "149            0            1            2      3  \n",
              "150            2            6            9     17  \n",
              "151            8            5            4     17  \n",
              "152         6178         6140         6540  18858  \n",
              "\n",
              "[153 rows x 16 columns]"
            ],
            "text/html": [
              "\n",
              "  <div id=\"df-e1d89637-b7c5-470e-9189-8db4c1368e95\">\n",
              "    <div class=\"colab-df-container\">\n",
              "      <div>\n",
              "<style scoped>\n",
              "    .dataframe tbody tr th:only-of-type {\n",
              "        vertical-align: middle;\n",
              "    }\n",
              "\n",
              "    .dataframe tbody tr th {\n",
              "        vertical-align: top;\n",
              "    }\n",
              "\n",
              "    .dataframe thead th {\n",
              "        text-align: right;\n",
              "    }\n",
              "</style>\n",
              "<table border=\"1\" class=\"dataframe\">\n",
              "  <thead>\n",
              "    <tr style=\"text-align: right;\">\n",
              "      <th></th>\n",
              "      <th>국가 (IOC 코드)</th>\n",
              "      <th>하계 참가 횟수</th>\n",
              "      <th>Unnamed: 2</th>\n",
              "      <th>Unnamed: 3</th>\n",
              "      <th>Unnamed: 4</th>\n",
              "      <th>계</th>\n",
              "      <th>동계 참가 횟수</th>\n",
              "      <th>Unnamed: 7</th>\n",
              "      <th>Unnamed: 8</th>\n",
              "      <th>Unnamed: 9</th>\n",
              "      <th>계.1</th>\n",
              "      <th>전체 참가 횟수</th>\n",
              "      <th>Unnamed: 12</th>\n",
              "      <th>Unnamed: 13</th>\n",
              "      <th>Unnamed: 14</th>\n",
              "      <th>총합</th>\n",
              "    </tr>\n",
              "  </thead>\n",
              "  <tbody>\n",
              "    <tr>\n",
              "      <th>0</th>\n",
              "      <td>아프가니스탄 (AFG)</td>\n",
              "      <td>14</td>\n",
              "      <td>0</td>\n",
              "      <td>0</td>\n",
              "      <td>2</td>\n",
              "      <td>2</td>\n",
              "      <td>0</td>\n",
              "      <td>0</td>\n",
              "      <td>0</td>\n",
              "      <td>0</td>\n",
              "      <td>0</td>\n",
              "      <td>14</td>\n",
              "      <td>0</td>\n",
              "      <td>0</td>\n",
              "      <td>2</td>\n",
              "      <td>2</td>\n",
              "    </tr>\n",
              "    <tr>\n",
              "      <th>1</th>\n",
              "      <td>알제리 (ALG)</td>\n",
              "      <td>13</td>\n",
              "      <td>5</td>\n",
              "      <td>4</td>\n",
              "      <td>8</td>\n",
              "      <td>17</td>\n",
              "      <td>3</td>\n",
              "      <td>0</td>\n",
              "      <td>0</td>\n",
              "      <td>0</td>\n",
              "      <td>0</td>\n",
              "      <td>16</td>\n",
              "      <td>5</td>\n",
              "      <td>4</td>\n",
              "      <td>8</td>\n",
              "      <td>17</td>\n",
              "    </tr>\n",
              "    <tr>\n",
              "      <th>2</th>\n",
              "      <td>아르헨티나 (ARG)</td>\n",
              "      <td>24</td>\n",
              "      <td>21</td>\n",
              "      <td>25</td>\n",
              "      <td>28</td>\n",
              "      <td>74</td>\n",
              "      <td>19</td>\n",
              "      <td>0</td>\n",
              "      <td>0</td>\n",
              "      <td>0</td>\n",
              "      <td>0</td>\n",
              "      <td>43</td>\n",
              "      <td>21</td>\n",
              "      <td>25</td>\n",
              "      <td>28</td>\n",
              "      <td>74</td>\n",
              "    </tr>\n",
              "    <tr>\n",
              "      <th>3</th>\n",
              "      <td>아르메니아 (ARM)</td>\n",
              "      <td>6</td>\n",
              "      <td>2</td>\n",
              "      <td>6</td>\n",
              "      <td>6</td>\n",
              "      <td>14</td>\n",
              "      <td>7</td>\n",
              "      <td>0</td>\n",
              "      <td>0</td>\n",
              "      <td>0</td>\n",
              "      <td>0</td>\n",
              "      <td>13</td>\n",
              "      <td>2</td>\n",
              "      <td>6</td>\n",
              "      <td>6</td>\n",
              "      <td>14</td>\n",
              "    </tr>\n",
              "    <tr>\n",
              "      <th>4</th>\n",
              "      <td>오스트랄라시아 (ANZ) [ANZ]</td>\n",
              "      <td>2</td>\n",
              "      <td>3</td>\n",
              "      <td>4</td>\n",
              "      <td>5</td>\n",
              "      <td>12</td>\n",
              "      <td>0</td>\n",
              "      <td>0</td>\n",
              "      <td>0</td>\n",
              "      <td>0</td>\n",
              "      <td>0</td>\n",
              "      <td>2</td>\n",
              "      <td>3</td>\n",
              "      <td>4</td>\n",
              "      <td>5</td>\n",
              "      <td>12</td>\n",
              "    </tr>\n",
              "    <tr>\n",
              "      <th>...</th>\n",
              "      <td>...</td>\n",
              "      <td>...</td>\n",
              "      <td>...</td>\n",
              "      <td>...</td>\n",
              "      <td>...</td>\n",
              "      <td>...</td>\n",
              "      <td>...</td>\n",
              "      <td>...</td>\n",
              "      <td>...</td>\n",
              "      <td>...</td>\n",
              "      <td>...</td>\n",
              "      <td>...</td>\n",
              "      <td>...</td>\n",
              "      <td>...</td>\n",
              "      <td>...</td>\n",
              "      <td>...</td>\n",
              "    </tr>\n",
              "    <tr>\n",
              "      <th>148</th>\n",
              "      <td>독립 (IOA) [IOA]</td>\n",
              "      <td>3</td>\n",
              "      <td>1</td>\n",
              "      <td>0</td>\n",
              "      <td>1</td>\n",
              "      <td>2</td>\n",
              "      <td>0</td>\n",
              "      <td>0</td>\n",
              "      <td>0</td>\n",
              "      <td>0</td>\n",
              "      <td>0</td>\n",
              "      <td>3</td>\n",
              "      <td>1</td>\n",
              "      <td>0</td>\n",
              "      <td>1</td>\n",
              "      <td>2</td>\n",
              "    </tr>\n",
              "    <tr>\n",
              "      <th>149</th>\n",
              "      <td>독립 참가 (IOP) [IOP]</td>\n",
              "      <td>1</td>\n",
              "      <td>0</td>\n",
              "      <td>1</td>\n",
              "      <td>2</td>\n",
              "      <td>3</td>\n",
              "      <td>0</td>\n",
              "      <td>0</td>\n",
              "      <td>0</td>\n",
              "      <td>0</td>\n",
              "      <td>0</td>\n",
              "      <td>1</td>\n",
              "      <td>0</td>\n",
              "      <td>1</td>\n",
              "      <td>2</td>\n",
              "      <td>3</td>\n",
              "    </tr>\n",
              "    <tr>\n",
              "      <th>150</th>\n",
              "      <td>러시아 출신 올림픽 선수 (OAR)</td>\n",
              "      <td>0</td>\n",
              "      <td>0</td>\n",
              "      <td>0</td>\n",
              "      <td>0</td>\n",
              "      <td>0</td>\n",
              "      <td>1</td>\n",
              "      <td>2</td>\n",
              "      <td>6</td>\n",
              "      <td>9</td>\n",
              "      <td>17</td>\n",
              "      <td>1</td>\n",
              "      <td>2</td>\n",
              "      <td>6</td>\n",
              "      <td>9</td>\n",
              "      <td>17</td>\n",
              "    </tr>\n",
              "    <tr>\n",
              "      <th>151</th>\n",
              "      <td>혼성 (ZZX) [ZZX]</td>\n",
              "      <td>3</td>\n",
              "      <td>8</td>\n",
              "      <td>5</td>\n",
              "      <td>4</td>\n",
              "      <td>17</td>\n",
              "      <td>0</td>\n",
              "      <td>0</td>\n",
              "      <td>0</td>\n",
              "      <td>0</td>\n",
              "      <td>0</td>\n",
              "      <td>3</td>\n",
              "      <td>8</td>\n",
              "      <td>5</td>\n",
              "      <td>4</td>\n",
              "      <td>17</td>\n",
              "    </tr>\n",
              "    <tr>\n",
              "      <th>152</th>\n",
              "      <td>총합</td>\n",
              "      <td>28</td>\n",
              "      <td>5116</td>\n",
              "      <td>5082</td>\n",
              "      <td>5490</td>\n",
              "      <td>15688</td>\n",
              "      <td>23</td>\n",
              "      <td>1062</td>\n",
              "      <td>1058</td>\n",
              "      <td>1050</td>\n",
              "      <td>3170</td>\n",
              "      <td>51</td>\n",
              "      <td>6178</td>\n",
              "      <td>6140</td>\n",
              "      <td>6540</td>\n",
              "      <td>18858</td>\n",
              "    </tr>\n",
              "  </tbody>\n",
              "</table>\n",
              "<p>153 rows × 16 columns</p>\n",
              "</div>\n",
              "      <button class=\"colab-df-convert\" onclick=\"convertToInteractive('df-e1d89637-b7c5-470e-9189-8db4c1368e95')\"\n",
              "              title=\"Convert this dataframe to an interactive table.\"\n",
              "              style=\"display:none;\">\n",
              "        \n",
              "  <svg xmlns=\"http://www.w3.org/2000/svg\" height=\"24px\"viewBox=\"0 0 24 24\"\n",
              "       width=\"24px\">\n",
              "    <path d=\"M0 0h24v24H0V0z\" fill=\"none\"/>\n",
              "    <path d=\"M18.56 5.44l.94 2.06.94-2.06 2.06-.94-2.06-.94-.94-2.06-.94 2.06-2.06.94zm-11 1L8.5 8.5l.94-2.06 2.06-.94-2.06-.94L8.5 2.5l-.94 2.06-2.06.94zm10 10l.94 2.06.94-2.06 2.06-.94-2.06-.94-.94-2.06-.94 2.06-2.06.94z\"/><path d=\"M17.41 7.96l-1.37-1.37c-.4-.4-.92-.59-1.43-.59-.52 0-1.04.2-1.43.59L10.3 9.45l-7.72 7.72c-.78.78-.78 2.05 0 2.83L4 21.41c.39.39.9.59 1.41.59.51 0 1.02-.2 1.41-.59l7.78-7.78 2.81-2.81c.8-.78.8-2.07 0-2.86zM5.41 20L4 18.59l7.72-7.72 1.47 1.35L5.41 20z\"/>\n",
              "  </svg>\n",
              "      </button>\n",
              "      \n",
              "  <style>\n",
              "    .colab-df-container {\n",
              "      display:flex;\n",
              "      flex-wrap:wrap;\n",
              "      gap: 12px;\n",
              "    }\n",
              "\n",
              "    .colab-df-convert {\n",
              "      background-color: #E8F0FE;\n",
              "      border: none;\n",
              "      border-radius: 50%;\n",
              "      cursor: pointer;\n",
              "      display: none;\n",
              "      fill: #1967D2;\n",
              "      height: 32px;\n",
              "      padding: 0 0 0 0;\n",
              "      width: 32px;\n",
              "    }\n",
              "\n",
              "    .colab-df-convert:hover {\n",
              "      background-color: #E2EBFA;\n",
              "      box-shadow: 0px 1px 2px rgba(60, 64, 67, 0.3), 0px 1px 3px 1px rgba(60, 64, 67, 0.15);\n",
              "      fill: #174EA6;\n",
              "    }\n",
              "\n",
              "    [theme=dark] .colab-df-convert {\n",
              "      background-color: #3B4455;\n",
              "      fill: #D2E3FC;\n",
              "    }\n",
              "\n",
              "    [theme=dark] .colab-df-convert:hover {\n",
              "      background-color: #434B5C;\n",
              "      box-shadow: 0px 1px 3px 1px rgba(0, 0, 0, 0.15);\n",
              "      filter: drop-shadow(0px 1px 2px rgba(0, 0, 0, 0.3));\n",
              "      fill: #FFFFFF;\n",
              "    }\n",
              "  </style>\n",
              "\n",
              "      <script>\n",
              "        const buttonEl =\n",
              "          document.querySelector('#df-e1d89637-b7c5-470e-9189-8db4c1368e95 button.colab-df-convert');\n",
              "        buttonEl.style.display =\n",
              "          google.colab.kernel.accessAllowed ? 'block' : 'none';\n",
              "\n",
              "        async function convertToInteractive(key) {\n",
              "          const element = document.querySelector('#df-e1d89637-b7c5-470e-9189-8db4c1368e95');\n",
              "          const dataTable =\n",
              "            await google.colab.kernel.invokeFunction('convertToInteractive',\n",
              "                                                     [key], {});\n",
              "          if (!dataTable) return;\n",
              "\n",
              "          const docLinkHtml = 'Like what you see? Visit the ' +\n",
              "            '<a target=\"_blank\" href=https://colab.research.google.com/notebooks/data_table.ipynb>data table notebook</a>'\n",
              "            + ' to learn more about interactive tables.';\n",
              "          element.innerHTML = '';\n",
              "          dataTable['output_type'] = 'display_data';\n",
              "          await google.colab.output.renderOutput(dataTable, element);\n",
              "          const docLink = document.createElement('div');\n",
              "          docLink.innerHTML = docLinkHtml;\n",
              "          element.appendChild(docLink);\n",
              "        }\n",
              "      </script>\n",
              "    </div>\n",
              "  </div>\n",
              "  "
            ]
          },
          "metadata": {},
          "execution_count": 4
        }
      ]
    },
    {
      "cell_type": "code",
      "source": [
        "import pandas as pd\n",
        "df = pd.read_html('https://ko.wikipedia.org/wiki/%EC%98%AC%EB%A6%BC%ED%94%BD_%EB%A9%94%EB%8B%AC_%EC%A7%91%EA%B3%84', header=0, index_col=0)\n",
        "print(df)"
      ],
      "metadata": {
        "id": "Im8IdOSNoY1Y",
        "outputId": "dbb4e9da-e0ed-44ea-97d6-594dcda2b055",
        "colab": {
          "base_uri": "https://localhost:8080/"
        }
      },
      "execution_count": 2,
      "outputs": [
        {
          "output_type": "stream",
          "name": "stdout",
          "text": [
            "[                     하계 참가 횟수  Unnamed: 2  Unnamed: 3  Unnamed: 4      계  \\\n",
            "국가 (IOC 코드)                                                                \n",
            "아프가니스탄 (AFG)               14           0           0           2      2   \n",
            "알제리 (ALG)                  13           5           4           8     17   \n",
            "아르헨티나 (ARG)                24          21          25          28     74   \n",
            "아르메니아 (ARM)                 6           2           6           6     14   \n",
            "오스트랄라시아 (ANZ) [ANZ]         2           3           4           5     12   \n",
            "...                       ...         ...         ...         ...    ...   \n",
            "독립 (IOA) [IOA]              3           1           0           1      2   \n",
            "독립 참가 (IOP) [IOP]           1           0           1           2      3   \n",
            "러시아 출신 올림픽 선수 (OAR)         0           0           0           0      0   \n",
            "혼성 (ZZX) [ZZX]              3           8           5           4     17   \n",
            "총합                         28        5116        5082        5490  15688   \n",
            "\n",
            "                     동계 참가 횟수  Unnamed: 7  Unnamed: 8  Unnamed: 9   계.1  \\\n",
            "국가 (IOC 코드)                                                               \n",
            "아프가니스탄 (AFG)                0           0           0           0     0   \n",
            "알제리 (ALG)                   3           0           0           0     0   \n",
            "아르헨티나 (ARG)                19           0           0           0     0   \n",
            "아르메니아 (ARM)                 7           0           0           0     0   \n",
            "오스트랄라시아 (ANZ) [ANZ]         0           0           0           0     0   \n",
            "...                       ...         ...         ...         ...   ...   \n",
            "독립 (IOA) [IOA]              0           0           0           0     0   \n",
            "독립 참가 (IOP) [IOP]           0           0           0           0     0   \n",
            "러시아 출신 올림픽 선수 (OAR)         1           2           6           9    17   \n",
            "혼성 (ZZX) [ZZX]              0           0           0           0     0   \n",
            "총합                         23        1062        1058        1050  3170   \n",
            "\n",
            "                     전체 참가 횟수  Unnamed: 12  Unnamed: 13  Unnamed: 14     총합  \n",
            "국가 (IOC 코드)                                                                  \n",
            "아프가니스탄 (AFG)               14            0            0            2      2  \n",
            "알제리 (ALG)                  16            5            4            8     17  \n",
            "아르헨티나 (ARG)                43           21           25           28     74  \n",
            "아르메니아 (ARM)                13            2            6            6     14  \n",
            "오스트랄라시아 (ANZ) [ANZ]         2            3            4            5     12  \n",
            "...                       ...          ...          ...          ...    ...  \n",
            "독립 (IOA) [IOA]              3            1            0            1      2  \n",
            "독립 참가 (IOP) [IOP]           1            0            1            2      3  \n",
            "러시아 출신 올림픽 선수 (OAR)         1            2            6            9     17  \n",
            "혼성 (ZZX) [ZZX]              3            8            5            4     17  \n",
            "총합                         51         6178         6140         6540  18858  \n",
            "\n",
            "[153 rows x 15 columns],                           하계 참가 횟수  동계 참가 횟수  전체 참가 횟수\n",
            "국가 (IOC 코드)                                           \n",
            "알바니아 (ALB)                       8         4        12\n",
            "아메리칸사모아 (ASA)                    8         1         9\n",
            "안도라 (AND)                       11        12        23\n",
            "앙골라 (ANG)                        9         0         9\n",
            "앤티가 바부다 (ANT)                   10         0        10\n",
            "...                            ...       ...       ...\n",
            "중화민국 (ROC) [ROC]                 3         0         3\n",
            "자르 (SAA) [SAA]                   1         0         1\n",
            "북예멘 (YAR) [YAR]                  2         0         2\n",
            "에멘 인민 민주 공화국 (YMD) [YMD]         1         0         1\n",
            "난민 (ROT) [ROT]                   1         0         1\n",
            "\n",
            "[79 rows x 3 columns],                               하계 참가 횟수  Unnamed: 2  Unnamed: 3  Unnamed: 4  \\\n",
            "국가 (IOC 코드)                                                                  \n",
            "독일 (GER)[5]                         16         191         192         232   \n",
            "독일 (GER) (EUA)[6]                   19         219         246         268   \n",
            "독일 (GER) (EUA) (FRG)[7]             24         275         313         349   \n",
            "독일 (GER) (EUA) (FRG) (GDR)[8]    25[9]         428         442         476   \n",
            "\n",
            "                                  계  동계 참가 횟수  Unnamed: 7  Unnamed: 8  \\\n",
            "국가 (IOC 코드)                                                             \n",
            "독일 (GER)[5]                     615        12          92          88   \n",
            "독일 (GER) (EUA)[6]               733        15         100          94   \n",
            "독일 (GER) (EUA) (FRG)[7]         937        21         111         109   \n",
            "독일 (GER) (EUA) (FRG) (GDR)[8]  1346        21         150         145   \n",
            "\n",
            "                               Unnamed: 9  계.1 전체 참가 횟수  Unnamed: 12  \\\n",
            "국가 (IOC 코드)                                                            \n",
            "독일 (GER)[5]                            60  240       28          283   \n",
            "독일 (GER) (EUA)[6]                      65  259       34          319   \n",
            "독일 (GER) (EUA) (FRG)[7]                78  298       45          386   \n",
            "독일 (GER) (EUA) (FRG) (GDR)[8]         113  408    46[9]          578   \n",
            "\n",
            "                               Unnamed: 13  Unnamed: 14    총합  \n",
            "국가 (IOC 코드)                                                    \n",
            "독일 (GER)[5]                            280          292   855  \n",
            "독일 (GER) (EUA)[6]                      340          333   992  \n",
            "독일 (GER) (EUA) (FRG)[7]                422          427  1235  \n",
            "독일 (GER) (EUA) (FRG) (GDR)[8]          587          589  1754  ,                                           하계 참가 횟수  Unnamed: 2  Unnamed: 3  \\\n",
            "국가 (IOC 코드)                                                                  \n",
            "러시아 출신 올림픽 선수 (OAR)                              0           0           0   \n",
            "러시아 (RUS)[10]                                    6         148         125   \n",
            "러시아 (RUS) (RU1)[11]                              9         149         129   \n",
            "소련 (URS)[7]                                      9         395         319   \n",
            "소련 (URS) (EUN)[8]                               10         440         357   \n",
            "러시아 (RUS) (RU1) (OAR) 소련 (URS) (EUN)[12]        19         590         485   \n",
            "\n",
            "                                          Unnamed: 4     계  동계 참가 횟수  \\\n",
            "국가 (IOC 코드)                                                            \n",
            "러시아 출신 올림픽 선수 (OAR)                                0     0         1   \n",
            "러시아 (RUS)[10]                                    153   426         6   \n",
            "러시아 (RUS) (RU1)[11]                              156   434         6   \n",
            "소련 (URS)[7]                                      296  1010         9   \n",
            "소련 (URS) (EUN)[8]                                325  1122        10   \n",
            "러시아 (RUS) (RU1) (OAR) 소련 (URS) (EUN)[12]         481  1556        17   \n",
            "\n",
            "                                          Unnamed: 7  Unnamed: 8  Unnamed: 9  \\\n",
            "국가 (IOC 코드)                                                                    \n",
            "러시아 출신 올림픽 선수 (OAR)                                2           6           9   \n",
            "러시아 (RUS)[10]                                     47          38          35   \n",
            "러시아 (RUS) (RU1)[11]                               47          38          35   \n",
            "소련 (URS)[7]                                       78          57          59   \n",
            "소련 (URS) (EUN)[8]                                 87          63          67   \n",
            "러시아 (RUS) (RU1) (OAR) 소련 (URS) (EUN)[12]         136         107         111   \n",
            "\n",
            "                                          계.1  전체 참가 횟수  Unnamed: 12  \\\n",
            "국가 (IOC 코드)                                                            \n",
            "러시아 출신 올림픽 선수 (OAR)                        17         1            2   \n",
            "러시아 (RUS)[10]                             120        12          195   \n",
            "러시아 (RUS) (RU1)[11]                       120        12          195   \n",
            "소련 (URS)[7]                               194        18          473   \n",
            "소련 (URS) (EUN)[8]                         217        20          527   \n",
            "러시아 (RUS) (RU1) (OAR) 소련 (URS) (EUN)[12]  354        36          726   \n",
            "\n",
            "                                          Unnamed: 13  Unnamed: 14    총합  \n",
            "국가 (IOC 코드)                                                               \n",
            "러시아 출신 올림픽 선수 (OAR)                                 6            9    17  \n",
            "러시아 (RUS)[10]                                     163          188   546  \n",
            "러시아 (RUS) (RU1)[11]                               163          188   546  \n",
            "소련 (URS)[7]                                       376          355  1204  \n",
            "소련 (URS) (EUN)[8]                                 420          392  1339  \n",
            "러시아 (RUS) (RU1) (OAR) 소련 (URS) (EUN)[12]          592          592  1910  , Empty DataFrame\n",
            "Columns: [SRB , YUG → IOP , SCG 세르비아(SRB, 1912년, 2006년~현재)는 1912년 처음 경기에 참가하였다. 유고슬라비아(YUG, 1920~1992년 동계)는 제2차 세계 대전 이전 1920년부터 1936년까지 유고슬라비아 왕국(1929년까지 정식 명칭은 세르비아-크로아티아-슬로베니아 왕국이었다.)으로 참가하였다. 해체 이전 모든 경기(1948년부터 1992년 동계)에는 유고슬라비아 사회주의 연방공화국이라는 이름으로 참가하였다. 크로아티아, 슬로베니아, 보스니아 헤르체고비나는 1992년부터 별개로 참가하고 있으며, 유고슬라비아 연방 공화국은 유고슬라비아 전쟁과 관련된 유엔 안전 보장 이사회의 제재로 인해, 마케도니아 공화국은 국가 올림픽 위원회가 없어서 독립 참가 선수단(IOP)으로 1992년 대회에 참가하였다. 마케도니아는 1996년부터 독자적으로 참가하고 있다. 세르비아 공화국과 몬테네그로 공화국으로 구성된 세르비아 몬테네그로(SCG, 1996~2006)은 1996년부터 2002년까지 유고슬라비아 연방 공화국으로, 2004년부터 2006년까지는 세르비아 몬테네그로로 참가하였다. 1912년 첫 참가 이후 96년 만인 2008년 대회부터 세르비아는 별개로 참가하고 있으며, 몬테네그로 역시 2008년 대회부터 독자적으로 올림픽에 참여하고 있다. YAR , YMD → YEM 1990년 예멘 통일 이전 북예멘은 예멘 아랍 공화국(YAR)으로 1984년과 1988년 대회에 참가하였고, 남예멘은 예멘 인민 민주 공화국(YMD)으로 1988년 대회에 참가하였다. 예멘(YEM)은 통일 이후 1992년부터 참여하고 있다. ROC → CHN , TPE 중화민국(ROC)은 1932년, 1936년, 1948년 대회에서 타이완을 포함한 중국(당시 CHN)으로 참가하였다. 국공 내전 이후 중화인민공화국(CHN)과 중화 타이베이(TPE)는 별개의 국가로 참가하고 있다. ZZX ZZX는 초기 올림픽(1896~1904)에 존재하였던 다국적 혼성 선수단에 사용된 특별 코드이다. 혼성 선수단이 획득한 메달은 각 개별 국가로 합산되지 않는다. IOA IOA는 IOC가 인정하지 않는 NOC의 선수들을 위해 사용된 특별 코드이다. 2000년 대회에서는 동티모르의 선수단이 개인 선수단(IOA)으로 참가하였다. 2012년 대회에서는 세 명의 전 네덜란드령 안틸레스 선수와 한 명의 남수단 선수가 독립 선수단(IOA)으로 참가하였다. 2016년 대회에서는 쿠웨이트의 선수단이 독립 선수단(IOA)으로 참가하였다. OAR OAR은 IOC가 2018년 동계 대회에 참가한 러시아 출신 선수들을 위해 사용된 특별 코드이다.]\n",
            "Index: [], Empty DataFrame\n",
            "Columns: [GUY 1996년 가이아나는 독립하기 이전에 영국령 기아나라는 명칭으로 1948년부터 1964년까지 참가한 적이 있다. HKG 홍콩(HKG)의 메달은 홍콩 차이나 체육 협회 올림픽 위원회의 선수들이 수상한 모든 메달을 포함한다. ‘홍콩’이라는 명칭으로는 1952년부터 1996년까지 참가하였으며, 2000년부터는 ‘홍콩 차이나’라는 이름으로 참여하고 있다. MYA 미얀마는 1948년부터 1988년까지 버마(BIR)로 참가하였다. SAM 사모아는 1994년부터 1996년까지 서사모아로 참가하였다. SRI 스리랑카는 1948년부터 1972년까지 실론(CEY)으로 참가하였다. TAN 탕가니카와 잔지바르는 1964년 4월 탄자니아로 통합하였지만 1964년 대회의 공식 기록에서는 탕가니카라는 명칭을 사용하였다. ZAM 잠비아는 1964년 대회의 마지막 날에 독립하였지만, 전체 경기에서는 북로디지아(NRH)로 참가하였다. ZIM 1980년 짐바브웨가 독립하기 이전에, 남로디지아는 1928년, 1960년, 1964년 대회에 로디지아(RHO)로 참가하였다.]\n",
            "Index: [], Empty DataFrame\n",
            "Columns: [F 2014년 대회에 인도의 선수들은 인도 올림픽 협회의 자격 정지로 개막식에 올림픽기와 함께 독립 선수단 자격으로 입장하였다. 2014년 2월 11일, IOC의 제재가 철회되어 인도 이름과 국기를 달고 경기에 참여할 수 있게 되었다. Ia Ib Ic 2000년 동티모르가 개인 선수단(IOA)으로 참가한 것, 2012년 네덜란드령 안틸레스가 독립 선수단(IOA)으로 참가한 것과 2016년 쿠웨이트가 독립 선수단(IOA)으로 참가한 것을 포함하지 않는다. Za Zb Zc Zd Ze Zf Zg Zh Zi Zj Zk Zl Zm 1896년, 1900년, 1904년 대회에서 혼성 선수단으로 참가한 것을 포함하지 않는다.]\n",
            "Index: [], Empty DataFrame\n",
            "Columns: [N 모나코는 1924년 하계 올림픽 예술에서 동메달을 획득하였다.[15] 그러나 IOC는 올림픽 예술의 메달을 더 이상 인정하고 있지 않다.[16] Oa Ob 1900년 하계 올림픽 육상 남자 마라톤에서 금메달을 획득한 프랑스의 육상 선수 미셸 테아토는 룩셈부르크에서 태어났다.[17] IOC는 이 메달을 프랑스의 기록으로 인정한다. Pa Pb 1904년 대회에서 알버트 코레이가 프랑스를 대표로 참가한 것에 대해 논쟁이 있다. 경기 공식 기록에서는 ‘시카고 육상 협회 색깔의 옷을 입은 프랑스인’이라고 기술하고 있지만, IOC는 그가 마라톤에서 획득한 메달을 미국의 기록으로 다룬다. 그러나 4mi 단체에서 코레이가 세 명의 미국인과 함께 수상한 은메달은 혼성 선수단의 기록으로 여겨 두 메달의 국적이 상충된다. Qa Qb 일부 자료에서는 1904년 하계 올림픽 레슬링 경기에서 두 명의 선수가 노르웨이 대표로 참가하여 금메달을 획득한 것으로 기록하지만,[18] IOC는 두 메달 모두 미국의 메달로 인정한다. R 1904년 대회에 참가한 미국의 마라톤 선수인 로버트 파울러는 뉴펀들랜드 출신이다. 이로 인해 뉴펀들랜드 식민지는 해당 대회에 참가한 독립국으로 종종 기록되기도 한다.[3] IOC는 이를 인정하고 있지 않다. S 이탈리아 선수인 프랭크 비조니는 1904년 하계 올림픽 사이클 남자 0.25mi 경기 참여 당시 미국에서 살고 있었다.[19] 그러나 IOC는 비조니를 미국 선수로 여기며, 이탈리아의 그 해 올림픽 참가를 인정하지 않는다.]\n",
            "Index: [],                                                  vte올림픽 메달 집계.1\n",
            "vte올림픽 메달 집계                                                   \n",
            "하계 올림픽        1896 1900 1904 1908 1912 1920 1924 1928 1932 1...\n",
            "동계 올림픽        1924 1928 1932 1936 1948 1952 1956 1960 1964 1...\n",
            "하계 청소년 올림픽                                       2010 2014 2018\n",
            "동계 청소년 올림픽                                       2012 2016 2020,                                                  vte올림픽 메달리스트 목록.1\n",
            "vte올림픽 메달리스트 목록                                                   \n",
            "하계 종목            근대5종 농구 다이빙 레슬링 배구 배드민턴 복싱 비치발리볼 사격 사이클(남/여) 수...\n",
            "동계 종목            노르딕복합 루지 바이애슬론 봅슬레이 쇼트트랙 스노보드 스켈레톤 스키점프 스피드스케이...\n",
            "과거 종목            가라데 라크로스 라켓 로크 모터보트 밀리터리패트롤 소프트볼 야구 주드폼 줄다리기 크...\n",
            "시범 종목            개썰매 글라이딩 글리마 동계5종 라칸 롤러하키 무도 미식축구 밴디 볼링 사바트 스키...\n",
            "비공식 종목           게일릭풋볼 기구 낚시 롱그폼 모터레이싱 모터사이클 불 비둘기레이싱 사이클폴로 소방 ...]\n"
          ]
        }
      ]
    },
    {
      "cell_type": "code",
      "source": [
        "summer =df[0].iloc[:, :5] #전체 행에서 5열만 가져오기\n",
        "#summer =df[0].iloc[:5]\n",
        "summer"
      ],
      "metadata": {
        "id": "PFfxec5Rpt-y",
        "outputId": "e2e96b4e-5167-4982-e1bb-85eb72e9906e",
        "colab": {
          "base_uri": "https://localhost:8080/",
          "height": 423
        }
      },
      "execution_count": null,
      "outputs": [
        {
          "output_type": "execute_result",
          "data": {
            "text/plain": [
              "             국가 (IOC 코드)  하계 참가 횟수  Unnamed: 2  Unnamed: 3  Unnamed: 4\n",
              "0           아프가니스탄 (AFG)        14           0           0           2\n",
              "1              알제리 (ALG)        13           5           4           8\n",
              "2            아르헨티나 (ARG)        24          21          25          28\n",
              "3            아르메니아 (ARM)         6           2           6           6\n",
              "4    오스트랄라시아 (ANZ) [ANZ]         2           3           4           5\n",
              "..                   ...       ...         ...         ...         ...\n",
              "148       독립 (IOA) [IOA]         3           1           0           1\n",
              "149    독립 참가 (IOP) [IOP]         1           0           1           2\n",
              "150  러시아 출신 올림픽 선수 (OAR)         0           0           0           0\n",
              "151       혼성 (ZZX) [ZZX]         3           8           5           4\n",
              "152                   총합        28        5116        5082        5490\n",
              "\n",
              "[153 rows x 5 columns]"
            ],
            "text/html": [
              "\n",
              "  <div id=\"df-359b01e5-7434-4abd-a82b-5db6856f2bcb\">\n",
              "    <div class=\"colab-df-container\">\n",
              "      <div>\n",
              "<style scoped>\n",
              "    .dataframe tbody tr th:only-of-type {\n",
              "        vertical-align: middle;\n",
              "    }\n",
              "\n",
              "    .dataframe tbody tr th {\n",
              "        vertical-align: top;\n",
              "    }\n",
              "\n",
              "    .dataframe thead th {\n",
              "        text-align: right;\n",
              "    }\n",
              "</style>\n",
              "<table border=\"1\" class=\"dataframe\">\n",
              "  <thead>\n",
              "    <tr style=\"text-align: right;\">\n",
              "      <th></th>\n",
              "      <th>국가 (IOC 코드)</th>\n",
              "      <th>하계 참가 횟수</th>\n",
              "      <th>Unnamed: 2</th>\n",
              "      <th>Unnamed: 3</th>\n",
              "      <th>Unnamed: 4</th>\n",
              "    </tr>\n",
              "  </thead>\n",
              "  <tbody>\n",
              "    <tr>\n",
              "      <th>0</th>\n",
              "      <td>아프가니스탄 (AFG)</td>\n",
              "      <td>14</td>\n",
              "      <td>0</td>\n",
              "      <td>0</td>\n",
              "      <td>2</td>\n",
              "    </tr>\n",
              "    <tr>\n",
              "      <th>1</th>\n",
              "      <td>알제리 (ALG)</td>\n",
              "      <td>13</td>\n",
              "      <td>5</td>\n",
              "      <td>4</td>\n",
              "      <td>8</td>\n",
              "    </tr>\n",
              "    <tr>\n",
              "      <th>2</th>\n",
              "      <td>아르헨티나 (ARG)</td>\n",
              "      <td>24</td>\n",
              "      <td>21</td>\n",
              "      <td>25</td>\n",
              "      <td>28</td>\n",
              "    </tr>\n",
              "    <tr>\n",
              "      <th>3</th>\n",
              "      <td>아르메니아 (ARM)</td>\n",
              "      <td>6</td>\n",
              "      <td>2</td>\n",
              "      <td>6</td>\n",
              "      <td>6</td>\n",
              "    </tr>\n",
              "    <tr>\n",
              "      <th>4</th>\n",
              "      <td>오스트랄라시아 (ANZ) [ANZ]</td>\n",
              "      <td>2</td>\n",
              "      <td>3</td>\n",
              "      <td>4</td>\n",
              "      <td>5</td>\n",
              "    </tr>\n",
              "    <tr>\n",
              "      <th>...</th>\n",
              "      <td>...</td>\n",
              "      <td>...</td>\n",
              "      <td>...</td>\n",
              "      <td>...</td>\n",
              "      <td>...</td>\n",
              "    </tr>\n",
              "    <tr>\n",
              "      <th>148</th>\n",
              "      <td>독립 (IOA) [IOA]</td>\n",
              "      <td>3</td>\n",
              "      <td>1</td>\n",
              "      <td>0</td>\n",
              "      <td>1</td>\n",
              "    </tr>\n",
              "    <tr>\n",
              "      <th>149</th>\n",
              "      <td>독립 참가 (IOP) [IOP]</td>\n",
              "      <td>1</td>\n",
              "      <td>0</td>\n",
              "      <td>1</td>\n",
              "      <td>2</td>\n",
              "    </tr>\n",
              "    <tr>\n",
              "      <th>150</th>\n",
              "      <td>러시아 출신 올림픽 선수 (OAR)</td>\n",
              "      <td>0</td>\n",
              "      <td>0</td>\n",
              "      <td>0</td>\n",
              "      <td>0</td>\n",
              "    </tr>\n",
              "    <tr>\n",
              "      <th>151</th>\n",
              "      <td>혼성 (ZZX) [ZZX]</td>\n",
              "      <td>3</td>\n",
              "      <td>8</td>\n",
              "      <td>5</td>\n",
              "      <td>4</td>\n",
              "    </tr>\n",
              "    <tr>\n",
              "      <th>152</th>\n",
              "      <td>총합</td>\n",
              "      <td>28</td>\n",
              "      <td>5116</td>\n",
              "      <td>5082</td>\n",
              "      <td>5490</td>\n",
              "    </tr>\n",
              "  </tbody>\n",
              "</table>\n",
              "<p>153 rows × 5 columns</p>\n",
              "</div>\n",
              "      <button class=\"colab-df-convert\" onclick=\"convertToInteractive('df-359b01e5-7434-4abd-a82b-5db6856f2bcb')\"\n",
              "              title=\"Convert this dataframe to an interactive table.\"\n",
              "              style=\"display:none;\">\n",
              "        \n",
              "  <svg xmlns=\"http://www.w3.org/2000/svg\" height=\"24px\"viewBox=\"0 0 24 24\"\n",
              "       width=\"24px\">\n",
              "    <path d=\"M0 0h24v24H0V0z\" fill=\"none\"/>\n",
              "    <path d=\"M18.56 5.44l.94 2.06.94-2.06 2.06-.94-2.06-.94-.94-2.06-.94 2.06-2.06.94zm-11 1L8.5 8.5l.94-2.06 2.06-.94-2.06-.94L8.5 2.5l-.94 2.06-2.06.94zm10 10l.94 2.06.94-2.06 2.06-.94-2.06-.94-.94-2.06-.94 2.06-2.06.94z\"/><path d=\"M17.41 7.96l-1.37-1.37c-.4-.4-.92-.59-1.43-.59-.52 0-1.04.2-1.43.59L10.3 9.45l-7.72 7.72c-.78.78-.78 2.05 0 2.83L4 21.41c.39.39.9.59 1.41.59.51 0 1.02-.2 1.41-.59l7.78-7.78 2.81-2.81c.8-.78.8-2.07 0-2.86zM5.41 20L4 18.59l7.72-7.72 1.47 1.35L5.41 20z\"/>\n",
              "  </svg>\n",
              "      </button>\n",
              "      \n",
              "  <style>\n",
              "    .colab-df-container {\n",
              "      display:flex;\n",
              "      flex-wrap:wrap;\n",
              "      gap: 12px;\n",
              "    }\n",
              "\n",
              "    .colab-df-convert {\n",
              "      background-color: #E8F0FE;\n",
              "      border: none;\n",
              "      border-radius: 50%;\n",
              "      cursor: pointer;\n",
              "      display: none;\n",
              "      fill: #1967D2;\n",
              "      height: 32px;\n",
              "      padding: 0 0 0 0;\n",
              "      width: 32px;\n",
              "    }\n",
              "\n",
              "    .colab-df-convert:hover {\n",
              "      background-color: #E2EBFA;\n",
              "      box-shadow: 0px 1px 2px rgba(60, 64, 67, 0.3), 0px 1px 3px 1px rgba(60, 64, 67, 0.15);\n",
              "      fill: #174EA6;\n",
              "    }\n",
              "\n",
              "    [theme=dark] .colab-df-convert {\n",
              "      background-color: #3B4455;\n",
              "      fill: #D2E3FC;\n",
              "    }\n",
              "\n",
              "    [theme=dark] .colab-df-convert:hover {\n",
              "      background-color: #434B5C;\n",
              "      box-shadow: 0px 1px 3px 1px rgba(0, 0, 0, 0.15);\n",
              "      filter: drop-shadow(0px 1px 2px rgba(0, 0, 0, 0.3));\n",
              "      fill: #FFFFFF;\n",
              "    }\n",
              "  </style>\n",
              "\n",
              "      <script>\n",
              "        const buttonEl =\n",
              "          document.querySelector('#df-359b01e5-7434-4abd-a82b-5db6856f2bcb button.colab-df-convert');\n",
              "        buttonEl.style.display =\n",
              "          google.colab.kernel.accessAllowed ? 'block' : 'none';\n",
              "\n",
              "        async function convertToInteractive(key) {\n",
              "          const element = document.querySelector('#df-359b01e5-7434-4abd-a82b-5db6856f2bcb');\n",
              "          const dataTable =\n",
              "            await google.colab.kernel.invokeFunction('convertToInteractive',\n",
              "                                                     [key], {});\n",
              "          if (!dataTable) return;\n",
              "\n",
              "          const docLinkHtml = 'Like what you see? Visit the ' +\n",
              "            '<a target=\"_blank\" href=https://colab.research.google.com/notebooks/data_table.ipynb>data table notebook</a>'\n",
              "            + ' to learn more about interactive tables.';\n",
              "          element.innerHTML = '';\n",
              "          dataTable['output_type'] = 'display_data';\n",
              "          await google.colab.output.renderOutput(dataTable, element);\n",
              "          const docLink = document.createElement('div');\n",
              "          docLink.innerHTML = docLinkHtml;\n",
              "          element.appendChild(docLink);\n",
              "        }\n",
              "      </script>\n",
              "    </div>\n",
              "  </div>\n",
              "  "
            ]
          },
          "metadata": {},
          "execution_count": 29
        }
      ]
    },
    {
      "cell_type": "code",
      "source": [
        "summer =df[0].iloc[:, :5]\n",
        "summer\n",
        "summer.columns = ['경기수', '금','은','동','계']\n",
        "summer"
      ],
      "metadata": {
        "id": "krTBcXf2qU4g",
        "outputId": "7811f48a-eefc-44a3-a5c8-77fdd1046664",
        "colab": {
          "base_uri": "https://localhost:8080/",
          "height": 455
        }
      },
      "execution_count": null,
      "outputs": [
        {
          "output_type": "execute_result",
          "data": {
            "text/plain": [
              "                     경기수     금     은     동      계\n",
              "국가 (IOC 코드)                                      \n",
              "아프가니스탄 (AFG)          14     0     0     2      2\n",
              "알제리 (ALG)             13     5     4     8     17\n",
              "아르헨티나 (ARG)           24    21    25    28     74\n",
              "아르메니아 (ARM)            6     2     6     6     14\n",
              "오스트랄라시아 (ANZ) [ANZ]    2     3     4     5     12\n",
              "...                  ...   ...   ...   ...    ...\n",
              "독립 (IOA) [IOA]         3     1     0     1      2\n",
              "독립 참가 (IOP) [IOP]      1     0     1     2      3\n",
              "러시아 출신 올림픽 선수 (OAR)    0     0     0     0      0\n",
              "혼성 (ZZX) [ZZX]         3     8     5     4     17\n",
              "총합                    28  5116  5082  5490  15688\n",
              "\n",
              "[153 rows x 5 columns]"
            ],
            "text/html": [
              "\n",
              "  <div id=\"df-3f5d40d5-cf7f-4645-8329-39dd6bf29492\">\n",
              "    <div class=\"colab-df-container\">\n",
              "      <div>\n",
              "<style scoped>\n",
              "    .dataframe tbody tr th:only-of-type {\n",
              "        vertical-align: middle;\n",
              "    }\n",
              "\n",
              "    .dataframe tbody tr th {\n",
              "        vertical-align: top;\n",
              "    }\n",
              "\n",
              "    .dataframe thead th {\n",
              "        text-align: right;\n",
              "    }\n",
              "</style>\n",
              "<table border=\"1\" class=\"dataframe\">\n",
              "  <thead>\n",
              "    <tr style=\"text-align: right;\">\n",
              "      <th></th>\n",
              "      <th>경기수</th>\n",
              "      <th>금</th>\n",
              "      <th>은</th>\n",
              "      <th>동</th>\n",
              "      <th>계</th>\n",
              "    </tr>\n",
              "    <tr>\n",
              "      <th>국가 (IOC 코드)</th>\n",
              "      <th></th>\n",
              "      <th></th>\n",
              "      <th></th>\n",
              "      <th></th>\n",
              "      <th></th>\n",
              "    </tr>\n",
              "  </thead>\n",
              "  <tbody>\n",
              "    <tr>\n",
              "      <th>아프가니스탄 (AFG)</th>\n",
              "      <td>14</td>\n",
              "      <td>0</td>\n",
              "      <td>0</td>\n",
              "      <td>2</td>\n",
              "      <td>2</td>\n",
              "    </tr>\n",
              "    <tr>\n",
              "      <th>알제리 (ALG)</th>\n",
              "      <td>13</td>\n",
              "      <td>5</td>\n",
              "      <td>4</td>\n",
              "      <td>8</td>\n",
              "      <td>17</td>\n",
              "    </tr>\n",
              "    <tr>\n",
              "      <th>아르헨티나 (ARG)</th>\n",
              "      <td>24</td>\n",
              "      <td>21</td>\n",
              "      <td>25</td>\n",
              "      <td>28</td>\n",
              "      <td>74</td>\n",
              "    </tr>\n",
              "    <tr>\n",
              "      <th>아르메니아 (ARM)</th>\n",
              "      <td>6</td>\n",
              "      <td>2</td>\n",
              "      <td>6</td>\n",
              "      <td>6</td>\n",
              "      <td>14</td>\n",
              "    </tr>\n",
              "    <tr>\n",
              "      <th>오스트랄라시아 (ANZ) [ANZ]</th>\n",
              "      <td>2</td>\n",
              "      <td>3</td>\n",
              "      <td>4</td>\n",
              "      <td>5</td>\n",
              "      <td>12</td>\n",
              "    </tr>\n",
              "    <tr>\n",
              "      <th>...</th>\n",
              "      <td>...</td>\n",
              "      <td>...</td>\n",
              "      <td>...</td>\n",
              "      <td>...</td>\n",
              "      <td>...</td>\n",
              "    </tr>\n",
              "    <tr>\n",
              "      <th>독립 (IOA) [IOA]</th>\n",
              "      <td>3</td>\n",
              "      <td>1</td>\n",
              "      <td>0</td>\n",
              "      <td>1</td>\n",
              "      <td>2</td>\n",
              "    </tr>\n",
              "    <tr>\n",
              "      <th>독립 참가 (IOP) [IOP]</th>\n",
              "      <td>1</td>\n",
              "      <td>0</td>\n",
              "      <td>1</td>\n",
              "      <td>2</td>\n",
              "      <td>3</td>\n",
              "    </tr>\n",
              "    <tr>\n",
              "      <th>러시아 출신 올림픽 선수 (OAR)</th>\n",
              "      <td>0</td>\n",
              "      <td>0</td>\n",
              "      <td>0</td>\n",
              "      <td>0</td>\n",
              "      <td>0</td>\n",
              "    </tr>\n",
              "    <tr>\n",
              "      <th>혼성 (ZZX) [ZZX]</th>\n",
              "      <td>3</td>\n",
              "      <td>8</td>\n",
              "      <td>5</td>\n",
              "      <td>4</td>\n",
              "      <td>17</td>\n",
              "    </tr>\n",
              "    <tr>\n",
              "      <th>총합</th>\n",
              "      <td>28</td>\n",
              "      <td>5116</td>\n",
              "      <td>5082</td>\n",
              "      <td>5490</td>\n",
              "      <td>15688</td>\n",
              "    </tr>\n",
              "  </tbody>\n",
              "</table>\n",
              "<p>153 rows × 5 columns</p>\n",
              "</div>\n",
              "      <button class=\"colab-df-convert\" onclick=\"convertToInteractive('df-3f5d40d5-cf7f-4645-8329-39dd6bf29492')\"\n",
              "              title=\"Convert this dataframe to an interactive table.\"\n",
              "              style=\"display:none;\">\n",
              "        \n",
              "  <svg xmlns=\"http://www.w3.org/2000/svg\" height=\"24px\"viewBox=\"0 0 24 24\"\n",
              "       width=\"24px\">\n",
              "    <path d=\"M0 0h24v24H0V0z\" fill=\"none\"/>\n",
              "    <path d=\"M18.56 5.44l.94 2.06.94-2.06 2.06-.94-2.06-.94-.94-2.06-.94 2.06-2.06.94zm-11 1L8.5 8.5l.94-2.06 2.06-.94-2.06-.94L8.5 2.5l-.94 2.06-2.06.94zm10 10l.94 2.06.94-2.06 2.06-.94-2.06-.94-.94-2.06-.94 2.06-2.06.94z\"/><path d=\"M17.41 7.96l-1.37-1.37c-.4-.4-.92-.59-1.43-.59-.52 0-1.04.2-1.43.59L10.3 9.45l-7.72 7.72c-.78.78-.78 2.05 0 2.83L4 21.41c.39.39.9.59 1.41.59.51 0 1.02-.2 1.41-.59l7.78-7.78 2.81-2.81c.8-.78.8-2.07 0-2.86zM5.41 20L4 18.59l7.72-7.72 1.47 1.35L5.41 20z\"/>\n",
              "  </svg>\n",
              "      </button>\n",
              "      \n",
              "  <style>\n",
              "    .colab-df-container {\n",
              "      display:flex;\n",
              "      flex-wrap:wrap;\n",
              "      gap: 12px;\n",
              "    }\n",
              "\n",
              "    .colab-df-convert {\n",
              "      background-color: #E8F0FE;\n",
              "      border: none;\n",
              "      border-radius: 50%;\n",
              "      cursor: pointer;\n",
              "      display: none;\n",
              "      fill: #1967D2;\n",
              "      height: 32px;\n",
              "      padding: 0 0 0 0;\n",
              "      width: 32px;\n",
              "    }\n",
              "\n",
              "    .colab-df-convert:hover {\n",
              "      background-color: #E2EBFA;\n",
              "      box-shadow: 0px 1px 2px rgba(60, 64, 67, 0.3), 0px 1px 3px 1px rgba(60, 64, 67, 0.15);\n",
              "      fill: #174EA6;\n",
              "    }\n",
              "\n",
              "    [theme=dark] .colab-df-convert {\n",
              "      background-color: #3B4455;\n",
              "      fill: #D2E3FC;\n",
              "    }\n",
              "\n",
              "    [theme=dark] .colab-df-convert:hover {\n",
              "      background-color: #434B5C;\n",
              "      box-shadow: 0px 1px 3px 1px rgba(0, 0, 0, 0.15);\n",
              "      filter: drop-shadow(0px 1px 2px rgba(0, 0, 0, 0.3));\n",
              "      fill: #FFFFFF;\n",
              "    }\n",
              "  </style>\n",
              "\n",
              "      <script>\n",
              "        const buttonEl =\n",
              "          document.querySelector('#df-3f5d40d5-cf7f-4645-8329-39dd6bf29492 button.colab-df-convert');\n",
              "        buttonEl.style.display =\n",
              "          google.colab.kernel.accessAllowed ? 'block' : 'none';\n",
              "\n",
              "        async function convertToInteractive(key) {\n",
              "          const element = document.querySelector('#df-3f5d40d5-cf7f-4645-8329-39dd6bf29492');\n",
              "          const dataTable =\n",
              "            await google.colab.kernel.invokeFunction('convertToInteractive',\n",
              "                                                     [key], {});\n",
              "          if (!dataTable) return;\n",
              "\n",
              "          const docLinkHtml = 'Like what you see? Visit the ' +\n",
              "            '<a target=\"_blank\" href=https://colab.research.google.com/notebooks/data_table.ipynb>data table notebook</a>'\n",
              "            + ' to learn more about interactive tables.';\n",
              "          element.innerHTML = '';\n",
              "          dataTable['output_type'] = 'display_data';\n",
              "          await google.colab.output.renderOutput(dataTable, element);\n",
              "          const docLink = document.createElement('div');\n",
              "          docLink.innerHTML = docLinkHtml;\n",
              "          element.appendChild(docLink);\n",
              "        }\n",
              "      </script>\n",
              "    </div>\n",
              "  </div>\n",
              "  "
            ]
          },
          "metadata": {},
          "execution_count": 16
        }
      ]
    },
    {
      "cell_type": "code",
      "source": [
        "import pandas as pd\n",
        "df = pd.read_html('https://ko.wikipedia.org/wiki/%EC%98%AC%EB%A6%BC%ED%94%BD_%EB%A9%94%EB%8B%AC_%EC%A7%91%EA%B3%84', header=0, index_col=0)\n",
        "summer = df[0].iloc[0:,:5]\n",
        "summer.columns = ['경기수', '금','은','동','계']\n",
        "summer.sort_values('금', ascending=False)\n",
        "\n"
      ],
      "metadata": {
        "id": "9UWKCh82qu74",
        "outputId": "99b194b8-e575-4f3e-b33d-3809cf1a0fe5",
        "colab": {
          "base_uri": "https://localhost:8080/",
          "height": 455
        }
      },
      "execution_count": null,
      "outputs": [
        {
          "output_type": "execute_result",
          "data": {
            "text/plain": [
              "                              경기수     금     은     동      계\n",
              "국가 (IOC 코드)                                               \n",
              "총합                             28  5116  5082  5490  15688\n",
              "미국 (USA) [P] [Q] [R] [Z] [F]   27  1022   795   706   2523\n",
              "소련 (URS) [URS]                  9   395   319   296   1010\n",
              "영국 (GBR) [GBR] [Z]             28   263   295   293    851\n",
              "중화인민공화국 (CHN) [CHN]            10   224   167   155    546\n",
              "...                           ...   ...   ...   ...    ...\n",
              "레바논 (LIB)                      17     0     2     2      4\n",
              "세르비아 몬테네그로 (SCG) [SCG]          1     0     2     0      2\n",
              "지부티 (DJI) [B]                   8     0     0     1      1\n",
              "키프로스 (CYP)                     10     0     1     0      1\n",
              "아프가니스탄 (AFG)                   14     0     0     2      2\n",
              "\n",
              "[153 rows x 5 columns]"
            ],
            "text/html": [
              "\n",
              "  <div id=\"df-1a148dbc-606e-4877-a740-8db4c62c9004\">\n",
              "    <div class=\"colab-df-container\">\n",
              "      <div>\n",
              "<style scoped>\n",
              "    .dataframe tbody tr th:only-of-type {\n",
              "        vertical-align: middle;\n",
              "    }\n",
              "\n",
              "    .dataframe tbody tr th {\n",
              "        vertical-align: top;\n",
              "    }\n",
              "\n",
              "    .dataframe thead th {\n",
              "        text-align: right;\n",
              "    }\n",
              "</style>\n",
              "<table border=\"1\" class=\"dataframe\">\n",
              "  <thead>\n",
              "    <tr style=\"text-align: right;\">\n",
              "      <th></th>\n",
              "      <th>경기수</th>\n",
              "      <th>금</th>\n",
              "      <th>은</th>\n",
              "      <th>동</th>\n",
              "      <th>계</th>\n",
              "    </tr>\n",
              "    <tr>\n",
              "      <th>국가 (IOC 코드)</th>\n",
              "      <th></th>\n",
              "      <th></th>\n",
              "      <th></th>\n",
              "      <th></th>\n",
              "      <th></th>\n",
              "    </tr>\n",
              "  </thead>\n",
              "  <tbody>\n",
              "    <tr>\n",
              "      <th>총합</th>\n",
              "      <td>28</td>\n",
              "      <td>5116</td>\n",
              "      <td>5082</td>\n",
              "      <td>5490</td>\n",
              "      <td>15688</td>\n",
              "    </tr>\n",
              "    <tr>\n",
              "      <th>미국 (USA) [P] [Q] [R] [Z] [F]</th>\n",
              "      <td>27</td>\n",
              "      <td>1022</td>\n",
              "      <td>795</td>\n",
              "      <td>706</td>\n",
              "      <td>2523</td>\n",
              "    </tr>\n",
              "    <tr>\n",
              "      <th>소련 (URS) [URS]</th>\n",
              "      <td>9</td>\n",
              "      <td>395</td>\n",
              "      <td>319</td>\n",
              "      <td>296</td>\n",
              "      <td>1010</td>\n",
              "    </tr>\n",
              "    <tr>\n",
              "      <th>영국 (GBR) [GBR] [Z]</th>\n",
              "      <td>28</td>\n",
              "      <td>263</td>\n",
              "      <td>295</td>\n",
              "      <td>293</td>\n",
              "      <td>851</td>\n",
              "    </tr>\n",
              "    <tr>\n",
              "      <th>중화인민공화국 (CHN) [CHN]</th>\n",
              "      <td>10</td>\n",
              "      <td>224</td>\n",
              "      <td>167</td>\n",
              "      <td>155</td>\n",
              "      <td>546</td>\n",
              "    </tr>\n",
              "    <tr>\n",
              "      <th>...</th>\n",
              "      <td>...</td>\n",
              "      <td>...</td>\n",
              "      <td>...</td>\n",
              "      <td>...</td>\n",
              "      <td>...</td>\n",
              "    </tr>\n",
              "    <tr>\n",
              "      <th>레바논 (LIB)</th>\n",
              "      <td>17</td>\n",
              "      <td>0</td>\n",
              "      <td>2</td>\n",
              "      <td>2</td>\n",
              "      <td>4</td>\n",
              "    </tr>\n",
              "    <tr>\n",
              "      <th>세르비아 몬테네그로 (SCG) [SCG]</th>\n",
              "      <td>1</td>\n",
              "      <td>0</td>\n",
              "      <td>2</td>\n",
              "      <td>0</td>\n",
              "      <td>2</td>\n",
              "    </tr>\n",
              "    <tr>\n",
              "      <th>지부티 (DJI) [B]</th>\n",
              "      <td>8</td>\n",
              "      <td>0</td>\n",
              "      <td>0</td>\n",
              "      <td>1</td>\n",
              "      <td>1</td>\n",
              "    </tr>\n",
              "    <tr>\n",
              "      <th>키프로스 (CYP)</th>\n",
              "      <td>10</td>\n",
              "      <td>0</td>\n",
              "      <td>1</td>\n",
              "      <td>0</td>\n",
              "      <td>1</td>\n",
              "    </tr>\n",
              "    <tr>\n",
              "      <th>아프가니스탄 (AFG)</th>\n",
              "      <td>14</td>\n",
              "      <td>0</td>\n",
              "      <td>0</td>\n",
              "      <td>2</td>\n",
              "      <td>2</td>\n",
              "    </tr>\n",
              "  </tbody>\n",
              "</table>\n",
              "<p>153 rows × 5 columns</p>\n",
              "</div>\n",
              "      <button class=\"colab-df-convert\" onclick=\"convertToInteractive('df-1a148dbc-606e-4877-a740-8db4c62c9004')\"\n",
              "              title=\"Convert this dataframe to an interactive table.\"\n",
              "              style=\"display:none;\">\n",
              "        \n",
              "  <svg xmlns=\"http://www.w3.org/2000/svg\" height=\"24px\"viewBox=\"0 0 24 24\"\n",
              "       width=\"24px\">\n",
              "    <path d=\"M0 0h24v24H0V0z\" fill=\"none\"/>\n",
              "    <path d=\"M18.56 5.44l.94 2.06.94-2.06 2.06-.94-2.06-.94-.94-2.06-.94 2.06-2.06.94zm-11 1L8.5 8.5l.94-2.06 2.06-.94-2.06-.94L8.5 2.5l-.94 2.06-2.06.94zm10 10l.94 2.06.94-2.06 2.06-.94-2.06-.94-.94-2.06-.94 2.06-2.06.94z\"/><path d=\"M17.41 7.96l-1.37-1.37c-.4-.4-.92-.59-1.43-.59-.52 0-1.04.2-1.43.59L10.3 9.45l-7.72 7.72c-.78.78-.78 2.05 0 2.83L4 21.41c.39.39.9.59 1.41.59.51 0 1.02-.2 1.41-.59l7.78-7.78 2.81-2.81c.8-.78.8-2.07 0-2.86zM5.41 20L4 18.59l7.72-7.72 1.47 1.35L5.41 20z\"/>\n",
              "  </svg>\n",
              "      </button>\n",
              "      \n",
              "  <style>\n",
              "    .colab-df-container {\n",
              "      display:flex;\n",
              "      flex-wrap:wrap;\n",
              "      gap: 12px;\n",
              "    }\n",
              "\n",
              "    .colab-df-convert {\n",
              "      background-color: #E8F0FE;\n",
              "      border: none;\n",
              "      border-radius: 50%;\n",
              "      cursor: pointer;\n",
              "      display: none;\n",
              "      fill: #1967D2;\n",
              "      height: 32px;\n",
              "      padding: 0 0 0 0;\n",
              "      width: 32px;\n",
              "    }\n",
              "\n",
              "    .colab-df-convert:hover {\n",
              "      background-color: #E2EBFA;\n",
              "      box-shadow: 0px 1px 2px rgba(60, 64, 67, 0.3), 0px 1px 3px 1px rgba(60, 64, 67, 0.15);\n",
              "      fill: #174EA6;\n",
              "    }\n",
              "\n",
              "    [theme=dark] .colab-df-convert {\n",
              "      background-color: #3B4455;\n",
              "      fill: #D2E3FC;\n",
              "    }\n",
              "\n",
              "    [theme=dark] .colab-df-convert:hover {\n",
              "      background-color: #434B5C;\n",
              "      box-shadow: 0px 1px 3px 1px rgba(0, 0, 0, 0.15);\n",
              "      filter: drop-shadow(0px 1px 2px rgba(0, 0, 0, 0.3));\n",
              "      fill: #FFFFFF;\n",
              "    }\n",
              "  </style>\n",
              "\n",
              "      <script>\n",
              "        const buttonEl =\n",
              "          document.querySelector('#df-1a148dbc-606e-4877-a740-8db4c62c9004 button.colab-df-convert');\n",
              "        buttonEl.style.display =\n",
              "          google.colab.kernel.accessAllowed ? 'block' : 'none';\n",
              "\n",
              "        async function convertToInteractive(key) {\n",
              "          const element = document.querySelector('#df-1a148dbc-606e-4877-a740-8db4c62c9004');\n",
              "          const dataTable =\n",
              "            await google.colab.kernel.invokeFunction('convertToInteractive',\n",
              "                                                     [key], {});\n",
              "          if (!dataTable) return;\n",
              "\n",
              "          const docLinkHtml = 'Like what you see? Visit the ' +\n",
              "            '<a target=\"_blank\" href=https://colab.research.google.com/notebooks/data_table.ipynb>data table notebook</a>'\n",
              "            + ' to learn more about interactive tables.';\n",
              "          element.innerHTML = '';\n",
              "          dataTable['output_type'] = 'display_data';\n",
              "          await google.colab.output.renderOutput(dataTable, element);\n",
              "          const docLink = document.createElement('div');\n",
              "          docLink.innerHTML = docLinkHtml;\n",
              "          element.appendChild(docLink);\n",
              "        }\n",
              "      </script>\n",
              "    </div>\n",
              "  </div>\n",
              "  "
            ]
          },
          "metadata": {},
          "execution_count": 20
        }
      ]
    },
    {
      "cell_type": "code",
      "source": [
        "summer.to_excel('하계올림픽메달.xlsx')"
      ],
      "metadata": {
        "id": "V74tD-zxrnlZ"
      },
      "execution_count": null,
      "outputs": []
    },
    {
      "cell_type": "markdown",
      "source": [
        "## 데이터 프레임\n",
        "+ 2차원 배열 형태의 데이터 프레임은 행과 열이 있음\n",
        "+ 행을 구분해주는 인덱스(index)와 열을 구분해주는 컬럼(column)"
      ],
      "metadata": {
        "id": "Ofxdrwtbw0Zw"
      }
    },
    {
      "cell_type": "code",
      "source": [
        "import pandas as pd\n",
        "\n",
        "index = pd.date_range('2020/1/1', periods=8)\n",
        "print(index)"
      ],
      "metadata": {
        "id": "vCVHQ8OZxE0P",
        "outputId": "832ac1c3-20b6-4742-d1cb-3d18b981ed76",
        "colab": {
          "base_uri": "https://localhost:8080/"
        }
      },
      "execution_count": null,
      "outputs": [
        {
          "output_type": "stream",
          "name": "stdout",
          "text": [
            "DatetimeIndex(['2020-01-01', '2020-01-02', '2020-01-03', '2020-01-04',\n",
            "               '2020-01-05', '2020-01-06', '2020-01-07', '2020-01-08'],\n",
            "              dtype='datetime64[ns]', freq='D')\n"
          ]
        }
      ]
    },
    {
      "cell_type": "code",
      "source": [
        "import pandas as pd\n",
        "import numpy as np\n",
        "\n",
        "df = pd.DataFrame(np.random.rand(8,3), index = index, columns = list('ABC'))\n",
        "df"
      ],
      "metadata": {
        "colab": {
          "base_uri": "https://localhost:8080/",
          "height": 300
        },
        "id": "Fq8pBMJrxisG",
        "outputId": "c19f4bc5-af67-4d1c-d302-79a0b9a4f226"
      },
      "execution_count": null,
      "outputs": [
        {
          "output_type": "execute_result",
          "data": {
            "text/plain": [
              "                   A         B         C\n",
              "2020-01-01  0.340831  0.940627  0.119910\n",
              "2020-01-02  0.837566  0.568838  0.028244\n",
              "2020-01-03  0.508295  0.708200  0.383425\n",
              "2020-01-04  0.006036  0.257129  0.896290\n",
              "2020-01-05  0.394785  0.925618  0.796222\n",
              "2020-01-06  0.801558  0.865386  0.165872\n",
              "2020-01-07  0.723549  0.674883  0.153461\n",
              "2020-01-08  0.358182  0.808181  0.966378"
            ],
            "text/html": [
              "\n",
              "  <div id=\"df-8b553954-dead-4b39-984d-59e219dcc8b0\">\n",
              "    <div class=\"colab-df-container\">\n",
              "      <div>\n",
              "<style scoped>\n",
              "    .dataframe tbody tr th:only-of-type {\n",
              "        vertical-align: middle;\n",
              "    }\n",
              "\n",
              "    .dataframe tbody tr th {\n",
              "        vertical-align: top;\n",
              "    }\n",
              "\n",
              "    .dataframe thead th {\n",
              "        text-align: right;\n",
              "    }\n",
              "</style>\n",
              "<table border=\"1\" class=\"dataframe\">\n",
              "  <thead>\n",
              "    <tr style=\"text-align: right;\">\n",
              "      <th></th>\n",
              "      <th>A</th>\n",
              "      <th>B</th>\n",
              "      <th>C</th>\n",
              "    </tr>\n",
              "  </thead>\n",
              "  <tbody>\n",
              "    <tr>\n",
              "      <th>2020-01-01</th>\n",
              "      <td>0.340831</td>\n",
              "      <td>0.940627</td>\n",
              "      <td>0.119910</td>\n",
              "    </tr>\n",
              "    <tr>\n",
              "      <th>2020-01-02</th>\n",
              "      <td>0.837566</td>\n",
              "      <td>0.568838</td>\n",
              "      <td>0.028244</td>\n",
              "    </tr>\n",
              "    <tr>\n",
              "      <th>2020-01-03</th>\n",
              "      <td>0.508295</td>\n",
              "      <td>0.708200</td>\n",
              "      <td>0.383425</td>\n",
              "    </tr>\n",
              "    <tr>\n",
              "      <th>2020-01-04</th>\n",
              "      <td>0.006036</td>\n",
              "      <td>0.257129</td>\n",
              "      <td>0.896290</td>\n",
              "    </tr>\n",
              "    <tr>\n",
              "      <th>2020-01-05</th>\n",
              "      <td>0.394785</td>\n",
              "      <td>0.925618</td>\n",
              "      <td>0.796222</td>\n",
              "    </tr>\n",
              "    <tr>\n",
              "      <th>2020-01-06</th>\n",
              "      <td>0.801558</td>\n",
              "      <td>0.865386</td>\n",
              "      <td>0.165872</td>\n",
              "    </tr>\n",
              "    <tr>\n",
              "      <th>2020-01-07</th>\n",
              "      <td>0.723549</td>\n",
              "      <td>0.674883</td>\n",
              "      <td>0.153461</td>\n",
              "    </tr>\n",
              "    <tr>\n",
              "      <th>2020-01-08</th>\n",
              "      <td>0.358182</td>\n",
              "      <td>0.808181</td>\n",
              "      <td>0.966378</td>\n",
              "    </tr>\n",
              "  </tbody>\n",
              "</table>\n",
              "</div>\n",
              "      <button class=\"colab-df-convert\" onclick=\"convertToInteractive('df-8b553954-dead-4b39-984d-59e219dcc8b0')\"\n",
              "              title=\"Convert this dataframe to an interactive table.\"\n",
              "              style=\"display:none;\">\n",
              "        \n",
              "  <svg xmlns=\"http://www.w3.org/2000/svg\" height=\"24px\"viewBox=\"0 0 24 24\"\n",
              "       width=\"24px\">\n",
              "    <path d=\"M0 0h24v24H0V0z\" fill=\"none\"/>\n",
              "    <path d=\"M18.56 5.44l.94 2.06.94-2.06 2.06-.94-2.06-.94-.94-2.06-.94 2.06-2.06.94zm-11 1L8.5 8.5l.94-2.06 2.06-.94-2.06-.94L8.5 2.5l-.94 2.06-2.06.94zm10 10l.94 2.06.94-2.06 2.06-.94-2.06-.94-.94-2.06-.94 2.06-2.06.94z\"/><path d=\"M17.41 7.96l-1.37-1.37c-.4-.4-.92-.59-1.43-.59-.52 0-1.04.2-1.43.59L10.3 9.45l-7.72 7.72c-.78.78-.78 2.05 0 2.83L4 21.41c.39.39.9.59 1.41.59.51 0 1.02-.2 1.41-.59l7.78-7.78 2.81-2.81c.8-.78.8-2.07 0-2.86zM5.41 20L4 18.59l7.72-7.72 1.47 1.35L5.41 20z\"/>\n",
              "  </svg>\n",
              "      </button>\n",
              "      \n",
              "  <style>\n",
              "    .colab-df-container {\n",
              "      display:flex;\n",
              "      flex-wrap:wrap;\n",
              "      gap: 12px;\n",
              "    }\n",
              "\n",
              "    .colab-df-convert {\n",
              "      background-color: #E8F0FE;\n",
              "      border: none;\n",
              "      border-radius: 50%;\n",
              "      cursor: pointer;\n",
              "      display: none;\n",
              "      fill: #1967D2;\n",
              "      height: 32px;\n",
              "      padding: 0 0 0 0;\n",
              "      width: 32px;\n",
              "    }\n",
              "\n",
              "    .colab-df-convert:hover {\n",
              "      background-color: #E2EBFA;\n",
              "      box-shadow: 0px 1px 2px rgba(60, 64, 67, 0.3), 0px 1px 3px 1px rgba(60, 64, 67, 0.15);\n",
              "      fill: #174EA6;\n",
              "    }\n",
              "\n",
              "    [theme=dark] .colab-df-convert {\n",
              "      background-color: #3B4455;\n",
              "      fill: #D2E3FC;\n",
              "    }\n",
              "\n",
              "    [theme=dark] .colab-df-convert:hover {\n",
              "      background-color: #434B5C;\n",
              "      box-shadow: 0px 1px 3px 1px rgba(0, 0, 0, 0.15);\n",
              "      filter: drop-shadow(0px 1px 2px rgba(0, 0, 0, 0.3));\n",
              "      fill: #FFFFFF;\n",
              "    }\n",
              "  </style>\n",
              "\n",
              "      <script>\n",
              "        const buttonEl =\n",
              "          document.querySelector('#df-8b553954-dead-4b39-984d-59e219dcc8b0 button.colab-df-convert');\n",
              "        buttonEl.style.display =\n",
              "          google.colab.kernel.accessAllowed ? 'block' : 'none';\n",
              "\n",
              "        async function convertToInteractive(key) {\n",
              "          const element = document.querySelector('#df-8b553954-dead-4b39-984d-59e219dcc8b0');\n",
              "          const dataTable =\n",
              "            await google.colab.kernel.invokeFunction('convertToInteractive',\n",
              "                                                     [key], {});\n",
              "          if (!dataTable) return;\n",
              "\n",
              "          const docLinkHtml = 'Like what you see? Visit the ' +\n",
              "            '<a target=\"_blank\" href=https://colab.research.google.com/notebooks/data_table.ipynb>data table notebook</a>'\n",
              "            + ' to learn more about interactive tables.';\n",
              "          element.innerHTML = '';\n",
              "          dataTable['output_type'] = 'display_data';\n",
              "          await google.colab.output.renderOutput(dataTable, element);\n",
              "          const docLink = document.createElement('div');\n",
              "          docLink.innerHTML = docLinkHtml;\n",
              "          element.appendChild(docLink);\n",
              "        }\n",
              "      </script>\n",
              "    </div>\n",
              "  </div>\n",
              "  "
            ]
          },
          "metadata": {},
          "execution_count": 32
        }
      ]
    },
    {
      "cell_type": "code",
      "source": [
        "import pandas as pd\n",
        "import numpy as np\n",
        "index = pd.date_range('2020/1/1', periods=8)\n",
        "df = pd.DataFrame(np.random.rand(8,3), index = index, columns = list('ABC'))\n",
        "print(df['B'])"
      ],
      "metadata": {
        "id": "ZWpJ6cuB0KVn",
        "outputId": "0183bf9f-05f6-40ca-89ea-13250ced945a",
        "colab": {
          "base_uri": "https://localhost:8080/"
        }
      },
      "execution_count": null,
      "outputs": [
        {
          "output_type": "stream",
          "name": "stdout",
          "text": [
            "2020-01-01    0.522181\n",
            "2020-01-02    0.486073\n",
            "2020-01-03    0.202999\n",
            "2020-01-04    0.480139\n",
            "2020-01-05    0.580710\n",
            "2020-01-06    0.526108\n",
            "2020-01-07    0.661563\n",
            "2020-01-08    0.966297\n",
            "Freq: D, Name: B, dtype: float64\n"
          ]
        }
      ]
    },
    {
      "cell_type": "code",
      "source": [
        "import pandas as pd\n",
        "import numpy as np\n",
        "index = pd.date_range('2020/1/1', periods=8)\n",
        "df = pd.DataFrame(np.random.rand(8,3), index = index, columns = list('ABC'))\n",
        "print(df['B'] > 0.4)"
      ],
      "metadata": {
        "id": "0tPt15u_0c9i",
        "outputId": "080c7812-6964-4191-940e-c7783ea70519",
        "colab": {
          "base_uri": "https://localhost:8080/"
        }
      },
      "execution_count": null,
      "outputs": [
        {
          "output_type": "stream",
          "name": "stdout",
          "text": [
            "2020-01-01    False\n",
            "2020-01-02     True\n",
            "2020-01-03     True\n",
            "2020-01-04    False\n",
            "2020-01-05     True\n",
            "2020-01-06     True\n",
            "2020-01-07     True\n",
            "2020-01-08    False\n",
            "Freq: D, Name: B, dtype: bool\n"
          ]
        }
      ]
    },
    {
      "cell_type": "code",
      "source": [
        "df2 = df[df['B'] > 0.4]\n",
        "df2"
      ],
      "metadata": {
        "id": "OMWx6-360_7Q",
        "outputId": "fdb6a0cf-c98e-4d58-96a1-b5454f54d6b4",
        "colab": {
          "base_uri": "https://localhost:8080/",
          "height": 206
        }
      },
      "execution_count": null,
      "outputs": [
        {
          "output_type": "execute_result",
          "data": {
            "text/plain": [
              "                   A         B         C\n",
              "2020-01-02  0.086257  0.978445  0.010950\n",
              "2020-01-03  0.976806  0.548008  0.942794\n",
              "2020-01-05  0.589193  0.969163  0.121691\n",
              "2020-01-06  0.980999  0.629329  0.781517\n",
              "2020-01-07  0.614831  0.682556  0.278018"
            ],
            "text/html": [
              "\n",
              "  <div id=\"df-1eefdcd6-42fb-464e-b56d-341ed7ddb1e5\">\n",
              "    <div class=\"colab-df-container\">\n",
              "      <div>\n",
              "<style scoped>\n",
              "    .dataframe tbody tr th:only-of-type {\n",
              "        vertical-align: middle;\n",
              "    }\n",
              "\n",
              "    .dataframe tbody tr th {\n",
              "        vertical-align: top;\n",
              "    }\n",
              "\n",
              "    .dataframe thead th {\n",
              "        text-align: right;\n",
              "    }\n",
              "</style>\n",
              "<table border=\"1\" class=\"dataframe\">\n",
              "  <thead>\n",
              "    <tr style=\"text-align: right;\">\n",
              "      <th></th>\n",
              "      <th>A</th>\n",
              "      <th>B</th>\n",
              "      <th>C</th>\n",
              "    </tr>\n",
              "  </thead>\n",
              "  <tbody>\n",
              "    <tr>\n",
              "      <th>2020-01-02</th>\n",
              "      <td>0.086257</td>\n",
              "      <td>0.978445</td>\n",
              "      <td>0.010950</td>\n",
              "    </tr>\n",
              "    <tr>\n",
              "      <th>2020-01-03</th>\n",
              "      <td>0.976806</td>\n",
              "      <td>0.548008</td>\n",
              "      <td>0.942794</td>\n",
              "    </tr>\n",
              "    <tr>\n",
              "      <th>2020-01-05</th>\n",
              "      <td>0.589193</td>\n",
              "      <td>0.969163</td>\n",
              "      <td>0.121691</td>\n",
              "    </tr>\n",
              "    <tr>\n",
              "      <th>2020-01-06</th>\n",
              "      <td>0.980999</td>\n",
              "      <td>0.629329</td>\n",
              "      <td>0.781517</td>\n",
              "    </tr>\n",
              "    <tr>\n",
              "      <th>2020-01-07</th>\n",
              "      <td>0.614831</td>\n",
              "      <td>0.682556</td>\n",
              "      <td>0.278018</td>\n",
              "    </tr>\n",
              "  </tbody>\n",
              "</table>\n",
              "</div>\n",
              "      <button class=\"colab-df-convert\" onclick=\"convertToInteractive('df-1eefdcd6-42fb-464e-b56d-341ed7ddb1e5')\"\n",
              "              title=\"Convert this dataframe to an interactive table.\"\n",
              "              style=\"display:none;\">\n",
              "        \n",
              "  <svg xmlns=\"http://www.w3.org/2000/svg\" height=\"24px\"viewBox=\"0 0 24 24\"\n",
              "       width=\"24px\">\n",
              "    <path d=\"M0 0h24v24H0V0z\" fill=\"none\"/>\n",
              "    <path d=\"M18.56 5.44l.94 2.06.94-2.06 2.06-.94-2.06-.94-.94-2.06-.94 2.06-2.06.94zm-11 1L8.5 8.5l.94-2.06 2.06-.94-2.06-.94L8.5 2.5l-.94 2.06-2.06.94zm10 10l.94 2.06.94-2.06 2.06-.94-2.06-.94-.94-2.06-.94 2.06-2.06.94z\"/><path d=\"M17.41 7.96l-1.37-1.37c-.4-.4-.92-.59-1.43-.59-.52 0-1.04.2-1.43.59L10.3 9.45l-7.72 7.72c-.78.78-.78 2.05 0 2.83L4 21.41c.39.39.9.59 1.41.59.51 0 1.02-.2 1.41-.59l7.78-7.78 2.81-2.81c.8-.78.8-2.07 0-2.86zM5.41 20L4 18.59l7.72-7.72 1.47 1.35L5.41 20z\"/>\n",
              "  </svg>\n",
              "      </button>\n",
              "      \n",
              "  <style>\n",
              "    .colab-df-container {\n",
              "      display:flex;\n",
              "      flex-wrap:wrap;\n",
              "      gap: 12px;\n",
              "    }\n",
              "\n",
              "    .colab-df-convert {\n",
              "      background-color: #E8F0FE;\n",
              "      border: none;\n",
              "      border-radius: 50%;\n",
              "      cursor: pointer;\n",
              "      display: none;\n",
              "      fill: #1967D2;\n",
              "      height: 32px;\n",
              "      padding: 0 0 0 0;\n",
              "      width: 32px;\n",
              "    }\n",
              "\n",
              "    .colab-df-convert:hover {\n",
              "      background-color: #E2EBFA;\n",
              "      box-shadow: 0px 1px 2px rgba(60, 64, 67, 0.3), 0px 1px 3px 1px rgba(60, 64, 67, 0.15);\n",
              "      fill: #174EA6;\n",
              "    }\n",
              "\n",
              "    [theme=dark] .colab-df-convert {\n",
              "      background-color: #3B4455;\n",
              "      fill: #D2E3FC;\n",
              "    }\n",
              "\n",
              "    [theme=dark] .colab-df-convert:hover {\n",
              "      background-color: #434B5C;\n",
              "      box-shadow: 0px 1px 3px 1px rgba(0, 0, 0, 0.15);\n",
              "      filter: drop-shadow(0px 1px 2px rgba(0, 0, 0, 0.3));\n",
              "      fill: #FFFFFF;\n",
              "    }\n",
              "  </style>\n",
              "\n",
              "      <script>\n",
              "        const buttonEl =\n",
              "          document.querySelector('#df-1eefdcd6-42fb-464e-b56d-341ed7ddb1e5 button.colab-df-convert');\n",
              "        buttonEl.style.display =\n",
              "          google.colab.kernel.accessAllowed ? 'block' : 'none';\n",
              "\n",
              "        async function convertToInteractive(key) {\n",
              "          const element = document.querySelector('#df-1eefdcd6-42fb-464e-b56d-341ed7ddb1e5');\n",
              "          const dataTable =\n",
              "            await google.colab.kernel.invokeFunction('convertToInteractive',\n",
              "                                                     [key], {});\n",
              "          if (!dataTable) return;\n",
              "\n",
              "          const docLinkHtml = 'Like what you see? Visit the ' +\n",
              "            '<a target=\"_blank\" href=https://colab.research.google.com/notebooks/data_table.ipynb>data table notebook</a>'\n",
              "            + ' to learn more about interactive tables.';\n",
              "          element.innerHTML = '';\n",
              "          dataTable['output_type'] = 'display_data';\n",
              "          await google.colab.output.renderOutput(dataTable, element);\n",
              "          const docLink = document.createElement('div');\n",
              "          docLink.innerHTML = docLinkHtml;\n",
              "          element.appendChild(docLink);\n",
              "        }\n",
              "      </script>\n",
              "    </div>\n",
              "  </div>\n",
              "  "
            ]
          },
          "metadata": {},
          "execution_count": 41
        }
      ]
    },
    {
      "cell_type": "markdown",
      "source": [
        "+행과 열을 바꾸기"
      ],
      "metadata": {
        "id": "KdYwU60N1eM-"
      }
    },
    {
      "cell_type": "code",
      "source": [
        "import pandas as pd\n",
        "import numpy as np\n",
        "index = pd.date_range('2020/1/1', periods=8)\n",
        "df = pd.DataFrame(np.random.rand(8,3), index = index, columns = list('ABC'))\n",
        "df.T"
      ],
      "metadata": {
        "id": "H88JBrNi1dnq",
        "outputId": "ddb58945-bab4-417b-8da6-e2c06d77aa9c",
        "colab": {
          "base_uri": "https://localhost:8080/",
          "height": 143
        }
      },
      "execution_count": null,
      "outputs": [
        {
          "output_type": "execute_result",
          "data": {
            "text/plain": [
              "   2020-01-01  2020-01-02  2020-01-03  2020-01-04  2020-01-05  2020-01-06  \\\n",
              "A    0.070962    0.637429    0.841506    0.546364    0.826348    0.128263   \n",
              "B    0.984445    0.981040    0.187451    0.482856    0.053756    0.453740   \n",
              "C    0.759058    0.715848    0.732004    0.975670    0.054204    0.584210   \n",
              "\n",
              "   2020-01-07  2020-01-08  \n",
              "A    0.386152    0.854279  \n",
              "B    0.592954    0.914104  \n",
              "C    0.557586    0.179075  "
            ],
            "text/html": [
              "\n",
              "  <div id=\"df-e6efe796-4f57-491e-9c56-b86fd01c9570\">\n",
              "    <div class=\"colab-df-container\">\n",
              "      <div>\n",
              "<style scoped>\n",
              "    .dataframe tbody tr th:only-of-type {\n",
              "        vertical-align: middle;\n",
              "    }\n",
              "\n",
              "    .dataframe tbody tr th {\n",
              "        vertical-align: top;\n",
              "    }\n",
              "\n",
              "    .dataframe thead th {\n",
              "        text-align: right;\n",
              "    }\n",
              "</style>\n",
              "<table border=\"1\" class=\"dataframe\">\n",
              "  <thead>\n",
              "    <tr style=\"text-align: right;\">\n",
              "      <th></th>\n",
              "      <th>2020-01-01</th>\n",
              "      <th>2020-01-02</th>\n",
              "      <th>2020-01-03</th>\n",
              "      <th>2020-01-04</th>\n",
              "      <th>2020-01-05</th>\n",
              "      <th>2020-01-06</th>\n",
              "      <th>2020-01-07</th>\n",
              "      <th>2020-01-08</th>\n",
              "    </tr>\n",
              "  </thead>\n",
              "  <tbody>\n",
              "    <tr>\n",
              "      <th>A</th>\n",
              "      <td>0.070962</td>\n",
              "      <td>0.637429</td>\n",
              "      <td>0.841506</td>\n",
              "      <td>0.546364</td>\n",
              "      <td>0.826348</td>\n",
              "      <td>0.128263</td>\n",
              "      <td>0.386152</td>\n",
              "      <td>0.854279</td>\n",
              "    </tr>\n",
              "    <tr>\n",
              "      <th>B</th>\n",
              "      <td>0.984445</td>\n",
              "      <td>0.981040</td>\n",
              "      <td>0.187451</td>\n",
              "      <td>0.482856</td>\n",
              "      <td>0.053756</td>\n",
              "      <td>0.453740</td>\n",
              "      <td>0.592954</td>\n",
              "      <td>0.914104</td>\n",
              "    </tr>\n",
              "    <tr>\n",
              "      <th>C</th>\n",
              "      <td>0.759058</td>\n",
              "      <td>0.715848</td>\n",
              "      <td>0.732004</td>\n",
              "      <td>0.975670</td>\n",
              "      <td>0.054204</td>\n",
              "      <td>0.584210</td>\n",
              "      <td>0.557586</td>\n",
              "      <td>0.179075</td>\n",
              "    </tr>\n",
              "  </tbody>\n",
              "</table>\n",
              "</div>\n",
              "      <button class=\"colab-df-convert\" onclick=\"convertToInteractive('df-e6efe796-4f57-491e-9c56-b86fd01c9570')\"\n",
              "              title=\"Convert this dataframe to an interactive table.\"\n",
              "              style=\"display:none;\">\n",
              "        \n",
              "  <svg xmlns=\"http://www.w3.org/2000/svg\" height=\"24px\"viewBox=\"0 0 24 24\"\n",
              "       width=\"24px\">\n",
              "    <path d=\"M0 0h24v24H0V0z\" fill=\"none\"/>\n",
              "    <path d=\"M18.56 5.44l.94 2.06.94-2.06 2.06-.94-2.06-.94-.94-2.06-.94 2.06-2.06.94zm-11 1L8.5 8.5l.94-2.06 2.06-.94-2.06-.94L8.5 2.5l-.94 2.06-2.06.94zm10 10l.94 2.06.94-2.06 2.06-.94-2.06-.94-.94-2.06-.94 2.06-2.06.94z\"/><path d=\"M17.41 7.96l-1.37-1.37c-.4-.4-.92-.59-1.43-.59-.52 0-1.04.2-1.43.59L10.3 9.45l-7.72 7.72c-.78.78-.78 2.05 0 2.83L4 21.41c.39.39.9.59 1.41.59.51 0 1.02-.2 1.41-.59l7.78-7.78 2.81-2.81c.8-.78.8-2.07 0-2.86zM5.41 20L4 18.59l7.72-7.72 1.47 1.35L5.41 20z\"/>\n",
              "  </svg>\n",
              "      </button>\n",
              "      \n",
              "  <style>\n",
              "    .colab-df-container {\n",
              "      display:flex;\n",
              "      flex-wrap:wrap;\n",
              "      gap: 12px;\n",
              "    }\n",
              "\n",
              "    .colab-df-convert {\n",
              "      background-color: #E8F0FE;\n",
              "      border: none;\n",
              "      border-radius: 50%;\n",
              "      cursor: pointer;\n",
              "      display: none;\n",
              "      fill: #1967D2;\n",
              "      height: 32px;\n",
              "      padding: 0 0 0 0;\n",
              "      width: 32px;\n",
              "    }\n",
              "\n",
              "    .colab-df-convert:hover {\n",
              "      background-color: #E2EBFA;\n",
              "      box-shadow: 0px 1px 2px rgba(60, 64, 67, 0.3), 0px 1px 3px 1px rgba(60, 64, 67, 0.15);\n",
              "      fill: #174EA6;\n",
              "    }\n",
              "\n",
              "    [theme=dark] .colab-df-convert {\n",
              "      background-color: #3B4455;\n",
              "      fill: #D2E3FC;\n",
              "    }\n",
              "\n",
              "    [theme=dark] .colab-df-convert:hover {\n",
              "      background-color: #434B5C;\n",
              "      box-shadow: 0px 1px 3px 1px rgba(0, 0, 0, 0.15);\n",
              "      filter: drop-shadow(0px 1px 2px rgba(0, 0, 0, 0.3));\n",
              "      fill: #FFFFFF;\n",
              "    }\n",
              "  </style>\n",
              "\n",
              "      <script>\n",
              "        const buttonEl =\n",
              "          document.querySelector('#df-e6efe796-4f57-491e-9c56-b86fd01c9570 button.colab-df-convert');\n",
              "        buttonEl.style.display =\n",
              "          google.colab.kernel.accessAllowed ? 'block' : 'none';\n",
              "\n",
              "        async function convertToInteractive(key) {\n",
              "          const element = document.querySelector('#df-e6efe796-4f57-491e-9c56-b86fd01c9570');\n",
              "          const dataTable =\n",
              "            await google.colab.kernel.invokeFunction('convertToInteractive',\n",
              "                                                     [key], {});\n",
              "          if (!dataTable) return;\n",
              "\n",
              "          const docLinkHtml = 'Like what you see? Visit the ' +\n",
              "            '<a target=\"_blank\" href=https://colab.research.google.com/notebooks/data_table.ipynb>data table notebook</a>'\n",
              "            + ' to learn more about interactive tables.';\n",
              "          element.innerHTML = '';\n",
              "          dataTable['output_type'] = 'display_data';\n",
              "          await google.colab.output.renderOutput(dataTable, element);\n",
              "          const docLink = document.createElement('div');\n",
              "          docLink.innerHTML = docLinkHtml;\n",
              "          element.appendChild(docLink);\n",
              "        }\n",
              "      </script>\n",
              "    </div>\n",
              "  </div>\n",
              "  "
            ]
          },
          "metadata": {},
          "execution_count": 44
        }
      ]
    },
    {
      "cell_type": "markdown",
      "source": [
        "## pandas 데이터프레임 함수\n",
        "+ 통계함수\n",
        "+ 리스트[]를 여러 개 묶어 놓은 2차원 배열 생성 array 데이터를 DataFrame에 넣어 컬럼과 인덱스 넣어 줌\n",
        "+ 통계용 함수 사용하여 결과 분석"
      ],
      "metadata": {
        "id": "kbuxpOdR2W4y"
      }
    },
    {
      "cell_type": "code",
      "source": [
        "import pandas as pd\n",
        "\n",
        "data =[[1.4, None], \n",
        "       [7.1,-4.5], \n",
        "       [None, None], \n",
        "       [0.75, -1.3]]\n",
        "df = pd.DataFrame(data, columns=['one', 'two'], index=['a', 'b', 'c', 'd'])\n",
        "df"
      ],
      "metadata": {
        "id": "WhvtPv_E250K",
        "outputId": "7f96380f-1e60-4a95-d829-722dd93b2d8c",
        "colab": {
          "base_uri": "https://localhost:8080/",
          "height": 175
        }
      },
      "execution_count": 12,
      "outputs": [
        {
          "output_type": "execute_result",
          "data": {
            "text/plain": [
              "    one  two\n",
              "a  1.40  NaN\n",
              "b  7.10 -4.5\n",
              "c   NaN  NaN\n",
              "d  0.75 -1.3"
            ],
            "text/html": [
              "\n",
              "  <div id=\"df-686e2bde-94c5-4749-aa1c-4e8ce7fa616f\">\n",
              "    <div class=\"colab-df-container\">\n",
              "      <div>\n",
              "<style scoped>\n",
              "    .dataframe tbody tr th:only-of-type {\n",
              "        vertical-align: middle;\n",
              "    }\n",
              "\n",
              "    .dataframe tbody tr th {\n",
              "        vertical-align: top;\n",
              "    }\n",
              "\n",
              "    .dataframe thead th {\n",
              "        text-align: right;\n",
              "    }\n",
              "</style>\n",
              "<table border=\"1\" class=\"dataframe\">\n",
              "  <thead>\n",
              "    <tr style=\"text-align: right;\">\n",
              "      <th></th>\n",
              "      <th>one</th>\n",
              "      <th>two</th>\n",
              "    </tr>\n",
              "  </thead>\n",
              "  <tbody>\n",
              "    <tr>\n",
              "      <th>a</th>\n",
              "      <td>1.40</td>\n",
              "      <td>NaN</td>\n",
              "    </tr>\n",
              "    <tr>\n",
              "      <th>b</th>\n",
              "      <td>7.10</td>\n",
              "      <td>-4.5</td>\n",
              "    </tr>\n",
              "    <tr>\n",
              "      <th>c</th>\n",
              "      <td>NaN</td>\n",
              "      <td>NaN</td>\n",
              "    </tr>\n",
              "    <tr>\n",
              "      <th>d</th>\n",
              "      <td>0.75</td>\n",
              "      <td>-1.3</td>\n",
              "    </tr>\n",
              "  </tbody>\n",
              "</table>\n",
              "</div>\n",
              "      <button class=\"colab-df-convert\" onclick=\"convertToInteractive('df-686e2bde-94c5-4749-aa1c-4e8ce7fa616f')\"\n",
              "              title=\"Convert this dataframe to an interactive table.\"\n",
              "              style=\"display:none;\">\n",
              "        \n",
              "  <svg xmlns=\"http://www.w3.org/2000/svg\" height=\"24px\"viewBox=\"0 0 24 24\"\n",
              "       width=\"24px\">\n",
              "    <path d=\"M0 0h24v24H0V0z\" fill=\"none\"/>\n",
              "    <path d=\"M18.56 5.44l.94 2.06.94-2.06 2.06-.94-2.06-.94-.94-2.06-.94 2.06-2.06.94zm-11 1L8.5 8.5l.94-2.06 2.06-.94-2.06-.94L8.5 2.5l-.94 2.06-2.06.94zm10 10l.94 2.06.94-2.06 2.06-.94-2.06-.94-.94-2.06-.94 2.06-2.06.94z\"/><path d=\"M17.41 7.96l-1.37-1.37c-.4-.4-.92-.59-1.43-.59-.52 0-1.04.2-1.43.59L10.3 9.45l-7.72 7.72c-.78.78-.78 2.05 0 2.83L4 21.41c.39.39.9.59 1.41.59.51 0 1.02-.2 1.41-.59l7.78-7.78 2.81-2.81c.8-.78.8-2.07 0-2.86zM5.41 20L4 18.59l7.72-7.72 1.47 1.35L5.41 20z\"/>\n",
              "  </svg>\n",
              "      </button>\n",
              "      \n",
              "  <style>\n",
              "    .colab-df-container {\n",
              "      display:flex;\n",
              "      flex-wrap:wrap;\n",
              "      gap: 12px;\n",
              "    }\n",
              "\n",
              "    .colab-df-convert {\n",
              "      background-color: #E8F0FE;\n",
              "      border: none;\n",
              "      border-radius: 50%;\n",
              "      cursor: pointer;\n",
              "      display: none;\n",
              "      fill: #1967D2;\n",
              "      height: 32px;\n",
              "      padding: 0 0 0 0;\n",
              "      width: 32px;\n",
              "    }\n",
              "\n",
              "    .colab-df-convert:hover {\n",
              "      background-color: #E2EBFA;\n",
              "      box-shadow: 0px 1px 2px rgba(60, 64, 67, 0.3), 0px 1px 3px 1px rgba(60, 64, 67, 0.15);\n",
              "      fill: #174EA6;\n",
              "    }\n",
              "\n",
              "    [theme=dark] .colab-df-convert {\n",
              "      background-color: #3B4455;\n",
              "      fill: #D2E3FC;\n",
              "    }\n",
              "\n",
              "    [theme=dark] .colab-df-convert:hover {\n",
              "      background-color: #434B5C;\n",
              "      box-shadow: 0px 1px 3px 1px rgba(0, 0, 0, 0.15);\n",
              "      filter: drop-shadow(0px 1px 2px rgba(0, 0, 0, 0.3));\n",
              "      fill: #FFFFFF;\n",
              "    }\n",
              "  </style>\n",
              "\n",
              "      <script>\n",
              "        const buttonEl =\n",
              "          document.querySelector('#df-686e2bde-94c5-4749-aa1c-4e8ce7fa616f button.colab-df-convert');\n",
              "        buttonEl.style.display =\n",
              "          google.colab.kernel.accessAllowed ? 'block' : 'none';\n",
              "\n",
              "        async function convertToInteractive(key) {\n",
              "          const element = document.querySelector('#df-686e2bde-94c5-4749-aa1c-4e8ce7fa616f');\n",
              "          const dataTable =\n",
              "            await google.colab.kernel.invokeFunction('convertToInteractive',\n",
              "                                                     [key], {});\n",
              "          if (!dataTable) return;\n",
              "\n",
              "          const docLinkHtml = 'Like what you see? Visit the ' +\n",
              "            '<a target=\"_blank\" href=https://colab.research.google.com/notebooks/data_table.ipynb>data table notebook</a>'\n",
              "            + ' to learn more about interactive tables.';\n",
              "          element.innerHTML = '';\n",
              "          dataTable['output_type'] = 'display_data';\n",
              "          await google.colab.output.renderOutput(dataTable, element);\n",
              "          const docLink = document.createElement('div');\n",
              "          docLink.innerHTML = docLinkHtml;\n",
              "          element.appendChild(docLink);\n",
              "        }\n",
              "      </script>\n",
              "    </div>\n",
              "  </div>\n",
              "  "
            ]
          },
          "metadata": {},
          "execution_count": 12
        }
      ]
    },
    {
      "cell_type": "markdown",
      "source": [
        "## sum()\n",
        "+ 행, 열 방향에 따른 합계를 구하는 함수\n",
        "+ axis = 0을 주면 열의 합계\n",
        "+ axis = 1을 주면 행의 합계\n",
        "+ NaN(Not a Number)은 연산과정에서 잘못 입력된 값, 누락값을 말함"
      ],
      "metadata": {
        "id": "kTPGYCuG3n03"
      }
    },
    {
      "cell_type": "code",
      "source": [
        "df.sum(axis=0) #열의 합계"
      ],
      "metadata": {
        "id": "kUYz01Xg3mAg",
        "outputId": "8ad2a413-c9dd-46a2-d787-c4395dbc3f67",
        "colab": {
          "base_uri": "https://localhost:8080/"
        }
      },
      "execution_count": null,
      "outputs": [
        {
          "output_type": "execute_result",
          "data": {
            "text/plain": [
              "one    9.25\n",
              "two   -5.80\n",
              "dtype: float64"
            ]
          },
          "metadata": {},
          "execution_count": 46
        }
      ]
    },
    {
      "cell_type": "code",
      "source": [
        "df.sum(axis=1) #행의 합계"
      ],
      "metadata": {
        "id": "Sg8OdBd14PH_",
        "outputId": "741ba119-8a05-4ffb-f855-95aa39c833f1",
        "colab": {
          "base_uri": "https://localhost:8080/"
        }
      },
      "execution_count": null,
      "outputs": [
        {
          "output_type": "execute_result",
          "data": {
            "text/plain": [
              "a    1.40\n",
              "b    2.60\n",
              "c    0.00\n",
              "d   -0.55\n",
              "dtype: float64"
            ]
          },
          "metadata": {},
          "execution_count": 47
        }
      ]
    },
    {
      "cell_type": "code",
      "source": [
        "df['one'].sum()#열"
      ],
      "metadata": {
        "id": "16IpEc_R4WMX",
        "outputId": "b4e1231f-e467-4f5e-ce67-a635a60ba5f7",
        "colab": {
          "base_uri": "https://localhost:8080/"
        }
      },
      "execution_count": null,
      "outputs": [
        {
          "output_type": "execute_result",
          "data": {
            "text/plain": [
              "9.25"
            ]
          },
          "metadata": {},
          "execution_count": 48
        }
      ]
    },
    {
      "cell_type": "code",
      "source": [
        "df.loc['b'].sum()#행"
      ],
      "metadata": {
        "id": "Q0kv56Wp4aBp",
        "outputId": "d5539c57-dbad-4238-dc31-e3419c1f02b0",
        "colab": {
          "base_uri": "https://localhost:8080/"
        }
      },
      "execution_count": null,
      "outputs": [
        {
          "output_type": "execute_result",
          "data": {
            "text/plain": [
              "2.5999999999999996"
            ]
          },
          "metadata": {},
          "execution_count": 49
        }
      ]
    },
    {
      "cell_type": "markdown",
      "source": [
        "## mean()\n",
        "+ 행, 열 방향에 따른 평균을 구하는 함수\n",
        "+ axis = 0을 주면 열의 평균\n",
        "+ axis = 1을 주면 행의 평균"
      ],
      "metadata": {
        "id": "93WABQPY4pNO"
      }
    },
    {
      "cell_type": "code",
      "source": [
        "df.mean() #각 열의 평균"
      ],
      "metadata": {
        "id": "9dbjIHKM42S-",
        "outputId": "8d568410-52fb-4697-8253-9f96798ebf5d",
        "colab": {
          "base_uri": "https://localhost:8080/"
        }
      },
      "execution_count": null,
      "outputs": [
        {
          "output_type": "execute_result",
          "data": {
            "text/plain": [
              "one    3.083333\n",
              "two   -2.900000\n",
              "dtype: float64"
            ]
          },
          "metadata": {},
          "execution_count": 50
        }
      ]
    },
    {
      "cell_type": "code",
      "source": [
        "df.loc['a'].mean()"
      ],
      "metadata": {
        "id": "YIUJvaY149F-",
        "outputId": "09faaa50-90a2-47a5-cd91-4f1cd4d53e2c",
        "colab": {
          "base_uri": "https://localhost:8080/"
        }
      },
      "execution_count": null,
      "outputs": [
        {
          "output_type": "execute_result",
          "data": {
            "text/plain": [
              "1.4"
            ]
          },
          "metadata": {},
          "execution_count": 51
        }
      ]
    },
    {
      "cell_type": "code",
      "source": [
        "df.mean(axis=1, skipna =False) #skipna 누락값을 무시하지 않을때"
      ],
      "metadata": {
        "id": "PwQz4eTz5K1V",
        "outputId": "aec488bb-4917-4f4a-957a-ee2e43a4bcc4",
        "colab": {
          "base_uri": "https://localhost:8080/"
        }
      },
      "execution_count": null,
      "outputs": [
        {
          "output_type": "execute_result",
          "data": {
            "text/plain": [
              "a      NaN\n",
              "b    1.300\n",
              "c      NaN\n",
              "d   -0.275\n",
              "dtype: float64"
            ]
          },
          "metadata": {},
          "execution_count": 52
        }
      ]
    },
    {
      "cell_type": "markdown",
      "source": [
        "## var() 분산함수\n",
        "+ 행, 열 방향에 따른 분산을 구하는 함수\n",
        "\n",
        "분산은 관측값에서 평균을 뺀값을 제곱하고 그것을 모두 더한 후 전체 개수로 나눠서 구한다. 즉, 차이값의 제곱의 평균이다.\n",
        "\n",
        "데이터가 평균에 가까울수록 편차는 작아지므로 분산은 작아지고, 평균과 멀리 떨어져있을수록 편차는 커지고 분산 또한 증가.\n",
        "\n"
      ],
      "metadata": {
        "id": "SQwtNTRi5gOS"
      }
    },
    {
      "cell_type": "code",
      "source": [
        "df.var()"
      ],
      "metadata": {
        "id": "HIgNFYX05lvW",
        "outputId": "73a43140-1b15-4d25-db81-a2b9d6df5e4b",
        "colab": {
          "base_uri": "https://localhost:8080/"
        }
      },
      "execution_count": 4,
      "outputs": [
        {
          "output_type": "execute_result",
          "data": {
            "text/plain": [
              "one    12.205833\n",
              "two     5.120000\n",
              "dtype: float64"
            ]
          },
          "metadata": {},
          "execution_count": 4
        }
      ]
    },
    {
      "cell_type": "code",
      "source": [
        "df.loc['b'].var()"
      ],
      "metadata": {
        "id": "Ocax2Zq75p2d",
        "outputId": "4940cea4-841f-46dc-b52e-d428ff49975f",
        "colab": {
          "base_uri": "https://localhost:8080/"
        }
      },
      "execution_count": 5,
      "outputs": [
        {
          "output_type": "execute_result",
          "data": {
            "text/plain": [
              "67.28"
            ]
          },
          "metadata": {},
          "execution_count": 5
        }
      ]
    },
    {
      "cell_type": "markdown",
      "source": [
        "## fillna()\n",
        "+ 누락값을 특정값으로 대체하는 기능\n",
        "+ 특정 텍스트, 평균값, 0, 최대값으로 대체"
      ],
      "metadata": {
        "id": "RNN_fOtA8nVW"
      }
    },
    {
      "cell_type": "code",
      "source": [
        "one = df['one'].mean()\n",
        "two = df['two'].min()\n",
        "\n",
        "df['one'] = df['one'].fillna(value=one)\n",
        "df['two'] = df['two'].fillna(value=two)\n",
        "df"
      ],
      "metadata": {
        "id": "3DCjaC3D9Kpw",
        "outputId": "af68eadd-8fff-4281-9ebf-cc9b09ad5a61",
        "colab": {
          "base_uri": "https://localhost:8080/",
          "height": 175
        }
      },
      "execution_count": 6,
      "outputs": [
        {
          "output_type": "execute_result",
          "data": {
            "text/plain": [
              "        one  two\n",
              "a  1.400000 -4.5\n",
              "b  7.100000 -4.5\n",
              "c  3.083333 -4.5\n",
              "d  0.750000 -1.3"
            ],
            "text/html": [
              "\n",
              "  <div id=\"df-e883252c-af52-4c04-957f-522bdbf40e32\">\n",
              "    <div class=\"colab-df-container\">\n",
              "      <div>\n",
              "<style scoped>\n",
              "    .dataframe tbody tr th:only-of-type {\n",
              "        vertical-align: middle;\n",
              "    }\n",
              "\n",
              "    .dataframe tbody tr th {\n",
              "        vertical-align: top;\n",
              "    }\n",
              "\n",
              "    .dataframe thead th {\n",
              "        text-align: right;\n",
              "    }\n",
              "</style>\n",
              "<table border=\"1\" class=\"dataframe\">\n",
              "  <thead>\n",
              "    <tr style=\"text-align: right;\">\n",
              "      <th></th>\n",
              "      <th>one</th>\n",
              "      <th>two</th>\n",
              "    </tr>\n",
              "  </thead>\n",
              "  <tbody>\n",
              "    <tr>\n",
              "      <th>a</th>\n",
              "      <td>1.400000</td>\n",
              "      <td>-4.5</td>\n",
              "    </tr>\n",
              "    <tr>\n",
              "      <th>b</th>\n",
              "      <td>7.100000</td>\n",
              "      <td>-4.5</td>\n",
              "    </tr>\n",
              "    <tr>\n",
              "      <th>c</th>\n",
              "      <td>3.083333</td>\n",
              "      <td>-4.5</td>\n",
              "    </tr>\n",
              "    <tr>\n",
              "      <th>d</th>\n",
              "      <td>0.750000</td>\n",
              "      <td>-1.3</td>\n",
              "    </tr>\n",
              "  </tbody>\n",
              "</table>\n",
              "</div>\n",
              "      <button class=\"colab-df-convert\" onclick=\"convertToInteractive('df-e883252c-af52-4c04-957f-522bdbf40e32')\"\n",
              "              title=\"Convert this dataframe to an interactive table.\"\n",
              "              style=\"display:none;\">\n",
              "        \n",
              "  <svg xmlns=\"http://www.w3.org/2000/svg\" height=\"24px\"viewBox=\"0 0 24 24\"\n",
              "       width=\"24px\">\n",
              "    <path d=\"M0 0h24v24H0V0z\" fill=\"none\"/>\n",
              "    <path d=\"M18.56 5.44l.94 2.06.94-2.06 2.06-.94-2.06-.94-.94-2.06-.94 2.06-2.06.94zm-11 1L8.5 8.5l.94-2.06 2.06-.94-2.06-.94L8.5 2.5l-.94 2.06-2.06.94zm10 10l.94 2.06.94-2.06 2.06-.94-2.06-.94-.94-2.06-.94 2.06-2.06.94z\"/><path d=\"M17.41 7.96l-1.37-1.37c-.4-.4-.92-.59-1.43-.59-.52 0-1.04.2-1.43.59L10.3 9.45l-7.72 7.72c-.78.78-.78 2.05 0 2.83L4 21.41c.39.39.9.59 1.41.59.51 0 1.02-.2 1.41-.59l7.78-7.78 2.81-2.81c.8-.78.8-2.07 0-2.86zM5.41 20L4 18.59l7.72-7.72 1.47 1.35L5.41 20z\"/>\n",
              "  </svg>\n",
              "      </button>\n",
              "      \n",
              "  <style>\n",
              "    .colab-df-container {\n",
              "      display:flex;\n",
              "      flex-wrap:wrap;\n",
              "      gap: 12px;\n",
              "    }\n",
              "\n",
              "    .colab-df-convert {\n",
              "      background-color: #E8F0FE;\n",
              "      border: none;\n",
              "      border-radius: 50%;\n",
              "      cursor: pointer;\n",
              "      display: none;\n",
              "      fill: #1967D2;\n",
              "      height: 32px;\n",
              "      padding: 0 0 0 0;\n",
              "      width: 32px;\n",
              "    }\n",
              "\n",
              "    .colab-df-convert:hover {\n",
              "      background-color: #E2EBFA;\n",
              "      box-shadow: 0px 1px 2px rgba(60, 64, 67, 0.3), 0px 1px 3px 1px rgba(60, 64, 67, 0.15);\n",
              "      fill: #174EA6;\n",
              "    }\n",
              "\n",
              "    [theme=dark] .colab-df-convert {\n",
              "      background-color: #3B4455;\n",
              "      fill: #D2E3FC;\n",
              "    }\n",
              "\n",
              "    [theme=dark] .colab-df-convert:hover {\n",
              "      background-color: #434B5C;\n",
              "      box-shadow: 0px 1px 3px 1px rgba(0, 0, 0, 0.15);\n",
              "      filter: drop-shadow(0px 1px 2px rgba(0, 0, 0, 0.3));\n",
              "      fill: #FFFFFF;\n",
              "    }\n",
              "  </style>\n",
              "\n",
              "      <script>\n",
              "        const buttonEl =\n",
              "          document.querySelector('#df-e883252c-af52-4c04-957f-522bdbf40e32 button.colab-df-convert');\n",
              "        buttonEl.style.display =\n",
              "          google.colab.kernel.accessAllowed ? 'block' : 'none';\n",
              "\n",
              "        async function convertToInteractive(key) {\n",
              "          const element = document.querySelector('#df-e883252c-af52-4c04-957f-522bdbf40e32');\n",
              "          const dataTable =\n",
              "            await google.colab.kernel.invokeFunction('convertToInteractive',\n",
              "                                                     [key], {});\n",
              "          if (!dataTable) return;\n",
              "\n",
              "          const docLinkHtml = 'Like what you see? Visit the ' +\n",
              "            '<a target=\"_blank\" href=https://colab.research.google.com/notebooks/data_table.ipynb>data table notebook</a>'\n",
              "            + ' to learn more about interactive tables.';\n",
              "          element.innerHTML = '';\n",
              "          dataTable['output_type'] = 'display_data';\n",
              "          await google.colab.output.renderOutput(dataTable, element);\n",
              "          const docLink = document.createElement('div');\n",
              "          docLink.innerHTML = docLinkHtml;\n",
              "          element.appendChild(docLink);\n",
              "        }\n",
              "      </script>\n",
              "    </div>\n",
              "  </div>\n",
              "  "
            ]
          },
          "metadata": {},
          "execution_count": 6
        }
      ]
    },
    {
      "cell_type": "markdown",
      "source": [
        "## std()\n",
        "+ 행, 열 전체 성분의 표준 편차 계산하는 함수\n",
        "+ axis = 0(열), axis = 1(행)\n",
        "\n",
        "표준 편차 : 분산에 루트를 씌운 것이 표준표차이며 평균으로 부터 원래 데이타에 대한 오차범위의 근사값이다. 표준편차가 0에 가까울수록 측정값이 평균에 가까움을 의미."
      ],
      "metadata": {
        "id": "YDiC1NzB9b8u"
      }
    },
    {
      "cell_type": "code",
      "source": [
        "df.std(axis =0)"
      ],
      "metadata": {
        "id": "2HH7WvM59mPf",
        "outputId": "8aab0523-0462-4224-90d8-58231eecf19d",
        "colab": {
          "base_uri": "https://localhost:8080/"
        }
      },
      "execution_count": 7,
      "outputs": [
        {
          "output_type": "execute_result",
          "data": {
            "text/plain": [
              "one    2.852582\n",
              "two    1.600000\n",
              "dtype: float64"
            ]
          },
          "metadata": {},
          "execution_count": 7
        }
      ]
    },
    {
      "cell_type": "code",
      "source": [
        "df.std(axis =1)"
      ],
      "metadata": {
        "id": "wXlLnswr-oM-",
        "outputId": "8d80adf5-f943-4907-d479-5a909b588def",
        "colab": {
          "base_uri": "https://localhost:8080/"
        }
      },
      "execution_count": 8,
      "outputs": [
        {
          "output_type": "execute_result",
          "data": {
            "text/plain": [
              "a    4.171930\n",
              "b    8.202439\n",
              "c    5.362226\n",
              "d    1.449569\n",
              "dtype: float64"
            ]
          },
          "metadata": {},
          "execution_count": 8
        }
      ]
    },
    {
      "cell_type": "code",
      "source": [
        "df.min(axis =0) #최소값"
      ],
      "metadata": {
        "id": "R7QKqz-y-r9l",
        "outputId": "778a8799-9c67-4390-8818-b11848f1f2ce",
        "colab": {
          "base_uri": "https://localhost:8080/"
        }
      },
      "execution_count": 9,
      "outputs": [
        {
          "output_type": "execute_result",
          "data": {
            "text/plain": [
              "one    0.75\n",
              "two   -4.50\n",
              "dtype: float64"
            ]
          },
          "metadata": {},
          "execution_count": 9
        }
      ]
    },
    {
      "cell_type": "code",
      "source": [
        "df.max(axis=1)#최대값"
      ],
      "metadata": {
        "id": "FydAKiQl-wZV",
        "outputId": "bca772bd-df22-494c-fe0d-08766701f8bf",
        "colab": {
          "base_uri": "https://localhost:8080/"
        }
      },
      "execution_count": 10,
      "outputs": [
        {
          "output_type": "execute_result",
          "data": {
            "text/plain": [
              "a    1.400000\n",
              "b    7.100000\n",
              "c    3.083333\n",
              "d    0.750000\n",
              "dtype: float64"
            ]
          },
          "metadata": {},
          "execution_count": 10
        }
      ]
    },
    {
      "cell_type": "code",
      "source": [
        "df.count(axis=0) #누락값을 제외한 개수"
      ],
      "metadata": {
        "id": "GpBOC69K_Gq1",
        "outputId": "c3e5e46e-2160-476d-e0d1-8d7d954fe19d",
        "colab": {
          "base_uri": "https://localhost:8080/"
        }
      },
      "execution_count": 13,
      "outputs": [
        {
          "output_type": "execute_result",
          "data": {
            "text/plain": [
              "one    3\n",
              "two    2\n",
              "dtype: int64"
            ]
          },
          "metadata": {},
          "execution_count": 13
        }
      ]
    },
    {
      "cell_type": "code",
      "source": [
        "df.count(axis=1)"
      ],
      "metadata": {
        "id": "S-nLnxin_Yr2",
        "outputId": "21410d75-4f5d-4db3-f5ba-e0eea34ccf50",
        "colab": {
          "base_uri": "https://localhost:8080/"
        }
      },
      "execution_count": 14,
      "outputs": [
        {
          "output_type": "execute_result",
          "data": {
            "text/plain": [
              "a    1\n",
              "b    2\n",
              "c    0\n",
              "d    2\n",
              "dtype: int64"
            ]
          },
          "metadata": {},
          "execution_count": 14
        }
      ]
    },
    {
      "cell_type": "markdown",
      "source": [
        "\n",
        "+ argmin() : 단일 열배열 성분의 최소값이 위치한 인덱스\n",
        "+ argmaz() :단일 열배열 성분의 최대값이 위치한 인덱스\n",
        "+ idxmin() : 전체 인덱스 중 최소값을 반환\n",
        "+ idxmax() : 전체 인덱스 중 최대값을 반환\n",
        "+ median() : 전체 성분의 중간값을 반환\n",
        "+ cumsum() : 맨 첫번째 성분부터 각 성분가지의 누적합을 계산\n",
        "+ mad() : 전체 성분의 평균값으로부터의 절대 편차의 평균 계산"
      ],
      "metadata": {
        "id": "FkzSSw9h_gp1"
      }
    },
    {
      "cell_type": "markdown",
      "source": [
        "## pandas 데이터프레임 통계함수 및 특정함수 사용하기"
      ],
      "metadata": {
        "id": "z-vPzohUAev-"
      }
    },
    {
      "cell_type": "code",
      "source": [
        "import pandas as pd\n",
        "\n",
        "data = [[1.4, None],\n",
        "        [7.1, -4.5],\n",
        "        [None, None],\n",
        "        [0.75, -1.3]]\n",
        "df = pd.DataFrame(data, columns=['one', 'two'], index=['a', 'b', 'c', 'd'])\n",
        "df"
      ],
      "metadata": {
        "id": "KiXS7K8UAysN",
        "outputId": "aec6bd5f-d195-41a1-8d10-32c9e21bc304",
        "colab": {
          "base_uri": "https://localhost:8080/",
          "height": 175
        }
      },
      "execution_count": 16,
      "outputs": [
        {
          "output_type": "execute_result",
          "data": {
            "text/plain": [
              "    one  two\n",
              "a  1.40  NaN\n",
              "b  7.10 -4.5\n",
              "c   NaN  NaN\n",
              "d  0.75 -1.3"
            ],
            "text/html": [
              "\n",
              "  <div id=\"df-d4c2b752-893b-4ef2-aefd-cc41263699eb\">\n",
              "    <div class=\"colab-df-container\">\n",
              "      <div>\n",
              "<style scoped>\n",
              "    .dataframe tbody tr th:only-of-type {\n",
              "        vertical-align: middle;\n",
              "    }\n",
              "\n",
              "    .dataframe tbody tr th {\n",
              "        vertical-align: top;\n",
              "    }\n",
              "\n",
              "    .dataframe thead th {\n",
              "        text-align: right;\n",
              "    }\n",
              "</style>\n",
              "<table border=\"1\" class=\"dataframe\">\n",
              "  <thead>\n",
              "    <tr style=\"text-align: right;\">\n",
              "      <th></th>\n",
              "      <th>one</th>\n",
              "      <th>two</th>\n",
              "    </tr>\n",
              "  </thead>\n",
              "  <tbody>\n",
              "    <tr>\n",
              "      <th>a</th>\n",
              "      <td>1.40</td>\n",
              "      <td>NaN</td>\n",
              "    </tr>\n",
              "    <tr>\n",
              "      <th>b</th>\n",
              "      <td>7.10</td>\n",
              "      <td>-4.5</td>\n",
              "    </tr>\n",
              "    <tr>\n",
              "      <th>c</th>\n",
              "      <td>NaN</td>\n",
              "      <td>NaN</td>\n",
              "    </tr>\n",
              "    <tr>\n",
              "      <th>d</th>\n",
              "      <td>0.75</td>\n",
              "      <td>-1.3</td>\n",
              "    </tr>\n",
              "  </tbody>\n",
              "</table>\n",
              "</div>\n",
              "      <button class=\"colab-df-convert\" onclick=\"convertToInteractive('df-d4c2b752-893b-4ef2-aefd-cc41263699eb')\"\n",
              "              title=\"Convert this dataframe to an interactive table.\"\n",
              "              style=\"display:none;\">\n",
              "        \n",
              "  <svg xmlns=\"http://www.w3.org/2000/svg\" height=\"24px\"viewBox=\"0 0 24 24\"\n",
              "       width=\"24px\">\n",
              "    <path d=\"M0 0h24v24H0V0z\" fill=\"none\"/>\n",
              "    <path d=\"M18.56 5.44l.94 2.06.94-2.06 2.06-.94-2.06-.94-.94-2.06-.94 2.06-2.06.94zm-11 1L8.5 8.5l.94-2.06 2.06-.94-2.06-.94L8.5 2.5l-.94 2.06-2.06.94zm10 10l.94 2.06.94-2.06 2.06-.94-2.06-.94-.94-2.06-.94 2.06-2.06.94z\"/><path d=\"M17.41 7.96l-1.37-1.37c-.4-.4-.92-.59-1.43-.59-.52 0-1.04.2-1.43.59L10.3 9.45l-7.72 7.72c-.78.78-.78 2.05 0 2.83L4 21.41c.39.39.9.59 1.41.59.51 0 1.02-.2 1.41-.59l7.78-7.78 2.81-2.81c.8-.78.8-2.07 0-2.86zM5.41 20L4 18.59l7.72-7.72 1.47 1.35L5.41 20z\"/>\n",
              "  </svg>\n",
              "      </button>\n",
              "      \n",
              "  <style>\n",
              "    .colab-df-container {\n",
              "      display:flex;\n",
              "      flex-wrap:wrap;\n",
              "      gap: 12px;\n",
              "    }\n",
              "\n",
              "    .colab-df-convert {\n",
              "      background-color: #E8F0FE;\n",
              "      border: none;\n",
              "      border-radius: 50%;\n",
              "      cursor: pointer;\n",
              "      display: none;\n",
              "      fill: #1967D2;\n",
              "      height: 32px;\n",
              "      padding: 0 0 0 0;\n",
              "      width: 32px;\n",
              "    }\n",
              "\n",
              "    .colab-df-convert:hover {\n",
              "      background-color: #E2EBFA;\n",
              "      box-shadow: 0px 1px 2px rgba(60, 64, 67, 0.3), 0px 1px 3px 1px rgba(60, 64, 67, 0.15);\n",
              "      fill: #174EA6;\n",
              "    }\n",
              "\n",
              "    [theme=dark] .colab-df-convert {\n",
              "      background-color: #3B4455;\n",
              "      fill: #D2E3FC;\n",
              "    }\n",
              "\n",
              "    [theme=dark] .colab-df-convert:hover {\n",
              "      background-color: #434B5C;\n",
              "      box-shadow: 0px 1px 3px 1px rgba(0, 0, 0, 0.15);\n",
              "      filter: drop-shadow(0px 1px 2px rgba(0, 0, 0, 0.3));\n",
              "      fill: #FFFFFF;\n",
              "    }\n",
              "  </style>\n",
              "\n",
              "      <script>\n",
              "        const buttonEl =\n",
              "          document.querySelector('#df-d4c2b752-893b-4ef2-aefd-cc41263699eb button.colab-df-convert');\n",
              "        buttonEl.style.display =\n",
              "          google.colab.kernel.accessAllowed ? 'block' : 'none';\n",
              "\n",
              "        async function convertToInteractive(key) {\n",
              "          const element = document.querySelector('#df-d4c2b752-893b-4ef2-aefd-cc41263699eb');\n",
              "          const dataTable =\n",
              "            await google.colab.kernel.invokeFunction('convertToInteractive',\n",
              "                                                     [key], {});\n",
              "          if (!dataTable) return;\n",
              "\n",
              "          const docLinkHtml = 'Like what you see? Visit the ' +\n",
              "            '<a target=\"_blank\" href=https://colab.research.google.com/notebooks/data_table.ipynb>data table notebook</a>'\n",
              "            + ' to learn more about interactive tables.';\n",
              "          element.innerHTML = '';\n",
              "          dataTable['output_type'] = 'display_data';\n",
              "          await google.colab.output.renderOutput(dataTable, element);\n",
              "          const docLink = document.createElement('div');\n",
              "          docLink.innerHTML = docLinkHtml;\n",
              "          element.appendChild(docLink);\n",
              "        }\n",
              "      </script>\n",
              "    </div>\n",
              "  </div>\n",
              "  "
            ]
          },
          "metadata": {},
          "execution_count": 16
        }
      ]
    },
    {
      "cell_type": "code",
      "source": [
        "df.sum(axis=0)\n"
      ],
      "metadata": {
        "id": "AmSlWYvoBU-W",
        "outputId": "e1e95431-2ab5-45d8-f41f-935ac83454ee",
        "colab": {
          "base_uri": "https://localhost:8080/"
        }
      },
      "execution_count": 20,
      "outputs": [
        {
          "output_type": "execute_result",
          "data": {
            "text/plain": [
              "one    9.25\n",
              "two   -5.80\n",
              "dtype: float64"
            ]
          },
          "metadata": {},
          "execution_count": 20
        }
      ]
    },
    {
      "cell_type": "code",
      "source": [
        "df.sum(axis=1)"
      ],
      "metadata": {
        "id": "cor3kMREBt50",
        "outputId": "59cf9719-fb80-43d7-a6d4-3c720f81b9c5",
        "colab": {
          "base_uri": "https://localhost:8080/"
        }
      },
      "execution_count": 21,
      "outputs": [
        {
          "output_type": "execute_result",
          "data": {
            "text/plain": [
              "a    1.40\n",
              "b    2.60\n",
              "c    0.00\n",
              "d   -0.55\n",
              "dtype: float64"
            ]
          },
          "metadata": {},
          "execution_count": 21
        }
      ]
    },
    {
      "cell_type": "code",
      "source": [
        "df.mean(axis=0)"
      ],
      "metadata": {
        "id": "A5gu_flJB8kF",
        "outputId": "05140f4c-c498-4184-e7dc-34e52f8c3064",
        "colab": {
          "base_uri": "https://localhost:8080/"
        }
      },
      "execution_count": 23,
      "outputs": [
        {
          "output_type": "execute_result",
          "data": {
            "text/plain": [
              "one    3.083333\n",
              "two   -2.900000\n",
              "dtype: float64"
            ]
          },
          "metadata": {},
          "execution_count": 23
        }
      ]
    },
    {
      "cell_type": "code",
      "source": [
        "df.mean(axis=1)"
      ],
      "metadata": {
        "id": "pyydoNRgCCmF",
        "outputId": "d7261392-4033-48d3-c42d-e3abecea3a80",
        "colab": {
          "base_uri": "https://localhost:8080/"
        }
      },
      "execution_count": 24,
      "outputs": [
        {
          "output_type": "execute_result",
          "data": {
            "text/plain": [
              "a    1.400\n",
              "b    1.300\n",
              "c      NaN\n",
              "d   -0.275\n",
              "dtype: float64"
            ]
          },
          "metadata": {},
          "execution_count": 24
        }
      ]
    },
    {
      "cell_type": "code",
      "source": [
        "df.loc['a']#a행에 대한 평균"
      ],
      "metadata": {
        "id": "IYRvVPH4CHPc",
        "outputId": "19ba7847-df35-4e94-8f40-5d9fe77d90a6",
        "colab": {
          "base_uri": "https://localhost:8080/"
        }
      },
      "execution_count": 25,
      "outputs": [
        {
          "output_type": "execute_result",
          "data": {
            "text/plain": [
              "one    1.4\n",
              "two    NaN\n",
              "Name: a, dtype: float64"
            ]
          },
          "metadata": {},
          "execution_count": 25
        }
      ]
    },
    {
      "cell_type": "code",
      "source": [
        "df.var()"
      ],
      "metadata": {
        "id": "fnJiPj0ZCOQY",
        "outputId": "2a2f38e8-7086-4921-e0f4-495d49a4a087",
        "colab": {
          "base_uri": "https://localhost:8080/"
        }
      },
      "execution_count": 26,
      "outputs": [
        {
          "output_type": "execute_result",
          "data": {
            "text/plain": [
              "one    12.205833\n",
              "two     5.120000\n",
              "dtype: float64"
            ]
          },
          "metadata": {},
          "execution_count": 26
        }
      ]
    },
    {
      "cell_type": "code",
      "source": [
        "df.var(axis=1)"
      ],
      "metadata": {
        "id": "Q7WWxt5bCRFF",
        "outputId": "2c5dd889-98fe-4507-f10b-dcfe7444c90e",
        "colab": {
          "base_uri": "https://localhost:8080/"
        }
      },
      "execution_count": 27,
      "outputs": [
        {
          "output_type": "execute_result",
          "data": {
            "text/plain": [
              "a         NaN\n",
              "b    67.28000\n",
              "c         NaN\n",
              "d     2.10125\n",
              "dtype: float64"
            ]
          },
          "metadata": {},
          "execution_count": 27
        }
      ]
    },
    {
      "cell_type": "code",
      "source": [
        "df.one = df.one.fillna(0)\n",
        "df"
      ],
      "metadata": {
        "id": "xWU6w4HzCVC9",
        "outputId": "4a810833-c27c-4fd4-912c-b5007dbd59b5",
        "colab": {
          "base_uri": "https://localhost:8080/",
          "height": 175
        }
      },
      "execution_count": 29,
      "outputs": [
        {
          "output_type": "execute_result",
          "data": {
            "text/plain": [
              "    one  two\n",
              "a  1.40  NaN\n",
              "b  7.10 -4.5\n",
              "c  0.00  NaN\n",
              "d  0.75 -1.3"
            ],
            "text/html": [
              "\n",
              "  <div id=\"df-70c1a64a-f612-49d6-a55f-a87e938c196d\">\n",
              "    <div class=\"colab-df-container\">\n",
              "      <div>\n",
              "<style scoped>\n",
              "    .dataframe tbody tr th:only-of-type {\n",
              "        vertical-align: middle;\n",
              "    }\n",
              "\n",
              "    .dataframe tbody tr th {\n",
              "        vertical-align: top;\n",
              "    }\n",
              "\n",
              "    .dataframe thead th {\n",
              "        text-align: right;\n",
              "    }\n",
              "</style>\n",
              "<table border=\"1\" class=\"dataframe\">\n",
              "  <thead>\n",
              "    <tr style=\"text-align: right;\">\n",
              "      <th></th>\n",
              "      <th>one</th>\n",
              "      <th>two</th>\n",
              "    </tr>\n",
              "  </thead>\n",
              "  <tbody>\n",
              "    <tr>\n",
              "      <th>a</th>\n",
              "      <td>1.40</td>\n",
              "      <td>NaN</td>\n",
              "    </tr>\n",
              "    <tr>\n",
              "      <th>b</th>\n",
              "      <td>7.10</td>\n",
              "      <td>-4.5</td>\n",
              "    </tr>\n",
              "    <tr>\n",
              "      <th>c</th>\n",
              "      <td>0.00</td>\n",
              "      <td>NaN</td>\n",
              "    </tr>\n",
              "    <tr>\n",
              "      <th>d</th>\n",
              "      <td>0.75</td>\n",
              "      <td>-1.3</td>\n",
              "    </tr>\n",
              "  </tbody>\n",
              "</table>\n",
              "</div>\n",
              "      <button class=\"colab-df-convert\" onclick=\"convertToInteractive('df-70c1a64a-f612-49d6-a55f-a87e938c196d')\"\n",
              "              title=\"Convert this dataframe to an interactive table.\"\n",
              "              style=\"display:none;\">\n",
              "        \n",
              "  <svg xmlns=\"http://www.w3.org/2000/svg\" height=\"24px\"viewBox=\"0 0 24 24\"\n",
              "       width=\"24px\">\n",
              "    <path d=\"M0 0h24v24H0V0z\" fill=\"none\"/>\n",
              "    <path d=\"M18.56 5.44l.94 2.06.94-2.06 2.06-.94-2.06-.94-.94-2.06-.94 2.06-2.06.94zm-11 1L8.5 8.5l.94-2.06 2.06-.94-2.06-.94L8.5 2.5l-.94 2.06-2.06.94zm10 10l.94 2.06.94-2.06 2.06-.94-2.06-.94-.94-2.06-.94 2.06-2.06.94z\"/><path d=\"M17.41 7.96l-1.37-1.37c-.4-.4-.92-.59-1.43-.59-.52 0-1.04.2-1.43.59L10.3 9.45l-7.72 7.72c-.78.78-.78 2.05 0 2.83L4 21.41c.39.39.9.59 1.41.59.51 0 1.02-.2 1.41-.59l7.78-7.78 2.81-2.81c.8-.78.8-2.07 0-2.86zM5.41 20L4 18.59l7.72-7.72 1.47 1.35L5.41 20z\"/>\n",
              "  </svg>\n",
              "      </button>\n",
              "      \n",
              "  <style>\n",
              "    .colab-df-container {\n",
              "      display:flex;\n",
              "      flex-wrap:wrap;\n",
              "      gap: 12px;\n",
              "    }\n",
              "\n",
              "    .colab-df-convert {\n",
              "      background-color: #E8F0FE;\n",
              "      border: none;\n",
              "      border-radius: 50%;\n",
              "      cursor: pointer;\n",
              "      display: none;\n",
              "      fill: #1967D2;\n",
              "      height: 32px;\n",
              "      padding: 0 0 0 0;\n",
              "      width: 32px;\n",
              "    }\n",
              "\n",
              "    .colab-df-convert:hover {\n",
              "      background-color: #E2EBFA;\n",
              "      box-shadow: 0px 1px 2px rgba(60, 64, 67, 0.3), 0px 1px 3px 1px rgba(60, 64, 67, 0.15);\n",
              "      fill: #174EA6;\n",
              "    }\n",
              "\n",
              "    [theme=dark] .colab-df-convert {\n",
              "      background-color: #3B4455;\n",
              "      fill: #D2E3FC;\n",
              "    }\n",
              "\n",
              "    [theme=dark] .colab-df-convert:hover {\n",
              "      background-color: #434B5C;\n",
              "      box-shadow: 0px 1px 3px 1px rgba(0, 0, 0, 0.15);\n",
              "      filter: drop-shadow(0px 1px 2px rgba(0, 0, 0, 0.3));\n",
              "      fill: #FFFFFF;\n",
              "    }\n",
              "  </style>\n",
              "\n",
              "      <script>\n",
              "        const buttonEl =\n",
              "          document.querySelector('#df-70c1a64a-f612-49d6-a55f-a87e938c196d button.colab-df-convert');\n",
              "        buttonEl.style.display =\n",
              "          google.colab.kernel.accessAllowed ? 'block' : 'none';\n",
              "\n",
              "        async function convertToInteractive(key) {\n",
              "          const element = document.querySelector('#df-70c1a64a-f612-49d6-a55f-a87e938c196d');\n",
              "          const dataTable =\n",
              "            await google.colab.kernel.invokeFunction('convertToInteractive',\n",
              "                                                     [key], {});\n",
              "          if (!dataTable) return;\n",
              "\n",
              "          const docLinkHtml = 'Like what you see? Visit the ' +\n",
              "            '<a target=\"_blank\" href=https://colab.research.google.com/notebooks/data_table.ipynb>data table notebook</a>'\n",
              "            + ' to learn more about interactive tables.';\n",
              "          element.innerHTML = '';\n",
              "          dataTable['output_type'] = 'display_data';\n",
              "          await google.colab.output.renderOutput(dataTable, element);\n",
              "          const docLink = document.createElement('div');\n",
              "          docLink.innerHTML = docLinkHtml;\n",
              "          element.appendChild(docLink);\n",
              "        }\n",
              "      </script>\n",
              "    </div>\n",
              "  </div>\n",
              "  "
            ]
          },
          "metadata": {},
          "execution_count": 29
        }
      ]
    },
    {
      "cell_type": "code",
      "source": [
        "two = df['two'].min()\n",
        "df['two'] = df['two'].fillna(value=two)\n",
        "df"
      ],
      "metadata": {
        "id": "fbO5K914Couw",
        "outputId": "f7a3a05c-145e-419f-f408-700175cc23b7",
        "colab": {
          "base_uri": "https://localhost:8080/",
          "height": 175
        }
      },
      "execution_count": 31,
      "outputs": [
        {
          "output_type": "execute_result",
          "data": {
            "text/plain": [
              "    one  two\n",
              "a  1.40 -4.5\n",
              "b  7.10 -4.5\n",
              "c  0.00 -4.5\n",
              "d  0.75 -1.3"
            ],
            "text/html": [
              "\n",
              "  <div id=\"df-79f11e94-7853-435f-a3d4-51ac29258dfc\">\n",
              "    <div class=\"colab-df-container\">\n",
              "      <div>\n",
              "<style scoped>\n",
              "    .dataframe tbody tr th:only-of-type {\n",
              "        vertical-align: middle;\n",
              "    }\n",
              "\n",
              "    .dataframe tbody tr th {\n",
              "        vertical-align: top;\n",
              "    }\n",
              "\n",
              "    .dataframe thead th {\n",
              "        text-align: right;\n",
              "    }\n",
              "</style>\n",
              "<table border=\"1\" class=\"dataframe\">\n",
              "  <thead>\n",
              "    <tr style=\"text-align: right;\">\n",
              "      <th></th>\n",
              "      <th>one</th>\n",
              "      <th>two</th>\n",
              "    </tr>\n",
              "  </thead>\n",
              "  <tbody>\n",
              "    <tr>\n",
              "      <th>a</th>\n",
              "      <td>1.40</td>\n",
              "      <td>-4.5</td>\n",
              "    </tr>\n",
              "    <tr>\n",
              "      <th>b</th>\n",
              "      <td>7.10</td>\n",
              "      <td>-4.5</td>\n",
              "    </tr>\n",
              "    <tr>\n",
              "      <th>c</th>\n",
              "      <td>0.00</td>\n",
              "      <td>-4.5</td>\n",
              "    </tr>\n",
              "    <tr>\n",
              "      <th>d</th>\n",
              "      <td>0.75</td>\n",
              "      <td>-1.3</td>\n",
              "    </tr>\n",
              "  </tbody>\n",
              "</table>\n",
              "</div>\n",
              "      <button class=\"colab-df-convert\" onclick=\"convertToInteractive('df-79f11e94-7853-435f-a3d4-51ac29258dfc')\"\n",
              "              title=\"Convert this dataframe to an interactive table.\"\n",
              "              style=\"display:none;\">\n",
              "        \n",
              "  <svg xmlns=\"http://www.w3.org/2000/svg\" height=\"24px\"viewBox=\"0 0 24 24\"\n",
              "       width=\"24px\">\n",
              "    <path d=\"M0 0h24v24H0V0z\" fill=\"none\"/>\n",
              "    <path d=\"M18.56 5.44l.94 2.06.94-2.06 2.06-.94-2.06-.94-.94-2.06-.94 2.06-2.06.94zm-11 1L8.5 8.5l.94-2.06 2.06-.94-2.06-.94L8.5 2.5l-.94 2.06-2.06.94zm10 10l.94 2.06.94-2.06 2.06-.94-2.06-.94-.94-2.06-.94 2.06-2.06.94z\"/><path d=\"M17.41 7.96l-1.37-1.37c-.4-.4-.92-.59-1.43-.59-.52 0-1.04.2-1.43.59L10.3 9.45l-7.72 7.72c-.78.78-.78 2.05 0 2.83L4 21.41c.39.39.9.59 1.41.59.51 0 1.02-.2 1.41-.59l7.78-7.78 2.81-2.81c.8-.78.8-2.07 0-2.86zM5.41 20L4 18.59l7.72-7.72 1.47 1.35L5.41 20z\"/>\n",
              "  </svg>\n",
              "      </button>\n",
              "      \n",
              "  <style>\n",
              "    .colab-df-container {\n",
              "      display:flex;\n",
              "      flex-wrap:wrap;\n",
              "      gap: 12px;\n",
              "    }\n",
              "\n",
              "    .colab-df-convert {\n",
              "      background-color: #E8F0FE;\n",
              "      border: none;\n",
              "      border-radius: 50%;\n",
              "      cursor: pointer;\n",
              "      display: none;\n",
              "      fill: #1967D2;\n",
              "      height: 32px;\n",
              "      padding: 0 0 0 0;\n",
              "      width: 32px;\n",
              "    }\n",
              "\n",
              "    .colab-df-convert:hover {\n",
              "      background-color: #E2EBFA;\n",
              "      box-shadow: 0px 1px 2px rgba(60, 64, 67, 0.3), 0px 1px 3px 1px rgba(60, 64, 67, 0.15);\n",
              "      fill: #174EA6;\n",
              "    }\n",
              "\n",
              "    [theme=dark] .colab-df-convert {\n",
              "      background-color: #3B4455;\n",
              "      fill: #D2E3FC;\n",
              "    }\n",
              "\n",
              "    [theme=dark] .colab-df-convert:hover {\n",
              "      background-color: #434B5C;\n",
              "      box-shadow: 0px 1px 3px 1px rgba(0, 0, 0, 0.15);\n",
              "      filter: drop-shadow(0px 1px 2px rgba(0, 0, 0, 0.3));\n",
              "      fill: #FFFFFF;\n",
              "    }\n",
              "  </style>\n",
              "\n",
              "      <script>\n",
              "        const buttonEl =\n",
              "          document.querySelector('#df-79f11e94-7853-435f-a3d4-51ac29258dfc button.colab-df-convert');\n",
              "        buttonEl.style.display =\n",
              "          google.colab.kernel.accessAllowed ? 'block' : 'none';\n",
              "\n",
              "        async function convertToInteractive(key) {\n",
              "          const element = document.querySelector('#df-79f11e94-7853-435f-a3d4-51ac29258dfc');\n",
              "          const dataTable =\n",
              "            await google.colab.kernel.invokeFunction('convertToInteractive',\n",
              "                                                     [key], {});\n",
              "          if (!dataTable) return;\n",
              "\n",
              "          const docLinkHtml = 'Like what you see? Visit the ' +\n",
              "            '<a target=\"_blank\" href=https://colab.research.google.com/notebooks/data_table.ipynb>data table notebook</a>'\n",
              "            + ' to learn more about interactive tables.';\n",
              "          element.innerHTML = '';\n",
              "          dataTable['output_type'] = 'display_data';\n",
              "          await google.colab.output.renderOutput(dataTable, element);\n",
              "          const docLink = document.createElement('div');\n",
              "          docLink.innerHTML = docLinkHtml;\n",
              "          element.appendChild(docLink);\n",
              "        }\n",
              "      </script>\n",
              "    </div>\n",
              "  </div>\n",
              "  "
            ]
          },
          "metadata": {},
          "execution_count": 31
        }
      ]
    },
    {
      "cell_type": "code",
      "source": [
        "df.std(axis=0) # 표준편차"
      ],
      "metadata": {
        "id": "G1J6knlkC62V",
        "outputId": "04b19d42-bf53-4b62-8fe1-a8458544fac5",
        "colab": {
          "base_uri": "https://localhost:8080/"
        }
      },
      "execution_count": 33,
      "outputs": [
        {
          "output_type": "execute_result",
          "data": {
            "text/plain": [
              "one    3.242523\n",
              "two    1.600000\n",
              "dtype: float64"
            ]
          },
          "metadata": {},
          "execution_count": 33
        }
      ]
    },
    {
      "cell_type": "code",
      "source": [
        "import pandas as pd\n",
        "\n",
        "data = [[1.4, None],\n",
        "        [7.1, -4.5],\n",
        "        [None, None],\n",
        "        [0.75, -1.3]]\n",
        "df = pd.DataFrame(data, columns=['one', 'two'], index=['a', 'b', 'c', 'd'])\n",
        "df.min(axis=1)"
      ],
      "metadata": {
        "id": "_Azp8xdgDJlH",
        "outputId": "e6647d27-1193-4ded-b69d-689fbbeb825b",
        "colab": {
          "base_uri": "https://localhost:8080/"
        }
      },
      "execution_count": 34,
      "outputs": [
        {
          "output_type": "execute_result",
          "data": {
            "text/plain": [
              "a    1.4\n",
              "b   -4.5\n",
              "c    NaN\n",
              "d   -1.3\n",
              "dtype: float64"
            ]
          },
          "metadata": {},
          "execution_count": 34
        }
      ]
    },
    {
      "cell_type": "code",
      "source": [
        "df.max(axis=0)"
      ],
      "metadata": {
        "id": "pGo5IBJKDQEm",
        "outputId": "7e890fc2-3e35-49d8-c105-fc5b1a11a4fc",
        "colab": {
          "base_uri": "https://localhost:8080/"
        }
      },
      "execution_count": 35,
      "outputs": [
        {
          "output_type": "execute_result",
          "data": {
            "text/plain": [
              "one    7.1\n",
              "two   -1.3\n",
              "dtype: float64"
            ]
          },
          "metadata": {},
          "execution_count": 35
        }
      ]
    },
    {
      "cell_type": "code",
      "source": [
        "df.count(axis=0)#열에 대한 개수(NaN제외)"
      ],
      "metadata": {
        "id": "yYNAhY1gDbYC",
        "outputId": "519408cb-3aab-4352-bd50-2f2e52f84899",
        "colab": {
          "base_uri": "https://localhost:8080/"
        }
      },
      "execution_count": 36,
      "outputs": [
        {
          "output_type": "execute_result",
          "data": {
            "text/plain": [
              "one    3\n",
              "two    2\n",
              "dtype: int64"
            ]
          },
          "metadata": {},
          "execution_count": 36
        }
      ]
    },
    {
      "cell_type": "code",
      "source": [
        "df.count(axis=1)#행에 대한 개수(NaN제외)"
      ],
      "metadata": {
        "id": "sij0SMPqDk4S",
        "outputId": "b79fb3fa-7e9e-403e-bda1-8d9c85acec46",
        "colab": {
          "base_uri": "https://localhost:8080/"
        }
      },
      "execution_count": 37,
      "outputs": [
        {
          "output_type": "execute_result",
          "data": {
            "text/plain": [
              "a    1\n",
              "b    2\n",
              "c    0\n",
              "d    2\n",
              "dtype: int64"
            ]
          },
          "metadata": {},
          "execution_count": 37
        }
      ]
    },
    {
      "cell_type": "code",
      "source": [
        "import numpy as np\n",
        "import pandas as pd\n",
        "\n",
        "df2 = pd.DataFrame(np.random.rand(6,4), columns=['A', 'B', 'C', 'D'], index=pd.date_range('20200701', periods=6))\n",
        "df2"
      ],
      "metadata": {
        "id": "MnomzZ7gDsg4",
        "outputId": "fbf30892-1ce4-4204-aeef-d6ed3b0d5955",
        "colab": {
          "base_uri": "https://localhost:8080/",
          "height": 237
        }
      },
      "execution_count": 46,
      "outputs": [
        {
          "output_type": "execute_result",
          "data": {
            "text/plain": [
              "                   A         B         C         D\n",
              "2020-07-01  0.657824  0.581445  0.126648  0.394581\n",
              "2020-07-02  0.413995  0.077386  0.475646  0.872338\n",
              "2020-07-03  0.859871  0.100152  0.535390  0.136130\n",
              "2020-07-04  0.465853  0.358694  0.409059  0.322941\n",
              "2020-07-05  0.205999  0.525487  0.971669  0.278853\n",
              "2020-07-06  0.037999  0.654180  0.777799  0.199229"
            ],
            "text/html": [
              "\n",
              "  <div id=\"df-e500623c-cb16-4444-b95c-e886aa8f369c\">\n",
              "    <div class=\"colab-df-container\">\n",
              "      <div>\n",
              "<style scoped>\n",
              "    .dataframe tbody tr th:only-of-type {\n",
              "        vertical-align: middle;\n",
              "    }\n",
              "\n",
              "    .dataframe tbody tr th {\n",
              "        vertical-align: top;\n",
              "    }\n",
              "\n",
              "    .dataframe thead th {\n",
              "        text-align: right;\n",
              "    }\n",
              "</style>\n",
              "<table border=\"1\" class=\"dataframe\">\n",
              "  <thead>\n",
              "    <tr style=\"text-align: right;\">\n",
              "      <th></th>\n",
              "      <th>A</th>\n",
              "      <th>B</th>\n",
              "      <th>C</th>\n",
              "      <th>D</th>\n",
              "    </tr>\n",
              "  </thead>\n",
              "  <tbody>\n",
              "    <tr>\n",
              "      <th>2020-07-01</th>\n",
              "      <td>0.657824</td>\n",
              "      <td>0.581445</td>\n",
              "      <td>0.126648</td>\n",
              "      <td>0.394581</td>\n",
              "    </tr>\n",
              "    <tr>\n",
              "      <th>2020-07-02</th>\n",
              "      <td>0.413995</td>\n",
              "      <td>0.077386</td>\n",
              "      <td>0.475646</td>\n",
              "      <td>0.872338</td>\n",
              "    </tr>\n",
              "    <tr>\n",
              "      <th>2020-07-03</th>\n",
              "      <td>0.859871</td>\n",
              "      <td>0.100152</td>\n",
              "      <td>0.535390</td>\n",
              "      <td>0.136130</td>\n",
              "    </tr>\n",
              "    <tr>\n",
              "      <th>2020-07-04</th>\n",
              "      <td>0.465853</td>\n",
              "      <td>0.358694</td>\n",
              "      <td>0.409059</td>\n",
              "      <td>0.322941</td>\n",
              "    </tr>\n",
              "    <tr>\n",
              "      <th>2020-07-05</th>\n",
              "      <td>0.205999</td>\n",
              "      <td>0.525487</td>\n",
              "      <td>0.971669</td>\n",
              "      <td>0.278853</td>\n",
              "    </tr>\n",
              "    <tr>\n",
              "      <th>2020-07-06</th>\n",
              "      <td>0.037999</td>\n",
              "      <td>0.654180</td>\n",
              "      <td>0.777799</td>\n",
              "      <td>0.199229</td>\n",
              "    </tr>\n",
              "  </tbody>\n",
              "</table>\n",
              "</div>\n",
              "      <button class=\"colab-df-convert\" onclick=\"convertToInteractive('df-e500623c-cb16-4444-b95c-e886aa8f369c')\"\n",
              "              title=\"Convert this dataframe to an interactive table.\"\n",
              "              style=\"display:none;\">\n",
              "        \n",
              "  <svg xmlns=\"http://www.w3.org/2000/svg\" height=\"24px\"viewBox=\"0 0 24 24\"\n",
              "       width=\"24px\">\n",
              "    <path d=\"M0 0h24v24H0V0z\" fill=\"none\"/>\n",
              "    <path d=\"M18.56 5.44l.94 2.06.94-2.06 2.06-.94-2.06-.94-.94-2.06-.94 2.06-2.06.94zm-11 1L8.5 8.5l.94-2.06 2.06-.94-2.06-.94L8.5 2.5l-.94 2.06-2.06.94zm10 10l.94 2.06.94-2.06 2.06-.94-2.06-.94-.94-2.06-.94 2.06-2.06.94z\"/><path d=\"M17.41 7.96l-1.37-1.37c-.4-.4-.92-.59-1.43-.59-.52 0-1.04.2-1.43.59L10.3 9.45l-7.72 7.72c-.78.78-.78 2.05 0 2.83L4 21.41c.39.39.9.59 1.41.59.51 0 1.02-.2 1.41-.59l7.78-7.78 2.81-2.81c.8-.78.8-2.07 0-2.86zM5.41 20L4 18.59l7.72-7.72 1.47 1.35L5.41 20z\"/>\n",
              "  </svg>\n",
              "      </button>\n",
              "      \n",
              "  <style>\n",
              "    .colab-df-container {\n",
              "      display:flex;\n",
              "      flex-wrap:wrap;\n",
              "      gap: 12px;\n",
              "    }\n",
              "\n",
              "    .colab-df-convert {\n",
              "      background-color: #E8F0FE;\n",
              "      border: none;\n",
              "      border-radius: 50%;\n",
              "      cursor: pointer;\n",
              "      display: none;\n",
              "      fill: #1967D2;\n",
              "      height: 32px;\n",
              "      padding: 0 0 0 0;\n",
              "      width: 32px;\n",
              "    }\n",
              "\n",
              "    .colab-df-convert:hover {\n",
              "      background-color: #E2EBFA;\n",
              "      box-shadow: 0px 1px 2px rgba(60, 64, 67, 0.3), 0px 1px 3px 1px rgba(60, 64, 67, 0.15);\n",
              "      fill: #174EA6;\n",
              "    }\n",
              "\n",
              "    [theme=dark] .colab-df-convert {\n",
              "      background-color: #3B4455;\n",
              "      fill: #D2E3FC;\n",
              "    }\n",
              "\n",
              "    [theme=dark] .colab-df-convert:hover {\n",
              "      background-color: #434B5C;\n",
              "      box-shadow: 0px 1px 3px 1px rgba(0, 0, 0, 0.15);\n",
              "      filter: drop-shadow(0px 1px 2px rgba(0, 0, 0, 0.3));\n",
              "      fill: #FFFFFF;\n",
              "    }\n",
              "  </style>\n",
              "\n",
              "      <script>\n",
              "        const buttonEl =\n",
              "          document.querySelector('#df-e500623c-cb16-4444-b95c-e886aa8f369c button.colab-df-convert');\n",
              "        buttonEl.style.display =\n",
              "          google.colab.kernel.accessAllowed ? 'block' : 'none';\n",
              "\n",
              "        async function convertToInteractive(key) {\n",
              "          const element = document.querySelector('#df-e500623c-cb16-4444-b95c-e886aa8f369c');\n",
              "          const dataTable =\n",
              "            await google.colab.kernel.invokeFunction('convertToInteractive',\n",
              "                                                     [key], {});\n",
              "          if (!dataTable) return;\n",
              "\n",
              "          const docLinkHtml = 'Like what you see? Visit the ' +\n",
              "            '<a target=\"_blank\" href=https://colab.research.google.com/notebooks/data_table.ipynb>data table notebook</a>'\n",
              "            + ' to learn more about interactive tables.';\n",
              "          element.innerHTML = '';\n",
              "          dataTable['output_type'] = 'display_data';\n",
              "          await google.colab.output.renderOutput(dataTable, element);\n",
              "          const docLink = document.createElement('div');\n",
              "          docLink.innerHTML = docLinkHtml;\n",
              "          element.appendChild(docLink);\n",
              "        }\n",
              "      </script>\n",
              "    </div>\n",
              "  </div>\n",
              "  "
            ]
          },
          "metadata": {},
          "execution_count": 46
        }
      ]
    },
    {
      "cell_type": "code",
      "source": [
        "#index를 기준으로 정렬\n",
        "df2.sort_index(axis=0, ascending=False)#내림차순"
      ],
      "metadata": {
        "id": "bUY0c3A0FWN-",
        "outputId": "67820a40-d6a5-4050-c316-b658de4912e5",
        "colab": {
          "base_uri": "https://localhost:8080/",
          "height": 237
        }
      },
      "execution_count": 41,
      "outputs": [
        {
          "output_type": "execute_result",
          "data": {
            "text/plain": [
              "                   A         B         C         D\n",
              "2020-07-06  0.870275  0.608129  0.432104  0.292816\n",
              "2020-07-05  0.760126  0.475116  0.891950  0.776343\n",
              "2020-07-04  0.619444  0.229360  0.457299  0.218787\n",
              "2020-07-03  0.765452  0.792910  0.970817  0.199845\n",
              "2020-07-02  0.235564  0.001955  0.508172  0.755637\n",
              "2020-07-01  0.231718  0.044387  0.790011  0.452193"
            ],
            "text/html": [
              "\n",
              "  <div id=\"df-88fe0ab8-592d-4ea8-b094-cb01af276c1f\">\n",
              "    <div class=\"colab-df-container\">\n",
              "      <div>\n",
              "<style scoped>\n",
              "    .dataframe tbody tr th:only-of-type {\n",
              "        vertical-align: middle;\n",
              "    }\n",
              "\n",
              "    .dataframe tbody tr th {\n",
              "        vertical-align: top;\n",
              "    }\n",
              "\n",
              "    .dataframe thead th {\n",
              "        text-align: right;\n",
              "    }\n",
              "</style>\n",
              "<table border=\"1\" class=\"dataframe\">\n",
              "  <thead>\n",
              "    <tr style=\"text-align: right;\">\n",
              "      <th></th>\n",
              "      <th>A</th>\n",
              "      <th>B</th>\n",
              "      <th>C</th>\n",
              "      <th>D</th>\n",
              "    </tr>\n",
              "  </thead>\n",
              "  <tbody>\n",
              "    <tr>\n",
              "      <th>2020-07-06</th>\n",
              "      <td>0.870275</td>\n",
              "      <td>0.608129</td>\n",
              "      <td>0.432104</td>\n",
              "      <td>0.292816</td>\n",
              "    </tr>\n",
              "    <tr>\n",
              "      <th>2020-07-05</th>\n",
              "      <td>0.760126</td>\n",
              "      <td>0.475116</td>\n",
              "      <td>0.891950</td>\n",
              "      <td>0.776343</td>\n",
              "    </tr>\n",
              "    <tr>\n",
              "      <th>2020-07-04</th>\n",
              "      <td>0.619444</td>\n",
              "      <td>0.229360</td>\n",
              "      <td>0.457299</td>\n",
              "      <td>0.218787</td>\n",
              "    </tr>\n",
              "    <tr>\n",
              "      <th>2020-07-03</th>\n",
              "      <td>0.765452</td>\n",
              "      <td>0.792910</td>\n",
              "      <td>0.970817</td>\n",
              "      <td>0.199845</td>\n",
              "    </tr>\n",
              "    <tr>\n",
              "      <th>2020-07-02</th>\n",
              "      <td>0.235564</td>\n",
              "      <td>0.001955</td>\n",
              "      <td>0.508172</td>\n",
              "      <td>0.755637</td>\n",
              "    </tr>\n",
              "    <tr>\n",
              "      <th>2020-07-01</th>\n",
              "      <td>0.231718</td>\n",
              "      <td>0.044387</td>\n",
              "      <td>0.790011</td>\n",
              "      <td>0.452193</td>\n",
              "    </tr>\n",
              "  </tbody>\n",
              "</table>\n",
              "</div>\n",
              "      <button class=\"colab-df-convert\" onclick=\"convertToInteractive('df-88fe0ab8-592d-4ea8-b094-cb01af276c1f')\"\n",
              "              title=\"Convert this dataframe to an interactive table.\"\n",
              "              style=\"display:none;\">\n",
              "        \n",
              "  <svg xmlns=\"http://www.w3.org/2000/svg\" height=\"24px\"viewBox=\"0 0 24 24\"\n",
              "       width=\"24px\">\n",
              "    <path d=\"M0 0h24v24H0V0z\" fill=\"none\"/>\n",
              "    <path d=\"M18.56 5.44l.94 2.06.94-2.06 2.06-.94-2.06-.94-.94-2.06-.94 2.06-2.06.94zm-11 1L8.5 8.5l.94-2.06 2.06-.94-2.06-.94L8.5 2.5l-.94 2.06-2.06.94zm10 10l.94 2.06.94-2.06 2.06-.94-2.06-.94-.94-2.06-.94 2.06-2.06.94z\"/><path d=\"M17.41 7.96l-1.37-1.37c-.4-.4-.92-.59-1.43-.59-.52 0-1.04.2-1.43.59L10.3 9.45l-7.72 7.72c-.78.78-.78 2.05 0 2.83L4 21.41c.39.39.9.59 1.41.59.51 0 1.02-.2 1.41-.59l7.78-7.78 2.81-2.81c.8-.78.8-2.07 0-2.86zM5.41 20L4 18.59l7.72-7.72 1.47 1.35L5.41 20z\"/>\n",
              "  </svg>\n",
              "      </button>\n",
              "      \n",
              "  <style>\n",
              "    .colab-df-container {\n",
              "      display:flex;\n",
              "      flex-wrap:wrap;\n",
              "      gap: 12px;\n",
              "    }\n",
              "\n",
              "    .colab-df-convert {\n",
              "      background-color: #E8F0FE;\n",
              "      border: none;\n",
              "      border-radius: 50%;\n",
              "      cursor: pointer;\n",
              "      display: none;\n",
              "      fill: #1967D2;\n",
              "      height: 32px;\n",
              "      padding: 0 0 0 0;\n",
              "      width: 32px;\n",
              "    }\n",
              "\n",
              "    .colab-df-convert:hover {\n",
              "      background-color: #E2EBFA;\n",
              "      box-shadow: 0px 1px 2px rgba(60, 64, 67, 0.3), 0px 1px 3px 1px rgba(60, 64, 67, 0.15);\n",
              "      fill: #174EA6;\n",
              "    }\n",
              "\n",
              "    [theme=dark] .colab-df-convert {\n",
              "      background-color: #3B4455;\n",
              "      fill: #D2E3FC;\n",
              "    }\n",
              "\n",
              "    [theme=dark] .colab-df-convert:hover {\n",
              "      background-color: #434B5C;\n",
              "      box-shadow: 0px 1px 3px 1px rgba(0, 0, 0, 0.15);\n",
              "      filter: drop-shadow(0px 1px 2px rgba(0, 0, 0, 0.3));\n",
              "      fill: #FFFFFF;\n",
              "    }\n",
              "  </style>\n",
              "\n",
              "      <script>\n",
              "        const buttonEl =\n",
              "          document.querySelector('#df-88fe0ab8-592d-4ea8-b094-cb01af276c1f button.colab-df-convert');\n",
              "        buttonEl.style.display =\n",
              "          google.colab.kernel.accessAllowed ? 'block' : 'none';\n",
              "\n",
              "        async function convertToInteractive(key) {\n",
              "          const element = document.querySelector('#df-88fe0ab8-592d-4ea8-b094-cb01af276c1f');\n",
              "          const dataTable =\n",
              "            await google.colab.kernel.invokeFunction('convertToInteractive',\n",
              "                                                     [key], {});\n",
              "          if (!dataTable) return;\n",
              "\n",
              "          const docLinkHtml = 'Like what you see? Visit the ' +\n",
              "            '<a target=\"_blank\" href=https://colab.research.google.com/notebooks/data_table.ipynb>data table notebook</a>'\n",
              "            + ' to learn more about interactive tables.';\n",
              "          element.innerHTML = '';\n",
              "          dataTable['output_type'] = 'display_data';\n",
              "          await google.colab.output.renderOutput(dataTable, element);\n",
              "          const docLink = document.createElement('div');\n",
              "          docLink.innerHTML = docLinkHtml;\n",
              "          element.appendChild(docLink);\n",
              "        }\n",
              "      </script>\n",
              "    </div>\n",
              "  </div>\n",
              "  "
            ]
          },
          "metadata": {},
          "execution_count": 41
        }
      ]
    },
    {
      "cell_type": "code",
      "source": [
        "df2['E'] = np.random.randint(0,6, size=6)\n",
        "df2['F'] = ['alpha', 'beta', 'gamma', 'gamma', 'alpha', 'gamma']\n",
        "df2"
      ],
      "metadata": {
        "id": "l195cB3vIuq0",
        "outputId": "4ad5f8b5-d718-465d-df32-4100c0eb36eb",
        "colab": {
          "base_uri": "https://localhost:8080/",
          "height": 237
        }
      },
      "execution_count": 49,
      "outputs": [
        {
          "output_type": "execute_result",
          "data": {
            "text/plain": [
              "                   A         B         C         D  E      F\n",
              "2020-07-01  0.657824  0.581445  0.126648  0.394581  5  alpha\n",
              "2020-07-02  0.413995  0.077386  0.475646  0.872338  5   beta\n",
              "2020-07-03  0.859871  0.100152  0.535390  0.136130  0  gamma\n",
              "2020-07-04  0.465853  0.358694  0.409059  0.322941  1  gamma\n",
              "2020-07-05  0.205999  0.525487  0.971669  0.278853  3  alpha\n",
              "2020-07-06  0.037999  0.654180  0.777799  0.199229  4  gamma"
            ],
            "text/html": [
              "\n",
              "  <div id=\"df-51486e55-6a09-4911-be37-e2794692cb1c\">\n",
              "    <div class=\"colab-df-container\">\n",
              "      <div>\n",
              "<style scoped>\n",
              "    .dataframe tbody tr th:only-of-type {\n",
              "        vertical-align: middle;\n",
              "    }\n",
              "\n",
              "    .dataframe tbody tr th {\n",
              "        vertical-align: top;\n",
              "    }\n",
              "\n",
              "    .dataframe thead th {\n",
              "        text-align: right;\n",
              "    }\n",
              "</style>\n",
              "<table border=\"1\" class=\"dataframe\">\n",
              "  <thead>\n",
              "    <tr style=\"text-align: right;\">\n",
              "      <th></th>\n",
              "      <th>A</th>\n",
              "      <th>B</th>\n",
              "      <th>C</th>\n",
              "      <th>D</th>\n",
              "      <th>E</th>\n",
              "      <th>F</th>\n",
              "    </tr>\n",
              "  </thead>\n",
              "  <tbody>\n",
              "    <tr>\n",
              "      <th>2020-07-01</th>\n",
              "      <td>0.657824</td>\n",
              "      <td>0.581445</td>\n",
              "      <td>0.126648</td>\n",
              "      <td>0.394581</td>\n",
              "      <td>5</td>\n",
              "      <td>alpha</td>\n",
              "    </tr>\n",
              "    <tr>\n",
              "      <th>2020-07-02</th>\n",
              "      <td>0.413995</td>\n",
              "      <td>0.077386</td>\n",
              "      <td>0.475646</td>\n",
              "      <td>0.872338</td>\n",
              "      <td>5</td>\n",
              "      <td>beta</td>\n",
              "    </tr>\n",
              "    <tr>\n",
              "      <th>2020-07-03</th>\n",
              "      <td>0.859871</td>\n",
              "      <td>0.100152</td>\n",
              "      <td>0.535390</td>\n",
              "      <td>0.136130</td>\n",
              "      <td>0</td>\n",
              "      <td>gamma</td>\n",
              "    </tr>\n",
              "    <tr>\n",
              "      <th>2020-07-04</th>\n",
              "      <td>0.465853</td>\n",
              "      <td>0.358694</td>\n",
              "      <td>0.409059</td>\n",
              "      <td>0.322941</td>\n",
              "      <td>1</td>\n",
              "      <td>gamma</td>\n",
              "    </tr>\n",
              "    <tr>\n",
              "      <th>2020-07-05</th>\n",
              "      <td>0.205999</td>\n",
              "      <td>0.525487</td>\n",
              "      <td>0.971669</td>\n",
              "      <td>0.278853</td>\n",
              "      <td>3</td>\n",
              "      <td>alpha</td>\n",
              "    </tr>\n",
              "    <tr>\n",
              "      <th>2020-07-06</th>\n",
              "      <td>0.037999</td>\n",
              "      <td>0.654180</td>\n",
              "      <td>0.777799</td>\n",
              "      <td>0.199229</td>\n",
              "      <td>4</td>\n",
              "      <td>gamma</td>\n",
              "    </tr>\n",
              "  </tbody>\n",
              "</table>\n",
              "</div>\n",
              "      <button class=\"colab-df-convert\" onclick=\"convertToInteractive('df-51486e55-6a09-4911-be37-e2794692cb1c')\"\n",
              "              title=\"Convert this dataframe to an interactive table.\"\n",
              "              style=\"display:none;\">\n",
              "        \n",
              "  <svg xmlns=\"http://www.w3.org/2000/svg\" height=\"24px\"viewBox=\"0 0 24 24\"\n",
              "       width=\"24px\">\n",
              "    <path d=\"M0 0h24v24H0V0z\" fill=\"none\"/>\n",
              "    <path d=\"M18.56 5.44l.94 2.06.94-2.06 2.06-.94-2.06-.94-.94-2.06-.94 2.06-2.06.94zm-11 1L8.5 8.5l.94-2.06 2.06-.94-2.06-.94L8.5 2.5l-.94 2.06-2.06.94zm10 10l.94 2.06.94-2.06 2.06-.94-2.06-.94-.94-2.06-.94 2.06-2.06.94z\"/><path d=\"M17.41 7.96l-1.37-1.37c-.4-.4-.92-.59-1.43-.59-.52 0-1.04.2-1.43.59L10.3 9.45l-7.72 7.72c-.78.78-.78 2.05 0 2.83L4 21.41c.39.39.9.59 1.41.59.51 0 1.02-.2 1.41-.59l7.78-7.78 2.81-2.81c.8-.78.8-2.07 0-2.86zM5.41 20L4 18.59l7.72-7.72 1.47 1.35L5.41 20z\"/>\n",
              "  </svg>\n",
              "      </button>\n",
              "      \n",
              "  <style>\n",
              "    .colab-df-container {\n",
              "      display:flex;\n",
              "      flex-wrap:wrap;\n",
              "      gap: 12px;\n",
              "    }\n",
              "\n",
              "    .colab-df-convert {\n",
              "      background-color: #E8F0FE;\n",
              "      border: none;\n",
              "      border-radius: 50%;\n",
              "      cursor: pointer;\n",
              "      display: none;\n",
              "      fill: #1967D2;\n",
              "      height: 32px;\n",
              "      padding: 0 0 0 0;\n",
              "      width: 32px;\n",
              "    }\n",
              "\n",
              "    .colab-df-convert:hover {\n",
              "      background-color: #E2EBFA;\n",
              "      box-shadow: 0px 1px 2px rgba(60, 64, 67, 0.3), 0px 1px 3px 1px rgba(60, 64, 67, 0.15);\n",
              "      fill: #174EA6;\n",
              "    }\n",
              "\n",
              "    [theme=dark] .colab-df-convert {\n",
              "      background-color: #3B4455;\n",
              "      fill: #D2E3FC;\n",
              "    }\n",
              "\n",
              "    [theme=dark] .colab-df-convert:hover {\n",
              "      background-color: #434B5C;\n",
              "      box-shadow: 0px 1px 3px 1px rgba(0, 0, 0, 0.15);\n",
              "      filter: drop-shadow(0px 1px 2px rgba(0, 0, 0, 0.3));\n",
              "      fill: #FFFFFF;\n",
              "    }\n",
              "  </style>\n",
              "\n",
              "      <script>\n",
              "        const buttonEl =\n",
              "          document.querySelector('#df-51486e55-6a09-4911-be37-e2794692cb1c button.colab-df-convert');\n",
              "        buttonEl.style.display =\n",
              "          google.colab.kernel.accessAllowed ? 'block' : 'none';\n",
              "\n",
              "        async function convertToInteractive(key) {\n",
              "          const element = document.querySelector('#df-51486e55-6a09-4911-be37-e2794692cb1c');\n",
              "          const dataTable =\n",
              "            await google.colab.kernel.invokeFunction('convertToInteractive',\n",
              "                                                     [key], {});\n",
              "          if (!dataTable) return;\n",
              "\n",
              "          const docLinkHtml = 'Like what you see? Visit the ' +\n",
              "            '<a target=\"_blank\" href=https://colab.research.google.com/notebooks/data_table.ipynb>data table notebook</a>'\n",
              "            + ' to learn more about interactive tables.';\n",
              "          element.innerHTML = '';\n",
              "          dataTable['output_type'] = 'display_data';\n",
              "          await google.colab.output.renderOutput(dataTable, element);\n",
              "          const docLink = document.createElement('div');\n",
              "          docLink.innerHTML = docLinkHtml;\n",
              "          element.appendChild(docLink);\n",
              "        }\n",
              "      </script>\n",
              "    </div>\n",
              "  </div>\n",
              "  "
            ]
          },
          "metadata": {},
          "execution_count": 49
        }
      ]
    },
    {
      "cell_type": "code",
      "source": [
        "df2['F'].unique()"
      ],
      "metadata": {
        "id": "_zUjGDLVJ6Do",
        "outputId": "fcae3aae-540c-41e8-e825-4a059fd0b051",
        "colab": {
          "base_uri": "https://localhost:8080/"
        }
      },
      "execution_count": 51,
      "outputs": [
        {
          "output_type": "execute_result",
          "data": {
            "text/plain": [
              "array(['alpha', 'beta', 'gamma'], dtype=object)"
            ]
          },
          "metadata": {},
          "execution_count": 51
        }
      ]
    },
    {
      "cell_type": "code",
      "source": [
        "df2['F'].value_counts()"
      ],
      "metadata": {
        "id": "nRcv5XHbKEjz",
        "outputId": "13c98ec9-01db-4d97-981f-e9a337040bcb",
        "colab": {
          "base_uri": "https://localhost:8080/"
        }
      },
      "execution_count": 52,
      "outputs": [
        {
          "output_type": "execute_result",
          "data": {
            "text/plain": [
              "gamma    3\n",
              "alpha    2\n",
              "beta     1\n",
              "Name: F, dtype: int64"
            ]
          },
          "metadata": {},
          "execution_count": 52
        }
      ]
    }
  ]
}