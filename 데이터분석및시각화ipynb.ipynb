{
  "nbformat": 4,
  "nbformat_minor": 0,
  "metadata": {
    "colab": {
      "provenance": [],
      "mount_file_id": "1OGzAFONZr1XPCkzxq2SGpO8BfDWQypne",
      "authorship_tag": "ABX9TyNTQ5pt43hlXwPIafHiySG/",
      "include_colab_link": true
    },
    "kernelspec": {
      "name": "python3",
      "display_name": "Python 3"
    },
    "language_info": {
      "name": "python"
    }
  },
  "cells": [
    {
      "cell_type": "markdown",
      "metadata": {
        "id": "view-in-github",
        "colab_type": "text"
      },
      "source": [
        "<a href=\"https://colab.research.google.com/github/kig2929kig/colab/blob/main/%EB%8D%B0%EC%9D%B4%ED%84%B0%EB%B6%84%EC%84%9D%EB%B0%8F%EC%8B%9C%EA%B0%81%ED%99%94ipynb.ipynb\" target=\"_parent\"><img src=\"https://colab.research.google.com/assets/colab-badge.svg\" alt=\"Open In Colab\"/></a>"
      ]
    },
    {
      "cell_type": "markdown",
      "source": [
        "# 데이터 분석과 시각화\n",
        "+ 기상자료개방포털 (https://data.kma.go.kr)  \n",
        "+ 공공데이터포털  \n",
        "+ 서울 열린데이터 광장\n",
        "\n",
        "##  CSV 파일\n",
        "+ CSV(Comma-Separated Values) 각각의 데이터 값을 콤마(,)로 구분하는 파일.\n",
        "+ 데이터 분석 전문가들이 자주 사용하는 파일 형식.\n",
        "+ 메모장, 엑셀 프로그램에서 열어볼 수 있음.\n",
        "+ 공공데이터포털에서 제공하는 파일 형식"
      ],
      "metadata": {
        "id": "IyBBwOY7-B4Y"
      }
    },
    {
      "cell_type": "code",
      "execution_count": 12,
      "metadata": {
        "colab": {
          "base_uri": "https://localhost:8080/"
        },
        "id": "s6OrZOTu-BL4",
        "outputId": "79689956-7875-4adf-8eee-604ea4e3082b"
      },
      "outputs": [
        {
          "output_type": "stream",
          "name": "stdout",
          "text": [
            "<_csv.reader object at 0x7f19675294d0>\n",
            "['기온분석']\n",
            "['[검색조건]']\n",
            "['자료구분 : 일']\n",
            "['자료형태 : 기본']\n",
            "['지역/지점 : 서울']\n",
            "['기간 : 20221002~20221031']\n",
            "[]\n",
            "['날짜', '지점', '평균기온(℃)', '최저기온(℃)', '최고기온(℃)']\n",
            "[]\n",
            "['\\t2022-10-02', '108', '19.4', '17.2', '21.6']\n",
            "['\\t2022-10-03', '108', '21.4', '17.5', '23.4']\n",
            "['\\t2022-10-04', '108', '17.9', '14.2', '23']\n",
            "['\\t2022-10-05', '108', '16.6', '14.1', '21.6']\n",
            "['\\t2022-10-06', '108', '15.8', '12.7', '19.1']\n",
            "['\\t2022-10-07', '108', '14.3', '11', '18.6']\n",
            "['\\t2022-10-08', '108', '15.8', '11.1', '21.6']\n",
            "['\\t2022-10-09', '108', '13.1', '10.7', '14.5']\n",
            "['\\t2022-10-10', '108', '9.9', '8.2', '11.9']\n",
            "['\\t2022-10-11', '108', '11.1', '7.4', '16.4']\n",
            "['\\t2022-10-12', '108', '13.5', '6.5', '20.6']\n",
            "['\\t2022-10-13', '108', '16.3', '10.7', '22.7']\n",
            "['\\t2022-10-14', '108', '17.1', '12.4', '23']\n",
            "['\\t2022-10-15', '108', '18.2', '12.6', '24.4']\n",
            "['\\t2022-10-16', '108', '16.9', '15.1', '20.5']\n",
            "['\\t2022-10-17', '108', '11.2', '7.4', '15.1']\n",
            "['\\t2022-10-18', '108', '9.4', '5', '14.2']\n",
            "['\\t2022-10-19', '108', '10.5', '4.4', '16.8']\n",
            "['\\t2022-10-20', '108', '12.9', '6', '19.7']\n",
            "['\\t2022-10-21', '108', '14', '8.8', '20.9']\n",
            "['\\t2022-10-22', '108', '15.1', '10.5', '20.8']\n",
            "['\\t2022-10-23', '108', '14', '10.4', '18.6']\n",
            "['\\t2022-10-24', '108', '10.6', '7.5', '14.8']\n",
            "['\\t2022-10-25', '108', '11.3', '5.9', '17.6']\n",
            "['\\t2022-10-26', '108', '12.9', '8', '17.8']\n",
            "['\\t2022-10-27', '108', '13.2', '8.6', '18.9']\n",
            "['\\t2022-10-28', '108', '13.6', '8.2', '20.6']\n",
            "['\\t2022-10-29', '108', '14.8', '10.2', '21.3']\n",
            "['\\t2022-10-30', '108', '14.9', '10.4', '21.3']\n",
            "['\\t2022-10-31', '108', '14.9', '11.2', '21.1']\n",
            "['\\t']\n",
            "[]\n"
          ]
        }
      ],
      "source": [
        "import csv\n",
        "\n",
        "f = open('/content/drive/MyDrive/Colab Notebooks/test.csv', 'r', encoding='cp949') #utf8\n",
        "\n",
        "data = csv.reader(f, delimiter=',')\n",
        "#print(data)\n",
        "for row in data : #리스트 - 인덱싱과 슬라이싱 가능\n",
        "  print(row) # 한줄씩 출력\n",
        "\n",
        "f.close()\n"
      ]
    },
    {
      "cell_type": "markdown",
      "source": [
        "## 헤더 저장\n",
        "+ 데이터 파일에서 여러 가지 값들이 어떤 의미를 갖는지 표시한 행\n",
        "+ 수많은 데이터를 다룰 때 표지판과 같은 역할\n",
        "+ 헤더를 통해 각 열의 데이터가 어떤 의미를 갖는지 알 수 있기 때문에 매우 중요한 데이터"
      ],
      "metadata": {
        "id": "IqS5Z-dxEcVO"
      }
    },
    {
      "cell_type": "code",
      "source": [
        "import csv\n",
        "\n",
        "f = open('/content/drive/MyDrive/Colab Notebooks/test.csv', 'r', encoding='cp949') \n",
        "\n",
        "data = csv.reader(f)\n",
        "\n",
        "header = next(data)# next() 메소드를 사용하여 데이터의 첫 번째 행을 변수에 저장\n",
        "print(header) \n",
        "f.close()"
      ],
      "metadata": {
        "colab": {
          "base_uri": "https://localhost:8080/"
        },
        "id": "BIZnGegSEvEx",
        "outputId": "9f9fa810-0b90-45b1-8785-2d89718b02b3"
      },
      "execution_count": 22,
      "outputs": [
        {
          "output_type": "stream",
          "name": "stdout",
          "text": [
            "['기온분석']\n"
          ]
        }
      ]
    }
  ]
}