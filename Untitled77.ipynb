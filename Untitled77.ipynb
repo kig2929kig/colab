{
  "nbformat": 4,
  "nbformat_minor": 0,
  "metadata": {
    "colab": {
      "provenance": [],
      "authorship_tag": "ABX9TyN1//iw192V9YQs3oCC4mUx",
      "include_colab_link": true
    },
    "kernelspec": {
      "name": "python3",
      "display_name": "Python 3"
    },
    "language_info": {
      "name": "python"
    }
  },
  "cells": [
    {
      "cell_type": "markdown",
      "metadata": {
        "id": "view-in-github",
        "colab_type": "text"
      },
      "source": [
        "<a href=\"https://colab.research.google.com/github/kig2929kig/colab/blob/main/Untitled77.ipynb\" target=\"_parent\"><img src=\"https://colab.research.google.com/assets/colab-badge.svg\" alt=\"Open In Colab\"/></a>"
      ]
    },
    {
      "cell_type": "code",
      "execution_count": null,
      "metadata": {
        "id": "3XBo9hWXjz-w"
      },
      "outputs": [],
      "source": [
        "!pip install requests\n",
        "!pip install bs4"
      ]
    },
    {
      "cell_type": "code",
      "source": [
        "from bs4 import BeautifulSoup\n",
        "import requests\n",
        "\n",
        "search_word = \"안산공업고등학교\" \n",
        "title_list = []\n",
        "\n",
        "def naver_news_get(start_num, end_num) :\n",
        "  while start_num <= end_num :\n",
        "    url = 'https://search.naver.com/search.naver?where=news&sm=tab_jum&query={}&start={}'.format(search_word,start_num)\n",
        "    req = requests.get(url)\n",
        "    #print(req)\n",
        "    start_num += 1\n",
        "    if req.ok :\n",
        "      html = req.text\n",
        "      soup = BeautifulSoup(html, \"html.parser\")\n",
        "      #print(soup)\n",
        "      titles = soup.select('.news_tit')\n",
        "      for title in titles :\n",
        "        title_list.append(title['title'])\n",
        "  return title_list\n",
        "print(naver_news_get(1,5))"
      ],
      "metadata": {
        "id": "2-_NWoI9kVwQ"
      },
      "execution_count": null,
      "outputs": []
    },
    {
      "cell_type": "code",
      "source": [
        "!pip install konlpy"
      ],
      "metadata": {
        "id": "_Ci-WGuGkv6_"
      },
      "execution_count": null,
      "outputs": []
    },
    {
      "cell_type": "code",
      "source": [
        "from konlpy.tag import Kkma\n",
        "from konlpy.utils import pprint\n",
        "\n",
        "def classification() :\n",
        "  temp = []\n",
        "  noun_list = []\n",
        "  kkma = Kkma()\n",
        "  titles = naver_news_get(1,10)\n",
        "  for title in titles :\n",
        "    morph = kkma.pos(title)\n",
        "    temp.append(morph)\n",
        "  \n",
        "  #print(temp)\n",
        "  \n",
        "  for sentence in temp :\n",
        "    for word, tag in sentence :\n",
        "      if tag in ['NNG'] :\n",
        "         noun_list.append(word)\n",
        "  #print(noun_adj_list)\n",
        "  return noun_list\n",
        "print(classification())"
      ],
      "metadata": {
        "id": "bvbX5UHDlBb2"
      },
      "execution_count": null,
      "outputs": []
    },
    {
      "cell_type": "code",
      "source": [
        "from collections import Counter\n",
        "\n",
        "def word_count() :\n",
        "  temp_list = classification()\n",
        "  counts = Counter(temp_list)\n",
        "  tags = counts.most_common(15) # 15개 명사만\n",
        "  \n",
        "  return tags\n",
        "\n",
        "print(word_count())"
      ],
      "metadata": {
        "id": "pU0Jek8mlgug"
      },
      "execution_count": null,
      "outputs": []
    }
  ]
}