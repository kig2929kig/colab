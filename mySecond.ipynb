{
  "nbformat": 4,
  "nbformat_minor": 0,
  "metadata": {
    "colab": {
      "name": "mySecond.ipynb",
      "provenance": [],
      "authorship_tag": "ABX9TyMU4osH7shra0JPW7a+Qs/B",
      "include_colab_link": true
    },
    "kernelspec": {
      "name": "python3",
      "display_name": "Python 3"
    },
    "language_info": {
      "name": "python"
    }
  },
  "cells": [
    {
      "cell_type": "markdown",
      "metadata": {
        "id": "view-in-github",
        "colab_type": "text"
      },
      "source": [
        "<a href=\"https://colab.research.google.com/github/kig2929kig/colab/blob/main/mySecond.ipynb\" target=\"_parent\"><img src=\"https://colab.research.google.com/assets/colab-badge.svg\" alt=\"Open In Colab\"/></a>"
      ]
    },
    {
      "cell_type": "code",
      "execution_count": 1,
      "metadata": {
        "colab": {
          "base_uri": "https://localhost:8080/"
        },
        "id": "zZYAgkzDQiCi",
        "outputId": "a48d689a-ff30-477f-e5c3-8ad7878fac48"
      },
      "outputs": [
        {
          "output_type": "stream",
          "name": "stdout",
          "text": [
            "두번째 파일입니다.\n",
            "난생처음 파이썬을 공부하지만, 점점 익숙해지는 것 같아요. :)\n"
          ]
        }
      ],
      "source": [
        "print(\"두번째 파일입니다.\")\n",
        "print(\"난생처음 파이썬을 공부하지만, 점점 익숙해지는 것 같아요. :)\")"
      ]
    }
  ]
}