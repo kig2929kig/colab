{
  "nbformat": 4,
  "nbformat_minor": 0,
  "metadata": {
    "colab": {
      "name": "Lession4.ipynb",
      "provenance": [],
      "authorship_tag": "ABX9TyOQjALldDyMAJWO6Dbuq+ly",
      "include_colab_link": true
    },
    "kernelspec": {
      "name": "python3",
      "display_name": "Python 3"
    },
    "language_info": {
      "name": "python"
    }
  },
  "cells": [
    {
      "cell_type": "markdown",
      "metadata": {
        "id": "view-in-github",
        "colab_type": "text"
      },
      "source": [
        "<a href=\"https://colab.research.google.com/github/kig2929kig/colab/blob/main/Lession4.ipynb\" target=\"_parent\"><img src=\"https://colab.research.google.com/assets/colab-badge.svg\" alt=\"Open In Colab\"/></a>"
      ]
    },
    {
      "cell_type": "markdown",
      "source": [
        "4장 "
      ],
      "metadata": {
        "id": "pPoRpxyua9YQ"
      }
    },
    {
      "cell_type": "markdown",
      "source": [
        "데이터 타입 "
      ],
      "metadata": {
        "id": "JR5CPNHnbw9A"
      }
    },
    {
      "cell_type": "code",
      "execution_count": 2,
      "metadata": {
        "colab": {
          "base_uri": "https://localhost:8080/"
        },
        "id": "cyv-8gwea5xy",
        "outputId": "03c47aab-133f-4588-b4b3-24eebf265de8"
      },
      "outputs": [
        {
          "output_type": "stream",
          "name": "stdout",
          "text": [
            "var1 변수의 데이터 타입은  <class 'int'>\n",
            "var2 변수의 데이터 타입은  <class 'float'>\n",
            "var3 변수의 데이터 타입은  <class 'str'>\n",
            "var4 변수의 데이터 타입은  <class 'bool'>\n"
          ]
        }
      ],
      "source": [
        "var1, var2, var3, var4 = 100, 3.14, \"안산공고\", True\n",
        "print(\"var1 변수의 데이터 타입은 \" ,type(var1))\n",
        "print(\"var2 변수의 데이터 타입은 \" ,type(var2))\n",
        "print(\"var3 변수의 데이터 타입은 \" ,type(var3))\n",
        "print(\"var4 변수의 데이터 타입은 \" ,type(var4))"
      ]
    },
    {
      "cell_type": "markdown",
      "source": [],
      "metadata": {
        "id": "u0j8SlDXoZkE"
      }
    },
    {
      "cell_type": "markdown",
      "source": [
        "문자열 함수 예제 len(), upper(), lower(), count(), isupper(), islower()\n",
        "\n"
      ],
      "metadata": {
        "id": "_BvsnBqloZ0i"
      }
    },
    {
      "cell_type": "code",
      "source": [
        "str1 = input(\"문자열 입력 : \")\n",
        "print(\"입력된 문자열의 길이 : \", len(str1))\n",
        "print(\"입력된 문자열을 대문자로 변환 : \", str1.upper())\n",
        "print(\"입력된 문자열을 소문자로 변환 : \", str1.lower())\n",
        "print(\"입력된 문자열 중 ansan 몇번 나오는지 : \", str1.count(\"ansan\"))\n",
        "print(\"입력된 문자열은 대문자인가요? \", str1.isupper())\n",
        "print(\"입력된 문자열은 소문자인가요? \", str1.islower())"
      ],
      "metadata": {
        "colab": {
          "base_uri": "https://localhost:8080/"
        },
        "id": "DlgtgOQNoc-Z",
        "outputId": "eba2f51f-d70e-40de-eda1-34fd52b186a7"
      },
      "execution_count": 3,
      "outputs": [
        {
          "output_type": "stream",
          "name": "stdout",
          "text": [
            "문자열 입력 : Ansan Technical High School, Ansan-Si, Ansan lake\n",
            "입력된 문자열의 길이 :  49\n",
            "입력된 문자열을 대문자로 변환 :  ANSAN TECHNICAL HIGH SCHOOL, ANSAN-SI, ANSAN LAKE\n",
            "입력된 문자열을 소문자로 변환 :  ansan technical high school, ansan-si, ansan lake\n",
            "입력된 문자열 중 ansan 몇번 나오는지 :  0\n",
            "입력된 문자열은 대문자인가요?  False\n",
            "입력된 문자열은 소문자인가요?  False\n"
          ]
        }
      ]
    },
    {
      "cell_type": "markdown",
      "source": [
        "Let it be 가사 중 Let it be가 몇번 나오는지 출력하는 프로그램"
      ],
      "metadata": {
        "id": "yLPBt_C_qzJs"
      }
    },
    {
      "cell_type": "markdown",
      "source": [
        "\"\"\"\n",
        "When I find myself in times of trouble\n",
        "Mother Mary comes to me\n",
        "Speaking words of wisdom\n",
        "Let it be\n",
        "And in my hour of darkness\n",
        "She is standing right in front of me\n",
        "Speaking words of wisdom\n",
        "Let it be\n",
        "Let is be, let it be\n",
        "Let it be, let it be\n",
        "Whisper words of wisdom\n",
        "Let it be\n",
        "And when the brokenhearted people\n",
        "Living in the world agree\n",
        "There will be an answer\n",
        "Let it be\n",
        "For though they may be parted\n",
        "There is still a chance that they will see\n",
        "There will be an answer\n",
        "Let it be\n",
        "Let is be, let it be\n",
        "Let it be, let it be\n",
        "Yeah, there will be an answer\n",
        "Let it be\n",
        "Let is be, let it be\n",
        "Let it be, let it be\n",
        "Whisper words of wisdom\n",
        "Let it be\n",
        "Let is be, let it be\n",
        "Let it be, yeah, let it be\n",
        "Whisper words of wisdom\n",
        "Let it be\n",
        "And when the night is cloudy\n",
        "There is still a light that shines on me\n",
        "Shine on 'til tomorrow\n",
        "Let it be\n",
        "I wake up to the sound of music\n",
        "Mother Mary comes to me\n",
        "Speaking words of wisdom\n",
        "Let it be, yeah\n",
        "Let it be, let it be\n",
        "Let it be, yeah, let it be\n",
        "Oh, there will be an answer\n",
        "Let it be\n",
        "Let it be, let it be\n",
        "Let it be, yeah, let it be\n",
        "Whisper words of wisdom\n",
        "Let it be\n",
        "\"\"\"\n"
      ],
      "metadata": {
        "id": "WsA9dgkbq7nN"
      }
    },
    {
      "cell_type": "code",
      "source": [
        "lyrics = \"\"\" \n",
        "     When I find myself in times of trouble \n",
        "     Mother Mary comes to me Speaking words of wisdom \n",
        "     Let it be And in my hour of darkness She is standing \n",
        "     right in front of me Speaking words of wisdom \n",
        "     Let it be Let is be, let it be Let it be, let it be \n",
        "     Whisper words of wisdom Let it be And when the brokenhearted people \n",
        "     Living in the world agree There will be an answer Let it be \n",
        "     For though they may be parted There is still a chance that \n",
        "     they will see There will be an answer Let it be Let is be, \n",
        "     let it be Let it be, let it be Yeah, there will be an answer \n",
        "     Let it be Let is be, let it be Let it be, let it be \n",
        "     Whisper words of wisdom Let it be Let is be, let it be \n",
        "     Let it be, yeah, let it be Whisper words of wisdom Let it be \n",
        "     And when the night is cloudy There is still a light that \n",
        "     shines on me Shine on 'til tomorrow Let it be \n",
        "     I wake up to the sound of music Mother Mary comes to me \n",
        "     Speaking words of wisdom Let it be, yeah Let it be, let it be \n",
        "     Let it be, yeah, let it be Oh, there will be an answer \n",
        "     Let it be Let it be, let it be Let it be, yeah, let it be \n",
        "     Whisper words of wisdom Let it be\n",
        "     \"\"\"\n",
        "\n",
        "count = lyrics.upper()\n",
        "count = count.count(\"LET IT BE\")\n",
        "print(\"Let it be 는 총 \",count ,\"번 나옵니다.\")"
      ],
      "metadata": {
        "colab": {
          "base_uri": "https://localhost:8080/"
        },
        "id": "SFTwzBxOrNEv",
        "outputId": "a776340c-2eed-4e1a-d366-50d6da3b7692"
      },
      "execution_count": 4,
      "outputs": [
        {
          "output_type": "stream",
          "name": "stdout",
          "text": [
            "Let it be 는 총  32 번 나옵니다.\n"
          ]
        }
      ]
    }
  ]
}