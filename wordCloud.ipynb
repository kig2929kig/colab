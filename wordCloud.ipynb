{
  "nbformat": 4,
  "nbformat_minor": 0,
  "metadata": {
    "colab": {
      "provenance": [],
      "authorship_tag": "ABX9TyMMWijS016VpsoyfUEdcbBD",
      "include_colab_link": true
    },
    "kernelspec": {
      "name": "python3",
      "display_name": "Python 3"
    },
    "language_info": {
      "name": "python"
    }
  },
  "cells": [
    {
      "cell_type": "markdown",
      "metadata": {
        "id": "view-in-github",
        "colab_type": "text"
      },
      "source": [
        "<a href=\"https://colab.research.google.com/github/kig2929kig/colab/blob/main/wordCloud.ipynb\" target=\"_parent\"><img src=\"https://colab.research.google.com/assets/colab-badge.svg\" alt=\"Open In Colab\"/></a>"
      ]
    },
    {
      "cell_type": "code",
      "execution_count": null,
      "metadata": {
        "id": "AKRvpJYjX7rj"
      },
      "outputs": [],
      "source": [
        "!pip install requests\n",
        "!pip install bs4\n"
      ]
    },
    {
      "cell_type": "code",
      "source": [
        "from bs4 import BeautifulSoup\n",
        "import requests\n",
        "\n",
        "search_word = \"안산공업고등학교\" \n",
        "title_list = []\n",
        "\n",
        "def naver_news_get(start_num, end_num) :\n",
        "  while start_num <= end_num :\n",
        "    url = 'https://search.naver.com/search.naver?where=news&sm=tab_jum&query={}&start={}'.format(search_word,start_num)\n",
        "    req = requests.get(url)\n",
        "    #print(req)\n",
        "    start_num += 1\n",
        "    if req.ok :\n",
        "      html = req.text\n",
        "      soup = BeautifulSoup(html, \"html.parser\")\n",
        "      #print(soup)\n",
        "      titles = soup.select('.news_tit')\n",
        "      for title in titles :\n",
        "        title_list.append(title['title'])\n",
        "  return title_list\n",
        "print(naver_news_get(1,5))\n"
      ],
      "metadata": {
        "colab": {
          "base_uri": "https://localhost:8080/"
        },
        "id": "lInW6EgMYZYx",
        "outputId": "aebc3c1c-039a-4f2c-f5ce-cad786f291f7"
      },
      "execution_count": 8,
      "outputs": [
        {
          "output_type": "stream",
          "name": "stdout",
          "text": [
            "['안산공업고등학교 윤지은 선수, 국제기능올림픽대회 3D 디지털게임아트 분야 은메달 수상', '[즐거운 우리학교] 안산공업고등학교, 체계적 지원으로 \\'공부 잘하는 야구부\\'… \"실력·우정 모두 홈런\"', '안산 공업고등학교, 제57회 전국기능경기대회 경기도 참가학교 1위', '안산시, 선행 베푼 안산공업고등학교 김민재·노충남 학생에 표창장 수여', \"안산공업고등학교, 3D프린팅로봇제작 연구반 '프로젝트 수업발표회'\", '[즐거운 우리학교] 송원국 안산공고 야구부 감독 \"팀 한명도 소외 없도록 정성껏 훈련 지도\"', '[즐거운 우리학교] 이공열 안산공고 교장 \"우수학생 진학하고픈 명문학교 조성\"', '안산공고, 전국기능경기대회 경기도 참가학교 1위 달성', '안산 공업고등학교, 34개 강소기업과 학생 취업맞춤 반 협약식', '안산시청소년재단, 제1회 메이커 DALTHON(달트톤) 대회 열어', '[즐거운 우리학교] 안산공업고등학교, 체계적 지원으로 \\'공부 잘하는 야구부\\'… \"실력·우정 모두 홈런\"', '안산 공업고등학교, 제57회 전국기능경기대회 경기도 참가학교 1위', '안산시, 선행 베푼 안산공업고등학교 김민재·노충남 학생에 표창장 수여', \"안산공업고등학교, 3D프린팅로봇제작 연구반 '프로젝트 수업발표회'\", '[즐거운 우리학교] 송원국 안산공고 야구부 감독 \"팀 한명도 소외 없도록 정성껏 훈련 지도\"', '[즐거운 우리학교] 이공열 안산공고 교장 \"우수학생 진학하고픈 명문학교 조성\"', '안산공고, 전국기능경기대회 경기도 참가학교 1위 달성', '안산 공업고등학교, 34개 강소기업과 학생 취업맞춤 반 협약식', \"안산시 청소년재단, 메이커 스페이스 '제1회 메이커 DALTHON대회' 개최\", '대전고, 제56회 대통령배 전국고교야구대회 결승 진출, 안산공업고에 18대4 대승', '안산 공업고등학교, 제57회 전국기능경기대회 경기도 참가학교 1위', '안산시, 선행 베푼 안산공업고등학교 김민재·노충남 학생에 표창장 수여', \"안산공업고등학교, 3D프린팅로봇제작 연구반 '프로젝트 수업발표회'\", '[즐거운 우리학교] 송원국 안산공고 야구부 감독 \"팀 한명도 소외 없도록 정성껏 훈련 지도\"', '[즐거운 우리학교] 이공열 안산공고 교장 \"우수학생 진학하고픈 명문학교 조성\"', '안산공고, 전국기능경기대회 경기도 참가학교 1위 달성', '안산 공업고등학교, 34개 강소기업과 학생 취업맞춤 반 협약식', \"안산시 청소년재단, 메이커 스페이스 '제1회 메이커 DALTHON대회' 개최\", '대전고, 제56회 대통령배 전국고교야구대회 결승 진출, 안산공업고에 18대4 대승', \"이민근 안산시장, '이재민 위로하고 선행 베푼 안산공고 학생들 표창장도 수여'\", '안산시, 선행 베푼 안산공업고등학교 김민재·노충남 학생에 표창장 수여', \"안산공업고등학교, 3D프린팅로봇제작 연구반 '프로젝트 수업발표회'\", '[즐거운 우리학교] 송원국 안산공고 야구부 감독 \"팀 한명도 소외 없도록 정성껏 훈련 지도\"', '[즐거운 우리학교] 이공열 안산공고 교장 \"우수학생 진학하고픈 명문학교 조성\"', '안산공고, 전국기능경기대회 경기도 참가학교 1위 달성', '안산 공업고등학교, 34개 강소기업과 학생 취업맞춤 반 협약식', \"안산시 청소년재단, 메이커 스페이스 '제1회 메이커 DALTHON대회' 개최\", '대전고, 제56회 대통령배 전국고교야구대회 결승 진출, 안산공업고에 18대4 대승', \"이민근 안산시장, '이재민 위로하고 선행 베푼 안산공고 학생들 표창장도 수여'\", '안산공업고, 56회 대통령배 전국고교야구대회 4강 진출...덕수고에 10대2 콜드게임 승', \"안산공업고등학교, 3D프린팅로봇제작 연구반 '프로젝트 수업발표회'\", '[즐거운 우리학교] 송원국 안산공고 야구부 감독 \"팀 한명도 소외 없도록 정성껏 훈련 지도\"', '[즐거운 우리학교] 이공열 안산공고 교장 \"우수학생 진학하고픈 명문학교 조성\"', '안산공고, 전국기능경기대회 경기도 참가학교 1위 달성', '안산 공업고등학교, 34개 강소기업과 학생 취업맞춤 반 협약식', \"안산시 청소년재단, 메이커 스페이스 '제1회 메이커 DALTHON대회' 개최\", '대전고, 제56회 대통령배 전국고교야구대회 결승 진출, 안산공업고에 18대4 대승', \"이민근 안산시장, '이재민 위로하고 선행 베푼 안산공고 학생들 표창장도 수여'\", '안산공업고, 56회 대통령배 전국고교야구대회 4강 진출...덕수고에 10대2 콜드게임 승', '[대통령배 고교야구대회] 안산공고, 덕수고에 10대2 승리...준결승·결승전 중계는?']\n"
          ]
        }
      ]
    }
  ]
}