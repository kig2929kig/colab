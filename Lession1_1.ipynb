{
  "nbformat": 4,
  "nbformat_minor": 0,
  "metadata": {
    "colab": {
      "name": "Lession1-1.ipynb",
      "provenance": [],
      "authorship_tag": "ABX9TyN1JrttRytNuzRaUBLiVhBB",
      "include_colab_link": true
    },
    "kernelspec": {
      "name": "python3",
      "display_name": "Python 3"
    },
    "language_info": {
      "name": "python"
    }
  },
  "cells": [
    {
      "cell_type": "markdown",
      "metadata": {
        "id": "view-in-github",
        "colab_type": "text"
      },
      "source": [
        "<a href=\"https://colab.research.google.com/github/kig2929kig/colab/blob/main/Lession1_1.ipynb\" target=\"_parent\"><img src=\"https://colab.research.google.com/assets/colab-badge.svg\" alt=\"Open In Colab\"/></a>"
      ]
    },
    {
      "cell_type": "markdown",
      "source": [
        "# 파이썬 시작하기\n",
        "\n",
        "\n",
        "*   프로그램\n",
        " * 컴퓨터와 스마트폰에 들어 있는 많은 소프트웨어\n",
        "  유튜브, 메시지, 전화, 카카오톡 등 \n",
        " * 프로그램, 소프트웨어(Software), 애플리케이션(Application), 앱(App), 응용 프로그램 모두 동일한 용어입니다.\n",
        "\n",
        "\n",
        "\n",
        " * 프로그래밍(Programming)\n",
        "  * 프로그램을 만드는 작업\n",
        " * 프로그래밍 언어(Programming Language)\n",
        "  * 사람이 이해하는 말을 언어라고 부르듯이 컴퓨터가 이해하는 언어를 의미\n",
        " * 프로그래머(Programmer)\n",
        "  * 프로그래밍 언어를 사용하여 소프트웨어나 앱을 만드는 작업을 가진 사람을 의미"
      ],
      "metadata": {
        "id": "HqNS0XoNGcAa"
      }
    },
    {
      "cell_type": "markdown",
      "source": [
        ""
      ],
      "metadata": {
        "id": "hf7M4evoLSFi"
      }
    },
    {
      "cell_type": "markdown",
      "source": [
        "예제"
      ],
      "metadata": {
        "id": "tVIrL6hBPJEz"
      }
    },
    {
      "cell_type": "code",
      "execution_count": 1,
      "metadata": {
        "colab": {
          "base_uri": "https://localhost:8080/"
        },
        "id": "-xl0nb-lFVCb",
        "outputId": "1089cdf0-9887-4ba5-b250-b34e3489afc3"
      },
      "outputs": [
        {
          "output_type": "stream",
          "name": "stdout",
          "text": [
            "400\n"
          ]
        }
      ],
      "source": [
        "print(100+300)"
      ]
    },
    {
      "cell_type": "code",
      "source": [
        "print(200/3*4)"
      ],
      "metadata": {
        "colab": {
          "base_uri": "https://localhost:8080/"
        },
        "id": "wtKAH46lPO66",
        "outputId": "35cf4308-45a5-4127-90c2-6dd208f0ab68"
      },
      "execution_count": 2,
      "outputs": [
        {
          "output_type": "stream",
          "name": "stdout",
          "text": [
            "266.6666666666667\n"
          ]
        }
      ]
    },
    {
      "cell_type": "code",
      "source": [
        "print(\"난생처음 파이썬\")\n",
        "print(\"프로그래밍을 합니다.\")\n",
        "print(\"이제 나도 파이썬 프로그래머\")"
      ],
      "metadata": {
        "colab": {
          "base_uri": "https://localhost:8080/"
        },
        "id": "rCUj3URTPu5o",
        "outputId": "43f698d0-3e9e-4b94-c05d-46797320fe81"
      },
      "execution_count": 3,
      "outputs": [
        {
          "output_type": "stream",
          "name": "stdout",
          "text": [
            "난생처음 파이썬\n",
            "프로그래밍을 합니다.\n",
            "이제 나도 파이썬 프로그래머\n"
          ]
        }
      ]
    }
  ]
}