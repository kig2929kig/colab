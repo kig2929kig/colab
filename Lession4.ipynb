{
  "nbformat": 4,
  "nbformat_minor": 0,
  "metadata": {
    "colab": {
      "name": "Lession4.ipynb",
      "provenance": [],
      "authorship_tag": "ABX9TyPK8Gx+AUcGqnfS21tYNxH7",
      "include_colab_link": true
    },
    "kernelspec": {
      "name": "python3",
      "display_name": "Python 3"
    },
    "language_info": {
      "name": "python"
    }
  },
  "cells": [
    {
      "cell_type": "markdown",
      "metadata": {
        "id": "view-in-github",
        "colab_type": "text"
      },
      "source": [
        "<a href=\"https://colab.research.google.com/github/kig2929kig/colab/blob/main/Lession4.ipynb\" target=\"_parent\"><img src=\"https://colab.research.google.com/assets/colab-badge.svg\" alt=\"Open In Colab\"/></a>"
      ]
    },
    {
      "cell_type": "markdown",
      "source": [
        "4장 "
      ],
      "metadata": {
        "id": "pPoRpxyua9YQ"
      }
    },
    {
      "cell_type": "markdown",
      "source": [
        "데이터 타입 "
      ],
      "metadata": {
        "id": "JR5CPNHnbw9A"
      }
    },
    {
      "cell_type": "code",
      "execution_count": 2,
      "metadata": {
        "colab": {
          "base_uri": "https://localhost:8080/"
        },
        "id": "cyv-8gwea5xy",
        "outputId": "03c47aab-133f-4588-b4b3-24eebf265de8"
      },
      "outputs": [
        {
          "output_type": "stream",
          "name": "stdout",
          "text": [
            "var1 변수의 데이터 타입은  <class 'int'>\n",
            "var2 변수의 데이터 타입은  <class 'float'>\n",
            "var3 변수의 데이터 타입은  <class 'str'>\n",
            "var4 변수의 데이터 타입은  <class 'bool'>\n"
          ]
        }
      ],
      "source": [
        "var1, var2, var3, var4 = 100, 3.14, \"안산공고\", True\n",
        "print(\"var1 변수의 데이터 타입은 \" ,type(var1))\n",
        "print(\"var2 변수의 데이터 타입은 \" ,type(var2))\n",
        "print(\"var3 변수의 데이터 타입은 \" ,type(var3))\n",
        "print(\"var4 변수의 데이터 타입은 \" ,type(var4))"
      ]
    },
    {
      "cell_type": "markdown",
      "source": [],
      "metadata": {
        "id": "u0j8SlDXoZkE"
      }
    },
    {
      "cell_type": "markdown",
      "source": [
        "문자열 함수 예제 len(), upper(), lower(), count(), isupper(), islower()\n",
        "\n"
      ],
      "metadata": {
        "id": "_BvsnBqloZ0i"
      }
    },
    {
      "cell_type": "code",
      "source": [
        "str1 = input(\"문자열 입력 : \")\n",
        "print(\"입력된 문자열의 길이 : \", len(str1))\n",
        "print(\"입력된 문자열을 대문자로 변환 : \", str1.upper())\n",
        "print(\"입력된 문자열을 소문자로 변환 : \", str1.lower())\n",
        "print(\"입력된 문자열 중 ansan 몇번 나오는지 : \", str1.count(\"ansan\"))\n",
        "print(\"입력된 문자열은 대문자인가요? \", str1.isupper())\n",
        "print(\"입력된 문자열은 소문자인가요? \", str1.islower())"
      ],
      "metadata": {
        "colab": {
          "base_uri": "https://localhost:8080/"
        },
        "id": "DlgtgOQNoc-Z",
        "outputId": "eba2f51f-d70e-40de-eda1-34fd52b186a7"
      },
      "execution_count": 3,
      "outputs": [
        {
          "output_type": "stream",
          "name": "stdout",
          "text": [
            "문자열 입력 : Ansan Technical High School, Ansan-Si, Ansan lake\n",
            "입력된 문자열의 길이 :  49\n",
            "입력된 문자열을 대문자로 변환 :  ANSAN TECHNICAL HIGH SCHOOL, ANSAN-SI, ANSAN LAKE\n",
            "입력된 문자열을 소문자로 변환 :  ansan technical high school, ansan-si, ansan lake\n",
            "입력된 문자열 중 ansan 몇번 나오는지 :  0\n",
            "입력된 문자열은 대문자인가요?  False\n",
            "입력된 문자열은 소문자인가요?  False\n"
          ]
        }
      ]
    }
  ]
}