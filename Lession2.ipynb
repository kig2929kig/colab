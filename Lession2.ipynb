{
  "nbformat": 4,
  "nbformat_minor": 0,
  "metadata": {
    "colab": {
      "name": "Lession2.ipynb",
      "provenance": [],
      "authorship_tag": "ABX9TyM/q3uPuhKNxpUT/oGyf+0l",
      "include_colab_link": true
    },
    "kernelspec": {
      "name": "python3",
      "display_name": "Python 3"
    },
    "language_info": {
      "name": "python"
    }
  },
  "cells": [
    {
      "cell_type": "markdown",
      "metadata": {
        "id": "view-in-github",
        "colab_type": "text"
      },
      "source": [
        "<a href=\"https://colab.research.google.com/github/kig2929kig/colab/blob/main/Lession2.ipynb\" target=\"_parent\"><img src=\"https://colab.research.google.com/assets/colab-badge.svg\" alt=\"Open In Colab\"/></a>"
      ]
    },
    {
      "cell_type": "markdown",
      "source": [
        "* 파이썬 2장\n",
        " * 변수와 input()함수"
      ],
      "metadata": {
        "id": "z9b1tfD0B0DO"
      }
    },
    {
      "cell_type": "markdown",
      "source": [
        "- 간단한 계산기 예제"
      ],
      "metadata": {
        "id": "QSweZq6fEDtz"
      }
    },
    {
      "cell_type": "code",
      "execution_count": 2,
      "metadata": {
        "colab": {
          "base_uri": "https://localhost:8080/"
        },
        "id": "-0Y5VPayBWVE",
        "outputId": "0d50a84f-7274-4380-dc97-70d4a1da4d42"
      },
      "outputs": [
        {
          "output_type": "stream",
          "name": "stdout",
          "text": [
            "100 + 200 = 300\n",
            "100 - 200 = -100\n",
            "100 / 200 = 0.5\n",
            "100 * 200 = 20000\n"
          ]
        }
      ],
      "source": [
        "num1, num2 = 100, 200\n",
        "result1, result2 = num1 + num2, num1 - num2\n",
        "result3, result4 = num1 / num2, num1 * num2\n",
        "print(num1, \"+\", num2, \"=\", result1)\n",
        "print(num1, \"-\", num2, \"=\", result2)\n",
        "print(num1, \"/\", num2, \"=\", result3)\n",
        "print(num1, \"*\", num2, \"=\", result4)"
      ]
    },
    {
      "cell_type": "markdown",
      "source": [
        "- input()함수 예제"
      ],
      "metadata": {
        "id": "9FSnA5rWGa--"
      }
    },
    {
      "cell_type": "code",
      "source": [
        "num1 = input(\"첫번째 숫자 입력 ==>\")\n",
        "num2 = int(input(\"두번째 숫자 입력 ==>\"))\n",
        "result = int(num1) + num2\n",
        "print(num1, \"+\", num2, \"=\", result)"
      ],
      "metadata": {
        "colab": {
          "base_uri": "https://localhost:8080/"
        },
        "id": "qFfECwVQGdLv",
        "outputId": "0bb95502-223c-47eb-d69b-787d1c76e6ed"
      },
      "execution_count": 4,
      "outputs": [
        {
          "output_type": "stream",
          "name": "stdout",
          "text": [
            "첫번째 숫자 입력 ==>100\n",
            "두번째 숫자 입력 ==>200\n",
            "100 + 200 = 300\n"
          ]
        }
      ]
    },
    {
      "cell_type": "markdown",
      "source": [
        "- input()함수를 이용한 간단한 계산기"
      ],
      "metadata": {
        "id": "vBBX1pZJJGuC"
      }
    },
    {
      "cell_type": "code",
      "source": [
        "print(\"** 논술형 문제 - input()함수를 이용한 간단한 계산기 ** \")\n",
        "num1 = float(input(\"첫번째 숫자를 입력 : \"))\n",
        "num2 = float(input(\"두번째 숫자를 입력 : \"))\n",
        "print(num1, \"+\", num2, \"=\", num1 + num2)\n",
        "print(num1, \"-\", num2, \"=\", num1 - num2)\n",
        "print(num1, \"x\", num2, \"=\", num1 * num2)\n",
        "print(num1, \"/\", num2, \"=\", num1 / num2)"
      ],
      "metadata": {
        "colab": {
          "base_uri": "https://localhost:8080/"
        },
        "id": "eU3Rc8iCJM5L",
        "outputId": "741805f5-a797-4b01-c576-1135387e8f3f"
      },
      "execution_count": 5,
      "outputs": [
        {
          "output_type": "stream",
          "name": "stdout",
          "text": [
            "** 논술형 문제 - input()함수를 이용한 간단한 계산기 ** \n",
            "첫번째 숫자를 입력 : 100\n",
            "두번째 숫자를 입력 : 200\n",
            "100.0 + 200.0 = 300.0\n",
            "100.0 - 200.0 = -100.0\n",
            "100.0 x 200.0 = 20000.0\n",
            "100.0 / 200.0 = 0.5\n"
          ]
        }
      ]
    }
  ]
}