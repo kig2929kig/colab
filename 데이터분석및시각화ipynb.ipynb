{
  "nbformat": 4,
  "nbformat_minor": 0,
  "metadata": {
    "colab": {
      "provenance": [],
      "mount_file_id": "1OGzAFONZr1XPCkzxq2SGpO8BfDWQypne",
      "authorship_tag": "ABX9TyMnvRny320IThfdEx2Epxjq",
      "include_colab_link": true
    },
    "kernelspec": {
      "name": "python3",
      "display_name": "Python 3"
    },
    "language_info": {
      "name": "python"
    }
  },
  "cells": [
    {
      "cell_type": "markdown",
      "metadata": {
        "id": "view-in-github",
        "colab_type": "text"
      },
      "source": [
        "<a href=\"https://colab.research.google.com/github/kig2929kig/colab/blob/main/%EB%8D%B0%EC%9D%B4%ED%84%B0%EB%B6%84%EC%84%9D%EB%B0%8F%EC%8B%9C%EA%B0%81%ED%99%94ipynb.ipynb\" target=\"_parent\"><img src=\"https://colab.research.google.com/assets/colab-badge.svg\" alt=\"Open In Colab\"/></a>"
      ]
    },
    {
      "cell_type": "markdown",
      "source": [
        "# 데이터 분석과 시각화\n",
        "+ 기상자료개방포털 (https://data.kma.go.kr)  \n",
        "+ 공공데이터포털  \n",
        "+ 서울 열린데이터 광장(https://data.seoul.go.kr/)  \n",
        "\n",
        "##  CSV 파일\n",
        "+ CSV(Comma-Separated Values) 각각의 데이터 값을 콤마(,)로 구분하는 파일.\n",
        "+ 데이터 분석 전문가들이 자주 사용하는 파일 형식.\n",
        "+ 메모장, 엑셀 프로그램에서 열어볼 수 있음.\n",
        "+ 공공데이터포털에서 제공하는 파일 형식"
      ],
      "metadata": {
        "id": "IyBBwOY7-B4Y"
      }
    },
    {
      "cell_type": "code",
      "execution_count": null,
      "metadata": {
        "colab": {
          "base_uri": "https://localhost:8080/"
        },
        "id": "s6OrZOTu-BL4",
        "outputId": "79689956-7875-4adf-8eee-604ea4e3082b"
      },
      "outputs": [
        {
          "output_type": "stream",
          "name": "stdout",
          "text": [
            "<_csv.reader object at 0x7f19675294d0>\n",
            "['기온분석']\n",
            "['[검색조건]']\n",
            "['자료구분 : 일']\n",
            "['자료형태 : 기본']\n",
            "['지역/지점 : 서울']\n",
            "['기간 : 20221002~20221031']\n",
            "[]\n",
            "['날짜', '지점', '평균기온(℃)', '최저기온(℃)', '최고기온(℃)']\n",
            "[]\n",
            "['\\t2022-10-02', '108', '19.4', '17.2', '21.6']\n",
            "['\\t2022-10-03', '108', '21.4', '17.5', '23.4']\n",
            "['\\t2022-10-04', '108', '17.9', '14.2', '23']\n",
            "['\\t2022-10-05', '108', '16.6', '14.1', '21.6']\n",
            "['\\t2022-10-06', '108', '15.8', '12.7', '19.1']\n",
            "['\\t2022-10-07', '108', '14.3', '11', '18.6']\n",
            "['\\t2022-10-08', '108', '15.8', '11.1', '21.6']\n",
            "['\\t2022-10-09', '108', '13.1', '10.7', '14.5']\n",
            "['\\t2022-10-10', '108', '9.9', '8.2', '11.9']\n",
            "['\\t2022-10-11', '108', '11.1', '7.4', '16.4']\n",
            "['\\t2022-10-12', '108', '13.5', '6.5', '20.6']\n",
            "['\\t2022-10-13', '108', '16.3', '10.7', '22.7']\n",
            "['\\t2022-10-14', '108', '17.1', '12.4', '23']\n",
            "['\\t2022-10-15', '108', '18.2', '12.6', '24.4']\n",
            "['\\t2022-10-16', '108', '16.9', '15.1', '20.5']\n",
            "['\\t2022-10-17', '108', '11.2', '7.4', '15.1']\n",
            "['\\t2022-10-18', '108', '9.4', '5', '14.2']\n",
            "['\\t2022-10-19', '108', '10.5', '4.4', '16.8']\n",
            "['\\t2022-10-20', '108', '12.9', '6', '19.7']\n",
            "['\\t2022-10-21', '108', '14', '8.8', '20.9']\n",
            "['\\t2022-10-22', '108', '15.1', '10.5', '20.8']\n",
            "['\\t2022-10-23', '108', '14', '10.4', '18.6']\n",
            "['\\t2022-10-24', '108', '10.6', '7.5', '14.8']\n",
            "['\\t2022-10-25', '108', '11.3', '5.9', '17.6']\n",
            "['\\t2022-10-26', '108', '12.9', '8', '17.8']\n",
            "['\\t2022-10-27', '108', '13.2', '8.6', '18.9']\n",
            "['\\t2022-10-28', '108', '13.6', '8.2', '20.6']\n",
            "['\\t2022-10-29', '108', '14.8', '10.2', '21.3']\n",
            "['\\t2022-10-30', '108', '14.9', '10.4', '21.3']\n",
            "['\\t2022-10-31', '108', '14.9', '11.2', '21.1']\n",
            "['\\t']\n",
            "[]\n"
          ]
        }
      ],
      "source": [
        "import csv\n",
        "\n",
        "f = open('/content/drive/MyDrive/Colab Notebooks/test.csv', 'r', encoding='cp949') #utf8\n",
        "\n",
        "data = csv.reader(f, delimiter=',')\n",
        "#print(data)\n",
        "for row in data : #리스트 - 인덱싱과 슬라이싱 가능\n",
        "  print(row) # 한줄씩 출력\n",
        "\n",
        "f.close()\n"
      ]
    },
    {
      "cell_type": "markdown",
      "source": [
        "## 헤더 저장\n",
        "+ 데이터 파일에서 여러 가지 값들이 어떤 의미를 갖는지 표시한 행\n",
        "+ 수많은 데이터를 다룰 때 표지판과 같은 역할\n",
        "+ 헤더를 통해 각 열의 데이터가 어떤 의미를 갖는지 알 수 있기 때문에 매우 중요한 데이터"
      ],
      "metadata": {
        "id": "IqS5Z-dxEcVO"
      }
    },
    {
      "cell_type": "code",
      "source": [
        "import csv\n",
        "\n",
        "f = open('/content/drive/MyDrive/Colab Notebooks/test.csv', 'r', encoding='cp949') \n",
        "\n",
        "data = csv.reader(f)\n",
        "\n",
        "header = next(data)# next() 메소드를 사용하여 데이터의 첫 번째 행을 변수에 저장\n",
        "print(header) \n",
        "f.close()"
      ],
      "metadata": {
        "colab": {
          "base_uri": "https://localhost:8080/"
        },
        "id": "BIZnGegSEvEx",
        "outputId": "a0472f6e-2e7e-4f8f-d21a-4304e61820a1"
      },
      "execution_count": 26,
      "outputs": [
        {
          "output_type": "stream",
          "name": "stdout",
          "text": [
            "['날짜', '지점', '평균기온(℃)', '최저기온(℃)', '최고기온(℃)']\n"
          ]
        }
      ]
    },
    {
      "cell_type": "markdown",
      "source": [
        "## 서울 열린데이터 광장 - seoul.csv"
      ],
      "metadata": {
        "id": "eG7hYtKRDdrF"
      }
    },
    {
      "cell_type": "code",
      "source": [
        "import csv\n",
        "\n",
        "f = open('/content/drive/MyDrive/Colab Notebooks/seoul.csv', 'r') \n",
        "\n",
        "data = csv.reader(f)\n",
        "#print(data)\n",
        "\n",
        "header = next(data)\n",
        "print(header)\n",
        "print()\n",
        "for row in data :\n",
        "  print(row)\n",
        "\n",
        "f.close()"
      ],
      "metadata": {
        "id": "53UPnhVtDqCr"
      },
      "execution_count": null,
      "outputs": []
    },
    {
      "cell_type": "markdown",
      "source": [
        "## pandas\n",
        "+ 데이터 분석용 라이브러리로 데이터를 다루는 패키지 중 하나\n",
        "+ 데이터 분석을 위한 효율적인 데이터 구조를 제공, 1차원 배열 형태의 데이터 구조인 Series와 2차원 배열 형태의 데이터 구조인 Data Frame으로 구성\n",
        "+ 데이터 분석의 시작을 pandas라고도 불림.\n",
        "+ 엑셀의 스프레드시트와 유사한 형태이며 파이썬으로 데이터를 쉽게 처리\n",
        "+ 시계열 데이터(시간의 경과에 따라 관측된 결과 값)를 조작하고 운영하기 위한 데이터를 제공\n",
        "+ SQL 같은 일반 데이터베이스처럼 데이터를 합치고 관계연산을 수행하는 것이 가능\n",
        "\n",
        "pandas 라이브러리는 내장 라이브러리가 아니기 때문에 원래는 별도로 설치해야함. 코랩에서는 자동으로 설치되어 있음."
      ],
      "metadata": {
        "id": "4PcYvoAKDxJR"
      }
    },
    {
      "cell_type": "code",
      "source": [
        "import pandas as pd\n",
        "\n",
        "name = ['Bob', 'Jessica', 'Mary', 'John', 'Mel']\n",
        "births = [968, 155, 77, 578, 973]\n",
        "custom = [1, 5, 25, 13, 23232]\n",
        "\n",
        "DataSet = list(zip(name, births))\n",
        "#print(DataSet)\n",
        "df = pd.DataFrame(data = DataSet, columns = ['Name', 'Births'])\n",
        "df.head() # 데이터 앞에서 부터 5개 출력\n",
        "#df.head(2)"
      ],
      "metadata": {
        "colab": {
          "base_uri": "https://localhost:8080/",
          "height": 206
        },
        "id": "kluda3l4D01w",
        "outputId": "9b3dd89a-c504-4be8-ab7b-accf5b23ccc9"
      },
      "execution_count": 34,
      "outputs": [
        {
          "output_type": "execute_result",
          "data": {
            "text/plain": [
              "      Name  Births\n",
              "0      Bob     968\n",
              "1  Jessica     155\n",
              "2     Mary      77\n",
              "3     John     578\n",
              "4      Mel     973"
            ],
            "text/html": [
              "\n",
              "  <div id=\"df-59064e25-c90d-4625-850b-d80e953e08a2\">\n",
              "    <div class=\"colab-df-container\">\n",
              "      <div>\n",
              "<style scoped>\n",
              "    .dataframe tbody tr th:only-of-type {\n",
              "        vertical-align: middle;\n",
              "    }\n",
              "\n",
              "    .dataframe tbody tr th {\n",
              "        vertical-align: top;\n",
              "    }\n",
              "\n",
              "    .dataframe thead th {\n",
              "        text-align: right;\n",
              "    }\n",
              "</style>\n",
              "<table border=\"1\" class=\"dataframe\">\n",
              "  <thead>\n",
              "    <tr style=\"text-align: right;\">\n",
              "      <th></th>\n",
              "      <th>Name</th>\n",
              "      <th>Births</th>\n",
              "    </tr>\n",
              "  </thead>\n",
              "  <tbody>\n",
              "    <tr>\n",
              "      <th>0</th>\n",
              "      <td>Bob</td>\n",
              "      <td>968</td>\n",
              "    </tr>\n",
              "    <tr>\n",
              "      <th>1</th>\n",
              "      <td>Jessica</td>\n",
              "      <td>155</td>\n",
              "    </tr>\n",
              "    <tr>\n",
              "      <th>2</th>\n",
              "      <td>Mary</td>\n",
              "      <td>77</td>\n",
              "    </tr>\n",
              "    <tr>\n",
              "      <th>3</th>\n",
              "      <td>John</td>\n",
              "      <td>578</td>\n",
              "    </tr>\n",
              "    <tr>\n",
              "      <th>4</th>\n",
              "      <td>Mel</td>\n",
              "      <td>973</td>\n",
              "    </tr>\n",
              "  </tbody>\n",
              "</table>\n",
              "</div>\n",
              "      <button class=\"colab-df-convert\" onclick=\"convertToInteractive('df-59064e25-c90d-4625-850b-d80e953e08a2')\"\n",
              "              title=\"Convert this dataframe to an interactive table.\"\n",
              "              style=\"display:none;\">\n",
              "        \n",
              "  <svg xmlns=\"http://www.w3.org/2000/svg\" height=\"24px\"viewBox=\"0 0 24 24\"\n",
              "       width=\"24px\">\n",
              "    <path d=\"M0 0h24v24H0V0z\" fill=\"none\"/>\n",
              "    <path d=\"M18.56 5.44l.94 2.06.94-2.06 2.06-.94-2.06-.94-.94-2.06-.94 2.06-2.06.94zm-11 1L8.5 8.5l.94-2.06 2.06-.94-2.06-.94L8.5 2.5l-.94 2.06-2.06.94zm10 10l.94 2.06.94-2.06 2.06-.94-2.06-.94-.94-2.06-.94 2.06-2.06.94z\"/><path d=\"M17.41 7.96l-1.37-1.37c-.4-.4-.92-.59-1.43-.59-.52 0-1.04.2-1.43.59L10.3 9.45l-7.72 7.72c-.78.78-.78 2.05 0 2.83L4 21.41c.39.39.9.59 1.41.59.51 0 1.02-.2 1.41-.59l7.78-7.78 2.81-2.81c.8-.78.8-2.07 0-2.86zM5.41 20L4 18.59l7.72-7.72 1.47 1.35L5.41 20z\"/>\n",
              "  </svg>\n",
              "      </button>\n",
              "      \n",
              "  <style>\n",
              "    .colab-df-container {\n",
              "      display:flex;\n",
              "      flex-wrap:wrap;\n",
              "      gap: 12px;\n",
              "    }\n",
              "\n",
              "    .colab-df-convert {\n",
              "      background-color: #E8F0FE;\n",
              "      border: none;\n",
              "      border-radius: 50%;\n",
              "      cursor: pointer;\n",
              "      display: none;\n",
              "      fill: #1967D2;\n",
              "      height: 32px;\n",
              "      padding: 0 0 0 0;\n",
              "      width: 32px;\n",
              "    }\n",
              "\n",
              "    .colab-df-convert:hover {\n",
              "      background-color: #E2EBFA;\n",
              "      box-shadow: 0px 1px 2px rgba(60, 64, 67, 0.3), 0px 1px 3px 1px rgba(60, 64, 67, 0.15);\n",
              "      fill: #174EA6;\n",
              "    }\n",
              "\n",
              "    [theme=dark] .colab-df-convert {\n",
              "      background-color: #3B4455;\n",
              "      fill: #D2E3FC;\n",
              "    }\n",
              "\n",
              "    [theme=dark] .colab-df-convert:hover {\n",
              "      background-color: #434B5C;\n",
              "      box-shadow: 0px 1px 3px 1px rgba(0, 0, 0, 0.15);\n",
              "      filter: drop-shadow(0px 1px 2px rgba(0, 0, 0, 0.3));\n",
              "      fill: #FFFFFF;\n",
              "    }\n",
              "  </style>\n",
              "\n",
              "      <script>\n",
              "        const buttonEl =\n",
              "          document.querySelector('#df-59064e25-c90d-4625-850b-d80e953e08a2 button.colab-df-convert');\n",
              "        buttonEl.style.display =\n",
              "          google.colab.kernel.accessAllowed ? 'block' : 'none';\n",
              "\n",
              "        async function convertToInteractive(key) {\n",
              "          const element = document.querySelector('#df-59064e25-c90d-4625-850b-d80e953e08a2');\n",
              "          const dataTable =\n",
              "            await google.colab.kernel.invokeFunction('convertToInteractive',\n",
              "                                                     [key], {});\n",
              "          if (!dataTable) return;\n",
              "\n",
              "          const docLinkHtml = 'Like what you see? Visit the ' +\n",
              "            '<a target=\"_blank\" href=https://colab.research.google.com/notebooks/data_table.ipynb>data table notebook</a>'\n",
              "            + ' to learn more about interactive tables.';\n",
              "          element.innerHTML = '';\n",
              "          dataTable['output_type'] = 'display_data';\n",
              "          await google.colab.output.renderOutput(dataTable, element);\n",
              "          const docLink = document.createElement('div');\n",
              "          docLink.innerHTML = docLinkHtml;\n",
              "          element.appendChild(docLink);\n",
              "        }\n",
              "      </script>\n",
              "    </div>\n",
              "  </div>\n",
              "  "
            ]
          },
          "metadata": {},
          "execution_count": 34
        }
      ]
    },
    {
      "cell_type": "markdown",
      "source": [
        "## pandas 자료형 - 시리즈(Series)\n",
        "+ 1차원 배열 형태의 데이터 구조 사용.\n",
        "+ 가로 방향으로 크기 변경\n",
        "+ 열 1개를 의미\n"
      ],
      "metadata": {
        "id": "8LVOvZ2DFP9R"
      }
    },
    {
      "cell_type": "code",
      "source": [
        "import pandas as pd\n",
        "\n",
        "series_ex = pd.Series(['월', '화', '수', '목', '금', '토', '일'], index=[0,1,2,3,4,5,6])\n",
        "print(series_ex) \n",
        "print(series_ex[0])"
      ],
      "metadata": {
        "colab": {
          "base_uri": "https://localhost:8080/"
        },
        "id": "8PtRkpirFcyH",
        "outputId": "022a7c2e-988b-4cc6-9ac4-311f5f5b0942"
      },
      "execution_count": 36,
      "outputs": [
        {
          "output_type": "stream",
          "name": "stdout",
          "text": [
            "0    월\n",
            "1    화\n",
            "2    수\n",
            "3    목\n",
            "4    금\n",
            "5    토\n",
            "6    일\n",
            "dtype: object\n",
            "월\n"
          ]
        }
      ]
    },
    {
      "cell_type": "markdown",
      "source": [
        "pandas 자료형 - 데이터 프레임(Data Frame)\n",
        "+ 엑셀에서 볼 수 있는 시트와 동일한 개념\n",
        "+ 2차원 배열 형태의 데이터 구조로 행과 열이 있음\n",
        "+ 행을 구분해주는 인덱스(index)와 열을 구분해주는 컬럼(column)\n"
      ],
      "metadata": {
        "id": "Dq9apduxGMIc"
      }
    },
    {
      "cell_type": "code",
      "source": [
        "import pandas as pd\n",
        "\n",
        "name = ['Bob', 'Jessica', 'Mary', 'John', 'Mel']\n",
        "births = [968, 155, 77, 578, 973]\n",
        "custom = [1, 5, 25, 13, 23232]\n",
        "\n",
        "DataSet = list(zip(name, births))\n",
        "#print(DataSet)\n",
        "df = pd.DataFrame(data = DataSet, columns = ['Name', 'Births'])\n",
        "df.head() # 데이터 앞에서 부터 5개 출력\n",
        "#df.head(2)"
      ],
      "metadata": {
        "colab": {
          "base_uri": "https://localhost:8080/",
          "height": 206
        },
        "id": "eX-mkexAGwjG",
        "outputId": "5f76f266-7252-446b-b3f5-3066110dbf9a"
      },
      "execution_count": 45,
      "outputs": [
        {
          "output_type": "execute_result",
          "data": {
            "text/plain": [
              "      Name  Births\n",
              "0      Bob     968\n",
              "1  Jessica     155\n",
              "2     Mary      77\n",
              "3     John     578\n",
              "4      Mel     973"
            ],
            "text/html": [
              "\n",
              "  <div id=\"df-a918a6d6-3a01-4d73-a034-dd72eb59fed9\">\n",
              "    <div class=\"colab-df-container\">\n",
              "      <div>\n",
              "<style scoped>\n",
              "    .dataframe tbody tr th:only-of-type {\n",
              "        vertical-align: middle;\n",
              "    }\n",
              "\n",
              "    .dataframe tbody tr th {\n",
              "        vertical-align: top;\n",
              "    }\n",
              "\n",
              "    .dataframe thead th {\n",
              "        text-align: right;\n",
              "    }\n",
              "</style>\n",
              "<table border=\"1\" class=\"dataframe\">\n",
              "  <thead>\n",
              "    <tr style=\"text-align: right;\">\n",
              "      <th></th>\n",
              "      <th>Name</th>\n",
              "      <th>Births</th>\n",
              "    </tr>\n",
              "  </thead>\n",
              "  <tbody>\n",
              "    <tr>\n",
              "      <th>0</th>\n",
              "      <td>Bob</td>\n",
              "      <td>968</td>\n",
              "    </tr>\n",
              "    <tr>\n",
              "      <th>1</th>\n",
              "      <td>Jessica</td>\n",
              "      <td>155</td>\n",
              "    </tr>\n",
              "    <tr>\n",
              "      <th>2</th>\n",
              "      <td>Mary</td>\n",
              "      <td>77</td>\n",
              "    </tr>\n",
              "    <tr>\n",
              "      <th>3</th>\n",
              "      <td>John</td>\n",
              "      <td>578</td>\n",
              "    </tr>\n",
              "    <tr>\n",
              "      <th>4</th>\n",
              "      <td>Mel</td>\n",
              "      <td>973</td>\n",
              "    </tr>\n",
              "  </tbody>\n",
              "</table>\n",
              "</div>\n",
              "      <button class=\"colab-df-convert\" onclick=\"convertToInteractive('df-a918a6d6-3a01-4d73-a034-dd72eb59fed9')\"\n",
              "              title=\"Convert this dataframe to an interactive table.\"\n",
              "              style=\"display:none;\">\n",
              "        \n",
              "  <svg xmlns=\"http://www.w3.org/2000/svg\" height=\"24px\"viewBox=\"0 0 24 24\"\n",
              "       width=\"24px\">\n",
              "    <path d=\"M0 0h24v24H0V0z\" fill=\"none\"/>\n",
              "    <path d=\"M18.56 5.44l.94 2.06.94-2.06 2.06-.94-2.06-.94-.94-2.06-.94 2.06-2.06.94zm-11 1L8.5 8.5l.94-2.06 2.06-.94-2.06-.94L8.5 2.5l-.94 2.06-2.06.94zm10 10l.94 2.06.94-2.06 2.06-.94-2.06-.94-.94-2.06-.94 2.06-2.06.94z\"/><path d=\"M17.41 7.96l-1.37-1.37c-.4-.4-.92-.59-1.43-.59-.52 0-1.04.2-1.43.59L10.3 9.45l-7.72 7.72c-.78.78-.78 2.05 0 2.83L4 21.41c.39.39.9.59 1.41.59.51 0 1.02-.2 1.41-.59l7.78-7.78 2.81-2.81c.8-.78.8-2.07 0-2.86zM5.41 20L4 18.59l7.72-7.72 1.47 1.35L5.41 20z\"/>\n",
              "  </svg>\n",
              "      </button>\n",
              "      \n",
              "  <style>\n",
              "    .colab-df-container {\n",
              "      display:flex;\n",
              "      flex-wrap:wrap;\n",
              "      gap: 12px;\n",
              "    }\n",
              "\n",
              "    .colab-df-convert {\n",
              "      background-color: #E8F0FE;\n",
              "      border: none;\n",
              "      border-radius: 50%;\n",
              "      cursor: pointer;\n",
              "      display: none;\n",
              "      fill: #1967D2;\n",
              "      height: 32px;\n",
              "      padding: 0 0 0 0;\n",
              "      width: 32px;\n",
              "    }\n",
              "\n",
              "    .colab-df-convert:hover {\n",
              "      background-color: #E2EBFA;\n",
              "      box-shadow: 0px 1px 2px rgba(60, 64, 67, 0.3), 0px 1px 3px 1px rgba(60, 64, 67, 0.15);\n",
              "      fill: #174EA6;\n",
              "    }\n",
              "\n",
              "    [theme=dark] .colab-df-convert {\n",
              "      background-color: #3B4455;\n",
              "      fill: #D2E3FC;\n",
              "    }\n",
              "\n",
              "    [theme=dark] .colab-df-convert:hover {\n",
              "      background-color: #434B5C;\n",
              "      box-shadow: 0px 1px 3px 1px rgba(0, 0, 0, 0.15);\n",
              "      filter: drop-shadow(0px 1px 2px rgba(0, 0, 0, 0.3));\n",
              "      fill: #FFFFFF;\n",
              "    }\n",
              "  </style>\n",
              "\n",
              "      <script>\n",
              "        const buttonEl =\n",
              "          document.querySelector('#df-a918a6d6-3a01-4d73-a034-dd72eb59fed9 button.colab-df-convert');\n",
              "        buttonEl.style.display =\n",
              "          google.colab.kernel.accessAllowed ? 'block' : 'none';\n",
              "\n",
              "        async function convertToInteractive(key) {\n",
              "          const element = document.querySelector('#df-a918a6d6-3a01-4d73-a034-dd72eb59fed9');\n",
              "          const dataTable =\n",
              "            await google.colab.kernel.invokeFunction('convertToInteractive',\n",
              "                                                     [key], {});\n",
              "          if (!dataTable) return;\n",
              "\n",
              "          const docLinkHtml = 'Like what you see? Visit the ' +\n",
              "            '<a target=\"_blank\" href=https://colab.research.google.com/notebooks/data_table.ipynb>data table notebook</a>'\n",
              "            + ' to learn more about interactive tables.';\n",
              "          element.innerHTML = '';\n",
              "          dataTable['output_type'] = 'display_data';\n",
              "          await google.colab.output.renderOutput(dataTable, element);\n",
              "          const docLink = document.createElement('div');\n",
              "          docLink.innerHTML = docLinkHtml;\n",
              "          element.appendChild(docLink);\n",
              "        }\n",
              "      </script>\n",
              "    </div>\n",
              "  </div>\n",
              "  "
            ]
          },
          "metadata": {},
          "execution_count": 45
        }
      ]
    },
    {
      "cell_type": "markdown",
      "source": [
        "## 데이터 프레임\n",
        "+ dtypes : 열의 타입 정보\n",
        "+ index : 행의 형태로 정보를 포함\n",
        "+ columns : 데이터 프레임의 열 정보를 조금 더 간략한 형태로 요약"
      ],
      "metadata": {
        "id": "hH3Y8bf4HVkb"
      }
    },
    {
      "cell_type": "code",
      "source": [
        "df.dtypes"
      ],
      "metadata": {
        "colab": {
          "base_uri": "https://localhost:8080/"
        },
        "id": "UY8C6vJwHtZf",
        "outputId": "472b36dd-99d5-49ed-8e24-62f0629c00fe"
      },
      "execution_count": 41,
      "outputs": [
        {
          "output_type": "execute_result",
          "data": {
            "text/plain": [
              "Name      object\n",
              "Births     int64\n",
              "dtype: object"
            ]
          },
          "metadata": {},
          "execution_count": 41
        }
      ]
    },
    {
      "cell_type": "markdown",
      "source": [
        "## 판다스 자료형\n",
        "+ object 문자열\n",
        "+ int64 : 정수\n",
        "+ float64 : 소숫점을 가진 숫자"
      ],
      "metadata": {
        "id": "DKEj4y_OH_Xy"
      }
    },
    {
      "cell_type": "code",
      "source": [
        "df.index"
      ],
      "metadata": {
        "colab": {
          "base_uri": "https://localhost:8080/"
        },
        "id": "TRT3IeXZIL4V",
        "outputId": "24851119-9962-4f5f-af9c-c4db655d750a"
      },
      "execution_count": 42,
      "outputs": [
        {
          "output_type": "execute_result",
          "data": {
            "text/plain": [
              "RangeIndex(start=0, stop=5, step=1)"
            ]
          },
          "metadata": {},
          "execution_count": 42
        }
      ]
    },
    {
      "cell_type": "markdown",
      "source": [
        "+ start : 인덱스 시작\n",
        "+ stop : 인덱스 끝\n",
        "+ step : 증가 값"
      ],
      "metadata": {
        "id": "U4U00t6KIRpC"
      }
    },
    {
      "cell_type": "code",
      "source": [
        "df.columns"
      ],
      "metadata": {
        "colab": {
          "base_uri": "https://localhost:8080/"
        },
        "id": "MBrjTbQ6IdNl",
        "outputId": "2eb84ddf-1a33-4721-ec21-0fdd8f4d1b35"
      },
      "execution_count": 43,
      "outputs": [
        {
          "output_type": "execute_result",
          "data": {
            "text/plain": [
              "Index(['Name', 'Births'], dtype='object')"
            ]
          },
          "metadata": {},
          "execution_count": 43
        }
      ]
    },
    {
      "cell_type": "code",
      "source": [
        "df['Name']"
      ],
      "metadata": {
        "colab": {
          "base_uri": "https://localhost:8080/"
        },
        "id": "5vRIM8vhIsyD",
        "outputId": "51fb88a8-b044-4ae4-86bb-d7267cfdf577"
      },
      "execution_count": 47,
      "outputs": [
        {
          "output_type": "execute_result",
          "data": {
            "text/plain": [
              "0        Bob\n",
              "1    Jessica\n",
              "2       Mary\n",
              "3       John\n",
              "4        Mel\n",
              "Name: Name, dtype: object"
            ]
          },
          "metadata": {},
          "execution_count": 47
        }
      ]
    },
    {
      "cell_type": "code",
      "source": [
        "df[0:3] # 0 ~ 2 번째 인덱스를 선택"
      ],
      "metadata": {
        "colab": {
          "base_uri": "https://localhost:8080/",
          "height": 143
        },
        "id": "f8VoTql6JB_O",
        "outputId": "60a9d9c7-e814-403a-de0f-3b56e808f5f3"
      },
      "execution_count": 48,
      "outputs": [
        {
          "output_type": "execute_result",
          "data": {
            "text/plain": [
              "      Name  Births\n",
              "0      Bob     968\n",
              "1  Jessica     155\n",
              "2     Mary      77"
            ],
            "text/html": [
              "\n",
              "  <div id=\"df-5596d599-2db4-4396-935f-100547d749de\">\n",
              "    <div class=\"colab-df-container\">\n",
              "      <div>\n",
              "<style scoped>\n",
              "    .dataframe tbody tr th:only-of-type {\n",
              "        vertical-align: middle;\n",
              "    }\n",
              "\n",
              "    .dataframe tbody tr th {\n",
              "        vertical-align: top;\n",
              "    }\n",
              "\n",
              "    .dataframe thead th {\n",
              "        text-align: right;\n",
              "    }\n",
              "</style>\n",
              "<table border=\"1\" class=\"dataframe\">\n",
              "  <thead>\n",
              "    <tr style=\"text-align: right;\">\n",
              "      <th></th>\n",
              "      <th>Name</th>\n",
              "      <th>Births</th>\n",
              "    </tr>\n",
              "  </thead>\n",
              "  <tbody>\n",
              "    <tr>\n",
              "      <th>0</th>\n",
              "      <td>Bob</td>\n",
              "      <td>968</td>\n",
              "    </tr>\n",
              "    <tr>\n",
              "      <th>1</th>\n",
              "      <td>Jessica</td>\n",
              "      <td>155</td>\n",
              "    </tr>\n",
              "    <tr>\n",
              "      <th>2</th>\n",
              "      <td>Mary</td>\n",
              "      <td>77</td>\n",
              "    </tr>\n",
              "  </tbody>\n",
              "</table>\n",
              "</div>\n",
              "      <button class=\"colab-df-convert\" onclick=\"convertToInteractive('df-5596d599-2db4-4396-935f-100547d749de')\"\n",
              "              title=\"Convert this dataframe to an interactive table.\"\n",
              "              style=\"display:none;\">\n",
              "        \n",
              "  <svg xmlns=\"http://www.w3.org/2000/svg\" height=\"24px\"viewBox=\"0 0 24 24\"\n",
              "       width=\"24px\">\n",
              "    <path d=\"M0 0h24v24H0V0z\" fill=\"none\"/>\n",
              "    <path d=\"M18.56 5.44l.94 2.06.94-2.06 2.06-.94-2.06-.94-.94-2.06-.94 2.06-2.06.94zm-11 1L8.5 8.5l.94-2.06 2.06-.94-2.06-.94L8.5 2.5l-.94 2.06-2.06.94zm10 10l.94 2.06.94-2.06 2.06-.94-2.06-.94-.94-2.06-.94 2.06-2.06.94z\"/><path d=\"M17.41 7.96l-1.37-1.37c-.4-.4-.92-.59-1.43-.59-.52 0-1.04.2-1.43.59L10.3 9.45l-7.72 7.72c-.78.78-.78 2.05 0 2.83L4 21.41c.39.39.9.59 1.41.59.51 0 1.02-.2 1.41-.59l7.78-7.78 2.81-2.81c.8-.78.8-2.07 0-2.86zM5.41 20L4 18.59l7.72-7.72 1.47 1.35L5.41 20z\"/>\n",
              "  </svg>\n",
              "      </button>\n",
              "      \n",
              "  <style>\n",
              "    .colab-df-container {\n",
              "      display:flex;\n",
              "      flex-wrap:wrap;\n",
              "      gap: 12px;\n",
              "    }\n",
              "\n",
              "    .colab-df-convert {\n",
              "      background-color: #E8F0FE;\n",
              "      border: none;\n",
              "      border-radius: 50%;\n",
              "      cursor: pointer;\n",
              "      display: none;\n",
              "      fill: #1967D2;\n",
              "      height: 32px;\n",
              "      padding: 0 0 0 0;\n",
              "      width: 32px;\n",
              "    }\n",
              "\n",
              "    .colab-df-convert:hover {\n",
              "      background-color: #E2EBFA;\n",
              "      box-shadow: 0px 1px 2px rgba(60, 64, 67, 0.3), 0px 1px 3px 1px rgba(60, 64, 67, 0.15);\n",
              "      fill: #174EA6;\n",
              "    }\n",
              "\n",
              "    [theme=dark] .colab-df-convert {\n",
              "      background-color: #3B4455;\n",
              "      fill: #D2E3FC;\n",
              "    }\n",
              "\n",
              "    [theme=dark] .colab-df-convert:hover {\n",
              "      background-color: #434B5C;\n",
              "      box-shadow: 0px 1px 3px 1px rgba(0, 0, 0, 0.15);\n",
              "      filter: drop-shadow(0px 1px 2px rgba(0, 0, 0, 0.3));\n",
              "      fill: #FFFFFF;\n",
              "    }\n",
              "  </style>\n",
              "\n",
              "      <script>\n",
              "        const buttonEl =\n",
              "          document.querySelector('#df-5596d599-2db4-4396-935f-100547d749de button.colab-df-convert');\n",
              "        buttonEl.style.display =\n",
              "          google.colab.kernel.accessAllowed ? 'block' : 'none';\n",
              "\n",
              "        async function convertToInteractive(key) {\n",
              "          const element = document.querySelector('#df-5596d599-2db4-4396-935f-100547d749de');\n",
              "          const dataTable =\n",
              "            await google.colab.kernel.invokeFunction('convertToInteractive',\n",
              "                                                     [key], {});\n",
              "          if (!dataTable) return;\n",
              "\n",
              "          const docLinkHtml = 'Like what you see? Visit the ' +\n",
              "            '<a target=\"_blank\" href=https://colab.research.google.com/notebooks/data_table.ipynb>data table notebook</a>'\n",
              "            + ' to learn more about interactive tables.';\n",
              "          element.innerHTML = '';\n",
              "          dataTable['output_type'] = 'display_data';\n",
              "          await google.colab.output.renderOutput(dataTable, element);\n",
              "          const docLink = document.createElement('div');\n",
              "          docLink.innerHTML = docLinkHtml;\n",
              "          element.appendChild(docLink);\n",
              "        }\n",
              "      </script>\n",
              "    </div>\n",
              "  </div>\n",
              "  "
            ]
          },
          "metadata": {},
          "execution_count": 48
        }
      ]
    },
    {
      "cell_type": "markdown",
      "source": [
        "## pandas 데이터 추출하기\n"
      ],
      "metadata": {
        "id": "0ghcNhXJJgmM"
      }
    },
    {
      "cell_type": "code",
      "source": [
        "import pandas as pd\n",
        "\n",
        "names = ['Bob', 'Jessica', 'Mary', 'John', 'Mel', 'Henry']\n",
        "births = [1990, 1988, 1987, 1978, 2000, 2020]\n",
        "custom = [1, 5, 6, 7, 8, 10] # 고객번호\n",
        "\n",
        "DataSet = list(zip(names, births))\n",
        "#print(DataSet)\n",
        "df = pd.DataFrame(data = DataSet, columns= ['Names', 'Births'])\n",
        "#print(df)\n",
        "df.head()"
      ],
      "metadata": {
        "colab": {
          "base_uri": "https://localhost:8080/",
          "height": 206
        },
        "id": "acBcRzgLJ0AG",
        "outputId": "312bcae1-a50f-4e90-98e7-3d37e938ee51"
      },
      "execution_count": 52,
      "outputs": [
        {
          "output_type": "execute_result",
          "data": {
            "text/plain": [
              "     Names  Births\n",
              "0      Bob    1990\n",
              "1  Jessica    1988\n",
              "2     Mary    1987\n",
              "3     John    1978\n",
              "4      Mel    2000"
            ],
            "text/html": [
              "\n",
              "  <div id=\"df-5cfeb9e2-e301-415d-82f9-448349375a19\">\n",
              "    <div class=\"colab-df-container\">\n",
              "      <div>\n",
              "<style scoped>\n",
              "    .dataframe tbody tr th:only-of-type {\n",
              "        vertical-align: middle;\n",
              "    }\n",
              "\n",
              "    .dataframe tbody tr th {\n",
              "        vertical-align: top;\n",
              "    }\n",
              "\n",
              "    .dataframe thead th {\n",
              "        text-align: right;\n",
              "    }\n",
              "</style>\n",
              "<table border=\"1\" class=\"dataframe\">\n",
              "  <thead>\n",
              "    <tr style=\"text-align: right;\">\n",
              "      <th></th>\n",
              "      <th>Names</th>\n",
              "      <th>Births</th>\n",
              "    </tr>\n",
              "  </thead>\n",
              "  <tbody>\n",
              "    <tr>\n",
              "      <th>0</th>\n",
              "      <td>Bob</td>\n",
              "      <td>1990</td>\n",
              "    </tr>\n",
              "    <tr>\n",
              "      <th>1</th>\n",
              "      <td>Jessica</td>\n",
              "      <td>1988</td>\n",
              "    </tr>\n",
              "    <tr>\n",
              "      <th>2</th>\n",
              "      <td>Mary</td>\n",
              "      <td>1987</td>\n",
              "    </tr>\n",
              "    <tr>\n",
              "      <th>3</th>\n",
              "      <td>John</td>\n",
              "      <td>1978</td>\n",
              "    </tr>\n",
              "    <tr>\n",
              "      <th>4</th>\n",
              "      <td>Mel</td>\n",
              "      <td>2000</td>\n",
              "    </tr>\n",
              "  </tbody>\n",
              "</table>\n",
              "</div>\n",
              "      <button class=\"colab-df-convert\" onclick=\"convertToInteractive('df-5cfeb9e2-e301-415d-82f9-448349375a19')\"\n",
              "              title=\"Convert this dataframe to an interactive table.\"\n",
              "              style=\"display:none;\">\n",
              "        \n",
              "  <svg xmlns=\"http://www.w3.org/2000/svg\" height=\"24px\"viewBox=\"0 0 24 24\"\n",
              "       width=\"24px\">\n",
              "    <path d=\"M0 0h24v24H0V0z\" fill=\"none\"/>\n",
              "    <path d=\"M18.56 5.44l.94 2.06.94-2.06 2.06-.94-2.06-.94-.94-2.06-.94 2.06-2.06.94zm-11 1L8.5 8.5l.94-2.06 2.06-.94-2.06-.94L8.5 2.5l-.94 2.06-2.06.94zm10 10l.94 2.06.94-2.06 2.06-.94-2.06-.94-.94-2.06-.94 2.06-2.06.94z\"/><path d=\"M17.41 7.96l-1.37-1.37c-.4-.4-.92-.59-1.43-.59-.52 0-1.04.2-1.43.59L10.3 9.45l-7.72 7.72c-.78.78-.78 2.05 0 2.83L4 21.41c.39.39.9.59 1.41.59.51 0 1.02-.2 1.41-.59l7.78-7.78 2.81-2.81c.8-.78.8-2.07 0-2.86zM5.41 20L4 18.59l7.72-7.72 1.47 1.35L5.41 20z\"/>\n",
              "  </svg>\n",
              "      </button>\n",
              "      \n",
              "  <style>\n",
              "    .colab-df-container {\n",
              "      display:flex;\n",
              "      flex-wrap:wrap;\n",
              "      gap: 12px;\n",
              "    }\n",
              "\n",
              "    .colab-df-convert {\n",
              "      background-color: #E8F0FE;\n",
              "      border: none;\n",
              "      border-radius: 50%;\n",
              "      cursor: pointer;\n",
              "      display: none;\n",
              "      fill: #1967D2;\n",
              "      height: 32px;\n",
              "      padding: 0 0 0 0;\n",
              "      width: 32px;\n",
              "    }\n",
              "\n",
              "    .colab-df-convert:hover {\n",
              "      background-color: #E2EBFA;\n",
              "      box-shadow: 0px 1px 2px rgba(60, 64, 67, 0.3), 0px 1px 3px 1px rgba(60, 64, 67, 0.15);\n",
              "      fill: #174EA6;\n",
              "    }\n",
              "\n",
              "    [theme=dark] .colab-df-convert {\n",
              "      background-color: #3B4455;\n",
              "      fill: #D2E3FC;\n",
              "    }\n",
              "\n",
              "    [theme=dark] .colab-df-convert:hover {\n",
              "      background-color: #434B5C;\n",
              "      box-shadow: 0px 1px 3px 1px rgba(0, 0, 0, 0.15);\n",
              "      filter: drop-shadow(0px 1px 2px rgba(0, 0, 0, 0.3));\n",
              "      fill: #FFFFFF;\n",
              "    }\n",
              "  </style>\n",
              "\n",
              "      <script>\n",
              "        const buttonEl =\n",
              "          document.querySelector('#df-5cfeb9e2-e301-415d-82f9-448349375a19 button.colab-df-convert');\n",
              "        buttonEl.style.display =\n",
              "          google.colab.kernel.accessAllowed ? 'block' : 'none';\n",
              "\n",
              "        async function convertToInteractive(key) {\n",
              "          const element = document.querySelector('#df-5cfeb9e2-e301-415d-82f9-448349375a19');\n",
              "          const dataTable =\n",
              "            await google.colab.kernel.invokeFunction('convertToInteractive',\n",
              "                                                     [key], {});\n",
              "          if (!dataTable) return;\n",
              "\n",
              "          const docLinkHtml = 'Like what you see? Visit the ' +\n",
              "            '<a target=\"_blank\" href=https://colab.research.google.com/notebooks/data_table.ipynb>data table notebook</a>'\n",
              "            + ' to learn more about interactive tables.';\n",
              "          element.innerHTML = '';\n",
              "          dataTable['output_type'] = 'display_data';\n",
              "          await google.colab.output.renderOutput(dataTable, element);\n",
              "          const docLink = document.createElement('div');\n",
              "          docLink.innerHTML = docLinkHtml;\n",
              "          element.appendChild(docLink);\n",
              "        }\n",
              "      </script>\n",
              "    </div>\n",
              "  </div>\n",
              "  "
            ]
          },
          "metadata": {},
          "execution_count": 52
        }
      ]
    },
    {
      "cell_type": "code",
      "source": [
        "names_df = df['Names'] # 1개의 열만 추출하면 시리즈를 얻음\n",
        "print(type(names_df))\n",
        "print(names_df.head())"
      ],
      "metadata": {
        "colab": {
          "base_uri": "https://localhost:8080/"
        },
        "id": "UMi1qutkK9B7",
        "outputId": "5ac381c9-a438-4014-e294-a02a1afe104d"
      },
      "execution_count": 54,
      "outputs": [
        {
          "output_type": "stream",
          "name": "stdout",
          "text": [
            "<class 'pandas.core.series.Series'>\n",
            "0        Bob\n",
            "1    Jessica\n",
            "2       Mary\n",
            "3       John\n",
            "4        Mel\n",
            "Name: Names, dtype: object\n"
          ]
        }
      ]
    },
    {
      "cell_type": "code",
      "source": [
        "subset = df[['Names', 'Births']]\n",
        "print(type(subset))\n",
        "print(subset.head(6))"
      ],
      "metadata": {
        "colab": {
          "base_uri": "https://localhost:8080/"
        },
        "id": "i5QFWI-TLWhI",
        "outputId": "fecc299e-408c-4988-e427-b5bcee4c65f8"
      },
      "execution_count": 65,
      "outputs": [
        {
          "output_type": "stream",
          "name": "stdout",
          "text": [
            "<class 'pandas.core.frame.DataFrame'>\n",
            "     Names  Births\n",
            "0      Bob    1990\n",
            "1  Jessica    1988\n",
            "2     Mary    1987\n",
            "3     John    1978\n",
            "4      Mel    2000\n",
            "5    Henry    2020\n"
          ]
        }
      ]
    },
    {
      "cell_type": "markdown",
      "source": [
        "## 행 단위 데이터 추출\n",
        "+ loc : 인덱스를 기준으로 행 데이터 추출\n",
        "+ iloc : 행번호를 기준으로 행 데이터 추출"
      ],
      "metadata": {
        "id": "DeXuV8bnL12n"
      }
    },
    {
      "cell_type": "code",
      "source": [
        "print(df.loc[0])"
      ],
      "metadata": {
        "colab": {
          "base_uri": "https://localhost:8080/"
        },
        "id": "nhAjspmcLztr",
        "outputId": "dbf0e57a-a999-41a5-fea0-e71b06857b3e"
      },
      "execution_count": 58,
      "outputs": [
        {
          "output_type": "stream",
          "name": "stdout",
          "text": [
            "Names      Bob\n",
            "Births    1990\n",
            "Name: 0, dtype: object\n"
          ]
        }
      ]
    },
    {
      "cell_type": "code",
      "source": [
        "print(df.loc[-1]) # loc를 사용 시 -1를 사용하지 않음."
      ],
      "metadata": {
        "id": "JtHcsfE-MXV3"
      },
      "execution_count": null,
      "outputs": []
    },
    {
      "cell_type": "code",
      "source": [
        "print(df.iloc[1])"
      ],
      "metadata": {
        "colab": {
          "base_uri": "https://localhost:8080/"
        },
        "id": "yy-leBs5Mx-F",
        "outputId": "e2580ef0-7214-4907-af38-7256684eb044"
      },
      "execution_count": 67,
      "outputs": [
        {
          "output_type": "stream",
          "name": "stdout",
          "text": [
            "Names     Jessica\n",
            "Births       1988\n",
            "Name: 1, dtype: object\n"
          ]
        }
      ]
    },
    {
      "cell_type": "code",
      "source": [
        "print(df.iloc[-1])"
      ],
      "metadata": {
        "colab": {
          "base_uri": "https://localhost:8080/"
        },
        "id": "nX9qgg5fM_sd",
        "outputId": "9d396602-a723-4094-9e1c-a3ea4dce33d9"
      },
      "execution_count": 63,
      "outputs": [
        {
          "output_type": "stream",
          "name": "stdout",
          "text": [
            "Names     Henry\n",
            "Births     2020\n",
            "Name: 5, dtype: object\n"
          ]
        }
      ]
    },
    {
      "cell_type": "code",
      "source": [
        "print(df.loc[[0,3,5]])"
      ],
      "metadata": {
        "colab": {
          "base_uri": "https://localhost:8080/"
        },
        "id": "SmpCy8HNNRdi",
        "outputId": "128400de-e7e8-41bb-fd7f-a120dd376577"
      },
      "execution_count": 68,
      "outputs": [
        {
          "output_type": "stream",
          "name": "stdout",
          "text": [
            "   Names  Births\n",
            "0    Bob    1990\n",
            "3   John    1978\n",
            "5  Henry    2020\n"
          ]
        }
      ]
    },
    {
      "cell_type": "code",
      "source": [
        "print(df.tail(n=1)) # 데이터 프레임"
      ],
      "metadata": {
        "colab": {
          "base_uri": "https://localhost:8080/"
        },
        "id": "nWHjFO_GNnfE",
        "outputId": "818cecd0-ccd4-4b95-d7c7-4043eccac29e"
      },
      "execution_count": 71,
      "outputs": [
        {
          "output_type": "stream",
          "name": "stdout",
          "text": [
            "   Names  Births\n",
            "5  Henry    2020\n"
          ]
        }
      ]
    },
    {
      "cell_type": "code",
      "source": [
        "sub_loc = df.loc[0]\n",
        "sub_tail = df.tail(n=1)\n",
        "\n",
        "print(type(sub_loc))\n",
        "print(type(sub_tail))"
      ],
      "metadata": {
        "colab": {
          "base_uri": "https://localhost:8080/"
        },
        "id": "9yJ-rtMdOI7p",
        "outputId": "3fd20035-930b-49f6-b6fe-f65f036f622c"
      },
      "execution_count": 72,
      "outputs": [
        {
          "output_type": "stream",
          "name": "stdout",
          "text": [
            "<class 'pandas.core.series.Series'>\n",
            "<class 'pandas.core.frame.DataFrame'>\n"
          ]
        }
      ]
    },
    {
      "cell_type": "markdown",
      "source": [
        "## 슬라이싱 구문으로 데이터 추출"
      ],
      "metadata": {
        "id": "N4pR_FyyOkXn"
      }
    },
    {
      "cell_type": "code",
      "source": [
        "subset = df.loc[:,['Names', 'Births']] #열 지정값으로 - 인덱스를 기준\n",
        "print(subset.head())"
      ],
      "metadata": {
        "colab": {
          "base_uri": "https://localhost:8080/"
        },
        "id": "XNd2HY3ZOns0",
        "outputId": "00921ac4-74d6-4082-d55b-5d58a3db2089"
      },
      "execution_count": 74,
      "outputs": [
        {
          "output_type": "stream",
          "name": "stdout",
          "text": [
            "     Names  Births\n",
            "0      Bob    1990\n",
            "1  Jessica    1988\n",
            "2     Mary    1987\n",
            "3     John    1978\n",
            "4      Mel    2000\n"
          ]
        }
      ]
    },
    {
      "cell_type": "code",
      "source": [
        "print(df.iloc[[0,3,5], [0]]) # 열 지정값이 인덱스 - 행번호를 기준"
      ],
      "metadata": {
        "colab": {
          "base_uri": "https://localhost:8080/"
        },
        "id": "vubkc7Z7PINc",
        "outputId": "6ca21221-0025-4325-a704-65f37f0cf838"
      },
      "execution_count": 75,
      "outputs": [
        {
          "output_type": "stream",
          "name": "stdout",
          "text": [
            "   Names\n",
            "0    Bob\n",
            "3   John\n",
            "5  Henry\n"
          ]
        }
      ]
    },
    {
      "cell_type": "markdown",
      "source": [
        "## 마스크 기능, 조건, 행과 열 바꾸기\n",
        "\n",
        "구글 검색 창에 olympic medal 입력  \n",
        "https://en.wikipedia.org/wiki/All-time_Olympic_Games_medal_table\n"
      ],
      "metadata": {
        "id": "HsmefEb_Qaoc"
      }
    },
    {
      "cell_type": "code",
      "source": [
        "import pandas as pd\n",
        "df = pd.read_html('https://ko.wikipedia.org/wiki/%EC%98%AC%EB%A6%BC%ED%94%BD_%EB%A9%94%EB%8B%AC_%EC%A7%91%EA%B3%84')\n",
        "print(df)"
      ],
      "metadata": {
        "id": "aV8HjymzQhmD",
        "outputId": "a3185844-9e95-43f1-ce60-470861bd8e56",
        "colab": {
          "base_uri": "https://localhost:8080/"
        }
      },
      "execution_count": 80,
      "outputs": [
        {
          "output_type": "stream",
          "name": "stdout",
          "text": [
            "[             국가 (IOC 코드)  하계 참가 횟수  Unnamed: 2  Unnamed: 3  Unnamed: 4      계  \\\n",
            "0           아프가니스탄 (AFG)        14           0           0           2      2   \n",
            "1              알제리 (ALG)        13           5           4           8     17   \n",
            "2            아르헨티나 (ARG)        24          21          25          28     74   \n",
            "3            아르메니아 (ARM)         6           2           6           6     14   \n",
            "4    오스트랄라시아 (ANZ) [ANZ]         2           3           4           5     12   \n",
            "..                   ...       ...         ...         ...         ...    ...   \n",
            "148       독립 (IOA) [IOA]         3           1           0           1      2   \n",
            "149    독립 참가 (IOP) [IOP]         1           0           1           2      3   \n",
            "150  러시아 출신 올림픽 선수 (OAR)         0           0           0           0      0   \n",
            "151       혼성 (ZZX) [ZZX]         3           8           5           4     17   \n",
            "152                   총합        28        5116        5082        5490  15688   \n",
            "\n",
            "     동계 참가 횟수  Unnamed: 7  Unnamed: 8  Unnamed: 9   계.1  전체 참가 횟수  \\\n",
            "0           0           0           0           0     0        14   \n",
            "1           3           0           0           0     0        16   \n",
            "2          19           0           0           0     0        43   \n",
            "3           7           0           0           0     0        13   \n",
            "4           0           0           0           0     0         2   \n",
            "..        ...         ...         ...         ...   ...       ...   \n",
            "148         0           0           0           0     0         3   \n",
            "149         0           0           0           0     0         1   \n",
            "150         1           2           6           9    17         1   \n",
            "151         0           0           0           0     0         3   \n",
            "152        23        1062        1058        1050  3170        51   \n",
            "\n",
            "     Unnamed: 12  Unnamed: 13  Unnamed: 14     총합  \n",
            "0              0            0            2      2  \n",
            "1              5            4            8     17  \n",
            "2             21           25           28     74  \n",
            "3              2            6            6     14  \n",
            "4              3            4            5     12  \n",
            "..           ...          ...          ...    ...  \n",
            "148            1            0            1      2  \n",
            "149            0            1            2      3  \n",
            "150            2            6            9     17  \n",
            "151            8            5            4     17  \n",
            "152         6178         6140         6540  18858  \n",
            "\n",
            "[153 rows x 16 columns],                  국가 (IOC 코드)  하계 참가 횟수  동계 참가 횟수  전체 참가 횟수\n",
            "0                 알바니아 (ALB)         8         4        12\n",
            "1              아메리칸사모아 (ASA)         8         1         9\n",
            "2                  안도라 (AND)        11        12        23\n",
            "3                  앙골라 (ANG)         9         0         9\n",
            "4              앤티가 바부다 (ANT)        10         0        10\n",
            "..                       ...       ...       ...       ...\n",
            "74          중화민국 (ROC) [ROC]         3         0         3\n",
            "75            자르 (SAA) [SAA]         1         0         1\n",
            "76           북예멘 (YAR) [YAR]         2         0         2\n",
            "77  에멘 인민 민주 공화국 (YMD) [YMD]         1         0         1\n",
            "78            난민 (ROT) [ROT]         1         0         1\n",
            "\n",
            "[79 rows x 4 columns],                      국가 (IOC 코드) 하계 참가 횟수  Unnamed: 2  Unnamed: 3  Unnamed: 4  \\\n",
            "0                    독일 (GER)[5]       16         191         192         232   \n",
            "1              독일 (GER) (EUA)[6]       19         219         246         268   \n",
            "2        독일 (GER) (EUA) (FRG)[7]       24         275         313         349   \n",
            "3  독일 (GER) (EUA) (FRG) (GDR)[8]    25[9]         428         442         476   \n",
            "\n",
            "      계  동계 참가 횟수  Unnamed: 7  Unnamed: 8  Unnamed: 9  계.1 전체 참가 횟수  \\\n",
            "0   615        12          92          88          60  240       28   \n",
            "1   733        15         100          94          65  259       34   \n",
            "2   937        21         111         109          78  298       45   \n",
            "3  1346        21         150         145         113  408    46[9]   \n",
            "\n",
            "   Unnamed: 12  Unnamed: 13  Unnamed: 14    총합  \n",
            "0          283          280          292   855  \n",
            "1          319          340          333   992  \n",
            "2          386          422          427  1235  \n",
            "3          578          587          589  1754  ,                                 국가 (IOC 코드)  하계 참가 횟수  Unnamed: 2  Unnamed: 3  \\\n",
            "0                       러시아 출신 올림픽 선수 (OAR)         0           0           0   \n",
            "1                             러시아 (RUS)[10]         6         148         125   \n",
            "2                       러시아 (RUS) (RU1)[11]         9         149         129   \n",
            "3                               소련 (URS)[7]         9         395         319   \n",
            "4                         소련 (URS) (EUN)[8]        10         440         357   \n",
            "5  러시아 (RUS) (RU1) (OAR) 소련 (URS) (EUN)[12]        19         590         485   \n",
            "\n",
            "   Unnamed: 4     계  동계 참가 횟수  Unnamed: 7  Unnamed: 8  Unnamed: 9  계.1  \\\n",
            "0           0     0         1           2           6           9   17   \n",
            "1         153   426         6          47          38          35  120   \n",
            "2         156   434         6          47          38          35  120   \n",
            "3         296  1010         9          78          57          59  194   \n",
            "4         325  1122        10          87          63          67  217   \n",
            "5         481  1556        17         136         107         111  354   \n",
            "\n",
            "   전체 참가 횟수  Unnamed: 12  Unnamed: 13  Unnamed: 14    총합  \n",
            "0         1            2            6            9    17  \n",
            "1        12          195          163          188   546  \n",
            "2        12          195          163          188   546  \n",
            "3        18          473          376          355  1204  \n",
            "4        20          527          420          392  1339  \n",
            "5        36          726          592          592  1910  ,                                                    0  \\\n",
            "0  ANZ → AUS , NZL 오스트랄라시아(ANZ)는 오스트레일리아(AUS)와 뉴질...   \n",
            "\n",
            "                                                   1  \n",
            "0  SRB , YUG → IOP , SCG 세르비아(SRB, 1912년, 2006년~현...  ,                                                    0  \\\n",
            "0  BIZ 벨리즈는 1968년부터 1972년까지 영국령 온두라스(HBR)로 참가하였다....   \n",
            "\n",
            "                                                   1  \n",
            "0  GUY 1996년 가이아나는 독립하기 이전에 영국령 기아나라는 명칭으로 1948년부...  ,                                                    0  \\\n",
            "0  A 브루나이는 1988년 대회에 선수 없이 임원 한 명만을 보내었다. 이는 참가 집...   \n",
            "\n",
            "                                                   1  \n",
            "0  F 2014년 대회에 인도의 선수들은 인도 올림픽 협회의 자격 정지로 개막식에 올림...  ,                                                    0  \\\n",
            "0  H 불가리아 올림픽 위원회는 소피아에 거주하던 스위스의 체조 교사인 샤를 샴포가 1...   \n",
            "\n",
            "                                                   1  \n",
            "0  N 모나코는 1924년 하계 올림픽 예술에서 동메달을 획득하였다.[15] 그러나 I...  ,   vte올림픽 메달 집계                                     vte올림픽 메달 집계.1\n",
            "0       하계 올림픽  1896 1900 1904 1908 1912 1920 1924 1928 1932 1...\n",
            "1       동계 올림픽  1924 1928 1932 1936 1948 1952 1956 1960 1964 1...\n",
            "2   하계 청소년 올림픽                                     2010 2014 2018\n",
            "3   동계 청소년 올림픽                                     2012 2016 2020,   vte올림픽 메달리스트 목록                                  vte올림픽 메달리스트 목록.1\n",
            "0           하계 종목  근대5종 농구 다이빙 레슬링 배구 배드민턴 복싱 비치발리볼 사격 사이클(남/여) 수...\n",
            "1           동계 종목  노르딕복합 루지 바이애슬론 봅슬레이 쇼트트랙 스노보드 스켈레톤 스키점프 스피드스케이...\n",
            "2           과거 종목  가라데 라크로스 라켓 로크 모터보트 밀리터리패트롤 소프트볼 야구 주드폼 줄다리기 크...\n",
            "3           시범 종목  개썰매 글라이딩 글리마 동계5종 라칸 롤러하키 무도 미식축구 밴디 볼링 사바트 스키...\n",
            "4          비공식 종목  게일릭풋볼 기구 낚시 롱그폼 모터레이싱 모터사이클 불 비둘기레이싱 사이클폴로 소방 ...]\n"
          ]
        }
      ]
    }
  ]
}