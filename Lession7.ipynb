{
  "nbformat": 4,
  "nbformat_minor": 0,
  "metadata": {
    "colab": {
      "provenance": [],
      "authorship_tag": "ABX9TyP29CvUGXfzZwhCA0pvLuUQ",
      "include_colab_link": true
    },
    "kernelspec": {
      "name": "python3",
      "display_name": "Python 3"
    },
    "language_info": {
      "name": "python"
    }
  },
  "cells": [
    {
      "cell_type": "markdown",
      "metadata": {
        "id": "view-in-github",
        "colab_type": "text"
      },
      "source": [
        "<a href=\"https://colab.research.google.com/github/kig2929kig/colab/blob/main/Lession7.ipynb\" target=\"_parent\"><img src=\"https://colab.research.google.com/assets/colab-badge.svg\" alt=\"Open In Colab\"/></a>"
      ]
    },
    {
      "cell_type": "markdown",
      "source": [
        "7장"
      ],
      "metadata": {
        "id": "eZXP0YzKpaz-"
      }
    },
    {
      "cell_type": "code",
      "source": [
        "score = [0,0,0,0,0]\n",
        "sum, avg = 0,0\n",
        "print(\"김안공 선수 경기가 끝났습니다. ~ 짝짝짝\")\n",
        "\n",
        "for i in range(0,5) :\n",
        "  score[i] = int(input(\"평가 점수 ==> \"))\n",
        "  sum = sum + score[i]\n",
        "avg = sum / 5\n",
        "print(\"심사위원의 평균 점수 ==> \", avg)\n",
        "\n"
      ],
      "metadata": {
        "colab": {
          "base_uri": "https://localhost:8080/"
        },
        "id": "VeRQSVBKdN-J",
        "outputId": "7226d7eb-21ff-4d45-ac2a-8349ec7f4cdf"
      },
      "execution_count": 1,
      "outputs": [
        {
          "output_type": "stream",
          "name": "stdout",
          "text": [
            "김안공 선수 경기가 끝났습니다. ~ 짝짝짝\n",
            "평가 점수 ==> 10\n",
            "평가 점수 ==> 9\n",
            "평가 점수 ==> 8\n",
            "평가 점수 ==> 10\n",
            "평가 점수 ==> 7\n",
            "심사위원의 평균 점수 ==>  8.8\n"
          ]
        }
      ]
    },
    {
      "cell_type": "code",
      "source": [
        "import random\n",
        "score = []\n",
        "for i in range(0,10000) :\n",
        "  rock_paper_scissors = [\"가위\", \"바위\", \"보\"]\n",
        "  comA = random.choice(rock_paper_scissors)\n",
        "  comB = random.choice(rock_paper_scissors)\n",
        "  if comA == comB :\n",
        "    score.append(\"비김\")\n",
        "  elif (comA == \"가위\" and comB == \"보\") or \\\n",
        "       (comA == \"바위\" and comB == \"가위\") or \\\n",
        "       (comA == \"보\" and comB == \"바위\") :\n",
        "       score.append(\"comA\")\n",
        "  else :\n",
        "    score.append(\"comB\")\n",
        "print(\"10000번 중 컴퓨터 A의 승리 : \", score.count(\"comA\"))\n",
        "print(\"10000번 중 컴퓨터 B의 승리 : \", score.count(\"comB\"))\n",
        "print(\"10000번 중 비긴 경기 : \", score.count(\"비김\"))\n",
        "#print(score.count(\"comA\") + score.count(\"comB\") + score.count(\"비김\"))"
      ],
      "metadata": {
        "colab": {
          "base_uri": "https://localhost:8080/"
        },
        "id": "Sn4ubdENgL52",
        "outputId": "42449650-9b79-470f-c554-19f7c0175989"
      },
      "execution_count": 7,
      "outputs": [
        {
          "output_type": "stream",
          "name": "stdout",
          "text": [
            "10000번 중 컴퓨터 A의 승리 :  3369\n",
            "10000번 중 컴퓨터 B의 승리 :  3281\n",
            "10000번 중 비긴 경기 :  3350\n",
            "10000\n"
          ]
        }
      ]
    },
    {
      "cell_type": "code",
      "source": [
        "singer = {}\n",
        "singer[\"이름\"] = input(\"이름 ==>\")\n",
        "\n",
        "print(singer)"
      ],
      "metadata": {
        "id": "izoDYVF3oCVt",
        "outputId": "96a3a255-bac7-4dc9-eea8-cf8832223264",
        "colab": {
          "base_uri": "https://localhost:8080/"
        }
      },
      "execution_count": 8,
      "outputs": [
        {
          "output_type": "stream",
          "name": "stdout",
          "text": [
            "이름 ==>트와이스\n",
            "{'이름': '트와이스'}\n"
          ]
        }
      ]
    },
    {
      "cell_type": "code",
      "execution_count": null,
      "metadata": {
        "id": "kRbUST9_pZ9l",
        "colab": {
          "base_uri": "https://localhost:8080/"
        },
        "outputId": "d28da95d-b52e-4a5a-cced-40e10cbe8987"
      },
      "outputs": [
        {
          "output_type": "stream",
          "name": "stdout",
          "text": [
            "*** 물품과 재고량 입력***\n",
            "입력 물품 : 새우깡\n",
            "재고량 : 15\n",
            "입력 물품 : 꼬북칩\n",
            "재고량 : 10\n",
            "입력 물품 : 코카콜라\n",
            "재고량 : 5\n",
            "입력 물품 : z\n",
            "*** 물품과 재고량 확인 ***\n",
            "찾을 물품 : 새우깡\n",
            "15 개 남았습니다.\n",
            "찾을 물품 : 꼬북칩\n",
            "10 개 남았습니다.\n",
            "찾을 물품 : 코카콜라\n",
            "5 개 남았습니다.\n",
            "찾을 물품 : 참치캔\n",
            "그런 물품음 없습니다.\n",
            "찾을 물품 : \n",
            "{'새우깡': 15, '꼬북칩': 10, '코카콜라': 5}\n"
          ]
        }
      ],
      "source": [
        "store = {}\n",
        "print(\"*** 물품과 재고량 입력***\")\n",
        "while True :\n",
        "  article = input(\"입력 물품 : \")\n",
        "  if article == \"z\" :\n",
        "    break\n",
        "  store[article] = int(input(\"재고량 : \"))\n",
        "print(\"*** 물품과 재고량 확인 ***\")  \n",
        "while True :\n",
        "  find_article = input(\"찾을 물품 : \")\n",
        "  if find_article in store.keys() :\n",
        "    print(store[find_article], \"개 남았습니다.\")\n",
        "  elif find_article == \"\" :\n",
        "    break\n",
        "  else :\n",
        "    print(\"그런 물품은 없습니다.\")\n"
      ]
    },
    {
      "cell_type": "markdown",
      "source": [
        "100마리 꼬북이"
      ],
      "metadata": {
        "id": "CcMzT6gSNTvM"
      }
    },
    {
      "cell_type": "code",
      "source": [
        "#!pip3 install ColabTurtle\n",
        "import ColabTurtle.Turtle as turtle\n",
        "import random\n",
        "myT = []\n",
        "shapeList = [\"circle\", \"turtle\"]\n",
        "colorList = [\"red\", \"blue\", \"yellow\", \"black\", \"green\"]\n",
        "turtle.initializeTurtle()\n",
        "for i in range(0,100) :\n",
        "  color = random.choice(colorList)\n",
        "  shap = random.choice(shapeList)\n",
        "  x = random.randint(0, 750)\n",
        "  y = random.randint(0, 550)\n",
        "  myturtle = turtle.turtle_shape = shap\n",
        "  tup = (myturtle, color, x, y)\n",
        "  myT.append(tup)\n",
        "\n",
        "for t in myT:\n",
        "  turtle.color(t[1])\n",
        "  turtle.goto(t[2], t[3])\n",
        "  turtle.home()\n",
        "#help(turtle)"
      ],
      "metadata": {
        "colab": {
          "base_uri": "https://localhost:8080/",
          "height": 520
        },
        "id": "LYCJSQhqNVl1",
        "outputId": "9a8bbbfd-63e8-4ae1-b708-df9dc2ed0249"
      },
      "execution_count": null,
      "outputs": [
        {
          "output_type": "display_data",
          "data": {
            "text/plain": [
              "<IPython.core.display.HTML object>"
            ],
            "text/html": [
              "\n",
              "      <svg width=\"800\" height=\"500\">\n",
              "        <rect width=\"100%\" height=\"100%\" fill=\"black\"/>\n",
              "        <line x1=\"400\" y1=\"250\" x2=\"450\" y2=\"97\" stroke-linecap=\"round\" style=\"stroke:blue;stroke-width:4\"/><line x1=\"450\" y1=\"97\" x2=\"400\" y2=\"250\" stroke-linecap=\"round\" style=\"stroke:blue;stroke-width:4\"/><line x1=\"400\" y1=\"250\" x2=\"172\" y2=\"116\" stroke-linecap=\"round\" style=\"stroke:red;stroke-width:4\"/><line x1=\"172\" y1=\"116\" x2=\"400\" y2=\"250\" stroke-linecap=\"round\" style=\"stroke:red;stroke-width:4\"/><line x1=\"400\" y1=\"250\" x2=\"532\" y2=\"228\" stroke-linecap=\"round\" style=\"stroke:green;stroke-width:4\"/><line x1=\"532\" y1=\"228\" x2=\"400\" y2=\"250\" stroke-linecap=\"round\" style=\"stroke:green;stroke-width:4\"/><line x1=\"400\" y1=\"250\" x2=\"556\" y2=\"22\" stroke-linecap=\"round\" style=\"stroke:black;stroke-width:4\"/><line x1=\"556\" y1=\"22\" x2=\"400\" y2=\"250\" stroke-linecap=\"round\" style=\"stroke:black;stroke-width:4\"/><line x1=\"400\" y1=\"250\" x2=\"559\" y2=\"478\" stroke-linecap=\"round\" style=\"stroke:yellow;stroke-width:4\"/><line x1=\"559\" y1=\"478\" x2=\"400\" y2=\"250\" stroke-linecap=\"round\" style=\"stroke:yellow;stroke-width:4\"/><line x1=\"400\" y1=\"250\" x2=\"492\" y2=\"486\" stroke-linecap=\"round\" style=\"stroke:yellow;stroke-width:4\"/><line x1=\"492\" y1=\"486\" x2=\"400\" y2=\"250\" stroke-linecap=\"round\" style=\"stroke:yellow;stroke-width:4\"/><line x1=\"400\" y1=\"250\" x2=\"197\" y2=\"101\" stroke-linecap=\"round\" style=\"stroke:blue;stroke-width:4\"/><line x1=\"197\" y1=\"101\" x2=\"400\" y2=\"250\" stroke-linecap=\"round\" style=\"stroke:blue;stroke-width:4\"/><line x1=\"400\" y1=\"250\" x2=\"599\" y2=\"194\" stroke-linecap=\"round\" style=\"stroke:red;stroke-width:4\"/><line x1=\"599\" y1=\"194\" x2=\"400\" y2=\"250\" stroke-linecap=\"round\" style=\"stroke:red;stroke-width:4\"/><line x1=\"400\" y1=\"250\" x2=\"26\" y2=\"237\" stroke-linecap=\"round\" style=\"stroke:yellow;stroke-width:4\"/><line x1=\"26\" y1=\"237\" x2=\"400\" y2=\"250\" stroke-linecap=\"round\" style=\"stroke:yellow;stroke-width:4\"/><line x1=\"400\" y1=\"250\" x2=\"239\" y2=\"342\" stroke-linecap=\"round\" style=\"stroke:yellow;stroke-width:4\"/><line x1=\"239\" y1=\"342\" x2=\"400\" y2=\"250\" stroke-linecap=\"round\" style=\"stroke:yellow;stroke-width:4\"/><line x1=\"400\" y1=\"250\" x2=\"475\" y2=\"467\" stroke-linecap=\"round\" style=\"stroke:yellow;stroke-width:4\"/><line x1=\"475\" y1=\"467\" x2=\"400\" y2=\"250\" stroke-linecap=\"round\" style=\"stroke:yellow;stroke-width:4\"/><line x1=\"400\" y1=\"250\" x2=\"580\" y2=\"263\" stroke-linecap=\"round\" style=\"stroke:blue;stroke-width:4\"/><line x1=\"580\" y1=\"263\" x2=\"400\" y2=\"250\" stroke-linecap=\"round\" style=\"stroke:blue;stroke-width:4\"/><line x1=\"400\" y1=\"250\" x2=\"535\" y2=\"20\" stroke-linecap=\"round\" style=\"stroke:green;stroke-width:4\"/><line x1=\"535\" y1=\"20\" x2=\"400\" y2=\"250\" stroke-linecap=\"round\" style=\"stroke:green;stroke-width:4\"/><line x1=\"400\" y1=\"250\" x2=\"502\" y2=\"501\" stroke-linecap=\"round\" style=\"stroke:black;stroke-width:4\"/><line x1=\"502\" y1=\"501\" x2=\"400\" y2=\"250\" stroke-linecap=\"round\" style=\"stroke:black;stroke-width:4\"/><line x1=\"400\" y1=\"250\" x2=\"567\" y2=\"33\" stroke-linecap=\"round\" style=\"stroke:yellow;stroke-width:4\"/><line x1=\"567\" y1=\"33\" x2=\"400\" y2=\"250\" stroke-linecap=\"round\" style=\"stroke:yellow;stroke-width:4\"/><line x1=\"400\" y1=\"250\" x2=\"9\" y2=\"442\" stroke-linecap=\"round\" style=\"stroke:blue;stroke-width:4\"/><line x1=\"9\" y1=\"442\" x2=\"400\" y2=\"250\" stroke-linecap=\"round\" style=\"stroke:blue;stroke-width:4\"/><line x1=\"400\" y1=\"250\" x2=\"33\" y2=\"489\" stroke-linecap=\"round\" style=\"stroke:yellow;stroke-width:4\"/><line x1=\"33\" y1=\"489\" x2=\"400\" y2=\"250\" stroke-linecap=\"round\" style=\"stroke:yellow;stroke-width:4\"/><line x1=\"400\" y1=\"250\" x2=\"27\" y2=\"494\" stroke-linecap=\"round\" style=\"stroke:yellow;stroke-width:4\"/><line x1=\"27\" y1=\"494\" x2=\"400\" y2=\"250\" stroke-linecap=\"round\" style=\"stroke:yellow;stroke-width:4\"/><line x1=\"400\" y1=\"250\" x2=\"511\" y2=\"547\" stroke-linecap=\"round\" style=\"stroke:black;stroke-width:4\"/><line x1=\"511\" y1=\"547\" x2=\"400\" y2=\"250\" stroke-linecap=\"round\" style=\"stroke:black;stroke-width:4\"/><line x1=\"400\" y1=\"250\" x2=\"293\" y2=\"445\" stroke-linecap=\"round\" style=\"stroke:red;stroke-width:4\"/><line x1=\"293\" y1=\"445\" x2=\"400\" y2=\"250\" stroke-linecap=\"round\" style=\"stroke:red;stroke-width:4\"/><line x1=\"400\" y1=\"250\" x2=\"712\" y2=\"393\" stroke-linecap=\"round\" style=\"stroke:green;stroke-width:4\"/><line x1=\"712\" y1=\"393\" x2=\"400\" y2=\"250\" stroke-linecap=\"round\" style=\"stroke:green;stroke-width:4\"/><line x1=\"400\" y1=\"250\" x2=\"61\" y2=\"506\" stroke-linecap=\"round\" style=\"stroke:red;stroke-width:4\"/><line x1=\"61\" y1=\"506\" x2=\"400\" y2=\"250\" stroke-linecap=\"round\" style=\"stroke:red;stroke-width:4\"/><line x1=\"400\" y1=\"250\" x2=\"439\" y2=\"177\" stroke-linecap=\"round\" style=\"stroke:black;stroke-width:4\"/><line x1=\"439\" y1=\"177\" x2=\"400\" y2=\"250\" stroke-linecap=\"round\" style=\"stroke:black;stroke-width:4\"/><line x1=\"400\" y1=\"250\" x2=\"3\" y2=\"517\" stroke-linecap=\"round\" style=\"stroke:black;stroke-width:4\"/><line x1=\"3\" y1=\"517\" x2=\"400\" y2=\"250\" stroke-linecap=\"round\" style=\"stroke:black;stroke-width:4\"/><line x1=\"400\" y1=\"250\" x2=\"701\" y2=\"345\" stroke-linecap=\"round\" style=\"stroke:red;stroke-width:4\"/><line x1=\"701\" y1=\"345\" x2=\"400\" y2=\"250\" stroke-linecap=\"round\" style=\"stroke:red;stroke-width:4\"/><line x1=\"400\" y1=\"250\" x2=\"745\" y2=\"69\" stroke-linecap=\"round\" style=\"stroke:black;stroke-width:4\"/><line x1=\"745\" y1=\"69\" x2=\"400\" y2=\"250\" stroke-linecap=\"round\" style=\"stroke:black;stroke-width:4\"/><line x1=\"400\" y1=\"250\" x2=\"703\" y2=\"199\" stroke-linecap=\"round\" style=\"stroke:blue;stroke-width:4\"/><line x1=\"703\" y1=\"199\" x2=\"400\" y2=\"250\" stroke-linecap=\"round\" style=\"stroke:blue;stroke-width:4\"/><line x1=\"400\" y1=\"250\" x2=\"743\" y2=\"104\" stroke-linecap=\"round\" style=\"stroke:black;stroke-width:4\"/><line x1=\"743\" y1=\"104\" x2=\"400\" y2=\"250\" stroke-linecap=\"round\" style=\"stroke:black;stroke-width:4\"/><line x1=\"400\" y1=\"250\" x2=\"413\" y2=\"220\" stroke-linecap=\"round\" style=\"stroke:red;stroke-width:4\"/><line x1=\"413\" y1=\"220\" x2=\"400\" y2=\"250\" stroke-linecap=\"round\" style=\"stroke:red;stroke-width:4\"/><line x1=\"400\" y1=\"250\" x2=\"36\" y2=\"171\" stroke-linecap=\"round\" style=\"stroke:black;stroke-width:4\"/><line x1=\"36\" y1=\"171\" x2=\"400\" y2=\"250\" stroke-linecap=\"round\" style=\"stroke:black;stroke-width:4\"/><line x1=\"400\" y1=\"250\" x2=\"368\" y2=\"400\" stroke-linecap=\"round\" style=\"stroke:green;stroke-width:4\"/><line x1=\"368\" y1=\"400\" x2=\"400\" y2=\"250\" stroke-linecap=\"round\" style=\"stroke:green;stroke-width:4\"/><line x1=\"400\" y1=\"250\" x2=\"580\" y2=\"484\" stroke-linecap=\"round\" style=\"stroke:blue;stroke-width:4\"/><line x1=\"580\" y1=\"484\" x2=\"400\" y2=\"250\" stroke-linecap=\"round\" style=\"stroke:blue;stroke-width:4\"/><line x1=\"400\" y1=\"250\" x2=\"549\" y2=\"468\" stroke-linecap=\"round\" style=\"stroke:blue;stroke-width:4\"/><line x1=\"549\" y1=\"468\" x2=\"400\" y2=\"250\" stroke-linecap=\"round\" style=\"stroke:blue;stroke-width:4\"/><line x1=\"400\" y1=\"250\" x2=\"120\" y2=\"120\" stroke-linecap=\"round\" style=\"stroke:green;stroke-width:4\"/><line x1=\"120\" y1=\"120\" x2=\"400\" y2=\"250\" stroke-linecap=\"round\" style=\"stroke:green;stroke-width:4\"/><line x1=\"400\" y1=\"250\" x2=\"248\" y2=\"402\" stroke-linecap=\"round\" style=\"stroke:blue;stroke-width:4\"/><line x1=\"248\" y1=\"402\" x2=\"400\" y2=\"250\" stroke-linecap=\"round\" style=\"stroke:blue;stroke-width:4\"/><line x1=\"400\" y1=\"250\" x2=\"162\" y2=\"444\" stroke-linecap=\"round\" style=\"stroke:blue;stroke-width:4\"/><line x1=\"162\" y1=\"444\" x2=\"400\" y2=\"250\" stroke-linecap=\"round\" style=\"stroke:blue;stroke-width:4\"/><line x1=\"400\" y1=\"250\" x2=\"362\" y2=\"281\" stroke-linecap=\"round\" style=\"stroke:black;stroke-width:4\"/><line x1=\"362\" y1=\"281\" x2=\"400\" y2=\"250\" stroke-linecap=\"round\" style=\"stroke:black;stroke-width:4\"/><line x1=\"400\" y1=\"250\" x2=\"29\" y2=\"229\" stroke-linecap=\"round\" style=\"stroke:yellow;stroke-width:4\"/><line x1=\"29\" y1=\"229\" x2=\"400\" y2=\"250\" stroke-linecap=\"round\" style=\"stroke:yellow;stroke-width:4\"/><line x1=\"400\" y1=\"250\" x2=\"576\" y2=\"268\" stroke-linecap=\"round\" style=\"stroke:yellow;stroke-width:4\"/><line x1=\"576\" y1=\"268\" x2=\"400\" y2=\"250\" stroke-linecap=\"round\" style=\"stroke:yellow;stroke-width:4\"/><line x1=\"400\" y1=\"250\" x2=\"311\" y2=\"153\" stroke-linecap=\"round\" style=\"stroke:black;stroke-width:4\"/><line x1=\"311\" y1=\"153\" x2=\"400\" y2=\"250\" stroke-linecap=\"round\" style=\"stroke:black;stroke-width:4\"/><line x1=\"400\" y1=\"250\" x2=\"127\" y2=\"536\" stroke-linecap=\"round\" style=\"stroke:black;stroke-width:4\"/><line x1=\"127\" y1=\"536\" x2=\"400\" y2=\"250\" stroke-linecap=\"round\" style=\"stroke:black;stroke-width:4\"/><line x1=\"400\" y1=\"250\" x2=\"740\" y2=\"136\" stroke-linecap=\"round\" style=\"stroke:black;stroke-width:4\"/><line x1=\"740\" y1=\"136\" x2=\"400\" y2=\"250\" stroke-linecap=\"round\" style=\"stroke:black;stroke-width:4\"/><line x1=\"400\" y1=\"250\" x2=\"386\" y2=\"144\" stroke-linecap=\"round\" style=\"stroke:blue;stroke-width:4\"/><line x1=\"386\" y1=\"144\" x2=\"400\" y2=\"250\" stroke-linecap=\"round\" style=\"stroke:blue;stroke-width:4\"/><line x1=\"400\" y1=\"250\" x2=\"35\" y2=\"449\" stroke-linecap=\"round\" style=\"stroke:green;stroke-width:4\"/><line x1=\"35\" y1=\"449\" x2=\"400\" y2=\"250\" stroke-linecap=\"round\" style=\"stroke:green;stroke-width:4\"/><line x1=\"400\" y1=\"250\" x2=\"641\" y2=\"142\" stroke-linecap=\"round\" style=\"stroke:black;stroke-width:4\"/><line x1=\"641\" y1=\"142\" x2=\"400\" y2=\"250\" stroke-linecap=\"round\" style=\"stroke:black;stroke-width:4\"/><line x1=\"400\" y1=\"250\" x2=\"508\" y2=\"249\" stroke-linecap=\"round\" style=\"stroke:yellow;stroke-width:4\"/><line x1=\"508\" y1=\"249\" x2=\"400\" y2=\"250\" stroke-linecap=\"round\" style=\"stroke:yellow;stroke-width:4\"/><line x1=\"400\" y1=\"250\" x2=\"572\" y2=\"494\" stroke-linecap=\"round\" style=\"stroke:red;stroke-width:4\"/><line x1=\"572\" y1=\"494\" x2=\"400\" y2=\"250\" stroke-linecap=\"round\" style=\"stroke:red;stroke-width:4\"/><line x1=\"400\" y1=\"250\" x2=\"552\" y2=\"429\" stroke-linecap=\"round\" style=\"stroke:green;stroke-width:4\"/><line x1=\"552\" y1=\"429\" x2=\"400\" y2=\"250\" stroke-linecap=\"round\" style=\"stroke:green;stroke-width:4\"/><line x1=\"400\" y1=\"250\" x2=\"367\" y2=\"545\" stroke-linecap=\"round\" style=\"stroke:green;stroke-width:4\"/><line x1=\"367\" y1=\"545\" x2=\"400\" y2=\"250\" stroke-linecap=\"round\" style=\"stroke:green;stroke-width:4\"/><line x1=\"400\" y1=\"250\" x2=\"223\" y2=\"155\" stroke-linecap=\"round\" style=\"stroke:green;stroke-width:4\"/><line x1=\"223\" y1=\"155\" x2=\"400\" y2=\"250\" stroke-linecap=\"round\" style=\"stroke:green;stroke-width:4\"/><line x1=\"400\" y1=\"250\" x2=\"176\" y2=\"78\" stroke-linecap=\"round\" style=\"stroke:black;stroke-width:4\"/><line x1=\"176\" y1=\"78\" x2=\"400\" y2=\"250\" stroke-linecap=\"round\" style=\"stroke:black;stroke-width:4\"/><line x1=\"400\" y1=\"250\" x2=\"240\" y2=\"412\" stroke-linecap=\"round\" style=\"stroke:black;stroke-width:4\"/><line x1=\"240\" y1=\"412\" x2=\"400\" y2=\"250\" stroke-linecap=\"round\" style=\"stroke:black;stroke-width:4\"/><line x1=\"400\" y1=\"250\" x2=\"322\" y2=\"234\" stroke-linecap=\"round\" style=\"stroke:blue;stroke-width:4\"/><line x1=\"322\" y1=\"234\" x2=\"400\" y2=\"250\" stroke-linecap=\"round\" style=\"stroke:blue;stroke-width:4\"/><line x1=\"400\" y1=\"250\" x2=\"419\" y2=\"470\" stroke-linecap=\"round\" style=\"stroke:green;stroke-width:4\"/><line x1=\"419\" y1=\"470\" x2=\"400\" y2=\"250\" stroke-linecap=\"round\" style=\"stroke:green;stroke-width:4\"/><line x1=\"400\" y1=\"250\" x2=\"665\" y2=\"232\" stroke-linecap=\"round\" style=\"stroke:black;stroke-width:4\"/><line x1=\"665\" y1=\"232\" x2=\"400\" y2=\"250\" stroke-linecap=\"round\" style=\"stroke:black;stroke-width:4\"/><line x1=\"400\" y1=\"250\" x2=\"691\" y2=\"217\" stroke-linecap=\"round\" style=\"stroke:yellow;stroke-width:4\"/><line x1=\"691\" y1=\"217\" x2=\"400\" y2=\"250\" stroke-linecap=\"round\" style=\"stroke:yellow;stroke-width:4\"/><line x1=\"400\" y1=\"250\" x2=\"593\" y2=\"535\" stroke-linecap=\"round\" style=\"stroke:red;stroke-width:4\"/><line x1=\"593\" y1=\"535\" x2=\"400\" y2=\"250\" stroke-linecap=\"round\" style=\"stroke:red;stroke-width:4\"/><line x1=\"400\" y1=\"250\" x2=\"152\" y2=\"68\" stroke-linecap=\"round\" style=\"stroke:black;stroke-width:4\"/><line x1=\"152\" y1=\"68\" x2=\"400\" y2=\"250\" stroke-linecap=\"round\" style=\"stroke:black;stroke-width:4\"/><line x1=\"400\" y1=\"250\" x2=\"211\" y2=\"111\" stroke-linecap=\"round\" style=\"stroke:blue;stroke-width:4\"/><line x1=\"211\" y1=\"111\" x2=\"400\" y2=\"250\" stroke-linecap=\"round\" style=\"stroke:blue;stroke-width:4\"/><line x1=\"400\" y1=\"250\" x2=\"360\" y2=\"478\" stroke-linecap=\"round\" style=\"stroke:yellow;stroke-width:4\"/><line x1=\"360\" y1=\"478\" x2=\"400\" y2=\"250\" stroke-linecap=\"round\" style=\"stroke:yellow;stroke-width:4\"/><line x1=\"400\" y1=\"250\" x2=\"318\" y2=\"201\" stroke-linecap=\"round\" style=\"stroke:black;stroke-width:4\"/><line x1=\"318\" y1=\"201\" x2=\"400\" y2=\"250\" stroke-linecap=\"round\" style=\"stroke:black;stroke-width:4\"/><line x1=\"400\" y1=\"250\" x2=\"115\" y2=\"494\" stroke-linecap=\"round\" style=\"stroke:black;stroke-width:4\"/><line x1=\"115\" y1=\"494\" x2=\"400\" y2=\"250\" stroke-linecap=\"round\" style=\"stroke:black;stroke-width:4\"/><line x1=\"400\" y1=\"250\" x2=\"62\" y2=\"195\" stroke-linecap=\"round\" style=\"stroke:blue;stroke-width:4\"/><line x1=\"62\" y1=\"195\" x2=\"400\" y2=\"250\" stroke-linecap=\"round\" style=\"stroke:blue;stroke-width:4\"/><line x1=\"400\" y1=\"250\" x2=\"22\" y2=\"363\" stroke-linecap=\"round\" style=\"stroke:red;stroke-width:4\"/><line x1=\"22\" y1=\"363\" x2=\"400\" y2=\"250\" stroke-linecap=\"round\" style=\"stroke:red;stroke-width:4\"/><line x1=\"400\" y1=\"250\" x2=\"197\" y2=\"250\" stroke-linecap=\"round\" style=\"stroke:red;stroke-width:4\"/><line x1=\"197\" y1=\"250\" x2=\"400\" y2=\"250\" stroke-linecap=\"round\" style=\"stroke:red;stroke-width:4\"/><line x1=\"400\" y1=\"250\" x2=\"224\" y2=\"489\" stroke-linecap=\"round\" style=\"stroke:black;stroke-width:4\"/><line x1=\"224\" y1=\"489\" x2=\"400\" y2=\"250\" stroke-linecap=\"round\" style=\"stroke:black;stroke-width:4\"/><line x1=\"400\" y1=\"250\" x2=\"294\" y2=\"196\" stroke-linecap=\"round\" style=\"stroke:yellow;stroke-width:4\"/><line x1=\"294\" y1=\"196\" x2=\"400\" y2=\"250\" stroke-linecap=\"round\" style=\"stroke:yellow;stroke-width:4\"/><line x1=\"400\" y1=\"250\" x2=\"268\" y2=\"125\" stroke-linecap=\"round\" style=\"stroke:yellow;stroke-width:4\"/><line x1=\"268\" y1=\"125\" x2=\"400\" y2=\"250\" stroke-linecap=\"round\" style=\"stroke:yellow;stroke-width:4\"/><line x1=\"400\" y1=\"250\" x2=\"283\" y2=\"234\" stroke-linecap=\"round\" style=\"stroke:green;stroke-width:4\"/><line x1=\"283\" y1=\"234\" x2=\"400\" y2=\"250\" stroke-linecap=\"round\" style=\"stroke:green;stroke-width:4\"/><line x1=\"400\" y1=\"250\" x2=\"565\" y2=\"122\" stroke-linecap=\"round\" style=\"stroke:black;stroke-width:4\"/><line x1=\"565\" y1=\"122\" x2=\"400\" y2=\"250\" stroke-linecap=\"round\" style=\"stroke:black;stroke-width:4\"/><line x1=\"400\" y1=\"250\" x2=\"479\" y2=\"187\" stroke-linecap=\"round\" style=\"stroke:blue;stroke-width:4\"/><line x1=\"479\" y1=\"187\" x2=\"400\" y2=\"250\" stroke-linecap=\"round\" style=\"stroke:blue;stroke-width:4\"/><line x1=\"400\" y1=\"250\" x2=\"632\" y2=\"550\" stroke-linecap=\"round\" style=\"stroke:red;stroke-width:4\"/><line x1=\"632\" y1=\"550\" x2=\"400\" y2=\"250\" stroke-linecap=\"round\" style=\"stroke:red;stroke-width:4\"/><line x1=\"400\" y1=\"250\" x2=\"565\" y2=\"177\" stroke-linecap=\"round\" style=\"stroke:green;stroke-width:4\"/><line x1=\"565\" y1=\"177\" x2=\"400\" y2=\"250\" stroke-linecap=\"round\" style=\"stroke:green;stroke-width:4\"/><line x1=\"400\" y1=\"250\" x2=\"622\" y2=\"185\" stroke-linecap=\"round\" style=\"stroke:black;stroke-width:4\"/><line x1=\"622\" y1=\"185\" x2=\"400\" y2=\"250\" stroke-linecap=\"round\" style=\"stroke:black;stroke-width:4\"/><line x1=\"400\" y1=\"250\" x2=\"207\" y2=\"110\" stroke-linecap=\"round\" style=\"stroke:red;stroke-width:4\"/><line x1=\"207\" y1=\"110\" x2=\"400\" y2=\"250\" stroke-linecap=\"round\" style=\"stroke:red;stroke-width:4\"/><line x1=\"400\" y1=\"250\" x2=\"137\" y2=\"406\" stroke-linecap=\"round\" style=\"stroke:green;stroke-width:4\"/><line x1=\"137\" y1=\"406\" x2=\"400\" y2=\"250\" stroke-linecap=\"round\" style=\"stroke:green;stroke-width:4\"/><line x1=\"400\" y1=\"250\" x2=\"154\" y2=\"91\" stroke-linecap=\"round\" style=\"stroke:red;stroke-width:4\"/><line x1=\"154\" y1=\"91\" x2=\"400\" y2=\"250\" stroke-linecap=\"round\" style=\"stroke:red;stroke-width:4\"/><line x1=\"400\" y1=\"250\" x2=\"482\" y2=\"134\" stroke-linecap=\"round\" style=\"stroke:yellow;stroke-width:4\"/><line x1=\"482\" y1=\"134\" x2=\"400\" y2=\"250\" stroke-linecap=\"round\" style=\"stroke:yellow;stroke-width:4\"/><line x1=\"400\" y1=\"250\" x2=\"58\" y2=\"344\" stroke-linecap=\"round\" style=\"stroke:green;stroke-width:4\"/><line x1=\"58\" y1=\"344\" x2=\"400\" y2=\"250\" stroke-linecap=\"round\" style=\"stroke:green;stroke-width:4\"/><line x1=\"400\" y1=\"250\" x2=\"219\" y2=\"517\" stroke-linecap=\"round\" style=\"stroke:black;stroke-width:4\"/><line x1=\"219\" y1=\"517\" x2=\"400\" y2=\"250\" stroke-linecap=\"round\" style=\"stroke:black;stroke-width:4\"/><line x1=\"400\" y1=\"250\" x2=\"418\" y2=\"331\" stroke-linecap=\"round\" style=\"stroke:blue;stroke-width:4\"/><line x1=\"418\" y1=\"331\" x2=\"400\" y2=\"250\" stroke-linecap=\"round\" style=\"stroke:blue;stroke-width:4\"/><line x1=\"400\" y1=\"250\" x2=\"83\" y2=\"213\" stroke-linecap=\"round\" style=\"stroke:red;stroke-width:4\"/><line x1=\"83\" y1=\"213\" x2=\"400\" y2=\"250\" stroke-linecap=\"round\" style=\"stroke:red;stroke-width:4\"/><line x1=\"400\" y1=\"250\" x2=\"507\" y2=\"540\" stroke-linecap=\"round\" style=\"stroke:blue;stroke-width:4\"/><line x1=\"507\" y1=\"540\" x2=\"400\" y2=\"250\" stroke-linecap=\"round\" style=\"stroke:blue;stroke-width:4\"/><line x1=\"400\" y1=\"250\" x2=\"614\" y2=\"425\" stroke-linecap=\"round\" style=\"stroke:yellow;stroke-width:4\"/><line x1=\"614\" y1=\"425\" x2=\"400\" y2=\"250\" stroke-linecap=\"round\" style=\"stroke:yellow;stroke-width:4\"/><line x1=\"400\" y1=\"250\" x2=\"414\" y2=\"280\" stroke-linecap=\"round\" style=\"stroke:black;stroke-width:4\"/><line x1=\"414\" y1=\"280\" x2=\"400\" y2=\"250\" stroke-linecap=\"round\" style=\"stroke:black;stroke-width:4\"/><line x1=\"400\" y1=\"250\" x2=\"640\" y2=\"489\" stroke-linecap=\"round\" style=\"stroke:blue;stroke-width:4\"/><line x1=\"640\" y1=\"489\" x2=\"400\" y2=\"250\" stroke-linecap=\"round\" style=\"stroke:blue;stroke-width:4\"/><line x1=\"400\" y1=\"250\" x2=\"431\" y2=\"117\" stroke-linecap=\"round\" style=\"stroke:red;stroke-width:4\"/><line x1=\"431\" y1=\"117\" x2=\"400\" y2=\"250\" stroke-linecap=\"round\" style=\"stroke:red;stroke-width:4\"/><line x1=\"400\" y1=\"250\" x2=\"681\" y2=\"422\" stroke-linecap=\"round\" style=\"stroke:black;stroke-width:4\"/><line x1=\"681\" y1=\"422\" x2=\"400\" y2=\"250\" stroke-linecap=\"round\" style=\"stroke:black;stroke-width:4\"/><line x1=\"400\" y1=\"250\" x2=\"171\" y2=\"506\" stroke-linecap=\"round\" style=\"stroke:black;stroke-width:4\"/><line x1=\"171\" y1=\"506\" x2=\"400\" y2=\"250\" stroke-linecap=\"round\" style=\"stroke:black;stroke-width:4\"/><line x1=\"400\" y1=\"250\" x2=\"607\" y2=\"231\" stroke-linecap=\"round\" style=\"stroke:yellow;stroke-width:4\"/><line x1=\"607\" y1=\"231\" x2=\"400\" y2=\"250\" stroke-linecap=\"round\" style=\"stroke:yellow;stroke-width:4\"/><line x1=\"400\" y1=\"250\" x2=\"194\" y2=\"368\" stroke-linecap=\"round\" style=\"stroke:red;stroke-width:4\"/><line x1=\"194\" y1=\"368\" x2=\"400\" y2=\"250\" stroke-linecap=\"round\" style=\"stroke:red;stroke-width:4\"/><line x1=\"400\" y1=\"250\" x2=\"374\" y2=\"235\" stroke-linecap=\"round\" style=\"stroke:green;stroke-width:4\"/><line x1=\"374\" y1=\"235\" x2=\"400\" y2=\"250\" stroke-linecap=\"round\" style=\"stroke:green;stroke-width:4\"/><line x1=\"400\" y1=\"250\" x2=\"78\" y2=\"501\" stroke-linecap=\"round\" style=\"stroke:red;stroke-width:4\"/><line x1=\"78\" y1=\"501\" x2=\"400\" y2=\"250\" stroke-linecap=\"round\" style=\"stroke:red;stroke-width:4\"/><line x1=\"400\" y1=\"250\" x2=\"242\" y2=\"457\" stroke-linecap=\"round\" style=\"stroke:blue;stroke-width:4\"/><line x1=\"242\" y1=\"457\" x2=\"400\" y2=\"250\" stroke-linecap=\"round\" style=\"stroke:blue;stroke-width:4\"/><line x1=\"400\" y1=\"250\" x2=\"285\" y2=\"313\" stroke-linecap=\"round\" style=\"stroke:red;stroke-width:4\"/><line x1=\"285\" y1=\"313\" x2=\"400\" y2=\"250\" stroke-linecap=\"round\" style=\"stroke:red;stroke-width:4\"/><line x1=\"400\" y1=\"250\" x2=\"559\" y2=\"83\" stroke-linecap=\"round\" style=\"stroke:red;stroke-width:4\"/><line x1=\"559\" y1=\"83\" x2=\"400\" y2=\"250\" stroke-linecap=\"round\" style=\"stroke:red;stroke-width:4\"/><line x1=\"400\" y1=\"250\" x2=\"59\" y2=\"472\" stroke-linecap=\"round\" style=\"stroke:yellow;stroke-width:4\"/><line x1=\"59\" y1=\"472\" x2=\"400\" y2=\"250\" stroke-linecap=\"round\" style=\"stroke:yellow;stroke-width:4\"/><line x1=\"400\" y1=\"250\" x2=\"440\" y2=\"406\" stroke-linecap=\"round\" style=\"stroke:red;stroke-width:4\"/><line x1=\"440\" y1=\"406\" x2=\"400\" y2=\"250\" stroke-linecap=\"round\" style=\"stroke:red;stroke-width:4\"/><line x1=\"400\" y1=\"250\" x2=\"725\" y2=\"20\" stroke-linecap=\"round\" style=\"stroke:black;stroke-width:4\"/><line x1=\"725\" y1=\"20\" x2=\"400\" y2=\"250\" stroke-linecap=\"round\" style=\"stroke:black;stroke-width:4\"/><line x1=\"400\" y1=\"250\" x2=\"58\" y2=\"169\" stroke-linecap=\"round\" style=\"stroke:yellow;stroke-width:4\"/><line x1=\"58\" y1=\"169\" x2=\"400\" y2=\"250\" stroke-linecap=\"round\" style=\"stroke:yellow;stroke-width:4\"/>\n",
              "        \n",
              "      <g visibility=visible transform=\"rotate(180,400,250) translate(400, 250)\">\n",
              "        <circle stroke=\"yellow\" stroke-width=\"3\" fill=\"transparent\" r=\"12\" cx=\"0\" cy=\"0\"/>\n",
              "        <polygon points=\"0,19 3,16 -3,16\" style=\"fill:yellow;stroke:yellow;stroke-width:2\"/>\n",
              "      </g>\n",
              "    \n",
              "      </svg>\n",
              "    "
            ]
          },
          "metadata": {}
        }
      ]
    }
  ]
}