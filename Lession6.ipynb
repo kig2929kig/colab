{
  "nbformat": 4,
  "nbformat_minor": 0,
  "metadata": {
    "colab": {
      "provenance": [],
      "authorship_tag": "ABX9TyO5bEzswH73evqQ6VVrKr9L",
      "include_colab_link": true
    },
    "kernelspec": {
      "name": "python3",
      "display_name": "Python 3"
    },
    "language_info": {
      "name": "python"
    }
  },
  "cells": [
    {
      "cell_type": "markdown",
      "metadata": {
        "id": "view-in-github",
        "colab_type": "text"
      },
      "source": [
        "<a href=\"https://colab.research.google.com/github/kig2929kig/colab/blob/main/Lession6.ipynb\" target=\"_parent\"><img src=\"https://colab.research.google.com/assets/colab-badge.svg\" alt=\"Open In Colab\"/></a>"
      ]
    },
    {
      "cell_type": "markdown",
      "source": [
        "6장"
      ],
      "metadata": {
        "id": "7csC2Z_P9mdm"
      }
    },
    {
      "cell_type": "code",
      "source": [
        "while True :\n",
        "  num1 = input(\"숫자1 입력 => \")\n",
        "  if num1 == \"0\" : break\n",
        "  num2 = input(\"숫자2 입력 => \")\n",
        "  result = float(num1) + float(num2)\n",
        "  print(num1, \"+\", num2, \"=\", result)\n",
        "  \n"
      ],
      "metadata": {
        "colab": {
          "base_uri": "https://localhost:8080/"
        },
        "id": "SYiCVh9K9lT2",
        "outputId": "959539e9-0db9-47bd-ab87-d3b13e9d609b"
      },
      "execution_count": 1,
      "outputs": [
        {
          "name": "stdout",
          "output_type": "stream",
          "text": [
            "숫자1 입력 => 9\n",
            "숫자2 입력 => 5\n",
            "9 + 5 = 14.0\n",
            "숫자1 입력 => 5\n",
            "숫자2 입력 => 9\n",
            "5 + 9 = 14.0\n",
            "숫자1 입력 => 0\n"
          ]
        }
      ]
    },
    {
      "cell_type": "markdown",
      "source": [
        "주사위 3개 동시에 던졌을때, 반복문 나오기."
      ],
      "metadata": {
        "id": "tOxK7tvREkcr"
      }
    },
    {
      "cell_type": "code",
      "source": [
        "import random\n",
        "count = 0\n",
        "while True :\n",
        "  r1, r2 = random.randint(1,6), random.randint(1,6)\n",
        "  r3 = random.randint(1,6)\n",
        "  count = count + 1\n",
        "  if r1 == r2 == r3 : break\n",
        "print(\"3개의 주사위는 모두 \", r1, \"나왔다.\")\n",
        "print(\"같은 숫자가 나오기까지 \", count,\"번 던졌습니다.\")"
      ],
      "metadata": {
        "colab": {
          "base_uri": "https://localhost:8080/"
        },
        "id": "r-ME1Gj8EqL2",
        "outputId": "a9071fb4-0b04-4988-bce6-8b53aca91920"
      },
      "execution_count": 3,
      "outputs": [
        {
          "output_type": "stream",
          "name": "stdout",
          "text": [
            "3개의 주사위는 모두  6 나왔다.\n",
            "같은 숫자가 나오기까지  30 번 던졌습니다.\n"
          ]
        }
      ]
    },
    {
      "cell_type": "markdown",
      "source": [
        "야구게임"
      ],
      "metadata": {
        "id": "EicTyUnFKT99"
      }
    },
    {
      "cell_type": "code",
      "source": [
        "import random\n",
        "com_list = [1,2,3,4,5,6,7,8,9]\n",
        "com_num, usr_num = [], []\n",
        "# 컴퓨터 - 3개의 중복되지 않는 숫자 만들기  \n",
        "for i in range(3) :\n",
        "  r = random.choice(com_list)\n",
        "  com_list.remove(r)\n",
        "  com_num.append(r)\n",
        "#사용자가 입력한 숫자 3개------------------------\n",
        "print(\"** 야구 게임 ** \")\n",
        "usr = input(\"3개의 숫자를 입력(1~9까지) ==> \")\n",
        "for i in range(0,5,2) :\n",
        "  usr_num.append(int(usr[i]))\n",
        " #------------------------------------------------\n",
        "print(com_num, usr_num)"
      ],
      "metadata": {
        "colab": {
          "base_uri": "https://localhost:8080/"
        },
        "id": "LBmxlUVkKVoz",
        "outputId": "f43070d9-62fd-480c-ae55-ecefedb327b1"
      },
      "execution_count": 37,
      "outputs": [
        {
          "output_type": "stream",
          "name": "stdout",
          "text": [
            "** 야구 게임 ** \n",
            "3개의 숫자를 입력(1~9까지) ==> 1 2 3\n",
            "[4, 7, 8] [1, 2, 3]\n"
          ]
        }
      ]
    },
    {
      "cell_type": "markdown",
      "source": [],
      "metadata": {
        "id": "b8gtu-dK9j7H"
      }
    }
  ]
}