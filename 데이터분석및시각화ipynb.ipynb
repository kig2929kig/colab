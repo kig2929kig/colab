{
  "nbformat": 4,
  "nbformat_minor": 0,
  "metadata": {
    "colab": {
      "provenance": [],
      "mount_file_id": "1OGzAFONZr1XPCkzxq2SGpO8BfDWQypne",
      "authorship_tag": "ABX9TyOGHZ1N+o3PlhuJ6FS431Yz",
      "include_colab_link": true
    },
    "kernelspec": {
      "name": "python3",
      "display_name": "Python 3"
    },
    "language_info": {
      "name": "python"
    }
  },
  "cells": [
    {
      "cell_type": "markdown",
      "metadata": {
        "id": "view-in-github",
        "colab_type": "text"
      },
      "source": [
        "<a href=\"https://colab.research.google.com/github/kig2929kig/colab/blob/main/%EB%8D%B0%EC%9D%B4%ED%84%B0%EB%B6%84%EC%84%9D%EB%B0%8F%EC%8B%9C%EA%B0%81%ED%99%94ipynb.ipynb\" target=\"_parent\"><img src=\"https://colab.research.google.com/assets/colab-badge.svg\" alt=\"Open In Colab\"/></a>"
      ]
    },
    {
      "cell_type": "markdown",
      "source": [
        "# 데이터 분석과 시각화\n",
        "+ 기상자료개방포털 (https://data.kma.go.kr)  \n",
        "+ 공공데이터포털  \n",
        "+ 서울 열린데이터 광장(https://data.seoul.go.kr/)  \n",
        "\n",
        "##  CSV 파일\n",
        "+ CSV(Comma-Separated Values) 각각의 데이터 값을 콤마(,)로 구분하는 파일.\n",
        "+ 데이터 분석 전문가들이 자주 사용하는 파일 형식.\n",
        "+ 메모장, 엑셀 프로그램에서 열어볼 수 있음.\n",
        "+ 공공데이터포털에서 제공하는 파일 형식"
      ],
      "metadata": {
        "id": "IyBBwOY7-B4Y"
      }
    },
    {
      "cell_type": "code",
      "execution_count": null,
      "metadata": {
        "colab": {
          "base_uri": "https://localhost:8080/"
        },
        "id": "s6OrZOTu-BL4",
        "outputId": "79689956-7875-4adf-8eee-604ea4e3082b"
      },
      "outputs": [
        {
          "output_type": "stream",
          "name": "stdout",
          "text": [
            "<_csv.reader object at 0x7f19675294d0>\n",
            "['기온분석']\n",
            "['[검색조건]']\n",
            "['자료구분 : 일']\n",
            "['자료형태 : 기본']\n",
            "['지역/지점 : 서울']\n",
            "['기간 : 20221002~20221031']\n",
            "[]\n",
            "['날짜', '지점', '평균기온(℃)', '최저기온(℃)', '최고기온(℃)']\n",
            "[]\n",
            "['\\t2022-10-02', '108', '19.4', '17.2', '21.6']\n",
            "['\\t2022-10-03', '108', '21.4', '17.5', '23.4']\n",
            "['\\t2022-10-04', '108', '17.9', '14.2', '23']\n",
            "['\\t2022-10-05', '108', '16.6', '14.1', '21.6']\n",
            "['\\t2022-10-06', '108', '15.8', '12.7', '19.1']\n",
            "['\\t2022-10-07', '108', '14.3', '11', '18.6']\n",
            "['\\t2022-10-08', '108', '15.8', '11.1', '21.6']\n",
            "['\\t2022-10-09', '108', '13.1', '10.7', '14.5']\n",
            "['\\t2022-10-10', '108', '9.9', '8.2', '11.9']\n",
            "['\\t2022-10-11', '108', '11.1', '7.4', '16.4']\n",
            "['\\t2022-10-12', '108', '13.5', '6.5', '20.6']\n",
            "['\\t2022-10-13', '108', '16.3', '10.7', '22.7']\n",
            "['\\t2022-10-14', '108', '17.1', '12.4', '23']\n",
            "['\\t2022-10-15', '108', '18.2', '12.6', '24.4']\n",
            "['\\t2022-10-16', '108', '16.9', '15.1', '20.5']\n",
            "['\\t2022-10-17', '108', '11.2', '7.4', '15.1']\n",
            "['\\t2022-10-18', '108', '9.4', '5', '14.2']\n",
            "['\\t2022-10-19', '108', '10.5', '4.4', '16.8']\n",
            "['\\t2022-10-20', '108', '12.9', '6', '19.7']\n",
            "['\\t2022-10-21', '108', '14', '8.8', '20.9']\n",
            "['\\t2022-10-22', '108', '15.1', '10.5', '20.8']\n",
            "['\\t2022-10-23', '108', '14', '10.4', '18.6']\n",
            "['\\t2022-10-24', '108', '10.6', '7.5', '14.8']\n",
            "['\\t2022-10-25', '108', '11.3', '5.9', '17.6']\n",
            "['\\t2022-10-26', '108', '12.9', '8', '17.8']\n",
            "['\\t2022-10-27', '108', '13.2', '8.6', '18.9']\n",
            "['\\t2022-10-28', '108', '13.6', '8.2', '20.6']\n",
            "['\\t2022-10-29', '108', '14.8', '10.2', '21.3']\n",
            "['\\t2022-10-30', '108', '14.9', '10.4', '21.3']\n",
            "['\\t2022-10-31', '108', '14.9', '11.2', '21.1']\n",
            "['\\t']\n",
            "[]\n"
          ]
        }
      ],
      "source": [
        "import csv\n",
        "\n",
        "f = open('/content/drive/MyDrive/Colab Notebooks/test.csv', 'r', encoding='cp949') #utf8\n",
        "\n",
        "data = csv.reader(f, delimiter=',')\n",
        "#print(data)\n",
        "for row in data : #리스트 - 인덱싱과 슬라이싱 가능\n",
        "  print(row) # 한줄씩 출력\n",
        "\n",
        "f.close()\n"
      ]
    },
    {
      "cell_type": "markdown",
      "source": [
        "## 헤더 저장\n",
        "+ 데이터 파일에서 여러 가지 값들이 어떤 의미를 갖는지 표시한 행\n",
        "+ 수많은 데이터를 다룰 때 표지판과 같은 역할\n",
        "+ 헤더를 통해 각 열의 데이터가 어떤 의미를 갖는지 알 수 있기 때문에 매우 중요한 데이터"
      ],
      "metadata": {
        "id": "IqS5Z-dxEcVO"
      }
    },
    {
      "cell_type": "code",
      "source": [
        "import csv\n",
        "\n",
        "f = open('/content/drive/MyDrive/Colab Notebooks/test.csv', 'r', encoding='cp949') \n",
        "\n",
        "data = csv.reader(f)\n",
        "\n",
        "header = next(data)# next() 메소드를 사용하여 데이터의 첫 번째 행을 변수에 저장\n",
        "print(header) \n",
        "f.close()"
      ],
      "metadata": {
        "colab": {
          "base_uri": "https://localhost:8080/"
        },
        "id": "BIZnGegSEvEx",
        "outputId": "a0472f6e-2e7e-4f8f-d21a-4304e61820a1"
      },
      "execution_count": 26,
      "outputs": [
        {
          "output_type": "stream",
          "name": "stdout",
          "text": [
            "['날짜', '지점', '평균기온(℃)', '최저기온(℃)', '최고기온(℃)']\n"
          ]
        }
      ]
    },
    {
      "cell_type": "markdown",
      "source": [
        "## 서울 열린데이터 광장 - seoul.csv"
      ],
      "metadata": {
        "id": "eG7hYtKRDdrF"
      }
    },
    {
      "cell_type": "code",
      "source": [
        "import csv\n",
        "\n",
        "f = open('/content/drive/MyDrive/Colab Notebooks/seoul.csv', 'r') \n",
        "\n",
        "data = csv.reader(f)\n",
        "#print(data)\n",
        "\n",
        "header = next(data)\n",
        "print(header)\n",
        "print()\n",
        "for row in data :\n",
        "  print(row)\n",
        "\n",
        "f.close()"
      ],
      "metadata": {
        "id": "53UPnhVtDqCr"
      },
      "execution_count": null,
      "outputs": []
    },
    {
      "cell_type": "markdown",
      "source": [
        "## pandas\n",
        "+ 데이터 분석용 라이브러리로 데이터를 다루는 패키지 중 하나\n",
        "+ 데이터 분석을 위한 효율적인 데이터 구조를 제공, 1차원 배열 형태의 데이터 구조인 Series와 2차원 배열 형태의 데이터 구조인 Data Frame으로 구성\n",
        "+ 데이터 분석의 시작을 pandas라고도 불림.\n",
        "+ 엑셀의 스프레드시트와 유사한 형태이며 파이썬으로 데이터를 쉽게 처리\n",
        "+ 시계열 데이터(시간의 경과에 따라 관측된 결과 값)를 조작하고 운영하기 위한 데이터를 제공\n",
        "+ SQL 같은 일반 데이터베이스처럼 데이터를 합치고 관계연산을 수행하는 것이 가능\n",
        "\n",
        "pandas 라이브러리는 내장 라이브러리가 아니기 때문에 원래는 별도로 설치해야함. 코랩에서는 자동으로 설치되어 있음."
      ],
      "metadata": {
        "id": "4PcYvoAKDxJR"
      }
    },
    {
      "cell_type": "code",
      "source": [
        "import pandas as pd\n",
        "\n",
        "name = ['Bob', 'Jessica', 'Mary', 'John', 'Mel']\n",
        "births = [968, 155, 77, 578, 973]\n",
        "custom = [1, 5, 25, 13, 23232]\n",
        "\n",
        "DataSet = list(zip(name, births))\n",
        "#print(DataSet)\n",
        "df = pd.DataFrame(data = DataSet, columns = ['Name', 'Births'])\n",
        "df.head() # 데이터 앞에서 부터 5개 출력\n",
        "#df.head(2)"
      ],
      "metadata": {
        "colab": {
          "base_uri": "https://localhost:8080/",
          "height": 206
        },
        "id": "kluda3l4D01w",
        "outputId": "9b3dd89a-c504-4be8-ab7b-accf5b23ccc9"
      },
      "execution_count": 34,
      "outputs": [
        {
          "output_type": "execute_result",
          "data": {
            "text/plain": [
              "      Name  Births\n",
              "0      Bob     968\n",
              "1  Jessica     155\n",
              "2     Mary      77\n",
              "3     John     578\n",
              "4      Mel     973"
            ],
            "text/html": [
              "\n",
              "  <div id=\"df-59064e25-c90d-4625-850b-d80e953e08a2\">\n",
              "    <div class=\"colab-df-container\">\n",
              "      <div>\n",
              "<style scoped>\n",
              "    .dataframe tbody tr th:only-of-type {\n",
              "        vertical-align: middle;\n",
              "    }\n",
              "\n",
              "    .dataframe tbody tr th {\n",
              "        vertical-align: top;\n",
              "    }\n",
              "\n",
              "    .dataframe thead th {\n",
              "        text-align: right;\n",
              "    }\n",
              "</style>\n",
              "<table border=\"1\" class=\"dataframe\">\n",
              "  <thead>\n",
              "    <tr style=\"text-align: right;\">\n",
              "      <th></th>\n",
              "      <th>Name</th>\n",
              "      <th>Births</th>\n",
              "    </tr>\n",
              "  </thead>\n",
              "  <tbody>\n",
              "    <tr>\n",
              "      <th>0</th>\n",
              "      <td>Bob</td>\n",
              "      <td>968</td>\n",
              "    </tr>\n",
              "    <tr>\n",
              "      <th>1</th>\n",
              "      <td>Jessica</td>\n",
              "      <td>155</td>\n",
              "    </tr>\n",
              "    <tr>\n",
              "      <th>2</th>\n",
              "      <td>Mary</td>\n",
              "      <td>77</td>\n",
              "    </tr>\n",
              "    <tr>\n",
              "      <th>3</th>\n",
              "      <td>John</td>\n",
              "      <td>578</td>\n",
              "    </tr>\n",
              "    <tr>\n",
              "      <th>4</th>\n",
              "      <td>Mel</td>\n",
              "      <td>973</td>\n",
              "    </tr>\n",
              "  </tbody>\n",
              "</table>\n",
              "</div>\n",
              "      <button class=\"colab-df-convert\" onclick=\"convertToInteractive('df-59064e25-c90d-4625-850b-d80e953e08a2')\"\n",
              "              title=\"Convert this dataframe to an interactive table.\"\n",
              "              style=\"display:none;\">\n",
              "        \n",
              "  <svg xmlns=\"http://www.w3.org/2000/svg\" height=\"24px\"viewBox=\"0 0 24 24\"\n",
              "       width=\"24px\">\n",
              "    <path d=\"M0 0h24v24H0V0z\" fill=\"none\"/>\n",
              "    <path d=\"M18.56 5.44l.94 2.06.94-2.06 2.06-.94-2.06-.94-.94-2.06-.94 2.06-2.06.94zm-11 1L8.5 8.5l.94-2.06 2.06-.94-2.06-.94L8.5 2.5l-.94 2.06-2.06.94zm10 10l.94 2.06.94-2.06 2.06-.94-2.06-.94-.94-2.06-.94 2.06-2.06.94z\"/><path d=\"M17.41 7.96l-1.37-1.37c-.4-.4-.92-.59-1.43-.59-.52 0-1.04.2-1.43.59L10.3 9.45l-7.72 7.72c-.78.78-.78 2.05 0 2.83L4 21.41c.39.39.9.59 1.41.59.51 0 1.02-.2 1.41-.59l7.78-7.78 2.81-2.81c.8-.78.8-2.07 0-2.86zM5.41 20L4 18.59l7.72-7.72 1.47 1.35L5.41 20z\"/>\n",
              "  </svg>\n",
              "      </button>\n",
              "      \n",
              "  <style>\n",
              "    .colab-df-container {\n",
              "      display:flex;\n",
              "      flex-wrap:wrap;\n",
              "      gap: 12px;\n",
              "    }\n",
              "\n",
              "    .colab-df-convert {\n",
              "      background-color: #E8F0FE;\n",
              "      border: none;\n",
              "      border-radius: 50%;\n",
              "      cursor: pointer;\n",
              "      display: none;\n",
              "      fill: #1967D2;\n",
              "      height: 32px;\n",
              "      padding: 0 0 0 0;\n",
              "      width: 32px;\n",
              "    }\n",
              "\n",
              "    .colab-df-convert:hover {\n",
              "      background-color: #E2EBFA;\n",
              "      box-shadow: 0px 1px 2px rgba(60, 64, 67, 0.3), 0px 1px 3px 1px rgba(60, 64, 67, 0.15);\n",
              "      fill: #174EA6;\n",
              "    }\n",
              "\n",
              "    [theme=dark] .colab-df-convert {\n",
              "      background-color: #3B4455;\n",
              "      fill: #D2E3FC;\n",
              "    }\n",
              "\n",
              "    [theme=dark] .colab-df-convert:hover {\n",
              "      background-color: #434B5C;\n",
              "      box-shadow: 0px 1px 3px 1px rgba(0, 0, 0, 0.15);\n",
              "      filter: drop-shadow(0px 1px 2px rgba(0, 0, 0, 0.3));\n",
              "      fill: #FFFFFF;\n",
              "    }\n",
              "  </style>\n",
              "\n",
              "      <script>\n",
              "        const buttonEl =\n",
              "          document.querySelector('#df-59064e25-c90d-4625-850b-d80e953e08a2 button.colab-df-convert');\n",
              "        buttonEl.style.display =\n",
              "          google.colab.kernel.accessAllowed ? 'block' : 'none';\n",
              "\n",
              "        async function convertToInteractive(key) {\n",
              "          const element = document.querySelector('#df-59064e25-c90d-4625-850b-d80e953e08a2');\n",
              "          const dataTable =\n",
              "            await google.colab.kernel.invokeFunction('convertToInteractive',\n",
              "                                                     [key], {});\n",
              "          if (!dataTable) return;\n",
              "\n",
              "          const docLinkHtml = 'Like what you see? Visit the ' +\n",
              "            '<a target=\"_blank\" href=https://colab.research.google.com/notebooks/data_table.ipynb>data table notebook</a>'\n",
              "            + ' to learn more about interactive tables.';\n",
              "          element.innerHTML = '';\n",
              "          dataTable['output_type'] = 'display_data';\n",
              "          await google.colab.output.renderOutput(dataTable, element);\n",
              "          const docLink = document.createElement('div');\n",
              "          docLink.innerHTML = docLinkHtml;\n",
              "          element.appendChild(docLink);\n",
              "        }\n",
              "      </script>\n",
              "    </div>\n",
              "  </div>\n",
              "  "
            ]
          },
          "metadata": {},
          "execution_count": 34
        }
      ]
    },
    {
      "cell_type": "markdown",
      "source": [
        "## pandas 자료형 - 시리즈(Series)\n",
        "+ 1차원 배열 형태의 데이터 구조 사용.\n",
        "+ 가로 방향으로 크기 변경\n",
        "+ 열 1개를 의미\n"
      ],
      "metadata": {
        "id": "8LVOvZ2DFP9R"
      }
    },
    {
      "cell_type": "code",
      "source": [
        "import pandas as pd\n",
        "\n",
        "series_ex = pd.Series(['월', '화', '수', '목', '금', '토', '일'], index=[0,1,2,3,4,5,6])\n",
        "print(series_ex)\n",
        "print(series_ex[0])"
      ],
      "metadata": {
        "id": "8PtRkpirFcyH",
        "outputId": "022a7c2e-988b-4cc6-9ac4-311f5f5b0942",
        "colab": {
          "base_uri": "https://localhost:8080/"
        }
      },
      "execution_count": 36,
      "outputs": [
        {
          "output_type": "stream",
          "name": "stdout",
          "text": [
            "0    월\n",
            "1    화\n",
            "2    수\n",
            "3    목\n",
            "4    금\n",
            "5    토\n",
            "6    일\n",
            "dtype: object\n",
            "월\n"
          ]
        }
      ]
    }
  ]
}