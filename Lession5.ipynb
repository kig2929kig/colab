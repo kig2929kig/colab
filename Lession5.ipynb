{
  "nbformat": 4,
  "nbformat_minor": 0,
  "metadata": {
    "colab": {
      "name": "Lession5.ipynb",
      "provenance": [],
      "authorship_tag": "ABX9TyMsRIk7/azEYUopUh074C2I",
      "include_colab_link": true
    },
    "kernelspec": {
      "name": "python3",
      "display_name": "Python 3"
    },
    "language_info": {
      "name": "python"
    }
  },
  "cells": [
    {
      "cell_type": "markdown",
      "metadata": {
        "id": "view-in-github",
        "colab_type": "text"
      },
      "source": [
        "<a href=\"https://colab.research.google.com/github/kig2929kig/colab/blob/main/Lession5.ipynb\" target=\"_parent\"><img src=\"https://colab.research.google.com/assets/colab-badge.svg\" alt=\"Open In Colab\"/></a>"
      ]
    },
    {
      "cell_type": "markdown",
      "source": [
        "5장 예제 if문"
      ],
      "metadata": {
        "id": "UUzi8xaCQFJ6"
      }
    },
    {
      "cell_type": "code",
      "execution_count": null,
      "metadata": {
        "colab": {
          "base_uri": "https://localhost:8080/"
        },
        "id": "jdEwZnKvQBoX",
        "outputId": "9db50c0d-cfe4-474c-fa2c-e6cc9bbe1996"
      },
      "outputs": [
        {
          "output_type": "stream",
          "name": "stdout",
          "text": [
            "정수를 입력 : 12\n",
            "12 짝수입니다.\n"
          ]
        }
      ],
      "source": [
        "num = int(input(\"정수를 입력 : \"))\n",
        "\n",
        "if (num % 2) == 0 :\n",
        "  print(num, \"짝수입니다.\")\n",
        "\n",
        "if (num % 2) == 1 :\n",
        "  print(num, \"홀수입니다.\")"
      ]
    },
    {
      "cell_type": "code",
      "source": [
        "num = int(input(\"정수를 입력 : \"))\n",
        "if (num % 2) == 0 :\n",
        "  print(num, \"짝수입니다.\")\n",
        "else :\n",
        "  print(num, \"홀수입니다.\")\n",
        "  "
      ],
      "metadata": {
        "id": "RvuhjgagSlKO",
        "outputId": "d3cf53bd-2b9e-4b2d-f3f9-a9c70c7a665b",
        "colab": {
          "base_uri": "https://localhost:8080/"
        }
      },
      "execution_count": 1,
      "outputs": [
        {
          "output_type": "stream",
          "name": "stdout",
          "text": [
            "정수를 입력 : 30\n",
            "30 짝수입니다.\n"
          ]
        }
      ]
    },
    {
      "cell_type": "markdown",
      "source": [
        "랜덤 함수\n",
        "import random"
      ],
      "metadata": {
        "id": "oci3G6lyUFFl"
      }
    },
    {
      "cell_type": "code",
      "source": [
        "import random\n",
        "com_number = random.randint(1,45)\n",
        "print(\"** 컴퓨터가 생각한 숫자를 맞추는 게임 **\")\n",
        "print(\"숫자는 1부터 45까지입니다.\")\n",
        "user_number = \"\"\n",
        "while com_number != user_number :\n",
        "  user_number = int(input(\"숫자를 입력 : \"))\n",
        "  if com_number > user_number :\n",
        "    print(\"입력한 숫자가 작습니다.\")\n",
        "  elif com_number < user_number :\n",
        "    print(\"입력한 숫자가 더 큽니다.\")\n",
        "  else :\n",
        "    print(\" 정답 ^^ \")"
      ],
      "metadata": {
        "id": "aFdimfSUUeF2",
        "outputId": "9ce2285f-36c4-402e-bff7-8bd9cd05c19f",
        "colab": {
          "base_uri": "https://localhost:8080/"
        }
      },
      "execution_count": 12,
      "outputs": [
        {
          "output_type": "stream",
          "name": "stdout",
          "text": [
            "** 컴퓨터가 생각한 숫자를 맞추는 게임 **\n",
            "숫자는 1부터 45까지입니다. 23\n",
            "숫자를 입력 : 22\n",
            "입력한 숫자가 작습니다.\n",
            "숫자를 입력 : 24\n",
            "입력한 숫자가 더 큽니다.\n",
            "숫자를 입력 : 23\n",
            " 정답 ^^ \n"
          ]
        }
      ]
    },
    {
      "cell_type": "markdown",
      "source": [
        "가위 바위 보 게임"
      ],
      "metadata": {
        "id": "4s2TgBYvYBPc"
      }
    },
    {
      "cell_type": "code",
      "source": [
        "import random\n",
        "print(\"** 가위 바위 보 게임 **\")\n",
        "count = 7\n",
        "while count > 0 :\n",
        "  com_player = random.choice([\"가위\", \"바위\", \"보\"])\n",
        "  user_player = input(\"가위/바위/보 중 하나를 입력하세요 ==> \")\n",
        "  if (com_player == user_player) :\n",
        "    print(\"비겼다.\")\n",
        "  elif ((com_player == \"가위\") and (user_player == \"바위\")) or \\\n",
        "    ((com_player == \"바위\") and (user_player == \"보\")) or \\\n",
        "    ((com_player == \"보\") and (user_player == \"가위\")) :\n",
        "    print(\"이겼다.\")\n",
        "  else :\n",
        "    print(\"졌다.\")\n",
        "  count = count - 1 "
      ],
      "metadata": {
        "id": "-pKF_za-YDiU",
        "outputId": "a04bab94-a1f3-4cee-dfca-e5613bb643c2",
        "colab": {
          "base_uri": "https://localhost:8080/"
        }
      },
      "execution_count": 25,
      "outputs": [
        {
          "output_type": "stream",
          "name": "stdout",
          "text": [
            "** 가위 바위 보 게임 **\n",
            "가위/바위/보 중 하나를 입력하세요 ==> 가위\n",
            "비겼다.\n",
            "가위/바위/보 중 하나를 입력하세요 ==> 바위\n",
            "졌다.\n",
            "가위/바위/보 중 하나를 입력하세요 ==> 보\n",
            "비겼다.\n",
            "가위/바위/보 중 하나를 입력하세요 ==> 가위\n",
            "비겼다.\n",
            "가위/바위/보 중 하나를 입력하세요 ==> 바위\n",
            "졌다.\n",
            "가위/바위/보 중 하나를 입력하세요 ==> 보\n",
            "졌다.\n",
            "가위/바위/보 중 하나를 입력하세요 ==> 가위\n",
            "졌다.\n"
          ]
        }
      ]
    }
  ]
}