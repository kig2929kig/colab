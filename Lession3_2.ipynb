{
  "nbformat": 4,
  "nbformat_minor": 0,
  "metadata": {
    "colab": {
      "name": "Lession3-2.ipynb",
      "provenance": [],
      "authorship_tag": "ABX9TyPdOU0hxBbmAZ6w4ejlosJV",
      "include_colab_link": true
    },
    "kernelspec": {
      "name": "python3",
      "display_name": "Python 3"
    },
    "language_info": {
      "name": "python"
    }
  },
  "cells": [
    {
      "cell_type": "markdown",
      "metadata": {
        "id": "view-in-github",
        "colab_type": "text"
      },
      "source": [
        "<a href=\"https://colab.research.google.com/github/kig2929kig/colab/blob/main/Lession3_2.ipynb\" target=\"_parent\"><img src=\"https://colab.research.google.com/assets/colab-badge.svg\" alt=\"Open In Colab\"/></a>"
      ]
    },
    {
      "cell_type": "markdown",
      "source": [
        "3장 연산자\n",
        "\n",
        "형성평가 - 파운드를 킬로그램으로 변경"
      ],
      "metadata": {
        "id": "vmHLeuPdzSe2"
      }
    },
    {
      "cell_type": "code",
      "execution_count": 7,
      "metadata": {
        "colab": {
          "base_uri": "https://localhost:8080/"
        },
        "id": "mGohsWs_wkjK",
        "outputId": "1c076517-1d25-4b20-ed89-d21a7d812c07"
      },
      "outputs": [
        {
          "output_type": "stream",
          "name": "stdout",
          "text": [
            "파운드를 입력하세요 : 15\n",
            "15.0 파운드는 6.804 킬로그램입니다.\n",
            "킬로그램을 입력하세요 :15\n",
            "15.0 킬로그램은 33.069 파운드입니다.\n"
          ]
        }
      ],
      "source": [
        "pound = float(input(\"파운드를 입력하세요 : \"))\n",
        "kg = pound * 0.453592\n",
        "print(pound, \"파운드는\", round(kg, 3), \"킬로그램입니다.\")\n",
        "kg = float(input(\"킬로그램을 입력하세요 :\"))\n",
        "pound = kg * 2.204623\n",
        "print(kg, \"킬로그램은\", round(pound, 3), \"파운드입니다.\" )"
      ]
    },
    {
      "cell_type": "markdown",
      "source": [
        "형성평가 : 편의점 하루 매출 계산하기"
      ],
      "metadata": {
        "id": "FRjP6X-L4JLN"
      }
    },
    {
      "cell_type": "code",
      "source": [
        "total = 0\n",
        "#구입\n",
        "total = total - (900 * 10) #삼각김밥 10개\n",
        "total = total - (3500 *5) #도시락 5개\n",
        "#판매\n",
        "total = total + (1800 * 2) # 바나나 우유\n",
        "total = total + (4000 * 4) # 도시락 4개\n",
        "total = total + 1500  # 콜라\n",
        "total = total + (2000 * 4) # 새우깡\n",
        "total = total + (1800 * 5) # 캔커피\n",
        "\n",
        "print(\"오늘 총 매출액은 \", total, \"입니다.\")"
      ],
      "metadata": {
        "colab": {
          "base_uri": "https://localhost:8080/"
        },
        "id": "lJC4JpYx4P9l",
        "outputId": "ccf37e4c-4d99-47f9-a420-9c700d2672b5"
      },
      "execution_count": 8,
      "outputs": [
        {
          "output_type": "stream",
          "name": "stdout",
          "text": [
            "오늘 총 매출액은  11600 입니다.\n"
          ]
        }
      ]
    }
  ]
}