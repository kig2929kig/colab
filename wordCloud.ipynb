{
  "nbformat": 4,
  "nbformat_minor": 0,
  "metadata": {
    "colab": {
      "provenance": [],
      "collapsed_sections": [],
      "authorship_tag": "ABX9TyO+vQ8jY6yknPSdeSfWlxm6",
      "include_colab_link": true
    },
    "kernelspec": {
      "name": "python3",
      "display_name": "Python 3"
    },
    "language_info": {
      "name": "python"
    }
  },
  "cells": [
    {
      "cell_type": "markdown",
      "metadata": {
        "id": "view-in-github",
        "colab_type": "text"
      },
      "source": [
        "<a href=\"https://colab.research.google.com/github/kig2929kig/colab/blob/main/wordCloud.ipynb\" target=\"_parent\"><img src=\"https://colab.research.google.com/assets/colab-badge.svg\" alt=\"Open In Colab\"/></a>"
      ]
    },
    {
      "cell_type": "code",
      "execution_count": null,
      "metadata": {
        "id": "AKRvpJYjX7rj"
      },
      "outputs": [],
      "source": [
        "!pip install requests\n",
        "!pip install bs4\n"
      ]
    },
    {
      "cell_type": "code",
      "source": [
        "from bs4 import BeautifulSoup\n",
        "import requests\n",
        "\n",
        "search_word = \"박수홍\" \n",
        "title_list = []\n",
        "count = 1\n",
        "def naver_news_get(start_num, end_num) :\n",
        "  while start_num <= end_num :\n",
        "    url = 'https://search.naver.com/search.naver?where=news&sm=tab_jum&query={}&start={}'.format(search_word,start_num)\n",
        "    req = requests.get(url)\n",
        "    #print(req)\n",
        "    start_num += 1\n",
        "    if req.ok :\n",
        "      html = req.text\n",
        "      soup = BeautifulSoup(html, \"html.parser\")\n",
        "      #print(soup)\n",
        "      titles = soup.select('.news_tit')\n",
        "      for title in titles :\n",
        "        title_list.append(title['title'])\n",
        "  return title_list\n",
        "\n",
        "for tit in naver_news_get(1,10) :\n",
        "  print(count, tit)\n",
        "  count += 1"
      ],
      "metadata": {
        "id": "lInW6EgMYZYx",
        "colab": {
          "base_uri": "https://localhost:8080/"
        },
        "outputId": "56e1536d-7a08-4689-a228-31c63a083b91"
      },
      "execution_count": null,
      "outputs": [
        {
          "output_type": "stream",
          "name": "stdout",
          "text": [
            "1 \"아내, 죄인처럼 못 드러내\"…박수홍, 23세 연하 부인 얘기에 눈물\n",
            "2 “박수홍 형, 아버지에게 박수홍 통장에서 돈 빼오라 시켰다”\n",
            "3 검찰, '박수홍 명예훼손' 유튜버 김용호 기소\n",
            "4 박수홍 형·이은해 사건의 공통점…친족 범죄 얼마나 많나 [신현보의 딥데이터]\n",
            "5 박수홍 친형 부부, 박수홍 돈으로 변호사 선임…총 61억여원 횡령(종합)\n",
            "6 [TEN피플] '24살 연하♥' 최성국→'23살 연하♥' 박수홍, 반백살 넘어 '국민 노총각' 탈출\n",
            "7 박수홍 \"결혼식 아직 못해…아내 위해 해준 게 없다\"\n",
            "8 '편스토랑' 박수홍, 붐에 축의금... \"결혼식 못 가 미안\"\n",
            "9 박수홍 상대 허위폭로 일삼던 유튜버, 명예훼손 등 혐의로 기소[전문]\n",
            "10 박수홍 “편스토랑, 아내 추천으로 나와” 눈물\n",
            "11 박수홍 친형 부부, 변호사비도 동생 계좌서 사용\n",
            "12 검찰, '박수홍 명예훼손' 유튜버 김용호 기소\n",
            "13 박수홍 형·이은해 사건의 공통점…친족 범죄 얼마나 많나 [신현보의 딥데이터]\n",
            "14 박수홍 친형 부부, 박수홍 돈으로 변호사 선임…총 61억여원 횡령(종합)\n",
            "15 [TEN피플] '24살 연하♥' 최성국→'23살 연하♥' 박수홍, 반백살 넘어 '국민 노총각' 탈출\n",
            "16 박수홍 \"결혼식 아직 못해…아내 위해 해준 게 없다\"\n",
            "17 '새신랑' 박수홍·붐→'열애중' 김나영…사랑꽃 피는 '편스토랑'\n",
            "18 박수홍 상대 허위폭로 일삼던 유튜버, 명예훼손 등 혐의로 기소[전문]\n",
            "19 박수홍 \"23세 연하 아내에게 면사포 씌워주고 싶다\"(종합)\n",
            "20 박수홍 \"많은 분 응원 덕에 살아\"…원조 '요섹남' 컴백\n",
            "21 검찰, '박수홍 명예훼손' 유튜버 김용호 기소\n",
            "22 박수홍 형·이은해 사건의 공통점…친족 범죄 얼마나 많나 [신현보의 딥데이터]\n",
            "23 박수홍 친형 부부, 박수홍 돈으로 변호사 선임…총 61억여원 횡령(종합)\n",
            "24 [TEN피플] '24살 연하♥' 최성국→'23살 연하♥' 박수홍, 반백살 넘어 '국민 노총각' 탈출\n",
            "25 박수홍 \"결혼식 아직 못해…아내 위해 해준 게 없다\"\n",
            "26 '새신랑' 박수홍·붐→'열애중' 김나영…사랑꽃 피는 '편스토랑'\n",
            "27 박수홍 상대 허위폭로 일삼던 유튜버, 명예훼손 등 혐의로 기소[전문]\n",
            "28 박수홍 \"23세 연하 아내에게 면사포 씌워주고 싶다\"(종합)\n",
            "29 박수홍 \"많은 분 응원 덕에 살아\"…원조 '요섹남' 컴백\n",
            "30 박수홍 측 \"아내 루머 모두 거짓\"…유튜버 김용호 불구속 기소\n",
            "31 박수홍 형·이은해 사건의 공통점…친족 범죄 얼마나 많나 [신현보의 딥데이터]\n",
            "32 박수홍 친형 부부, 박수홍 돈으로 변호사 선임…총 61억여원 횡령(종합)\n",
            "33 [TEN피플] '24살 연하♥' 최성국→'23살 연하♥' 박수홍, 반백살 넘어 '국민 노총각' 탈출\n",
            "34 박수홍 \"결혼식 아직 못해…아내 위해 해준 게 없다\"\n",
            "35 '새신랑' 박수홍·붐→'열애중' 김나영…사랑꽃 피는 '편스토랑'\n",
            "36 박수홍 상대 허위폭로 일삼던 유튜버, 명예훼손 등 혐의로 기소[전문]\n",
            "37 박수홍 \"23세 연하 아내에게 면사포 씌워주고 싶다\"(종합)\n",
            "38 박수홍 \"많은 분 응원 덕에 살아\"…원조 '요섹남' 컴백\n",
            "39 박수홍 측 \"아내 루머 모두 거짓\"…유튜버 김용호 불구속 기소\n",
            "40 ‘박수홍 명예훼손 혐의’ 유튜버 김용호 기소\n",
            "41 박수홍 친형 부부, 박수홍 돈으로 변호사 선임…총 61억여원 횡령(종합)\n",
            "42 [TEN피플] '24살 연하♥' 최성국→'23살 연하♥' 박수홍, 반백살 넘어 '국민 노총각' 탈출\n",
            "43 박수홍 \"결혼식 아직 못해…아내 위해 해준 게 없다\"\n",
            "44 '새신랑' 박수홍·붐→'열애중' 김나영…사랑꽃 피는 '편스토랑'\n",
            "45 박수홍 상대 허위폭로 일삼던 유튜버, 명예훼손 등 혐의로 기소[전문]\n",
            "46 박수홍 \"23세 연하 아내에게 면사포 씌워주고 싶다\"(종합)\n",
            "47 박수홍 \"많은 분 응원 덕에 살아\"…원조 '요섹남' 컴백\n",
            "48 박수홍 측 \"아내 루머 모두 거짓\"…유튜버 김용호 불구속 기소\n",
            "49 ‘박수홍 명예훼손 혐의’ 유튜버 김용호 기소\n",
            "50 박수홍 친형 부부, 변호사 비용도 박수홍 돈으로…\n",
            "51 [TEN피플] '24살 연하♥' 최성국→'23살 연하♥' 박수홍, 반백살 넘어 '국민 노총각' 탈출\n",
            "52 박수홍 \"결혼식 아직 못해…아내 위해 해준 게 없다\"\n",
            "53 '새신랑' 박수홍·붐→'열애중' 김나영…사랑꽃 피는 '편스토랑'\n",
            "54 박수홍 상대 허위폭로 일삼던 유튜버, 명예훼손 등 혐의로 기소[전문]\n",
            "55 박수홍 \"23세 연하 아내에게 면사포 씌워주고 싶다\"(종합)\n",
            "56 박수홍 \"많은 분 응원 덕에 살아\"…원조 '요섹남' 컴백\n",
            "57 박수홍 측 \"아내 루머 모두 거짓\"…유튜버 김용호 불구속 기소\n",
            "58 ‘박수홍 명예훼손 혐의’ 유튜버 김용호 기소\n",
            "59 ‘편스토랑’ 박수홍 “♥아내, 내게 위대한 사람”[M+TV인사이드]\n",
            "60 박수홍 친형 부부, 변호사 비용도 박수홍 돈으로…\n",
            "61 박수홍 \"결혼식 아직 못해…아내 위해 해준 게 없다\"\n",
            "62 '새신랑' 박수홍·붐→'열애중' 김나영…사랑꽃 피는 '편스토랑'\n",
            "63 박수홍 상대 허위폭로 일삼던 유튜버, 명예훼손 등 혐의로 기소[전문]\n",
            "64 박수홍 \"23세 연하 아내에게 면사포 씌워주고 싶다\"(종합)\n",
            "65 박수홍 \"많은 분 응원 덕에 살아\"…원조 '요섹남' 컴백\n",
            "66 박수홍 측 \"아내 루머 모두 거짓\"…유튜버 김용호 불구속 기소\n",
            "67 ‘박수홍 명예훼손 혐의’ 유튜버 김용호 기소\n",
            "68 \"변호사 비용까지 박수홍 돈으로\"…'산 넘어 산' 친형 횡령 사건\n",
            "69 ‘편스토랑’ 박수홍 “♥아내, 내게 위대한 사람”[M+TV인사이드]\n",
            "70 박수홍 친형 부부, 변호사 비용도 박수홍 돈으로…\n",
            "71 '새신랑' 박수홍·붐→'열애중' 김나영…사랑꽃 피는 '편스토랑'\n",
            "72 박수홍 상대 허위폭로 일삼던 유튜버, 명예훼손 등 혐의로 기소[전문]\n",
            "73 박수홍 \"23세 연하 아내에게 면사포 씌워주고 싶다\"(종합)\n",
            "74 박수홍 \"많은 분 응원 덕에 살아\"…원조 '요섹남' 컴백\n",
            "75 박수홍 측 \"아내 루머 모두 거짓\"…유튜버 김용호 불구속 기소\n",
            "76 ‘박수홍 명예훼손 혐의’ 유튜버 김용호 기소\n",
            "77 '23세 연하♥' 박수홍, 신혼집→일상 공개…\"결혼사진 없다\" (편스토랑)\n",
            "78 \"변호사 비용까지 박수홍 돈으로\"…'산 넘어 산' 친형 횡령 사건\n",
            "79 ‘편스토랑’ 박수홍 “♥아내, 내게 위대한 사람”[M+TV인사이드]\n",
            "80 박수홍 친형 부부, 변호사 비용도 박수홍 돈으로…\n",
            "81 박수홍 상대 허위폭로 일삼던 유튜버, 명예훼손 등 혐의로 기소[전문]\n",
            "82 박수홍 \"23세 연하 아내에게 면사포 씌워주고 싶다\"(종합)\n",
            "83 박수홍 \"많은 분 응원 덕에 살아\"…원조 '요섹남' 컴백\n",
            "84 박수홍 측 \"아내 루머 모두 거짓\"…유튜버 김용호 불구속 기소\n",
            "85 ‘박수홍 명예훼손 혐의’ 유튜버 김용호 기소\n",
            "86 [단독] ‘횡령’ 박수홍 친형 내외, 11월7일 첫 공판\n",
            "87 '23세 연하♥' 박수홍, 신혼집→일상 공개…\"결혼사진 없다\" (편스토랑)\n",
            "88 \"변호사 비용까지 박수홍 돈으로\"…'산 넘어 산' 친형 횡령 사건\n",
            "89 ‘편스토랑’ 박수홍 “♥아내, 내게 위대한 사람”[M+TV인사이드]\n",
            "90 박수홍 친형 부부, 변호사 비용도 박수홍 돈으로…\n",
            "91 박수홍 \"23세 연하 아내에게 면사포 씌워주고 싶다\"(종합)\n",
            "92 박수홍 \"많은 분 응원 덕에 살아\"…원조 '요섹남' 컴백\n",
            "93 박수홍 측 \"아내 루머 모두 거짓\"…유튜버 김용호 불구속 기소\n",
            "94 ‘박수홍 명예훼손 혐의’ 유튜버 김용호 기소\n",
            "95 박수홍 \"가족과 분쟁 15㎏ 이상 빠져…♥아내, 고맙고 미안해\"\n",
            "96 박수홍 친형 황당한 횡령...이것까지 동생돈으로\n",
            "97 ‘횡령 혐의’ 박수홍 친형 부부, 변호사 비용도 박수홍 돈으로 마련\n",
            "98 박수홍 \"아내, 죄인처럼 드러내지 못해…공개할 날 오길\" 눈물 [RE:TV]\n",
            "99 \"나 살리겠다고 죄인 돼\" 박수홍, 아내 향한 애틋함 '뚝뚝' ('편스토랑') [종합]\n",
            "100 박수홍, 미안함에 맺힌 눈물 \"아내, 죄인처럼 드러내지 못해\" [★밤TV] [편스토랑]\n"
          ]
        }
      ]
    },
    {
      "cell_type": "code",
      "source": [
        "!pip install konlpy"
      ],
      "metadata": {
        "id": "Jau1xDhdkS6Y",
        "colab": {
          "base_uri": "https://localhost:8080/"
        },
        "outputId": "c2acc1bc-273e-4a9d-e892-2e4b2359c44b"
      },
      "execution_count": null,
      "outputs": [
        {
          "output_type": "stream",
          "name": "stdout",
          "text": [
            "Looking in indexes: https://pypi.org/simple, https://us-python.pkg.dev/colab-wheels/public/simple/\n",
            "Collecting konlpy\n",
            "  Downloading konlpy-0.6.0-py2.py3-none-any.whl (19.4 MB)\n",
            "\u001b[K     |████████████████████████████████| 19.4 MB 1.2 MB/s \n",
            "\u001b[?25hRequirement already satisfied: lxml>=4.1.0 in /usr/local/lib/python3.7/dist-packages (from konlpy) (4.9.1)\n",
            "Collecting JPype1>=0.7.0\n",
            "  Downloading JPype1-1.4.1-cp37-cp37m-manylinux_2_12_x86_64.manylinux2010_x86_64.whl (465 kB)\n",
            "\u001b[K     |████████████████████████████████| 465 kB 68.8 MB/s \n",
            "\u001b[?25hRequirement already satisfied: numpy>=1.6 in /usr/local/lib/python3.7/dist-packages (from konlpy) (1.21.6)\n",
            "Requirement already satisfied: typing-extensions in /usr/local/lib/python3.7/dist-packages (from JPype1>=0.7.0->konlpy) (4.1.1)\n",
            "Requirement already satisfied: packaging in /usr/local/lib/python3.7/dist-packages (from JPype1>=0.7.0->konlpy) (21.3)\n",
            "Requirement already satisfied: pyparsing!=3.0.5,>=2.0.2 in /usr/local/lib/python3.7/dist-packages (from packaging->JPype1>=0.7.0->konlpy) (3.0.9)\n",
            "Installing collected packages: JPype1, konlpy\n",
            "Successfully installed JPype1-1.4.1 konlpy-0.6.0\n"
          ]
        }
      ]
    },
    {
      "cell_type": "code",
      "source": [
        "from konlpy.tag import Kkma\n",
        "from konlpy.utils import pprint\n",
        "\n",
        "def classification() :\n",
        "  temp = []\n",
        "  noun_list = []\n",
        "  kkma = Kkma()\n",
        "  titles = naver_news_get(1,10)\n",
        "  for title in titles :\n",
        "    morph = kkma.pos(title)\n",
        "    temp.append(morph)\n",
        "  \n",
        "  #print(temp)\n",
        "  \n",
        "  for sentence in temp :\n",
        "    for word, tag in sentence :\n",
        "      if tag in ['NNG'] :\n",
        "         noun_list.append(word)\n",
        "  #print(noun_adj_list)\n",
        "  return noun_list\n",
        "print(classification())"
      ],
      "metadata": {
        "id": "YWNX4OoIkgcl",
        "colab": {
          "base_uri": "https://localhost:8080/"
        },
        "outputId": "1cccd4a0-cdd5-4954-b082-046f04dcfcac"
      },
      "execution_count": null,
      "outputs": [
        {
          "output_type": "stream",
          "name": "stdout",
          "text": [
            "['대한민국', '최고', '농업', '기술', '명인', '탄생', '대한민국', '디지털', '전략', '주간', '개최', '국립', '중앙', '서관', '대한민국', '국가', '서지', '공개', '식', '약', '처', '대한민국', '약전', '국산', '감초', '등재', '문화', '관광', '대한민국', '안전', '대상', '행', '안부', '장관', '수상', '안전', '대한민국', '안', '호', '덕', '암중모색', '처', '대한민국', '안전', '대상', '행정', '안전', '부장', '관상', '수상', '영상', '속', '얼굴', '대한', '민국', '트라', '우마', '공포', '박람회', '대한민국', '축구', '종합', '센터', '건립', '추진', '대한민국', '유', '튜브', '정', '파적', '뉴스', '시장', '고도화', '대한민국', '디지털', '전략', '주간', '개최', '안전', '대한민국', '안', '호', '덕', '암중모색', '국립', '중앙', '서관', '대한민국', '국가', '서지', '공개', '식', '약', '처', '대한민국', '약전', '국산', '감초', '등재', '영상', '속', '얼굴', '대한', '민국', '트라', '우마', '공포', '박람회', '대한민국', '축구', '종합', '센터', '건립', '추진', '대한민국', '유', '튜브', '정', '파적', '뉴스', '시장', '고도화', '대한민국', '충격', '이제', '중요', '건', '처', '대한민국', '안전', '대상', '행정', '안전', '부장', '관상', '수상', '대구', '행복', '진흥원', '대한민국', '복지', '패러다임', '선도', '안전', '대한민국', '안', '호', '덕', '암중모색', '국립', '중앙', '서관', '대한민국', '국가', '서지', '공개', '식', '약', '처', '대한민국', '약전', '국산', '감초', '등재', '영상', '속', '얼굴', '대한', '민국', '트라', '우마', '공포', '박람회', '대한민국', '축구', '종합', '센터', '건립', '추진', '대한민국', '유', '튜브', '정', '파적', '뉴스', '시장', '고도화', '대한민국', '충격', '이제', '중요', '건', '처', '대한민국', '안전', '대상', '행정', '안전', '부장', '관상', '수상', '대구', '행복', '진흥원', '대한민국', '복지', '패러다임', '선도', '문화', '관광', '대한민국', '안전', '대상', '행', '안부', '장관', '수상', '국립', '중앙', '서관', '대한민국', '국가', '서지', '공개', '식', '약', '처', '대한민국', '약전', '국산', '감초', '등재', '영상', '속', '얼굴', '대한', '민국', '트라', '우마', '공포', '박람회', '대한민국', '축구', '종합', '센터', '건립', '추진', '대한민국', '유', '튜브', '정', '파적', '뉴스', '시장', '고도화', '대한민국', '충격', '이제', '중요', '건', '처', '대한민국', '안전', '대상', '행정', '안전', '부장', '관상', '수상', '대구', '행복', '진흥원', '대한민국', '복지', '패러다임', '선도', '문화', '관광', '대한민국', '안전', '대상', '행', '안부', '장관', '수상', '전투기', '개발', '사제', '동행', '대한민국', '항공', '기술', '식', '약', '처', '대한민국', '약전', '국산', '감초', '등재', '영상', '속', '얼굴', '대한', '민국', '트라', '우마', '공포', '박람회', '대한민국', '축구', '종합', '센터', '건립', '추진', '대한민국', '유', '튜브', '정', '파적', '뉴스', '시장', '고도화', '대한민국', '충격', '이제', '중요', '건', '처', '대한민국', '안전', '대상', '행정', '안전', '부장', '관상', '수상', '대구', '행복', '진흥원', '대한민국', '복지', '패러다임', '선도', '문화', '관광', '대한민국', '안전', '대상', '행', '안부', '장관', '수상', '전투기', '개발', '사제', '동행', '대한민국', '항공', '기술', '줌인', '대한민국', '한우', '날', '한', '우드', '영상', '속', '얼굴', '대한', '민국', '트라', '우마', '공포', '박람회', '대한민국', '축구', '종합', '센터', '건립', '추진', '대한민국', '유', '튜브', '정', '파적', '뉴스', '시장', '고도화', '대한민국', '충격', '이제', '중요', '건', '처', '대한민국', '안전', '대상', '행정', '안전', '부장', '관상', '수상', '대구', '행복', '진흥원', '대한민국', '복지', '패러다임', '선도', '문화', '관광', '대한민국', '안전', '대상', '행', '안부', '장관', '수상', '전투기', '개발', '사제', '동행', '대한민국', '항공', '기술', '줌인', '대한민국', '한우', '날', '한', '우드', '퇴근길', '축제', '참사', '대한민국', '박람회', '대한민국', '축구', '종합', '센터', '건립', '추진', '대한민국', '유', '튜브', '정', '파적', '뉴스', '시장', '고도화', '대한민국', '충격', '이제', '중요', '건', '처', '대한민국', '안전', '대상', '행정', '안전', '부장', '관상', '수상', '대구', '행복', '진흥원', '대한민국', '복지', '패러다임', '선도', '문화', '관광', '대한민국', '안전', '대상', '행', '안부', '장관', '수상', '전투기', '개발', '사제', '동행', '대한민국', '항공', '기술', '줌인', '대한민국', '한우', '날', '한', '우드', '퇴근길', '축제', '참사', '대한민국', '참사', '악몽', '대한민국', '후', '폭풍', '우려', '대한민국', '유', '튜브', '정', '파적', '뉴스', '시장', '고도화', '대한민국', '충격', '이제', '중요', '건', '처', '대한민국', '안전', '대상', '행정', '안전', '부장', '관상', '수상', '대구', '행복', '진흥원', '대한민국', '복지', '패러다임', '선도', '문화', '관광', '대한민국', '안전', '대상', '행', '안부', '장관', '수상', '전투기', '개발', '사제', '동행', '대한민국', '항공', '기술', '줌인', '대한민국', '한우', '날', '한', '우드', '퇴근길', '축제', '참사', '대한민국', '참사', '악몽', '대한민국', '후', '폭풍', '우려', '시론', '대한민국', '혁신', '성장', '엔진', '지식', '재산', '대한민국', '충격', '이제', '중요', '건', '처', '대한민국', '안전', '대상', '행정', '안전', '부장', '관상', '수상', '대구', '행복', '진흥원', '대한민국', '복지', '패러다임', '선도', '문화', '관광', '대한민국', '안전', '대상', '행', '안부', '장관', '수상', '전투기', '개발', '사제', '동행', '대한민국', '항공', '기술', '줌인', '대한민국', '한우', '날', '한', '우드', '퇴근길', '축제', '참사', '대한민국', '참사', '악몽', '대한민국', '후', '폭풍', '우려', '시론', '대한민국', '혁신', '성장', '엔진', '지식', '재산', '신세계', '그룹', '대한민국', '데이', '할인', '행사', '모두', '취소', '처', '대한민국', '안전', '대상', '행정', '안전', '부장', '관상', '수상', '대구', '행복', '진흥원', '대한민국', '복지', '패러다임', '선도', '문화', '관광', '대한민국', '안전', '대상', '행', '안부', '장관', '수상', '전투기', '개발', '사제', '동행', '대한민국', '항공', '기술', '줌인', '대한민국', '한우', '날', '한', '우드', '퇴근길', '축제', '참사', '대한민국', '참사', '악몽', '대한민국', '후', '폭풍', '우려', '시론', '대한민국', '혁신', '성장', '엔진', '지식', '재산', '신세계', '그룹', '대한민국', '데이', '할인', '행사', '모두', '취소', '대한민국', '작곡', '우수', '박', '상', '강경', '묵', '대한민국', '최고', '농업', '기술', '명인', '탄생', '대한민국', '디지털', '전략', '주간', '개최', '국립', '중앙', '서관', '대한민국', '국가', '서지', '공개', '식', '약', '처', '대한민국', '약전', '국산', '감초', '등재', '문화', '관광', '대한민국', '안전', '대상', '행', '안부', '장관', '수상', '안전', '대한민국', '안', '호', '덕', '암중모색', '처', '대한민국', '안전', '대상', '행정', '안전', '부장', '관상', '수상', '영상', '속', '얼굴', '대한', '민국', '트라', '우마', '공포', '박람회', '대한민국', '축구', '종합', '센터', '건립', '추진', '대한민국', '유', '튜브', '정', '파적', '뉴스', '시장', '고도화', '대한민국', '디지털', '전략', '주간', '개최', '안전', '대한민국', '안', '호', '덕', '암중모색', '국립', '중앙', '서관', '대한민국', '국가', '서지', '공개', '식', '약', '처', '대한민국', '약전', '국산', '감초', '등재', '영상', '속', '얼굴', '대한', '민국', '트라', '우마', '공포', '박람회', '대한민국', '축구', '종합', '센터', '건립', '추진', '대한민국', '유', '튜브', '정', '파적', '뉴스', '시장', '고도화', '대한민국', '충격', '이제', '중요', '건', '처', '대한민국', '안전', '대상', '행정', '안전', '부장', '관상', '수상', '대구', '행복', '진흥원', '대한민국', '복지', '패러다임', '선도', '안전', '대한민국', '안', '호', '덕', '암중모색', '국립', '중앙', '서관', '대한민국', '국가', '서지', '공개', '식', '약', '처', '대한민국', '약전', '국산', '감초', '등재', '영상', '속', '얼굴', '대한', '민국', '트라', '우마', '공포', '박람회', '대한민국', '축구', '종합', '센터', '건립', '추진', '대한민국', '유', '튜브', '정', '파적', '뉴스', '시장', '고도화', '대한민국', '충격', '이제', '중요', '건', '처', '대한민국', '안전', '대상', '행정', '안전', '부장', '관상', '수상', '대구', '행복', '진흥원', '대한민국', '복지', '패러다임', '선도', '문화', '관광', '대한민국', '안전', '대상', '행', '안부', '장관', '수상', '국립', '중앙', '서관', '대한민국', '국가', '서지', '공개', '식', '약', '처', '대한민국', '약전', '국산', '감초', '등재', '영상', '속', '얼굴', '대한', '민국', '트라', '우마', '공포', '박람회', '대한민국', '축구', '종합', '센터', '건립', '추진', '대한민국', '유', '튜브', '정', '파적', '뉴스', '시장', '고도화', '대한민국', '충격', '이제', '중요', '건', '처', '대한민국', '안전', '대상', '행정', '안전', '부장', '관상', '수상', '대구', '행복', '진흥원', '대한민국', '복지', '패러다임', '선도', '문화', '관광', '대한민국', '안전', '대상', '행', '안부', '장관', '수상', '전투기', '개발', '사제', '동행', '대한민국', '항공', '기술', '식', '약', '처', '대한민국', '약전', '국산', '감초', '등재', '영상', '속', '얼굴', '대한', '민국', '트라', '우마', '공포', '박람회', '대한민국', '축구', '종합', '센터', '건립', '추진', '대한민국', '유', '튜브', '정', '파적', '뉴스', '시장', '고도화', '대한민국', '충격', '이제', '중요', '건', '처', '대한민국', '안전', '대상', '행정', '안전', '부장', '관상', '수상', '대구', '행복', '진흥원', '대한민국', '복지', '패러다임', '선도', '문화', '관광', '대한민국', '안전', '대상', '행', '안부', '장관', '수상', '전투기', '개발', '사제', '동행', '대한민국', '항공', '기술', '줌인', '대한민국', '한우', '날', '한', '우드', '영상', '속', '얼굴', '대한', '민국', '트라', '우마', '공포', '박람회', '대한민국', '축구', '종합', '센터', '건립', '추진', '대한민국', '유', '튜브', '정', '파적', '뉴스', '시장', '고도화', '대한민국', '충격', '이제', '중요', '건', '처', '대한민국', '안전', '대상', '행정', '안전', '부장', '관상', '수상', '대구', '행복', '진흥원', '대한민국', '복지', '패러다임', '선도', '문화', '관광', '대한민국', '안전', '대상', '행', '안부', '장관', '수상', '전투기', '개발', '사제', '동행', '대한민국', '항공', '기술', '줌인', '대한민국', '한우', '날', '한', '우드', '퇴근길', '축제', '참사', '대한민국', '박람회', '대한민국', '축구', '종합', '센터', '건립', '추진', '대한민국', '유', '튜브', '정', '파적', '뉴스', '시장', '고도화', '대한민국', '충격', '이제', '중요', '건', '처', '대한민국', '안전', '대상', '행정', '안전', '부장', '관상', '수상', '대구', '행복', '진흥원', '대한민국', '복지', '패러다임', '선도', '문화', '관광', '대한민국', '안전', '대상', '행', '안부', '장관', '수상', '전투기', '개발', '사제', '동행', '대한민국', '항공', '기술', '줌인', '대한민국', '한우', '날', '한', '우드', '퇴근길', '축제', '참사', '대한민국', '참사', '악몽', '대한민국', '후', '폭풍', '우려', '대한민국', '유', '튜브', '정', '파적', '뉴스', '시장', '고도화', '대한민국', '충격', '이제', '중요', '건', '처', '대한민국', '안전', '대상', '행정', '안전', '부장', '관상', '수상', '대구', '행복', '진흥원', '대한민국', '복지', '패러다임', '선도', '문화', '관광', '대한민국', '안전', '대상', '행', '안부', '장관', '수상', '전투기', '개발', '사제', '동행', '대한민국', '항공', '기술', '줌인', '대한민국', '한우', '날', '한', '우드', '퇴근길', '축제', '참사', '대한민국', '참사', '악몽', '대한민국', '후', '폭풍', '우려', '시론', '대한민국', '혁신', '성장', '엔진', '지식', '재산', '대한민국', '충격', '이제', '중요', '건', '처', '대한민국', '안전', '대상', '행정', '안전', '부장', '관상', '수상', '대구', '행복', '진흥원', '대한민국', '복지', '패러다임', '선도', '문화', '관광', '대한민국', '안전', '대상', '행', '안부', '장관', '수상', '전투기', '개발', '사제', '동행', '대한민국', '항공', '기술', '줌인', '대한민국', '한우', '날', '한', '우드', '퇴근길', '축제', '참사', '대한민국', '참사', '악몽', '대한민국', '후', '폭풍', '우려', '시론', '대한민국', '혁신', '성장', '엔진', '지식', '재산', '신세계', '그룹', '대한민국', '데이', '할인', '행사', '모두', '취소', '처', '대한민국', '안전', '대상', '행정', '안전', '부장', '관상', '수상', '대구', '행복', '진흥원', '대한민국', '복지', '패러다임', '선도', '문화', '관광', '대한민국', '안전', '대상', '행', '안부', '장관', '수상', '전투기', '개발', '사제', '동행', '대한민국', '항공', '기술', '줌인', '대한민국', '한우', '날', '한', '우드', '퇴근길', '축제', '참사', '대한민국', '참사', '악몽', '대한민국', '후', '폭풍', '우려', '시론', '대한민국', '혁신', '성장', '엔진', '지식', '재산', '신세계', '그룹', '대한민국', '데이', '할인', '행사', '모두', '취소', '대한민국', '작곡', '우수', '박', '상', '강경', '묵']\n"
          ]
        }
      ]
    },
    {
      "cell_type": "code",
      "source": [
        "from collections import Counter\n",
        "\n",
        "def word_count() :\n",
        "  temp_list = classification()\n",
        "  counts = Counter(temp_list)\n",
        "  tags = counts.most_common(15) # 15개 명사만\n",
        "  \n",
        "  return tags\n",
        "\n",
        "print(word_count())\n",
        "\n",
        "\n"
      ],
      "metadata": {
        "id": "zI3OuVFrojIl",
        "colab": {
          "base_uri": "https://localhost:8080/"
        },
        "outputId": "0aa1496a-924a-466e-db9d-e0ee7153c4bf"
      },
      "execution_count": null,
      "outputs": [
        {
          "output_type": "stream",
          "name": "stdout",
          "text": [
            "[('대한민국', 282), ('안전', 96), ('대상', 57), ('수상', 57), ('처', 45), ('행정', 30), ('부장', 30), ('관상', 30), ('문화', 27), ('관광', 27), ('행', 27), ('안부', 27), ('장관', 27), ('대구', 27), ('행복', 27)]\n"
          ]
        }
      ]
    },
    {
      "cell_type": "code",
      "source": [
        "!pip install wordcloud"
      ],
      "metadata": {
        "id": "kTXwKRewPmn_",
        "colab": {
          "base_uri": "https://localhost:8080/"
        },
        "outputId": "79fcfb88-5328-4648-9cbb-b4c0e77c0f0d"
      },
      "execution_count": null,
      "outputs": [
        {
          "output_type": "stream",
          "name": "stdout",
          "text": [
            "Looking in indexes: https://pypi.org/simple, https://us-python.pkg.dev/colab-wheels/public/simple/\n",
            "Requirement already satisfied: wordcloud in /usr/local/lib/python3.7/dist-packages (1.8.2.2)\n",
            "Requirement already satisfied: numpy>=1.6.1 in /usr/local/lib/python3.7/dist-packages (from wordcloud) (1.21.6)\n",
            "Requirement already satisfied: pillow in /usr/local/lib/python3.7/dist-packages (from wordcloud) (7.1.2)\n",
            "Requirement already satisfied: matplotlib in /usr/local/lib/python3.7/dist-packages (from wordcloud) (3.2.2)\n",
            "Requirement already satisfied: pyparsing!=2.0.4,!=2.1.2,!=2.1.6,>=2.0.1 in /usr/local/lib/python3.7/dist-packages (from matplotlib->wordcloud) (3.0.9)\n",
            "Requirement already satisfied: cycler>=0.10 in /usr/local/lib/python3.7/dist-packages (from matplotlib->wordcloud) (0.11.0)\n",
            "Requirement already satisfied: python-dateutil>=2.1 in /usr/local/lib/python3.7/dist-packages (from matplotlib->wordcloud) (2.8.2)\n",
            "Requirement already satisfied: kiwisolver>=1.0.1 in /usr/local/lib/python3.7/dist-packages (from matplotlib->wordcloud) (1.4.4)\n",
            "Requirement already satisfied: typing-extensions in /usr/local/lib/python3.7/dist-packages (from kiwisolver>=1.0.1->matplotlib->wordcloud) (4.1.1)\n",
            "Requirement already satisfied: six>=1.5 in /usr/local/lib/python3.7/dist-packages (from python-dateutil>=2.1->matplotlib->wordcloud) (1.15.0)\n"
          ]
        }
      ]
    },
    {
      "cell_type": "code",
      "source": [
        "!sudo apt-get install -y fonts-nanum"
      ],
      "metadata": {
        "id": "aRMhoZRMRGx3",
        "colab": {
          "base_uri": "https://localhost:8080/"
        },
        "outputId": "b7d1097a-1f40-4189-f9b2-3c37f9f9a873"
      },
      "execution_count": null,
      "outputs": [
        {
          "output_type": "stream",
          "name": "stdout",
          "text": [
            "Reading package lists... Done\n",
            "Building dependency tree       \n",
            "Reading state information... Done\n",
            "The following package was automatically installed and is no longer required:\n",
            "  libnvidia-common-460\n",
            "Use 'sudo apt autoremove' to remove it.\n",
            "The following NEW packages will be installed:\n",
            "  fonts-nanum\n",
            "0 upgraded, 1 newly installed, 0 to remove and 4 not upgraded.\n",
            "Need to get 9,604 kB of archives.\n",
            "After this operation, 29.5 MB of additional disk space will be used.\n",
            "Get:1 http://archive.ubuntu.com/ubuntu bionic/universe amd64 fonts-nanum all 20170925-1 [9,604 kB]\n",
            "Fetched 9,604 kB in 0s (21.6 MB/s)\n",
            "debconf: unable to initialize frontend: Dialog\n",
            "debconf: (No usable dialog-like program is installed, so the dialog based frontend cannot be used. at /usr/share/perl5/Debconf/FrontEnd/Dialog.pm line 76, <> line 1.)\n",
            "debconf: falling back to frontend: Readline\n",
            "debconf: unable to initialize frontend: Readline\n",
            "debconf: (This frontend requires a controlling tty.)\n",
            "debconf: falling back to frontend: Teletype\n",
            "dpkg-preconfigure: unable to re-open stdin: \n",
            "Selecting previously unselected package fonts-nanum.\n",
            "(Reading database ... 123942 files and directories currently installed.)\n",
            "Preparing to unpack .../fonts-nanum_20170925-1_all.deb ...\n",
            "Unpacking fonts-nanum (20170925-1) ...\n",
            "Setting up fonts-nanum (20170925-1) ...\n",
            "Processing triggers for fontconfig (2.12.6-0ubuntu2) ...\n"
          ]
        }
      ]
    },
    {
      "cell_type": "code",
      "source": [
        "!sudo fc-cache -fv\n",
        "!rm ~/.cache/matplotlib -rf"
      ],
      "metadata": {
        "id": "KVlRNGfcRK2m",
        "colab": {
          "base_uri": "https://localhost:8080/"
        },
        "outputId": "ac86d806-6d7c-4296-f3e2-252201ae6083"
      },
      "execution_count": null,
      "outputs": [
        {
          "output_type": "stream",
          "name": "stdout",
          "text": [
            "/usr/share/fonts: caching, new cache contents: 0 fonts, 1 dirs\n",
            "/usr/share/fonts/truetype: caching, new cache contents: 0 fonts, 3 dirs\n",
            "/usr/share/fonts/truetype/humor-sans: caching, new cache contents: 1 fonts, 0 dirs\n",
            "/usr/share/fonts/truetype/liberation: caching, new cache contents: 16 fonts, 0 dirs\n",
            "/usr/share/fonts/truetype/nanum: caching, new cache contents: 10 fonts, 0 dirs\n",
            "/usr/local/share/fonts: caching, new cache contents: 0 fonts, 0 dirs\n",
            "/root/.local/share/fonts: skipping, no such directory\n",
            "/root/.fonts: skipping, no such directory\n",
            "/var/cache/fontconfig: cleaning cache directory\n",
            "/root/.cache/fontconfig: not cleaning non-existent cache directory\n",
            "/root/.fontconfig: not cleaning non-existent cache directory\n",
            "fc-cache: succeeded\n"
          ]
        }
      ]
    },
    {
      "cell_type": "code",
      "source": [
        "from wordcloud import WordCloud\n",
        "import matplotlib.pyplot as plt\n",
        "\n",
        "wc = WordCloud(font_path = '/usr/share/fonts/truetype/nanum/NanumBarunGothic.ttf', background_color='white', width=800, height=600)\n",
        "#print(dict(word_count()))\n",
        "\n",
        "plt.rc('font', family='NanumBarunGothic')\n",
        "cloud = wc.generate_from_frequencies(dict(word_count()))\n",
        "#print(cloud)\n",
        "plt.figure(figsize=(10,8))\n",
        "plt.axis('off')\n",
        "plt.imshow(cloud)\n",
        "plt.show()"
      ],
      "metadata": {
        "colab": {
          "base_uri": "https://localhost:8080/",
          "height": 449
        },
        "id": "kCd1VAAKPwAG",
        "outputId": "1585f3ab-5e4d-470e-a164-ebf52872f87a"
      },
      "execution_count": null,
      "outputs": [
        {
          "output_type": "display_data",
          "data": {
            "text/plain": [
              "<Figure size 720x576 with 1 Axes>"
            ],
            "image/png": "[encoded data removed]"
          },
          "metadata": {
            "needs_background": "light"
          }
        }
      ]
    },
    {
      "cell_type": "markdown",
      "source": [
        "[참고 - 워드클라우드] (https://lovit.github.io/nlp/2018/04/17/word_cloud/)"
      ],
      "metadata": {
        "id": "BcsVYe5tU3oO"
      }
    }
  ]
}