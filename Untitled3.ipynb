{
  "nbformat": 4,
  "nbformat_minor": 0,
  "metadata": {
    "colab": {
      "provenance": [],
      "authorship_tag": "ABX9TyNqDDGCeYfBp6GHG+rHc0Qg",
      "include_colab_link": true
    },
    "kernelspec": {
      "name": "python3",
      "display_name": "Python 3"
    },
    "language_info": {
      "name": "python"
    }
  },
  "cells": [
    {
      "cell_type": "markdown",
      "metadata": {
        "id": "view-in-github",
        "colab_type": "text"
      },
      "source": [
        "<a href=\"https://colab.research.google.com/github/kig2929kig/colab/blob/main/Untitled3.ipynb\" target=\"_parent\"><img src=\"https://colab.research.google.com/assets/colab-badge.svg\" alt=\"Open In Colab\"/></a>"
      ]
    },
    {
      "cell_type": "code",
      "execution_count": 5,
      "metadata": {
        "colab": {
          "base_uri": "https://localhost:8080/"
        },
        "id": "ENF151i0FM2g",
        "outputId": "c4bdb9ad-c106-4361-aa6c-010ae7c77cea"
      },
      "outputs": [
        {
          "output_type": "stream",
          "name": "stdout",
          "text": [
            "20 라면\n"
          ]
        }
      ],
      "source": [
        "import random\n",
        "\n",
        "rnd = random.randint(1,45)\n",
        "lunch = random.choice([\"짜장면\", \"라면\", \"김밥\", \"짬뽕\"])\n",
        "print(rnd, lunch)"
      ]
    },
    {
      "cell_type": "markdown",
      "source": [
        "가위 바위 보 게임"
      ],
      "metadata": {
        "id": "VyAAqZE_Gj8c"
      }
    },
    {
      "cell_type": "code",
      "source": [
        "import random\n",
        "com_player = random.choice([\"가위\", \"바위\", \"보\"])\n",
        "print(\" ** [가위/바위/보] 게임 **\")\n",
        "user = input(\"가위/바위/보 중 하나를 입력 : \")\n",
        "\n",
        "if com_player == user :\n",
        "  print(\"비겼다. ^^??\")\n",
        "elif ((com_player == \"가위\") and (user == \"바위\")) or \\\n",
        "((com_player == \"바위\") and (user == \"보\")) or \\\n",
        "((com_player == \"보\") and (user == \"가위\")) :\n",
        "  print(\"이겼다.\")\n",
        "else :\n",
        "  print(\"졌다. ㅜ.ㅜ\")\n"
      ],
      "metadata": {
        "colab": {
          "base_uri": "https://localhost:8080/"
        },
        "id": "EP6e4lUpGmQW",
        "outputId": "6eb95712-0b68-4366-cc20-0e151a914108"
      },
      "execution_count": 15,
      "outputs": [
        {
          "output_type": "stream",
          "name": "stdout",
          "text": [
            " ** [가위/바위/보] 게임 **\n",
            "가위/바위/보 중 하나를 입력 : 바위\n",
            "졌다. ㅜ.ㅜ\n"
          ]
        }
      ]
    }
  ]
}