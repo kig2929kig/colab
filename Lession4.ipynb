{
  "nbformat": 4,
  "nbformat_minor": 0,
  "metadata": {
    "colab": {
      "name": "Lession4.ipynb",
      "provenance": [],
      "authorship_tag": "ABX9TyMFW26pmRKOas9/nAMeHA66",
      "include_colab_link": true
    },
    "kernelspec": {
      "name": "python3",
      "display_name": "Python 3"
    },
    "language_info": {
      "name": "python"
    }
  },
  "cells": [
    {
      "cell_type": "markdown",
      "metadata": {
        "id": "view-in-github",
        "colab_type": "text"
      },
      "source": [
        "<a href=\"https://colab.research.google.com/github/kig2929kig/colab/blob/main/Lession4.ipynb\" target=\"_parent\"><img src=\"https://colab.research.google.com/assets/colab-badge.svg\" alt=\"Open In Colab\"/></a>"
      ]
    },
    {
      "cell_type": "markdown",
      "source": [
        "4장 "
      ],
      "metadata": {
        "id": "pPoRpxyua9YQ"
      }
    },
    {
      "cell_type": "markdown",
      "source": [
        "데이터 타입 "
      ],
      "metadata": {
        "id": "JR5CPNHnbw9A"
      }
    },
    {
      "cell_type": "code",
      "execution_count": null,
      "metadata": {
        "colab": {
          "base_uri": "https://localhost:8080/"
        },
        "id": "cyv-8gwea5xy",
        "outputId": "03c47aab-133f-4588-b4b3-24eebf265de8"
      },
      "outputs": [
        {
          "output_type": "stream",
          "name": "stdout",
          "text": [
            "var1 변수의 데이터 타입은  <class 'int'>\n",
            "var2 변수의 데이터 타입은  <class 'float'>\n",
            "var3 변수의 데이터 타입은  <class 'str'>\n",
            "var4 변수의 데이터 타입은  <class 'bool'>\n"
          ]
        }
      ],
      "source": [
        "var1, var2, var3, var4 = 100, 3.14, \"안산공고\", True\n",
        "print(\"var1 변수의 데이터 타입은 \" ,type(var1))\n",
        "print(\"var2 변수의 데이터 타입은 \" ,type(var2))\n",
        "print(\"var3 변수의 데이터 타입은 \" ,type(var3))\n",
        "print(\"var4 변수의 데이터 타입은 \" ,type(var4))"
      ]
    },
    {
      "cell_type": "markdown",
      "source": [],
      "metadata": {
        "id": "u0j8SlDXoZkE"
      }
    },
    {
      "cell_type": "markdown",
      "source": [
        "문자열 함수 예제 len(), upper(), lower(), count(), isupper(), islower()\n",
        "\n"
      ],
      "metadata": {
        "id": "_BvsnBqloZ0i"
      }
    },
    {
      "cell_type": "code",
      "source": [
        "str1 = input(\"문자열 입력 : \")\n",
        "print(\"입력된 문자열의 길이 : \", len(str1))\n",
        "print(\"입력된 문자열을 대문자로 변환 : \", str1.upper())\n",
        "print(\"입력된 문자열을 소문자로 변환 : \", str1.lower())\n",
        "print(\"입력된 문자열 중 ansan 몇번 나오는지 : \", str1.count(\"ansan\"))\n",
        "print(\"입력된 문자열은 대문자인가요? \", str1.isupper())\n",
        "print(\"입력된 문자열은 소문자인가요? \", str1.islower())"
      ],
      "metadata": {
        "colab": {
          "base_uri": "https://localhost:8080/"
        },
        "id": "DlgtgOQNoc-Z",
        "outputId": "eba2f51f-d70e-40de-eda1-34fd52b186a7"
      },
      "execution_count": null,
      "outputs": [
        {
          "output_type": "stream",
          "name": "stdout",
          "text": [
            "문자열 입력 : Ansan Technical High School, Ansan-Si, Ansan lake\n",
            "입력된 문자열의 길이 :  49\n",
            "입력된 문자열을 대문자로 변환 :  ANSAN TECHNICAL HIGH SCHOOL, ANSAN-SI, ANSAN LAKE\n",
            "입력된 문자열을 소문자로 변환 :  ansan technical high school, ansan-si, ansan lake\n",
            "입력된 문자열 중 ansan 몇번 나오는지 :  0\n",
            "입력된 문자열은 대문자인가요?  False\n",
            "입력된 문자열은 소문자인가요?  False\n"
          ]
        }
      ]
    },
    {
      "cell_type": "markdown",
      "source": [
        "Let it be 가사 중 Let it be가 몇번 나오는지 출력하는 프로그램"
      ],
      "metadata": {
        "id": "yLPBt_C_qzJs"
      }
    },
    {
      "cell_type": "markdown",
      "source": [
        "\"\"\"\n",
        "When I find myself in times of trouble\n",
        "Mother Mary comes to me\n",
        "Speaking words of wisdom\n",
        "Let it be\n",
        "And in my hour of darkness\n",
        "She is standing right in front of me\n",
        "Speaking words of wisdom\n",
        "Let it be\n",
        "Let is be, let it be\n",
        "Let it be, let it be\n",
        "Whisper words of wisdom\n",
        "Let it be\n",
        "And when the brokenhearted people\n",
        "Living in the world agree\n",
        "There will be an answer\n",
        "Let it be\n",
        "For though they may be parted\n",
        "There is still a chance that they will see\n",
        "There will be an answer\n",
        "Let it be\n",
        "Let is be, let it be\n",
        "Let it be, let it be\n",
        "Yeah, there will be an answer\n",
        "Let it be\n",
        "Let is be, let it be\n",
        "Let it be, let it be\n",
        "Whisper words of wisdom\n",
        "Let it be\n",
        "Let is be, let it be\n",
        "Let it be, yeah, let it be\n",
        "Whisper words of wisdom\n",
        "Let it be\n",
        "And when the night is cloudy\n",
        "There is still a light that shines on me\n",
        "Shine on 'til tomorrow\n",
        "Let it be\n",
        "I wake up to the sound of music\n",
        "Mother Mary comes to me\n",
        "Speaking words of wisdom\n",
        "Let it be, yeah\n",
        "Let it be, let it be\n",
        "Let it be, yeah, let it be\n",
        "Oh, there will be an answer\n",
        "Let it be\n",
        "Let it be, let it be\n",
        "Let it be, yeah, let it be\n",
        "Whisper words of wisdom\n",
        "Let it be\n",
        "\"\"\"\n"
      ],
      "metadata": {
        "id": "WsA9dgkbq7nN"
      }
    },
    {
      "cell_type": "code",
      "source": [
        "lyrics = \"\"\" \n",
        "     When I find myself in times of trouble \n",
        "     Mother Mary comes to me Speaking words of wisdom \n",
        "     Let it be And in my hour of darkness She is standing \n",
        "     right in front of me Speaking words of wisdom \n",
        "     Let it be Let is be, let it be Let it be, let it be \n",
        "     Whisper words of wisdom Let it be And when the brokenhearted people \n",
        "     Living in the world agree There will be an answer Let it be \n",
        "     For though they may be parted There is still a chance that \n",
        "     they will see There will be an answer Let it be Let is be, \n",
        "     let it be Let it be, let it be Yeah, there will be an answer \n",
        "     Let it be Let is be, let it be Let it be, let it be \n",
        "     Whisper words of wisdom Let it be Let is be, let it be \n",
        "     Let it be, yeah, let it be Whisper words of wisdom Let it be \n",
        "     And when the night is cloudy There is still a light that \n",
        "     shines on me Shine on 'til tomorrow Let it be \n",
        "     I wake up to the sound of music Mother Mary comes to me \n",
        "     Speaking words of wisdom Let it be, yeah Let it be, let it be \n",
        "     Let it be, yeah, let it be Oh, there will be an answer \n",
        "     Let it be Let it be, let it be Let it be, yeah, let it be \n",
        "     Whisper words of wisdom Let it be\n",
        "     \"\"\"\n",
        "\n",
        "count = lyrics.upper()\n",
        "count = count.count(\"LET IT BE\")\n",
        "print(\"Let it be 는 총 \",count ,\"번 나옵니다.\")"
      ],
      "metadata": {
        "colab": {
          "base_uri": "https://localhost:8080/"
        },
        "id": "SFTwzBxOrNEv",
        "outputId": "a776340c-2eed-4e1a-d366-50d6da3b7692"
      },
      "execution_count": null,
      "outputs": [
        {
          "output_type": "stream",
          "name": "stdout",
          "text": [
            "Let it be 는 총  32 번 나옵니다.\n"
          ]
        }
      ]
    },
    {
      "cell_type": "markdown",
      "source": [
        "리스트 예제"
      ],
      "metadata": {
        "id": "M4eJZCGryeXW"
      }
    },
    {
      "cell_type": "code",
      "source": [
        "myList =[10, 20, 30, \"안산\", \"공고\", \"배트맨\"]\n",
        "#print(myList)\n",
        "print(myList[3])\n",
        "print(myList[2:4])"
      ],
      "metadata": {
        "colab": {
          "base_uri": "https://localhost:8080/"
        },
        "id": "dKqwXEFWygP-",
        "outputId": "48eef41b-882c-423e-9663-8835c432fd12"
      },
      "execution_count": null,
      "outputs": [
        {
          "output_type": "stream",
          "name": "stdout",
          "text": [
            "안산\n",
            "[30, '안산']\n"
          ]
        }
      ]
    },
    {
      "cell_type": "code",
      "source": [
        "str1 = \"안산공고 컴퓨터과 파이썬 수업\"\n",
        "print(str1[0])\n",
        "print(str1[0:4])\n",
        "print(str1[10:14])\n",
        "print(str1[:14])\n",
        "print(str1[0:])\n",
        "print(str1[-1])"
      ],
      "metadata": {
        "colab": {
          "base_uri": "https://localhost:8080/"
        },
        "id": "9BPf2lhly4dR",
        "outputId": "e8148a6e-ee0e-4ffa-f17e-ba71eef19ee7"
      },
      "execution_count": null,
      "outputs": [
        {
          "output_type": "stream",
          "name": "stdout",
          "text": [
            "안\n",
            "안산공고\n",
            "파이썬 \n",
            "안산공고 컴퓨터과 파이썬 \n",
            "안산공고 컴퓨터과 파이썬 수업\n",
            "업\n"
          ]
        }
      ]
    },
    {
      "cell_type": "markdown",
      "source": [
        "문자열 거꾸로 출력"
      ],
      "metadata": {
        "id": "IHy9S0fC1U8U"
      }
    },
    {
      "cell_type": "code",
      "source": [
        "singer = input(\"가수 이름을 입력 : \")\n",
        "singer_length = len(singer)\n",
        "#print(singer_length)\n",
        "r_singer= \"\"\n",
        "while singer_length > 0 :\n",
        "  r_singer = r_singer + singer[singer_length-1]\n",
        "  singer_length = singer_length -1\n",
        "print(r_singer)"
      ],
      "metadata": {
        "colab": {
          "base_uri": "https://localhost:8080/"
        },
        "id": "enSqQXMz1XQU",
        "outputId": "8840642c-857a-4328-f45d-85b20e11aebc"
      },
      "execution_count": null,
      "outputs": [
        {
          "output_type": "stream",
          "name": "stdout",
          "text": [
            "가수 이름을 입력 : 트와이스\n",
            "스이와트\n"
          ]
        }
      ]
    },
    {
      "cell_type": "markdown",
      "source": [
        "꼬북이 예제\n",
        "\n"
      ],
      "metadata": {
        "id": "i12MJw18Lmxn"
      }
    },
    {
      "cell_type": "code",
      "source": [
        "#!pip3 install ColabTurtle\n",
        "import ColabTurtle.Turtle as turtle\n",
        "turtle.initializeTurtle()\n",
        "\n",
        "x = int(input(\"이동할 x의 위치 : \"))\n",
        "y = int(input(\"이동할 y의 위치 : \"))\n",
        "text = input(\"쓰고 싶은 글자 : \")\n",
        "turtle.penup()\n",
        "turtle.goto(x,y)\n",
        "turtle.write(text)\n"
      ],
      "metadata": {
        "id": "e2MR4NRoLsD-",
        "outputId": "a532ef07-7d40-498a-f6de-80fc6b7216c0",
        "colab": {
          "base_uri": "https://localhost:8080/",
          "height": 595
        }
      },
      "execution_count": 9,
      "outputs": [
        {
          "output_type": "display_data",
          "data": {
            "text/plain": [
              "<IPython.core.display.HTML object>"
            ],
            "text/html": [
              "\n",
              "      <svg width=\"800\" height=\"500\">\n",
              "        <rect width=\"100%\" height=\"100%\" fill=\"black\"/>\n",
              "        <text x=\"200\" y=\"200\" fill=\"white\" text-anchor=\"start\" style=\"font-size:12px;font-family:'Arial';\">안산공고 최고</text>\n",
              "        <g visibility=visible transform=\"rotate(360,200,200) translate(182, 182)\">\n",
              "<path style=\" stroke:none;fill-rule:evenodd;fill:white;fill-opacity:1;\" d=\"M 18.214844 0.632812 C 16.109375 1.800781 15.011719 4.074219 15.074219 7.132812 L 15.085938 7.652344 L 14.785156 7.496094 C 13.476562 6.824219 11.957031 6.671875 10.40625 7.066406 C 8.46875 7.550781 6.515625 9.15625 4.394531 11.992188 C 3.0625 13.777344 2.679688 14.636719 3.042969 15.027344 L 3.15625 15.152344 L 3.519531 15.152344 C 4.238281 15.152344 4.828125 14.886719 8.1875 13.039062 C 9.386719 12.378906 10.371094 11.839844 10.378906 11.839844 C 10.386719 11.839844 10.355469 11.929688 10.304688 12.035156 C 9.832031 13.09375 9.257812 14.820312 8.96875 16.078125 C 7.914062 20.652344 8.617188 24.53125 11.070312 27.660156 C 11.351562 28.015625 11.363281 27.914062 10.972656 28.382812 C 8.925781 30.84375 7.945312 33.28125 8.238281 35.1875 C 8.289062 35.527344 8.28125 35.523438 8.917969 35.523438 C 10.941406 35.523438 13.074219 34.207031 15.136719 31.6875 C 15.359375 31.417969 15.328125 31.425781 15.5625 31.574219 C 16.292969 32.042969 18.023438 32.964844 18.175781 32.964844 C 18.335938 32.964844 19.941406 32.210938 20.828125 31.71875 C 20.996094 31.625 21.136719 31.554688 21.136719 31.558594 C 21.203125 31.664062 21.898438 32.414062 22.222656 32.730469 C 23.835938 34.300781 25.5625 35.132812 27.582031 35.300781 C 27.90625 35.328125 27.9375 35.308594 28.007812 34.984375 C 28.382812 33.242188 27.625 30.925781 25.863281 28.425781 L 25.542969 27.96875 L 25.699219 27.785156 C 28.945312 23.960938 29.132812 18.699219 26.257812 11.96875 L 26.207031 11.84375 L 27.945312 12.703125 C 31.53125 14.476562 32.316406 14.800781 33.03125 14.800781 C 33.976562 14.800781 33.78125 13.9375 32.472656 12.292969 C 28.519531 7.355469 25.394531 5.925781 21.921875 7.472656 L 21.558594 7.636719 L 21.578125 7.542969 C 21.699219 6.992188 21.761719 5.742188 21.699219 5.164062 C 21.496094 3.296875 20.664062 1.964844 19.003906 0.855469 C 18.480469 0.503906 18.457031 0.5 18.214844 0.632812\"/>\n",
              "</g>\n",
              "      </svg>\n",
              "    "
            ]
          },
          "metadata": {}
        },
        {
          "name": "stdout",
          "output_type": "stream",
          "text": [
            "이동할 x의 위치 : 200\n",
            "이동할 y의 위치 : 200\n",
            "쓰고 싶은 글자 : 안산공고 최고\n"
          ]
        }
      ]
    }
  ]
}