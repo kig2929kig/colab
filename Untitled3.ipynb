{
  "nbformat": 4,
  "nbformat_minor": 0,
  "metadata": {
    "colab": {
      "provenance": [],
      "authorship_tag": "ABX9TyNL76Rmn7H2tHczDwW04xgY",
      "include_colab_link": true
    },
    "kernelspec": {
      "name": "python3",
      "display_name": "Python 3"
    },
    "language_info": {
      "name": "python"
    }
  },
  "cells": [
    {
      "cell_type": "markdown",
      "metadata": {
        "id": "view-in-github",
        "colab_type": "text"
      },
      "source": [
        "<a href=\"https://colab.research.google.com/github/kig2929kig/colab/blob/main/Untitled3.ipynb\" target=\"_parent\"><img src=\"https://colab.research.google.com/assets/colab-badge.svg\" alt=\"Open In Colab\"/></a>"
      ]
    },
    {
      "cell_type": "code",
      "execution_count": 5,
      "metadata": {
        "colab": {
          "base_uri": "https://localhost:8080/"
        },
        "id": "ENF151i0FM2g",
        "outputId": "c4bdb9ad-c106-4361-aa6c-010ae7c77cea"
      },
      "outputs": [
        {
          "output_type": "stream",
          "name": "stdout",
          "text": [
            "20 라면\n"
          ]
        }
      ],
      "source": [
        "import random\n",
        "\n",
        "rnd = random.randint(1,45)\n",
        "lunch = random.choice([\"짜장면\", \"라면\", \"김밥\", \"짬뽕\"])\n",
        "print(rnd, lunch)"
      ]
    },
    {
      "cell_type": "markdown",
      "source": [
        "가위 바위 보 게임"
      ],
      "metadata": {
        "id": "VyAAqZE_Gj8c"
      }
    },
    {
      "cell_type": "code",
      "source": [
        "import random\n",
        "com_plyaer , user , count = \"\", \"\", 1\n",
        "com_count ,usr_count , draw_count = 0, 0, 0\n",
        "\n",
        "def result() :\n",
        "  global com_count, usr_count, draw_count\n",
        "  if com_player == user :\n",
        "    print(count, \"번째 : \" + \"비겼다. ^^??\")\n",
        "    draw_count += 1\n",
        "  elif ((com_player == \"가위\") and (user == \"바위\")) or \\\n",
        "  ((com_player == \"바위\") and (user == \"보\")) or \\\n",
        "  ((com_player == \"보\") and (user == \"가위\")) :\n",
        "    print(count, \"번째 : \" + \"이겼다.\")\n",
        "    usr_count += 1\n",
        "  else :\n",
        "    print(count, \"번째 : \" + \"졌다. ㅜ.ㅜ\")\n",
        "    com_count += 1\n",
        "\n",
        "print(\" ** [가위/바위/보] 게임 **\")\n",
        "\n",
        "while count != 8 :\n",
        "  com_player = random.choice([\"가위\", \"바위\", \"보\"])\n",
        "  user = input(\"가위/바위/보 중 하나를 입력 : \")\n",
        "  result()\n",
        "  count = count + 1\n",
        "\n",
        "print(\"====== 최종 스코어 ======\")\n",
        "print(\"컴퓨터 : \", com_count)\n",
        "print(\"사용자 : \", usr_count)\n",
        "print(\"비김 : \", draw_count)"
      ],
      "metadata": {
        "colab": {
          "base_uri": "https://localhost:8080/"
        },
        "id": "EP6e4lUpGmQW",
        "outputId": "20884e5b-9522-4e91-a2d8-df614600fb11"
      },
      "execution_count": 24,
      "outputs": [
        {
          "output_type": "stream",
          "name": "stdout",
          "text": [
            " ** [가위/바위/보] 게임 **\n",
            "가위/바위/보 중 하나를 입력 : 가위\n",
            "1 번째 : 비겼다. ^^??\n",
            "가위/바위/보 중 하나를 입력 : 바위\n",
            "2 번째 : 이겼다.\n",
            "가위/바위/보 중 하나를 입력 : 바위\n",
            "3 번째 : 이겼다.\n",
            "가위/바위/보 중 하나를 입력 : 가위\n",
            "4 번째 : 이겼다.\n",
            "가위/바위/보 중 하나를 입력 : 보\n",
            "5 번째 : 비겼다. ^^??\n",
            "가위/바위/보 중 하나를 입력 : 보\n",
            "6 번째 : 비겼다. ^^??\n",
            "가위/바위/보 중 하나를 입력 : 보\n",
            "7 번째 : 비겼다. ^^??\n",
            "====== 최종 스코어 ======\n",
            "컴퓨터 :  0\n",
            "사용자 :  3\n",
            "비김 :  4\n"
          ]
        }
      ]
    }
  ]
}